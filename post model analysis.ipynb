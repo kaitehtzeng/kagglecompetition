{
 "cells": [
  {
   "cell_type": "markdown",
   "id": "relative-january",
   "metadata": {
    "execution": {
     "iopub.execute_input": "2021-06-08T23:38:55.536369Z",
     "iopub.status.busy": "2021-06-08T23:38:55.536027Z",
     "iopub.status.idle": "2021-06-08T23:38:55.540097Z",
     "shell.execute_reply": "2021-06-08T23:38:55.53902Z",
     "shell.execute_reply.started": "2021-06-08T23:38:55.536341Z"
    },
    "papermill": {
     "duration": 0.052466,
     "end_time": "2021-12-27T21:04:25.761946",
     "exception": false,
     "start_time": "2021-12-27T21:04:25.709480",
     "status": "completed"
    },
    "tags": []
   },
   "source": [
    "# Getting Started with MLB Player Digital Engagement Forecasting #\n"
   ]
  },
  {
   "cell_type": "markdown",
   "id": "cooperative-wells",
   "metadata": {
    "papermill": {
     "duration": 0.050651,
     "end_time": "2021-12-27T21:04:25.865786",
     "exception": false,
     "start_time": "2021-12-27T21:04:25.815135",
     "status": "completed"
    },
    "tags": []
   },
   "source": [
    "This is *MLB Digital Engagement Forecasting* competition held by Kaggle. This notebook will:\n",
    "- load and join the data,\n",
    "- create a feature set,\n",
    "- predict with trained model.\n",
    "- make a submission.\n",
    "\n",
    "\n"
   ]
  },
  {
   "cell_type": "code",
   "execution_count": 1,
   "id": "weekly-highlight",
   "metadata": {
    "_cell_guid": "b1076dfc-b9ad-4769-8c92-a6c4dae69d19",
    "_kg_hide-input": true,
    "_uuid": "8f2839f25d086af736a60e9eeb907d3b93b6e0e5",
    "execution": {
     "iopub.execute_input": "2021-12-27T21:04:25.982844Z",
     "iopub.status.busy": "2021-12-27T21:04:25.981972Z",
     "iopub.status.idle": "2021-12-27T21:04:32.441707Z",
     "shell.execute_reply": "2021-12-27T21:04:32.440041Z",
     "shell.execute_reply.started": "2021-12-27T14:30:21.784194Z"
    },
    "papermill": {
     "duration": 6.525582,
     "end_time": "2021-12-27T21:04:32.441937",
     "exception": false,
     "start_time": "2021-12-27T21:04:25.916355",
     "status": "completed"
    },
    "tags": []
   },
   "outputs": [],
   "source": [
    "import gc\n",
    "import sys\n",
    "import warnings\n",
    "from joblib import Parallel, delayed\n",
    "from pathlib import Path\n",
    "import datetime\n",
    "import ipywidgets as widgets\n",
    "import matplotlib.pyplot as plt\n",
    "import numpy as np\n",
    "import pandas as pd\n",
    "import seaborn as sns\n",
    "from sklearn.model_selection import train_test_split\n",
    "from statsmodels.tsa.deterministic import (CalendarFourier,\n",
    "                                           CalendarSeasonality,\n",
    "                                           CalendarTimeTrend,\n",
    "                                           DeterministicProcess)\n",
    "\n",
    "import tensorflow as tf\n",
    "from tensorflow import keras\n",
    "from tensorflow.keras import layers\n",
    "from keras.layers.experimental.preprocessing import StringLookup\n",
    "\n",
    "warnings.simplefilter(\"ignore\")"
   ]
  },
  {
   "cell_type": "markdown",
   "id": "choice-dublin",
   "metadata": {
    "papermill": {
     "duration": 0.051157,
     "end_time": "2021-12-27T21:04:32.544131",
     "exception": false,
     "start_time": "2021-12-27T21:04:32.492974",
     "status": "completed"
    },
    "tags": []
   },
   "source": [
    "# Create Training Data #"
   ]
  },
  {
   "cell_type": "markdown",
   "id": "soviet-qatar",
   "metadata": {
    "papermill": {
     "duration": 0.050575,
     "end_time": "2021-12-27T21:04:32.645316",
     "exception": false,
     "start_time": "2021-12-27T21:04:32.594741",
     "status": "completed"
    },
    "tags": []
   },
   "source": [
    "### Read and extract dataframes"
   ]
  },
  {
   "cell_type": "code",
   "execution_count": 2,
   "id": "active-status",
   "metadata": {
    "_kg_hide-input": true,
    "execution": {
     "iopub.execute_input": "2021-12-27T21:04:32.755090Z",
     "iopub.status.busy": "2021-12-27T21:04:32.754400Z",
     "iopub.status.idle": "2021-12-27T21:04:32.756978Z",
     "shell.execute_reply": "2021-12-27T21:04:32.757552Z",
     "shell.execute_reply.started": "2021-12-27T14:30:21.793674Z"
    },
    "papermill": {
     "duration": 0.061777,
     "end_time": "2021-12-27T21:04:32.757737",
     "exception": false,
     "start_time": "2021-12-27T21:04:32.695960",
     "status": "completed"
    },
    "tags": []
   },
   "outputs": [],
   "source": [
    "# Helper function to unpack json found in daily data\n",
    "def unpack_json(json_str):\n",
    "    return pd.DataFrame() if pd.isna(json_str) else pd.read_json(json_str)\n",
    "\n",
    "\n",
    "def unpack_data(data, dfs=None, n_jobs=-1):\n",
    "    if dfs is not None:\n",
    "        data = data.loc[:, dfs]\n",
    "    unnested_dfs = {}\n",
    "    for name, column in data.iteritems():\n",
    "        daily_dfs = Parallel(n_jobs=n_jobs)(\n",
    "            delayed(unpack_json)(item) for date, item in column.iteritems())\n",
    "        df = pd.concat(daily_dfs)\n",
    "        unnested_dfs[name] = df\n",
    "    return unnested_dfs"
   ]
  },
  {
   "cell_type": "markdown",
   "id": "blank-escape",
   "metadata": {
    "papermill": {
     "duration": 0.051259,
     "end_time": "2021-12-27T21:04:32.859699",
     "exception": false,
     "start_time": "2021-12-27T21:04:32.808440",
     "status": "completed"
    },
    "tags": []
   },
   "source": [
    "We use features from following tables: seasons,teams,players,and awards"
   ]
  },
  {
   "cell_type": "code",
   "execution_count": 3,
   "id": "sustainable-interaction",
   "metadata": {
    "_kg_hide-input": true,
    "execution": {
     "iopub.execute_input": "2021-12-27T21:04:32.965220Z",
     "iopub.status.busy": "2021-12-27T21:04:32.964486Z",
     "iopub.status.idle": "2021-12-27T21:04:33.209062Z",
     "shell.execute_reply": "2021-12-27T21:04:33.206870Z",
     "shell.execute_reply.started": "2021-12-27T14:30:21.80916Z"
    },
    "papermill": {
     "duration": 0.298553,
     "end_time": "2021-12-27T21:04:33.209239",
     "exception": false,
     "start_time": "2021-12-27T21:04:32.910686",
     "status": "completed"
    },
    "tags": []
   },
   "outputs": [
    {
     "data": {
      "application/vnd.jupyter.widget-view+json": {
       "model_id": "4d43e12c041e4abdae52c6c6e3b29636",
       "version_major": 2,
       "version_minor": 0
      },
      "text/plain": [
       "Tab(children=(Output(), Output(), Output(), Output()), _titles={'0': 'seasons', '1': 'teams', '2': 'players', …"
      ]
     },
     "metadata": {},
     "output_type": "display_data"
    }
   ],
   "source": [
    "data_dir = Path('../input/mlb-player-digital-engagement-forecasting/')\n",
    "\n",
    "df_names = ['seasons', 'teams', 'players', 'awards']\n",
    "\n",
    "for name in df_names:\n",
    "    globals()[name] = pd.read_csv(data_dir / f\"{name}.csv\")\n",
    "\n",
    "kaggle_data_tabs = widgets.Tab()\n",
    "# Add Output widgets for each pandas DF as tabs' children\n",
    "kaggle_data_tabs.children = list([widgets.Output() for df_name in df_names])\n",
    "\n",
    "for index in range(0, len(df_names)):\n",
    "    # Rename tab bar titles to df names\n",
    "    kaggle_data_tabs.set_title(index, df_names[index])\n",
    "    \n",
    "    # Display corresponding table output for this tab name\n",
    "    with kaggle_data_tabs.children[index]:\n",
    "        display(eval(df_names[index]))\n",
    "\n",
    "display(kaggle_data_tabs)\n",
    "del teams"
   ]
  },
  {
   "cell_type": "markdown",
   "id": "spoken-demonstration",
   "metadata": {
    "papermill": {
     "duration": 0.052072,
     "end_time": "2021-12-27T21:04:33.317942",
     "exception": false,
     "start_time": "2021-12-27T21:04:33.265870",
     "status": "completed"
    },
    "tags": []
   },
   "source": [
    "**Players tables(- Library containing high level information about all MLB players in this dataset)** :Creating dummies for players birthcountry. Features used in the model:birthyear, birthcountry, and primary position code"
   ]
  },
  {
   "cell_type": "code",
   "execution_count": 4,
   "id": "assigned-shuttle",
   "metadata": {
    "execution": {
     "iopub.execute_input": "2021-12-27T21:04:33.439549Z",
     "iopub.status.busy": "2021-12-27T21:04:33.438865Z",
     "iopub.status.idle": "2021-12-27T21:04:33.574141Z",
     "shell.execute_reply": "2021-12-27T21:04:33.574665Z",
     "shell.execute_reply.started": "2021-12-27T14:30:21.99962Z"
    },
    "papermill": {
     "duration": 0.204391,
     "end_time": "2021-12-27T21:04:33.574891",
     "exception": false,
     "start_time": "2021-12-27T21:04:33.370500",
     "status": "completed"
    },
    "tags": []
   },
   "outputs": [],
   "source": [
    "players_1=players[players['playerForTestSetAndFuturePreds']==True].copy()\n",
    "players_1.loc[players_1['playerForTestSetAndFuturePreds']==True,\"birthCountry\"].unique()\n",
    "players_1.loc[(players_1['birthCountry']=='Taiwan')|(players_1['birthCountry']=='South Korea')|(players_1['birthCountry']=='Japan')|(players_1['birthCountry']==\"China\"),\"birthCountry\"]=\"Asia\"\n",
    "players_1.loc[(players_1['birthCountry']=='Germany')|(players_1['birthCountry']=='Netherlands'),'birthCountry']='Europe'\n",
    "players_1.loc[(players_1['birthCountry']!='USA')&(players_1['birthCountry']!='Europe')&(players_1['birthCountry']!='Asia'),'birthCountry']='America'\n",
    "players_1=players_1[['playerId','birthCountry','DOB','heightInches','weight','primaryPositionCode']]\n",
    "players_1=pd.get_dummies(players_1,columns=['birthCountry','primaryPositionCode'])\n",
    "players_1['DOB'] = pd.PeriodIndex(players_1.DOB, freq='D')\n",
    "players_1['birthyear']=players_1.DOB.dt.year\n",
    "players_1.drop('DOB',axis=1,inplace=True)"
   ]
  },
  {
   "cell_type": "markdown",
   "id": "moved-horizon",
   "metadata": {
    "papermill": {
     "duration": 0.052786,
     "end_time": "2021-12-27T21:04:33.679249",
     "exception": false,
     "start_time": "2021-12-27T21:04:33.626463",
     "status": "completed"
    },
    "tags": []
   },
   "source": [
    "The training data is a time-indexed collection of nested JSON fields containing information about each player. Our target is the `nextDayPlayerEngagement` column, while the remaining columns could be used to construct features."
   ]
  },
  {
   "cell_type": "code",
   "execution_count": 5,
   "id": "architectural-cookbook",
   "metadata": {
    "_kg_hide-input": false,
    "execution": {
     "iopub.execute_input": "2021-12-27T21:04:33.789706Z",
     "iopub.status.busy": "2021-12-27T21:04:33.789013Z",
     "iopub.status.idle": "2021-12-27T21:05:41.754458Z",
     "shell.execute_reply": "2021-12-27T21:05:41.755184Z",
     "shell.execute_reply.started": "2021-12-27T14:30:22.139923Z"
    },
    "papermill": {
     "duration": 68.022779,
     "end_time": "2021-12-27T21:05:41.755616",
     "exception": false,
     "start_time": "2021-12-27T21:04:33.732837",
     "status": "completed"
    },
    "tags": []
   },
   "outputs": [
    {
     "name": "stdout",
     "output_type": "stream",
     "text": [
      "<class 'pandas.core.frame.DataFrame'>\n",
      "PeriodIndex: 1216 entries, 2018-01-01 to 2021-04-30\n",
      "Freq: D\n",
      "Data columns (total 8 columns):\n",
      " #   Column                   Non-Null Count  Dtype \n",
      "---  ------                   --------------  ----- \n",
      " 0   nextDayPlayerEngagement  1216 non-null   object\n",
      " 1   games                    639 non-null    object\n",
      " 2   rosters                  1216 non-null   object\n",
      " 3   playerBoxScores          538 non-null    object\n",
      " 4   transactions             1103 non-null   object\n",
      " 5   standings                531 non-null    object\n",
      " 6   awards                   294 non-null    object\n",
      " 7   playerTwitterFollowers   40 non-null     object\n",
      "dtypes: object(8)\n",
      "memory usage: 85.5+ KB\n",
      "None\n",
      "CPU times: user 32.3 s, sys: 8.62 s, total: 40.9 s\n",
      "Wall time: 1min 7s\n"
     ]
    }
   ],
   "source": [
    "%%time\n",
    "# Define dataframes to load from training set\n",
    "dfs = [\n",
    "    'nextDayPlayerEngagement',  # targets\n",
    "    'playerBoxScores',  # features\n",
    "    # Other dataframes available for features:\n",
    "    'games',\n",
    "    'rosters',\n",
    "    #'teamBoxScores',\n",
    "    'transactions',\n",
    "    'standings',\n",
    "    'awards',\n",
    "    # 'events',\n",
    "    'playerTwitterFollowers',\n",
    "]\n",
    "\n",
    "# Read training data\n",
    "training = pd.read_csv(\n",
    "    data_dir / 'train.csv',\n",
    "    usecols=['date'] + dfs,\n",
    ")\n",
    "\n",
    "# Convert training data date field to datetime type\n",
    "training['date'] = pd.to_datetime(training['date'], format=\"%Y%m%d\")\n",
    "training = training.set_index('date').to_period('D')\n",
    "print(training.info())"
   ]
  },
  {
   "cell_type": "code",
   "execution_count": 6,
   "id": "selective-title",
   "metadata": {
    "execution": {
     "iopub.execute_input": "2021-12-27T21:05:41.894206Z",
     "iopub.status.busy": "2021-12-27T21:05:41.893162Z",
     "iopub.status.idle": "2021-12-27T21:05:41.899178Z",
     "shell.execute_reply": "2021-12-27T21:05:41.898644Z",
     "shell.execute_reply.started": "2021-12-27T14:31:06.790622Z"
    },
    "papermill": {
     "duration": 0.090397,
     "end_time": "2021-12-27T21:05:41.899342",
     "exception": false,
     "start_time": "2021-12-27T21:05:41.808945",
     "status": "completed"
    },
    "tags": []
   },
   "outputs": [
    {
     "data": {
      "text/html": [
       "<div>\n",
       "<style scoped>\n",
       "    .dataframe tbody tr th:only-of-type {\n",
       "        vertical-align: middle;\n",
       "    }\n",
       "\n",
       "    .dataframe tbody tr th {\n",
       "        vertical-align: top;\n",
       "    }\n",
       "\n",
       "    .dataframe thead th {\n",
       "        text-align: right;\n",
       "    }\n",
       "</style>\n",
       "<table border=\"1\" class=\"dataframe\">\n",
       "  <thead>\n",
       "    <tr style=\"text-align: right;\">\n",
       "      <th></th>\n",
       "      <th>nextDayPlayerEngagement</th>\n",
       "      <th>games</th>\n",
       "      <th>rosters</th>\n",
       "      <th>playerBoxScores</th>\n",
       "      <th>transactions</th>\n",
       "      <th>standings</th>\n",
       "      <th>awards</th>\n",
       "      <th>playerTwitterFollowers</th>\n",
       "    </tr>\n",
       "    <tr>\n",
       "      <th>date</th>\n",
       "      <th></th>\n",
       "      <th></th>\n",
       "      <th></th>\n",
       "      <th></th>\n",
       "      <th></th>\n",
       "      <th></th>\n",
       "      <th></th>\n",
       "      <th></th>\n",
       "    </tr>\n",
       "  </thead>\n",
       "  <tbody>\n",
       "    <tr>\n",
       "      <th>2018-01-01</th>\n",
       "      <td>[{\"engagementMetricsDate\":\"2018-01-02\",\"player...</td>\n",
       "      <td>NaN</td>\n",
       "      <td>[{\"playerId\":400121,\"gameDate\":\"2018-01-01\",\"t...</td>\n",
       "      <td>NaN</td>\n",
       "      <td>[{\"transactionId\":340732,\"playerId\":547348,\"pl...</td>\n",
       "      <td>NaN</td>\n",
       "      <td>NaN</td>\n",
       "      <td>[{\"date\":\"2018-01-01\",\"playerId\":545361,\"playe...</td>\n",
       "    </tr>\n",
       "    <tr>\n",
       "      <th>2018-01-02</th>\n",
       "      <td>[{\"engagementMetricsDate\":\"2018-01-03\",\"player...</td>\n",
       "      <td>NaN</td>\n",
       "      <td>[{\"playerId\":134181,\"gameDate\":\"2018-01-02\",\"t...</td>\n",
       "      <td>NaN</td>\n",
       "      <td>[{\"transactionId\":339458,\"playerId\":621173,\"pl...</td>\n",
       "      <td>NaN</td>\n",
       "      <td>NaN</td>\n",
       "      <td>NaN</td>\n",
       "    </tr>\n",
       "    <tr>\n",
       "      <th>2018-01-03</th>\n",
       "      <td>[{\"engagementMetricsDate\":\"2018-01-04\",\"player...</td>\n",
       "      <td>NaN</td>\n",
       "      <td>[{\"playerId\":425492,\"gameDate\":\"2018-01-03\",\"t...</td>\n",
       "      <td>NaN</td>\n",
       "      <td>[{\"transactionId\":347527,\"playerId\":572389,\"pl...</td>\n",
       "      <td>NaN</td>\n",
       "      <td>NaN</td>\n",
       "      <td>NaN</td>\n",
       "    </tr>\n",
       "    <tr>\n",
       "      <th>2018-01-04</th>\n",
       "      <td>[{\"engagementMetricsDate\":\"2018-01-05\",\"player...</td>\n",
       "      <td>NaN</td>\n",
       "      <td>[{\"playerId\":282332,\"gameDate\":\"2018-01-04\",\"t...</td>\n",
       "      <td>NaN</td>\n",
       "      <td>[{\"transactionId\":339549,\"playerId\":545343,\"pl...</td>\n",
       "      <td>NaN</td>\n",
       "      <td>NaN</td>\n",
       "      <td>NaN</td>\n",
       "    </tr>\n",
       "    <tr>\n",
       "      <th>2018-01-05</th>\n",
       "      <td>[{\"engagementMetricsDate\":\"2018-01-06\",\"player...</td>\n",
       "      <td>NaN</td>\n",
       "      <td>[{\"playerId\":282332,\"gameDate\":\"2018-01-05\",\"t...</td>\n",
       "      <td>NaN</td>\n",
       "      <td>[{\"transactionId\":341195,\"playerId\":628336,\"pl...</td>\n",
       "      <td>NaN</td>\n",
       "      <td>NaN</td>\n",
       "      <td>NaN</td>\n",
       "    </tr>\n",
       "  </tbody>\n",
       "</table>\n",
       "</div>"
      ],
      "text/plain": [
       "                                      nextDayPlayerEngagement games  \\\n",
       "date                                                                  \n",
       "2018-01-01  [{\"engagementMetricsDate\":\"2018-01-02\",\"player...   NaN   \n",
       "2018-01-02  [{\"engagementMetricsDate\":\"2018-01-03\",\"player...   NaN   \n",
       "2018-01-03  [{\"engagementMetricsDate\":\"2018-01-04\",\"player...   NaN   \n",
       "2018-01-04  [{\"engagementMetricsDate\":\"2018-01-05\",\"player...   NaN   \n",
       "2018-01-05  [{\"engagementMetricsDate\":\"2018-01-06\",\"player...   NaN   \n",
       "\n",
       "                                                      rosters playerBoxScores  \\\n",
       "date                                                                            \n",
       "2018-01-01  [{\"playerId\":400121,\"gameDate\":\"2018-01-01\",\"t...             NaN   \n",
       "2018-01-02  [{\"playerId\":134181,\"gameDate\":\"2018-01-02\",\"t...             NaN   \n",
       "2018-01-03  [{\"playerId\":425492,\"gameDate\":\"2018-01-03\",\"t...             NaN   \n",
       "2018-01-04  [{\"playerId\":282332,\"gameDate\":\"2018-01-04\",\"t...             NaN   \n",
       "2018-01-05  [{\"playerId\":282332,\"gameDate\":\"2018-01-05\",\"t...             NaN   \n",
       "\n",
       "                                                 transactions standings  \\\n",
       "date                                                                      \n",
       "2018-01-01  [{\"transactionId\":340732,\"playerId\":547348,\"pl...       NaN   \n",
       "2018-01-02  [{\"transactionId\":339458,\"playerId\":621173,\"pl...       NaN   \n",
       "2018-01-03  [{\"transactionId\":347527,\"playerId\":572389,\"pl...       NaN   \n",
       "2018-01-04  [{\"transactionId\":339549,\"playerId\":545343,\"pl...       NaN   \n",
       "2018-01-05  [{\"transactionId\":341195,\"playerId\":628336,\"pl...       NaN   \n",
       "\n",
       "           awards                             playerTwitterFollowers  \n",
       "date                                                                  \n",
       "2018-01-01    NaN  [{\"date\":\"2018-01-01\",\"playerId\":545361,\"playe...  \n",
       "2018-01-02    NaN                                                NaN  \n",
       "2018-01-03    NaN                                                NaN  \n",
       "2018-01-04    NaN                                                NaN  \n",
       "2018-01-05    NaN                                                NaN  "
      ]
     },
     "execution_count": 6,
     "metadata": {},
     "output_type": "execute_result"
    }
   ],
   "source": [
    "training.head()"
   ]
  },
  {
   "cell_type": "code",
   "execution_count": 7,
   "id": "desirable-mainstream",
   "metadata": {
    "execution": {
     "iopub.execute_input": "2021-12-27T21:05:42.014365Z",
     "iopub.status.busy": "2021-12-27T21:05:42.013247Z",
     "iopub.status.idle": "2021-12-27T21:06:42.980397Z",
     "shell.execute_reply": "2021-12-27T21:06:42.981016Z",
     "shell.execute_reply.started": "2021-12-27T14:31:06.821208Z"
    },
    "papermill": {
     "duration": 61.025248,
     "end_time": "2021-12-27T21:06:42.981262",
     "exception": false,
     "start_time": "2021-12-27T21:05:41.956014",
     "status": "completed"
    },
    "tags": []
   },
   "outputs": [
    {
     "name": "stdout",
     "output_type": "stream",
     "text": [
      "CPU times: user 4 µs, sys: 1e+03 ns, total: 5 µs\n",
      "Wall time: 8.82 µs\n",
      "\n",
      " dict_keys(['nextDayPlayerEngagement', 'playerBoxScores', 'games', 'rosters', 'transactions', 'standings', 'awards', 'playerTwitterFollowers'])\n"
     ]
    }
   ],
   "source": [
    "%time\n",
    "# Unpack nested dataframes and store in dictionary `training_dfs`\n",
    "training_dfs = unpack_data(training, dfs=dfs)\n",
    "print('\\n', training_dfs.keys())"
   ]
  },
  {
   "cell_type": "markdown",
   "id": "corresponding-energy",
   "metadata": {
    "papermill": {
     "duration": 0.052603,
     "end_time": "2021-12-27T21:06:43.087054",
     "exception": false,
     "start_time": "2021-12-27T21:06:43.034451",
     "status": "completed"
    },
    "tags": []
   },
   "source": [
    "**Games Table:**\n",
    "Transfer game per row data structure to team per row structure.Features newly created for the model:wins difference,score difference \n"
   ]
  },
  {
   "cell_type": "code",
   "execution_count": 8,
   "id": "appointed-better",
   "metadata": {
    "execution": {
     "iopub.execute_input": "2021-12-27T21:06:43.204864Z",
     "iopub.status.busy": "2021-12-27T21:06:43.203810Z",
     "iopub.status.idle": "2021-12-27T21:06:43.212548Z",
     "shell.execute_reply": "2021-12-27T21:06:43.212015Z",
     "shell.execute_reply.started": "2021-12-27T14:31:59.772556Z"
    },
    "papermill": {
     "duration": 0.072586,
     "end_time": "2021-12-27T21:06:43.212718",
     "exception": false,
     "start_time": "2021-12-27T21:06:43.140132",
     "status": "completed"
    },
    "tags": []
   },
   "outputs": [],
   "source": [
    "def make_games(dfs:dict): \n",
    "    home=dfs['games'].copy()\n",
    "    if \"gameDate\" in  home.columns:\n",
    "        home=home.rename(columns={'homeId':'teamId','homeWins':'teamWins','awayWins':'oppWins','homeScore':'teamScore','awayScore':'oppScore','homeWinner':'teamWinner',\"gameDate\":\"date\"})\n",
    "        home=home[['teamId','teamWins','oppWins','teamScore','oppScore','teamWinner',\"date\",\"gameType\"]]\n",
    "        away=dfs['games'].copy()\n",
    "        away=away.rename(columns={'awayId':'teamId','homeWins':'oppWins','awayWins':'teamWins','homeScore':'oppScore','awayScore':'teamScore','awayWinner':'teamWinner',\"gameDate\":\"date\"})\n",
    "        away=away[['teamId','teamWins','oppWins','teamScore','oppScore','teamWinner',\"date\",\"gameType\"]]\n",
    "        away\n",
    "        games=pd.concat([home,away],axis=0)\n",
    "        games[\"winsdiff\"]=games['teamWins']-games['oppWins']\n",
    "        games[\"scorediff\"]=games['teamScore']-games['oppScore']\n",
    "        games=games.drop(['teamWins','oppWins','teamScore','oppScore'],axis=1)\n",
    "        games = games.groupby(['date', 'teamId'], as_index=False).mean()\n",
    "        games['date']=pd.PeriodIndex(games.date,freq='D')\n",
    "    else:\n",
    "        games=dfs['games'].copy()\n",
    "        games[['teamId']]=np.nan\n",
    "        games[['date']]=np.nan\n",
    "    return games"
   ]
  },
  {
   "cell_type": "markdown",
   "id": "musical-entertainment",
   "metadata": {
    "papermill": {
     "duration": 0.052855,
     "end_time": "2021-12-27T21:06:43.319006",
     "exception": false,
     "start_time": "2021-12-27T21:06:43.266151",
     "status": "completed"
    },
    "tags": []
   },
   "source": [
    "#  **Include players' average target value of the previous year as features**"
   ]
  },
  {
   "cell_type": "code",
   "execution_count": 9,
   "id": "offensive-grill",
   "metadata": {
    "execution": {
     "iopub.execute_input": "2021-12-27T21:06:43.483450Z",
     "iopub.status.busy": "2021-12-27T21:06:43.482058Z",
     "iopub.status.idle": "2021-12-27T21:06:44.739216Z",
     "shell.execute_reply": "2021-12-27T21:06:44.738624Z",
     "shell.execute_reply.started": "2021-12-27T14:31:59.78535Z"
    },
    "papermill": {
     "duration": 1.367541,
     "end_time": "2021-12-27T21:06:44.739402",
     "exception": false,
     "start_time": "2021-12-27T21:06:43.371861",
     "status": "completed"
    },
    "tags": []
   },
   "outputs": [],
   "source": [
    "targ = training_dfs['nextDayPlayerEngagement'].copy()\n",
    "targets = [\"target1\", \"target2\", \"target3\", \"target4\"]\n",
    "targ  = targ .astype({name: np.float32 for name  in targets})\n",
    "targ = targ.rename(columns={'engagementMetricsDate': 'date'})\n",
    "targ['date'] = pd.to_datetime(targ['date'])\n",
    "targ = targ.set_index('date').to_period('D')\n",
    "targ.index = targ.index - 1\n",
    "targ=targ.reset_index()"
   ]
  },
  {
   "cell_type": "code",
   "execution_count": 10,
   "id": "narrow-cabinet",
   "metadata": {
    "execution": {
     "iopub.execute_input": "2021-12-27T21:06:45.127463Z",
     "iopub.status.busy": "2021-12-27T21:06:45.125588Z",
     "iopub.status.idle": "2021-12-27T21:06:45.431843Z",
     "shell.execute_reply": "2021-12-27T21:06:45.430710Z",
     "shell.execute_reply.started": "2021-12-27T14:32:01.102461Z"
    },
    "papermill": {
     "duration": 0.637733,
     "end_time": "2021-12-27T21:06:45.432022",
     "exception": false,
     "start_time": "2021-12-27T21:06:44.794289",
     "status": "completed"
    },
    "tags": []
   },
   "outputs": [],
   "source": [
    "targ['seasonId']=targ.date.dt.year+1\n",
    "targ.drop(['date'],axis=1,inplace=True)\n",
    "targ=targ.groupby(by=['seasonId','playerId'],as_index=False).mean()\n",
    "targ=targ.loc[(targ.seasonId!=2022),:]\n",
    "# Match target dates to feature dates and create date index\n",
    "targ=targ.rename(columns={\"target1\":\"meantarget1\",\"target2\":\"meantarget2\",\"target3\":\"meantarget3\",\"target4\":\"meantarget4\"})\n",
    "targ = targ.astype({'playerId': str})"
   ]
  },
  {
   "cell_type": "markdown",
   "id": "artistic-animal",
   "metadata": {
    "papermill": {
     "duration": 0.053187,
     "end_time": "2021-12-27T21:06:45.538471",
     "exception": false,
     "start_time": "2021-12-27T21:06:45.485284",
     "status": "completed"
    },
    "tags": []
   },
   "source": [
    "# Rosters: player_id, team_id, status_code,game_date"
   ]
  },
  {
   "cell_type": "code",
   "execution_count": 11,
   "id": "middle-mercy",
   "metadata": {
    "execution": {
     "iopub.execute_input": "2021-12-27T21:06:45.648767Z",
     "iopub.status.busy": "2021-12-27T21:06:45.648066Z",
     "iopub.status.idle": "2021-12-27T21:06:45.654314Z",
     "shell.execute_reply": "2021-12-27T21:06:45.654812Z",
     "shell.execute_reply.started": "2021-12-27T14:32:01.639997Z"
    },
    "papermill": {
     "duration": 0.063663,
     "end_time": "2021-12-27T21:06:45.655014",
     "exception": false,
     "start_time": "2021-12-27T21:06:45.591351",
     "status": "completed"
    },
    "tags": []
   },
   "outputs": [],
   "source": [
    "def make_rosters(dfs:dict):\n",
    "    rosters=dfs['rosters'].copy()\n",
    "    if \"playerId\" in rosters.columns:\n",
    "        rosters=rosters[['playerId','gameDate','teamId','statusCode']]\n",
    "        rosters=pd.get_dummies(rosters,columns=['statusCode'])\n",
    "        rosters=rosters.rename(columns={'gameDate':'date'})\n",
    "        rosters['date']=pd.PeriodIndex(rosters.date,freq='D')\n",
    "    else:\n",
    "        rosters[['playerId']]=np.nan\n",
    "        rosters[['date']]=np.nan\n",
    "        rosters[['teamId']]=np.nan\n",
    "    return rosters"
   ]
  },
  {
   "cell_type": "markdown",
   "id": "framed-greenhouse",
   "metadata": {
    "papermill": {
     "duration": 0.052396,
     "end_time": "2021-12-27T21:06:45.761445",
     "exception": false,
     "start_time": "2021-12-27T21:06:45.709049",
     "status": "completed"
    },
    "tags": []
   },
   "source": [
    "# twitter followers: player_id, date, numberof followers"
   ]
  },
  {
   "cell_type": "code",
   "execution_count": 12,
   "id": "dated-creature",
   "metadata": {
    "execution": {
     "iopub.execute_input": "2021-12-27T21:06:45.871633Z",
     "iopub.status.busy": "2021-12-27T21:06:45.870998Z",
     "iopub.status.idle": "2021-12-27T21:06:45.876884Z",
     "shell.execute_reply": "2021-12-27T21:06:45.877319Z",
     "shell.execute_reply.started": "2021-12-27T14:32:01.648387Z"
    },
    "papermill": {
     "duration": 0.062498,
     "end_time": "2021-12-27T21:06:45.877498",
     "exception": false,
     "start_time": "2021-12-27T21:06:45.815000",
     "status": "completed"
    },
    "tags": []
   },
   "outputs": [],
   "source": [
    "\n",
    "def make_playerTwitterFollowers(dfs:dict):\n",
    "    twitfollowers=dfs['playerTwitterFollowers'].copy()\n",
    "    if 'playerId' in  twitfollowers.columns:\n",
    "        twitfollowers=twitfollowers[['date','playerId','numberOfFollowers']]\n",
    "        twitfollowers['date']=pd.PeriodIndex(twitfollowers.date,freq='D')\n",
    "    else:\n",
    "        twitfollowers[['playerId']]=np.nan\n",
    "        twitfollowers[['date']]=np.nan\n",
    "    return twitfollowers\n"
   ]
  },
  {
   "cell_type": "markdown",
   "id": "appropriate-action",
   "metadata": {
    "papermill": {
     "duration": 0.052973,
     "end_time": "2021-12-27T21:06:45.983003",
     "exception": false,
     "start_time": "2021-12-27T21:06:45.930030",
     "status": "completed"
    },
    "tags": []
   },
   "source": [
    "# Team_Standing:'teamid','gamedate','divisionRank','leagueRank','wildCardRank','pct','wins','eliminated','wildCardEliminated'"
   ]
  },
  {
   "cell_type": "code",
   "execution_count": 13,
   "id": "younger-approach",
   "metadata": {
    "execution": {
     "iopub.execute_input": "2021-12-27T21:06:46.093698Z",
     "iopub.status.busy": "2021-12-27T21:06:46.092680Z",
     "iopub.status.idle": "2021-12-27T21:06:46.101313Z",
     "shell.execute_reply": "2021-12-27T21:06:46.101901Z",
     "shell.execute_reply.started": "2021-12-27T14:32:01.66365Z"
    },
    "papermill": {
     "duration": 0.066168,
     "end_time": "2021-12-27T21:06:46.102088",
     "exception": false,
     "start_time": "2021-12-27T21:06:46.035920",
     "status": "completed"
    },
    "tags": []
   },
   "outputs": [],
   "source": [
    "standings_feature=['divisionRank','leagueRank','wildCardRank','pct','wins','eliminationNumber','wildCardEliminationNumber'\n",
    "       ]\n",
    "def make_standings(dfs:dict,standings_feature):\n",
    "    standings=dfs['standings'].copy()\n",
    "    if 'teamId' in standings.columns: \n",
    "        standings=standings[['teamId','gameDate']+standings_feature]\n",
    "        standings=standings.rename(columns={'gameDate':'date'})\n",
    "        standings['date']=pd.PeriodIndex(standings.date,freq='D')\n",
    "        standings['eliminated']=standings['eliminationNumber']=='E'\n",
    "        standings['wildeliminated']=standings['wildCardEliminationNumber']=='E'\n",
    "        standings=standings.drop(['eliminationNumber','wildCardEliminationNumber'],axis=1)\n",
    "    else:\n",
    "        standings[['teamId']]=np.nan\n",
    "        standings[['date']]=np.nan\n",
    "    return standings"
   ]
  },
  {
   "cell_type": "markdown",
   "id": "blessed-recognition",
   "metadata": {
    "papermill": {
     "duration": 0.052272,
     "end_time": "2021-12-27T21:06:46.208005",
     "exception": false,
     "start_time": "2021-12-27T21:06:46.155733",
     "status": "completed"
    },
    "tags": []
   },
   "source": [
    "# Previous year award"
   ]
  },
  {
   "cell_type": "code",
   "execution_count": 14,
   "id": "pediatric-hotel",
   "metadata": {
    "execution": {
     "iopub.execute_input": "2021-12-27T21:06:46.318835Z",
     "iopub.status.busy": "2021-12-27T21:06:46.317879Z",
     "iopub.status.idle": "2021-12-27T21:06:46.322997Z",
     "shell.execute_reply": "2021-12-27T21:06:46.323542Z",
     "shell.execute_reply.started": "2021-12-27T14:32:01.674757Z"
    },
    "papermill": {
     "duration": 0.062019,
     "end_time": "2021-12-27T21:06:46.323735",
     "exception": false,
     "start_time": "2021-12-27T21:06:46.261716",
     "status": "completed"
    },
    "tags": []
   },
   "outputs": [],
   "source": [
    "awardhist=training_dfs['awards'].copy()"
   ]
  },
  {
   "cell_type": "code",
   "execution_count": 15,
   "id": "minus-fleet",
   "metadata": {
    "execution": {
     "iopub.execute_input": "2021-12-27T21:06:46.433893Z",
     "iopub.status.busy": "2021-12-27T21:06:46.432921Z",
     "iopub.status.idle": "2021-12-27T21:06:46.440022Z",
     "shell.execute_reply": "2021-12-27T21:06:46.440561Z",
     "shell.execute_reply.started": "2021-12-27T14:32:01.687224Z"
    },
    "papermill": {
     "duration": 0.064427,
     "end_time": "2021-12-27T21:06:46.440746",
     "exception": false,
     "start_time": "2021-12-27T21:06:46.376319",
     "status": "completed"
    },
    "tags": []
   },
   "outputs": [],
   "source": [
    "awards=['All-MLB First Team', 'All-MLB Second Team','NL Comeback Player of the Year',\n",
    "       'Edgar Martinez Outstanding DH of the Year',\n",
    "       'AL Comeback Player of the Year', 'The Hutch Award','AL Cy Young', 'NL Cy Young', 'AL MVP',\n",
    "       'NL MVP','MLB Players Choice NL Comeback Player',\n",
    "       'MLB Players Choice NL Outstanding Pitcher',\n",
    "       'MLB Players Choice NL Outstanding Rookie',\n",
    "       'MLB Players Choice NL Outstanding Player',\n",
    "       'Rawlings NL Platinum Glove', 'Babe Ruth Award',\n",
    "       'MLB Players Choice Player of the Year',\n",
    "       'MLB Players Choice Man of the Year',\n",
    "       'MLB Players Choice AL Outstanding Player',\n",
    "       'MLB Players Choice AL Comeback Player',\n",
    "       'MLB Players Choice AL Outstanding Pitcher',\n",
    "       'MLB Players Choice AL Outstanding Rookie', 'Wilson Defensive Player of the Year',\n",
    "       'Wilson MLB Defensive Player of the Year', 'AL Silver Slugger',\n",
    "       'NL Silver Slugger', 'MLBPAA Heart and Hustle Award',\n",
    "       'Rawlings AL Platinum Glove', 'Roberto Clemente Award', 'NL Hank Aaron Award',\n",
    "       'AL Hank Aaron Award', 'Trevor Hoffman NL Reliever of the Year',\n",
    "       'Mariano Rivera AL Reliever of the Year',\n",
    "       'World Series Championship', 'World Series MVP','Baseball America Minor League Player of the Year',\n",
    "       'Baseball America Major League Rookie of the Year',\n",
    "       'Baseball America Major League Player of the Year','Home Run Derby Winner', 'All-Star MVP', 'AL All-Star',\n",
    "       'NL All-Star',]\n"
   ]
  },
  {
   "cell_type": "code",
   "execution_count": 16,
   "id": "legendary-turkey",
   "metadata": {
    "execution": {
     "iopub.execute_input": "2021-12-27T21:06:46.550402Z",
     "iopub.status.busy": "2021-12-27T21:06:46.549466Z",
     "iopub.status.idle": "2021-12-27T21:06:46.575904Z",
     "shell.execute_reply": "2021-12-27T21:06:46.575191Z",
     "shell.execute_reply.started": "2021-12-27T14:32:01.697265Z"
    },
    "papermill": {
     "duration": 0.082269,
     "end_time": "2021-12-27T21:06:46.576062",
     "exception": false,
     "start_time": "2021-12-27T21:06:46.493793",
     "status": "completed"
    },
    "tags": []
   },
   "outputs": [],
   "source": [
    "awardhist=training_dfs['awards'].copy()\n",
    "awardhist=awardhist[['awardSeason','playerId','awardName']]\n",
    "awardhist=awardhist.loc[awardhist.awardName.isin(awards),:]\n",
    "awardhist=awardhist.rename(columns={'awardSeason':'seasonId'})\n",
    "awardhist['seasonId']=awardhist['seasonId']+1\n",
    "awardhist=pd.get_dummies(awardhist,'awardName')\n",
    "awardhist=awardhist.groupby(['playerId','seasonId'],as_index=False).sum()\n",
    "awardhist['playerId']=[str(a) for a in awardhist.playerId]"
   ]
  },
  {
   "cell_type": "code",
   "execution_count": 17,
   "id": "commercial-still",
   "metadata": {
    "execution": {
     "iopub.execute_input": "2021-12-27T21:06:46.689210Z",
     "iopub.status.busy": "2021-12-27T21:06:46.688494Z",
     "iopub.status.idle": "2021-12-27T21:06:46.691235Z",
     "shell.execute_reply": "2021-12-27T21:06:46.691759Z",
     "shell.execute_reply.started": "2021-12-27T14:32:01.731006Z"
    },
    "papermill": {
     "duration": 0.062782,
     "end_time": "2021-12-27T21:06:46.691934",
     "exception": false,
     "start_time": "2021-12-27T21:06:46.629152",
     "status": "completed"
    },
    "tags": []
   },
   "outputs": [],
   "source": [
    "#features = [\n",
    "#    \"hits\",\n",
    "#    'doubles', \n",
    "#    'triples',\n",
    "#    \"strikeOuts\",\n",
    "#    \"homeRuns\",\n",
    "#    \"runsScored\",\n",
    "#    \"stolenBases\",\n",
    "#    \"strikes\",\n",
    "#    \"flyOuts\",\n",
    "#    \"groundOuts\",\n",
    "#    \"errors\",\n",
    "#    \"rbi\",\n",
    "#    \"baseOnBalls\",\n",
    "#    \"gamesPlayedPitching\", \n",
    "#    'gamesStartedPitching',\n",
    "#    'completeGamesPitching', \n",
    "#    'shutoutsPitching', \n",
    "#    'winsPitching',\n",
    "#    'lossesPitching',\n",
    "#    'runsPitching', \n",
    "#    'homeRunsPitching', \n",
    "#    'strikeOutsPitching',\n",
    "#    'baseOnBallsPitching',\n",
    "#    'inningsPitched',\n",
    "#    'teamName',\n",
    "#    'positionName',\n",
    "#]\n"
   ]
  },
  {
   "cell_type": "markdown",
   "id": "apparent-anger",
   "metadata": {
    "papermill": {
     "duration": 0.052318,
     "end_time": "2021-12-27T21:06:46.797432",
     "exception": false,
     "start_time": "2021-12-27T21:06:46.745114",
     "status": "completed"
    },
    "tags": []
   },
   "source": [
    "# game_date features"
   ]
  },
  {
   "cell_type": "code",
   "execution_count": 18,
   "id": "congressional-government",
   "metadata": {
    "execution": {
     "iopub.execute_input": "2021-12-27T21:06:46.914500Z",
     "iopub.status.busy": "2021-12-27T21:06:46.912922Z",
     "iopub.status.idle": "2021-12-27T21:06:46.915221Z",
     "shell.execute_reply": "2021-12-27T21:06:46.915710Z",
     "shell.execute_reply.started": "2021-12-27T14:32:01.73996Z"
    },
    "papermill": {
     "duration": 0.064577,
     "end_time": "2021-12-27T21:06:46.915911",
     "exception": false,
     "start_time": "2021-12-27T21:06:46.851334",
     "status": "completed"
    },
    "tags": []
   },
   "outputs": [],
   "source": [
    "features = ['home',\n",
    "    'gamesPlayedBatting', 'flyOuts',\n",
    "       'groundOuts', 'runsScored', 'doubles', 'triples', 'homeRuns',\n",
    "       'strikeOuts', 'baseOnBalls', 'intentionalWalks', 'hits', 'hitByPitch',\n",
    "       'atBats', 'caughtStealing', 'stolenBases', 'groundIntoDoublePlay',\n",
    "       'groundIntoTriplePlay', 'plateAppearances', 'totalBases', 'rbi',\n",
    "       'leftOnBase', 'sacBunts', 'sacFlies', 'catchersInterference',\n",
    "       'pickoffs', 'gamesPlayedPitching', 'gamesStartedPitching',\n",
    "       'completeGamesPitching', 'shutoutsPitching', 'winsPitching',\n",
    "       'lossesPitching', 'flyOutsPitching', 'airOutsPitching',\n",
    "       'groundOutsPitching', 'runsPitching', 'doublesPitching',\n",
    "       'triplesPitching', 'homeRunsPitching', 'strikeOutsPitching',\n",
    "       'baseOnBallsPitching', 'intentionalWalksPitching', 'hitsPitching',\n",
    "       'hitByPitchPitching', 'atBatsPitching', 'caughtStealingPitching',\n",
    "       'stolenBasesPitching', 'inningsPitched', 'saveOpportunities',\n",
    "       'earnedRuns', 'battersFaced',  'pitchesThrown', 'balls',\n",
    "       'strikes', 'hitBatsmen', 'balks', 'wildPitches', 'pickoffsPitching',\n",
    "       'rbiPitching', 'gamesFinishedPitching', 'inheritedRunners',\n",
    "       'inheritedRunnersScored', 'catchersInterferencePitching',\n",
    "       'sacBuntsPitching', 'sacFliesPitching', 'saves', 'holds', 'blownSaves',\n",
    "       'assists', 'putOuts', 'errors', 'chances','battingOrder',\n",
    "    'positionName'\n",
    "]"
   ]
  },
  {
   "cell_type": "code",
   "execution_count": 19,
   "id": "challenging-journalism",
   "metadata": {
    "execution": {
     "iopub.execute_input": "2021-12-27T21:06:47.029933Z",
     "iopub.status.busy": "2021-12-27T21:06:47.029242Z",
     "iopub.status.idle": "2021-12-27T21:06:47.032971Z",
     "shell.execute_reply": "2021-12-27T21:06:47.033552Z",
     "shell.execute_reply.started": "2021-12-27T14:32:01.753293Z"
    },
    "papermill": {
     "duration": 0.063295,
     "end_time": "2021-12-27T21:06:47.033765",
     "exception": false,
     "start_time": "2021-12-27T21:06:46.970470",
     "status": "completed"
    },
    "tags": []
   },
   "outputs": [],
   "source": [
    "gc.collect\n",
    "del training"
   ]
  },
  {
   "cell_type": "code",
   "execution_count": 20,
   "id": "therapeutic-theology",
   "metadata": {
    "execution": {
     "iopub.execute_input": "2021-12-27T21:06:47.149588Z",
     "iopub.status.busy": "2021-12-27T21:06:47.145680Z",
     "iopub.status.idle": "2021-12-27T21:06:47.154183Z",
     "shell.execute_reply": "2021-12-27T21:06:47.153668Z",
     "shell.execute_reply.started": "2021-12-27T14:32:01.760785Z"
    },
    "papermill": {
     "duration": 0.067502,
     "end_time": "2021-12-27T21:06:47.154326",
     "exception": false,
     "start_time": "2021-12-27T21:06:47.086824",
     "status": "completed"
    },
    "tags": []
   },
   "outputs": [
    {
     "data": {
      "text/plain": [
       "(1187,)"
      ]
     },
     "execution_count": 20,
     "metadata": {},
     "output_type": "execute_result"
    }
   ],
   "source": [
    "pids_test = players.playerId.loc[\n",
    "    players.playerForTestSetAndFuturePreds.fillna(False)\n",
    "].astype(str)\n",
    "pids_test.shape"
   ]
  },
  {
   "cell_type": "code",
   "execution_count": 21,
   "id": "funny-convention",
   "metadata": {
    "_kg_hide-input": false,
    "execution": {
     "iopub.execute_input": "2021-12-27T21:06:47.281909Z",
     "iopub.status.busy": "2021-12-27T21:06:47.280843Z",
     "iopub.status.idle": "2021-12-27T21:06:47.284947Z",
     "shell.execute_reply": "2021-12-27T21:06:47.284282Z",
     "shell.execute_reply.started": "2021-12-27T14:32:01.775651Z"
    },
    "papermill": {
     "duration": 0.078073,
     "end_time": "2021-12-27T21:06:47.285089",
     "exception": false,
     "start_time": "2021-12-27T21:06:47.207016",
     "status": "completed"
    },
    "tags": []
   },
   "outputs": [],
   "source": [
    "# Players in the test set. We'll filter our data for only this set of players\n",
    "pids_test = players.playerId.loc[\n",
    "    players.playerForTestSetAndFuturePreds.fillna(False)\n",
    "].astype(str)\n",
    "\n",
    "# Name of target columns\n",
    "targets = [\"target1\", \"target2\", \"target3\", \"target4\"]\n",
    "\n",
    "def make_playerBoxScores(dfs: dict, features):\n",
    "    X = dfs['playerBoxScores'].copy()\n",
    "    if 'playerId' in X.columns:\n",
    "        X = dfs['playerBoxScores'].copy()\n",
    "        X = X[['gameDate', 'playerId'] + features]\n",
    "        X = X.rename(columns={'gameDate': 'date'})\n",
    "        X['date'] = pd.PeriodIndex(X.date, freq='D')\n",
    "        X=X[features+['date','playerId']]\n",
    "        X['battingOrder']=X['battingOrder'].fillna(0)\n",
    "        X.loc[X['battingOrder']==0,'battingOrder']=10009\n",
    "        X['starting']=X['battingOrder']%100\n",
    "        X['starting']=X['starting']==0\n",
    "        X['order']=X['battingOrder']//100\n",
    "        X=pd.get_dummies(X,columns=['order'])\n",
    "        X.drop(['battingOrder'],axis=1,inplace=True)\n",
    "        # Set dtypes\n",
    "        X = X.astype({'playerId': str,'starting': int})\n",
    "        X['positionName']=X['positionName'].fillna(value=\"X\")\n",
    "        # Create date index\n",
    "        X=pd.get_dummies(data=X,columns=['positionName'])\n",
    "        # Aggregate multiple games per day by summing\n",
    "        X = X.groupby(['date', 'playerId'], as_index=False).mean()\n",
    "    else:\n",
    "        X[['playerId']]=np.nan\n",
    "        X[['date']]=np.nan\n",
    "    return X\n",
    "\n",
    "# Set dtypes\n",
    "#def make_playerTwitterFollowers(dfs:dict):\n",
    "#    X=dfs['playerTwitterFollowers'].copy()\n",
    "#    X=X[['date', 'playerId','numberOfFollowers']]\n",
    "#    X['date'] = pd.PeriodIndex(X.date, freq='D')\n",
    "##    # Aggregate multiple games per day by summing\n",
    "#    X = X.groupby(['date', 'playerId'], as_index=False).sum()\n",
    "#    return X\n",
    "\n",
    "def make_targets(training_dfs: dict):\n",
    "    Y = training_dfs['nextDayPlayerEngagement'].copy()\n",
    "    # Set dtypes\n",
    "    Y = Y.astype({name: np.float32 for name  in targets})\n",
    "    Y = Y.astype({'playerId': str})\n",
    "    # Match target dates to feature dates and create date index\n",
    "    Y = Y.rename(columns={'engagementMetricsDate': 'date'})\n",
    "    Y['date'] = pd.to_datetime(Y['date'])\n",
    "    Y = Y.set_index('date').to_period('D')\n",
    "    Y.index = Y.index - 1\n",
    "    return Y.reset_index()\n",
    "\n",
    "\n",
    "#def join_datasets(dfs):\n",
    "#    dfs = [x.pivot(index='date', columns='playerId') for x in dfs]\n",
    "#    df = pd.concat(dfs, axis=1).stack().reset_index('playerId')\n",
    "#    return df\n",
    "\n",
    "#def make_trainX(test_dfs: dict, features):\n",
    "#    X = make_playerBoxScores(test_dfs, features)\n",
    "#    X = X.merge(pids_test, how='right')\n",
    "    #fourier_terms = CalendarFourier(freq='A', order=4)\n",
    "    #deterministic = DeterministicProcess(\n",
    "    #    index=X.index,\n",
    "    #    order=0,\n",
    "    #    seasonal=False,  # set to True for weekly seasonality\n",
    "    #    additional_terms=[fourier_terms],\n",
    "    #)\n",
    "    #X = pd.concat([X, deterministic.in_sample()], axis=1)\n",
    " #   return X\n",
    "#def make_trainy(training_dfs: dict,\n",
    "#                      targets):\n",
    "\n",
    "#    Y = make_targets(training_dfs)\n",
    "    # Filter for players in test set\n",
    "#    Y=Y.loc[Y.playerId.isin(pids_test), :]\n",
    "    # Convert from long to wide format\n",
    "    # Restore features and target\n",
    "    # Fill missing values in features\n",
    "#    return Y\n",
    "    # Create train / validation splits\n",
    "#X,Y=make_trainX(training_dfs,features),make_trainy(training_dfs,targets)"
   ]
  },
  {
   "cell_type": "markdown",
   "id": "dental-startup",
   "metadata": {
    "papermill": {
     "duration": 0.052607,
     "end_time": "2021-12-27T21:06:47.391029",
     "exception": false,
     "start_time": "2021-12-27T21:06:47.338422",
     "status": "completed"
    },
    "tags": []
   },
   "source": [
    "Before merging the tables, we create new features of \"season part\" since the atmosphere at the beginning of the season and that at the end of the season should be very different. We use 2021 season as test set, and 2019,2020 as training set."
   ]
  },
  {
   "cell_type": "code",
   "execution_count": 22,
   "id": "forty-administration",
   "metadata": {
    "execution": {
     "iopub.execute_input": "2021-12-27T21:06:47.504386Z",
     "iopub.status.busy": "2021-12-27T21:06:47.503365Z",
     "iopub.status.idle": "2021-12-27T21:06:47.527015Z",
     "shell.execute_reply": "2021-12-27T21:06:47.527479Z",
     "shell.execute_reply.started": "2021-12-27T14:32:01.796151Z"
    },
    "papermill": {
     "duration": 0.08042,
     "end_time": "2021-12-27T21:06:47.527687",
     "exception": false,
     "start_time": "2021-12-27T21:06:47.447267",
     "status": "completed"
    },
    "tags": []
   },
   "outputs": [],
   "source": [
    "def make_training_data(training_dfs: dict,\n",
    "                       features,\n",
    "                       targets,\n",
    "                       fourier=4,\n",
    "                       test_size=30):\n",
    "    # Process dataframes\n",
    "    X = make_playerBoxScores(training_dfs, features)\n",
    "    standings=make_standings(training_dfs,standings_feature)\n",
    "    games=make_games(training_dfs)\n",
    "    rosters=make_rosters(training_dfs)\n",
    "    #transactions=make_transactions(training_dfs)\n",
    "    TwitterFollowers=make_playerTwitterFollowers(training_dfs)\n",
    "    Y = make_targets(training_dfs)\n",
    "    rosters['playerId']=[str(x) for x in rosters.playerId]\n",
    "    players_1['playerId']=[str(x) for x in players_1.playerId]\n",
    "    #transactions['playerId']=[str(x) for x in transactions.playerId]\n",
    "    TwitterFollowers['playerId']=[str(x) for x in TwitterFollowers.playerId]\n",
    "    # Merge for processing\n",
    "    Y =Y.loc[Y.playerId.isin(pids_test), :]\n",
    "    df = Y.merge(X,how='left',on=['date','playerId'])\n",
    "    # Filter for players in test set\n",
    "    df['seasonId']=df.date.dt.year\n",
    "    df=df.loc[(df.seasonId!=2018),:]\n",
    "    df=df.merge(awardhist,how='left',on=['seasonId','playerId'])\n",
    "    df=df.merge(targ,how='left',on=['seasonId','playerId'])\n",
    "    unique=pd.DataFrame({'date':df.date.unique()})\n",
    "    unique['seasonId']=unique.date.dt.year\n",
    "    unique=unique.merge(seasons,on='seasonId')\n",
    "    unique['seasonPart'] = np.select(\n",
    "        [\n",
    "        unique['date'] < unique['preSeasonStartDate'], \n",
    "        unique['date'] <unique['regularSeasonStartDate'],\n",
    "        unique['date'] <= unique['lastDate1stHalf'],\n",
    "        unique['date'] < unique['firstDate2ndHalf'],\n",
    "        unique['date'] <= unique['regularSeasonEndDate'],\n",
    "        unique['date'] < unique['postSeasonStartDate'],\n",
    "       unique['date'] <= unique['postSeasonEndDate'],\n",
    "        unique['date'] >unique['postSeasonEndDate']\n",
    "        ], \n",
    "        [\n",
    "        'Offseason',\n",
    "        'Preseason',\n",
    "        'Reg Season 1st Half',\n",
    "        'All-Star Break',\n",
    "        'Reg Season 2nd Half',\n",
    "        'Between Reg and Postseason',\n",
    "        'Postseason',\n",
    "        'Offseason'\n",
    "        ], \n",
    "        default = np.nan\n",
    "        )\n",
    "    unique=unique[['date','seasonPart']]\n",
    "    df=df.merge(unique,how='left',on='date')\n",
    "    df=df.loc[df.seasonPart!='Offseason',:]\n",
    "    #df=df.loc[df.seasonPart!='Preseason',:]\n",
    "    #df=df.loc[df.seasonPart!='Postseason',:]\n",
    "    #df=df.loc[df.seasonPart!='Offseason',:]\n",
    "    df=df.drop('seasonId',axis=1)\n",
    "    df=df.merge(rosters,how='left',on=['date','playerId'])\n",
    "    #df=df.merge(transactions,how='left',on=['date','playerId'])\n",
    "    df=df.merge(TwitterFollowers,how='left',on=['date','playerId'])\n",
    "    df=df.merge(standings,how='left',on=['date','teamId'])\n",
    "    df=df.merge(games,how='left',on=['date','teamId'])\n",
    "    df=df.merge(players_1,how='left',on=['playerId'])\n",
    "    #df['seasonId']=df.date.dt.year\n",
    "    #df['age']=df['seasonId']-df['birthyear']\n",
    "    #df.drop('seasonId',axis=1, inplace=True)\n",
    "    df=pd.get_dummies(df,columns=['teamId'])\n",
    "    # Convert from long to wide format\n",
    "    #df = df.pivot(columns=\"playerId\")\n",
    "    # Restore features and targets\n",
    "    df['seasonId']=df.date.dt.year\n",
    "    df['age']=df['seasonId']-df['birthyear']\n",
    "    train_df=df.loc[(df.seasonId!=2021),:]\n",
    "    test_df=df.loc[(df.seasonId==2021),:]\n",
    "    train_df=pd.get_dummies(train_df,columns=['seasonPart'])\n",
    "    test_df=pd.get_dummies(test_df,columns=['seasonPart'])\n",
    "    missing_cols = set( train_df.columns ) - set(test_df.columns )\n",
    "    for c in missing_cols:\n",
    "        test_df[c] = 0\n",
    "    y_train = train_df[targets]\n",
    "    y_valid = test_df[targets]\n",
    "    # Fill missing values in features\n",
    "    X_train =train_df.drop(targets+['date','playerId','birthyear','seasonId'],axis=1)\n",
    "    X_train.fillna(0, inplace=True)\n",
    "    X_valid =test_df.drop(targets+['date','playerId','birthyear','seasonId'],axis=1)\n",
    "    X_valid.fillna(0, inplace=True)\n",
    "    # Create temporal features\n",
    "    # Create train / validation splits,:]\n",
    "    #X_train,X_valid=X.loc[train_id,:],X.loc[test_id,:]\n",
    "    #y_train,y_valid=Y.loc[train_id,:],Y.loc[test_id,:]\n",
    "    return X_train, X_valid, y_train, y_valid"
   ]
  },
  {
   "cell_type": "code",
   "execution_count": 23,
   "id": "running-worth",
   "metadata": {
    "execution": {
     "iopub.execute_input": "2021-12-27T21:06:47.637574Z",
     "iopub.status.busy": "2021-12-27T21:06:47.636632Z",
     "iopub.status.idle": "2021-12-27T21:09:43.158426Z",
     "shell.execute_reply": "2021-12-27T21:09:43.157407Z",
     "shell.execute_reply.started": "2021-12-27T14:32:01.823598Z"
    },
    "papermill": {
     "duration": 175.577887,
     "end_time": "2021-12-27T21:09:43.158676",
     "exception": false,
     "start_time": "2021-12-27T21:06:47.580789",
     "status": "completed"
    },
    "tags": []
   },
   "outputs": [],
   "source": [
    "X_train, X_valid, y_train, y_valid=make_training_data(training_dfs,\n",
    "                       features,\n",
    "                       targets\n",
    "                       )"
   ]
  },
  {
   "cell_type": "code",
   "execution_count": 24,
   "id": "central-sending",
   "metadata": {
    "execution": {
     "iopub.execute_input": "2021-12-27T21:09:43.275611Z",
     "iopub.status.busy": "2021-12-27T21:09:43.274948Z",
     "iopub.status.idle": "2021-12-27T21:09:43.280717Z",
     "shell.execute_reply": "2021-12-27T21:09:43.281313Z",
     "shell.execute_reply.started": "2021-12-27T14:34:49.423644Z"
    },
    "papermill": {
     "duration": 0.064597,
     "end_time": "2021-12-27T21:09:43.281514",
     "exception": false,
     "start_time": "2021-12-27T21:09:43.216917",
     "status": "completed"
    },
    "tags": []
   },
   "outputs": [
    {
     "data": {
      "text/plain": [
       "Index(['home', 'gamesPlayedBatting', 'flyOuts', 'groundOuts', 'runsScored',\n",
       "       'doubles', 'triples', 'homeRuns', 'strikeOuts', 'baseOnBalls',\n",
       "       ...\n",
       "       'teamId_146.0', 'teamId_147.0', 'teamId_158.0', 'age',\n",
       "       'seasonPart_All-Star Break', 'seasonPart_Between Reg and Postseason',\n",
       "       'seasonPart_Postseason', 'seasonPart_Preseason',\n",
       "       'seasonPart_Reg Season 1st Half', 'seasonPart_Reg Season 2nd Half'],\n",
       "      dtype='object', length=215)"
      ]
     },
     "execution_count": 24,
     "metadata": {},
     "output_type": "execute_result"
    }
   ],
   "source": [
    "X_train.columns"
   ]
  },
  {
   "cell_type": "code",
   "execution_count": 25,
   "id": "right-phoenix",
   "metadata": {
    "execution": {
     "iopub.execute_input": "2021-12-27T21:09:43.394064Z",
     "iopub.status.busy": "2021-12-27T21:09:43.393343Z",
     "iopub.status.idle": "2021-12-27T21:09:43.647777Z",
     "shell.execute_reply": "2021-12-27T21:09:43.647068Z",
     "shell.execute_reply.started": "2021-12-27T14:34:49.432616Z"
    },
    "papermill": {
     "duration": 0.311275,
     "end_time": "2021-12-27T21:09:43.647945",
     "exception": false,
     "start_time": "2021-12-27T21:09:43.336670",
     "status": "completed"
    },
    "tags": []
   },
   "outputs": [],
   "source": [
    "del training_dfs "
   ]
  },
  {
   "cell_type": "code",
   "execution_count": 26,
   "id": "working-department",
   "metadata": {
    "execution": {
     "iopub.execute_input": "2021-12-27T21:09:44.023206Z",
     "iopub.status.busy": "2021-12-27T21:09:44.022312Z",
     "iopub.status.idle": "2021-12-27T21:09:44.026031Z",
     "shell.execute_reply": "2021-12-27T21:09:44.026525Z",
     "shell.execute_reply.started": "2021-12-27T14:34:49.703531Z"
    },
    "papermill": {
     "duration": 0.324319,
     "end_time": "2021-12-27T21:09:44.026727",
     "exception": false,
     "start_time": "2021-12-27T21:09:43.702408",
     "status": "completed"
    },
    "tags": []
   },
   "outputs": [
    {
     "data": {
      "text/plain": [
       "16907"
      ]
     },
     "execution_count": 26,
     "metadata": {},
     "output_type": "execute_result"
    }
   ],
   "source": [
    "\n",
    "gc.collect()"
   ]
  },
  {
   "cell_type": "code",
   "execution_count": 27,
   "id": "major-pillow",
   "metadata": {
    "execution": {
     "iopub.execute_input": "2021-12-27T21:09:44.140285Z",
     "iopub.status.busy": "2021-12-27T21:09:44.139320Z",
     "iopub.status.idle": "2021-12-27T21:09:44.143429Z",
     "shell.execute_reply": "2021-12-27T21:09:44.144117Z",
     "shell.execute_reply.started": "2021-12-27T14:34:49.936987Z"
    },
    "papermill": {
     "duration": 0.062054,
     "end_time": "2021-12-27T21:09:44.144298",
     "exception": false,
     "start_time": "2021-12-27T21:09:44.082244",
     "status": "completed"
    },
    "tags": []
   },
   "outputs": [],
   "source": [
    "#X = training_dfs['playerBoxScores'].copy()\n",
    "#X = X[['gameDate', 'playerId'] + features]\n",
    "#object_cols = [col for col in features if X[col].dtype == \"object\"]\n",
    "#num_cols = [col for col in features if col not in object_cols]\n",
    "    # Set dtypes\n",
    "#for name in num_cols:\n",
    "#    X = X.astype({name: np.float32})\n",
    "#X = X.astype({'playerId': str})\n",
    "#X[object_cols]=X[object_cols].fillna(value=\"X\")\n",
    "    # Create date index\n",
    "#X = X.rename(columns={'gameDate': 'date'})\n",
    "#X['date'] = pd.PeriodIndex(X.date, freq='D')\n",
    "    # Aggregate multiple games per day by summing\n",
    "#X = X.groupby(['date', 'playerId'], as_index=False).sum()"
   ]
  },
  {
   "cell_type": "code",
   "execution_count": 28,
   "id": "emerging-emergency",
   "metadata": {
    "execution": {
     "iopub.execute_input": "2021-12-27T21:09:44.256674Z",
     "iopub.status.busy": "2021-12-27T21:09:44.255713Z",
     "iopub.status.idle": "2021-12-27T21:09:44.259797Z",
     "shell.execute_reply": "2021-12-27T21:09:44.260326Z",
     "shell.execute_reply.started": "2021-12-27T14:34:49.947127Z"
    },
    "papermill": {
     "duration": 0.061858,
     "end_time": "2021-12-27T21:09:44.260545",
     "exception": false,
     "start_time": "2021-12-27T21:09:44.198687",
     "status": "completed"
    },
    "tags": []
   },
   "outputs": [],
   "source": [
    "#Y = training_dfs['nextDayPlayerEngagement'].copy()\n",
    "# Set dtypes\n",
    "#Y = Y.astype({name: np.float32 for name  in targets})\n",
    "#Y = Y.astype({'playerId': str})\n",
    "# Match target dates to feature dates and create date index\n",
    "#Y = Y.rename(columns={'engagementMetricsDate': 'date'})\n",
    "#Y['date'] = pd.to_datetime(Y['date'])\n",
    "#Y = Y.set_index('date').to_period('D')\n",
    "#Y.index = Y.index - 1\n",
    "#Y=Y.reset_index()"
   ]
  },
  {
   "cell_type": "code",
   "execution_count": 29,
   "id": "solved-forest",
   "metadata": {
    "execution": {
     "iopub.execute_input": "2021-12-27T21:09:44.374933Z",
     "iopub.status.busy": "2021-12-27T21:09:44.374249Z",
     "iopub.status.idle": "2021-12-27T21:09:44.377546Z",
     "shell.execute_reply": "2021-12-27T21:09:44.378101Z",
     "shell.execute_reply.started": "2021-12-27T14:34:49.957664Z"
    },
    "papermill": {
     "duration": 0.063056,
     "end_time": "2021-12-27T21:09:44.378312",
     "exception": false,
     "start_time": "2021-12-27T21:09:44.315256",
     "status": "completed"
    },
    "tags": []
   },
   "outputs": [],
   "source": [
    "#df = Y.merge(X,how='left',on=['date','playerId'])\n",
    "# Filter for players in test set\n",
    "#df = df.loc[df.playerId.isin(pids_test), :]"
   ]
  },
  {
   "cell_type": "code",
   "execution_count": 30,
   "id": "compressed-myanmar",
   "metadata": {
    "execution": {
     "iopub.execute_input": "2021-12-27T21:09:44.504284Z",
     "iopub.status.busy": "2021-12-27T21:09:44.503216Z",
     "iopub.status.idle": "2021-12-27T21:09:44.506525Z",
     "shell.execute_reply": "2021-12-27T21:09:44.505962Z",
     "shell.execute_reply.started": "2021-12-27T14:34:49.966926Z"
    },
    "papermill": {
     "duration": 0.06541,
     "end_time": "2021-12-27T21:09:44.506722",
     "exception": false,
     "start_time": "2021-12-27T21:09:44.441312",
     "status": "completed"
    },
    "tags": []
   },
   "outputs": [],
   "source": [
    "#object_cols = [col for col in features if df[col].dtype == \"object\"]\n"
   ]
  },
  {
   "cell_type": "code",
   "execution_count": 31,
   "id": "balanced-newcastle",
   "metadata": {
    "execution": {
     "iopub.execute_input": "2021-12-27T21:09:44.626240Z",
     "iopub.status.busy": "2021-12-27T21:09:44.625547Z",
     "iopub.status.idle": "2021-12-27T21:09:44.632074Z",
     "shell.execute_reply": "2021-12-27T21:09:44.632587Z",
     "shell.execute_reply.started": "2021-12-27T14:34:49.976634Z"
    },
    "papermill": {
     "duration": 0.071078,
     "end_time": "2021-12-27T21:09:44.632787",
     "exception": false,
     "start_time": "2021-12-27T21:09:44.561709",
     "status": "completed"
    },
    "tags": []
   },
   "outputs": [],
   "source": [
    "columns=X_train.columns\n",
    "uint8=[col for col in columns if X_train[col].dtype == \"uint8\"]"
   ]
  },
  {
   "cell_type": "markdown",
   "id": "enabling-messaging",
   "metadata": {
    "papermill": {
     "duration": 0.05508,
     "end_time": "2021-12-27T21:09:44.744871",
     "exception": false,
     "start_time": "2021-12-27T21:09:44.689791",
     "status": "completed"
    },
    "tags": []
   },
   "source": [
    "In this cell we'll define the features we want to use from `playerBoxScores`. This frame contains player statistics for every game in the training period. We've chosen just a few from the many available. The `make_training_data` function also adjoins some features modeling annual seasonality, motivated by our data exploration in the next section."
   ]
  },
  {
   "cell_type": "markdown",
   "id": "curious-tunisia",
   "metadata": {
    "papermill": {
     "duration": 0.053923,
     "end_time": "2021-12-27T21:09:44.853113",
     "exception": false,
     "start_time": "2021-12-27T21:09:44.799190",
     "status": "completed"
    },
    "tags": []
   },
   "source": [
    "# Data Exploration #"
   ]
  },
  {
   "cell_type": "markdown",
   "id": "variable-ranch",
   "metadata": {
    "papermill": {
     "duration": 0.054243,
     "end_time": "2021-12-27T21:09:44.962586",
     "exception": false,
     "start_time": "2021-12-27T21:09:44.908343",
     "status": "completed"
    },
    "tags": []
   },
   "source": [
    "A *seasonal plot* can reveal seasonal effects in a time series. Let's look at seasonal plots for players in the top 10% of average engagement, one for yearly seasonality and one for weekly seasonality."
   ]
  },
  {
   "cell_type": "markdown",
   "id": "sporting-toronto",
   "metadata": {
    "papermill": {
     "duration": 0.054984,
     "end_time": "2021-12-27T21:09:45.072478",
     "exception": false,
     "start_time": "2021-12-27T21:09:45.017494",
     "status": "completed"
    },
    "tags": []
   },
   "source": [
    "From these plots, digital player engagement appears to have a strong annual component, but little or no weekly component.\n",
    "\n",
    "We can verify this with the *periodogram*. The periodogram illustrates the strength of the frequencies within a signal -- specifically, the variance of the sine / cosine Fourier component oscillating at that frequency."
   ]
  },
  {
   "cell_type": "markdown",
   "id": "emotional-samuel",
   "metadata": {
    "papermill": {
     "duration": 0.053673,
     "end_time": "2021-12-27T21:09:45.181840",
     "exception": false,
     "start_time": "2021-12-27T21:09:45.128167",
     "status": "completed"
    },
    "tags": []
   },
   "source": [
    "Both of these visualizations indicate yearly (or annual) seasonality in the engagement time series, which motivated our decision to use yearly Fourier features when constructing our feature set."
   ]
  },
  {
   "cell_type": "markdown",
   "id": "african-highlight",
   "metadata": {
    "papermill": {
     "duration": 0.053684,
     "end_time": "2021-12-27T21:09:45.290565",
     "exception": false,
     "start_time": "2021-12-27T21:09:45.236881",
     "status": "completed"
    },
    "tags": []
   },
   "source": [
    "# Model #"
   ]
  },
  {
   "cell_type": "markdown",
   "id": "conservative-apache",
   "metadata": {
    "papermill": {
     "duration": 0.061059,
     "end_time": "2021-12-27T21:09:45.406092",
     "exception": false,
     "start_time": "2021-12-27T21:09:45.345033",
     "status": "completed"
    },
    "tags": []
   },
   "source": [
    "For this getting started notebook, we'll just use a simple feedforward network."
   ]
  },
  {
   "cell_type": "code",
   "execution_count": 32,
   "id": "blocked-ontario",
   "metadata": {
    "execution": {
     "iopub.execute_input": "2021-12-27T21:09:45.583728Z",
     "iopub.status.busy": "2021-12-27T21:09:45.581394Z",
     "iopub.status.idle": "2021-12-27T21:09:45.585853Z",
     "shell.execute_reply": "2021-12-27T21:09:45.586646Z",
     "shell.execute_reply.started": "2021-12-27T14:34:49.995252Z"
    },
    "papermill": {
     "duration": 0.095544,
     "end_time": "2021-12-27T21:09:45.586897",
     "exception": false,
     "start_time": "2021-12-27T21:09:45.491353",
     "status": "completed"
    },
    "tags": []
   },
   "outputs": [],
   "source": [
    "# Hyperparameters\n",
    "#HIDDEN =100\n",
    "#ACTIVATION = 'relu'  # could try elu, gelu, swish\n",
    "#DROPOUT_RATE = 0.5\n",
    "#LEARNING_RATE = 1e-3\n",
    "#BATCH_SIZE = 100\n",
    "#OUTPUTS = y_train.shape[-1]\n",
    "#optimizer = keras.optimizers.Adam(learning_rate=LEARNING_RATE)\n",
    "#tpu = tf.distribute.cluster_resolver.TPUClusterResolver()\n",
    "#tf.config.experimental_connect_to_cluster(tpu)\n",
    "#tf.tpu.experimental.initialize_tpu_system(tpu)\n",
    "#strategy = tf.distribute.experimental.TPUStrategy(tpu)\n",
    "\n",
    "# instantiating the model in the strategy scope creates the model on the TPU\n",
    "#with strategy.scope():\n",
    "#    model = keras.Sequential([\n",
    "#        layers.Dense(HIDDEN, activation=ACTIVATION),\n",
    "#        layers.BatchNormalization(),\n",
    "#        layers.Dropout(DROPOUT_RATE),\n",
    "#        layers.Dense(HIDDEN, activation=ACTIVATION),\n",
    "#        layers.BatchNormalization(),\n",
    "#        layers.Dropout(DROPOUT_RATE),\n",
    "#        layers.Dense(OUTPUTS),\n",
    "#    ])\n",
    "#    model.compile(optimizer=optimizer, loss='mae', metrics=['mae'],steps_per_execution=64)\n",
    "#early_stopping = keras.callbacks.EarlyStopping(patience=10)\n",
    "#x_trial=np.asarray(X_train).astype('float32')\n",
    "#x_vatrial=np.asarray(X_valid).astype('float32')\n",
    "#history = model.fit(\n",
    "#    x_trial, y_train,\n",
    "#    validation_data=(x_vatrial, y_valid),\n",
    "#    batch_size=BATCH_SIZE,\n",
    "#    epochs=1000,\n",
    "#    callbacks=[early_stopping],\n",
    "#)\n",
    "#model.save('my_model.h5')\n",
    "    "
   ]
  },
  {
   "cell_type": "code",
   "execution_count": 33,
   "id": "front-logistics",
   "metadata": {
    "execution": {
     "iopub.execute_input": "2021-12-27T21:09:45.983042Z",
     "iopub.status.busy": "2021-12-27T21:09:45.982043Z",
     "iopub.status.idle": "2021-12-27T21:09:45.989275Z",
     "shell.execute_reply": "2021-12-27T21:09:45.988696Z",
     "shell.execute_reply.started": "2021-12-27T14:34:50.002674Z"
    },
    "papermill": {
     "duration": 0.335323,
     "end_time": "2021-12-27T21:09:45.989468",
     "exception": false,
     "start_time": "2021-12-27T21:09:45.654145",
     "status": "completed"
    },
    "tags": []
   },
   "outputs": [
    {
     "data": {
      "text/plain": [
       "40"
      ]
     },
     "execution_count": 33,
     "metadata": {},
     "output_type": "execute_result"
    }
   ],
   "source": [
    "gc.collect()"
   ]
  },
  {
   "cell_type": "code",
   "execution_count": 34,
   "id": "rural-cache",
   "metadata": {
    "execution": {
     "iopub.execute_input": "2021-12-27T21:09:46.114670Z",
     "iopub.status.busy": "2021-12-27T21:09:46.113972Z",
     "iopub.status.idle": "2021-12-27T21:09:46.118111Z",
     "shell.execute_reply": "2021-12-27T21:09:46.118808Z",
     "shell.execute_reply.started": "2021-12-27T14:34:50.199866Z"
    },
    "papermill": {
     "duration": 0.069567,
     "end_time": "2021-12-27T21:09:46.119022",
     "exception": false,
     "start_time": "2021-12-27T21:09:46.049455",
     "status": "completed"
    },
    "tags": []
   },
   "outputs": [],
   "source": [
    "#history_df = pd.DataFrame(history.history)\n",
    "#history_df.loc[:, ['loss', 'val_loss']].plot()"
   ]
  },
  {
   "cell_type": "markdown",
   "id": "super-armenia",
   "metadata": {
    "papermill": {
     "duration": 0.058937,
     "end_time": "2021-12-27T21:09:46.234102",
     "exception": false,
     "start_time": "2021-12-27T21:09:46.175165",
     "status": "completed"
    },
    "tags": []
   },
   "source": [
    "# Create Submission #"
   ]
  },
  {
   "cell_type": "markdown",
   "id": "grateful-participant",
   "metadata": {
    "papermill": {
     "duration": 0.058166,
     "end_time": "2021-12-27T21:09:46.350816",
     "exception": false,
     "start_time": "2021-12-27T21:09:46.292650",
     "status": "completed"
    },
    "tags": []
   },
   "source": [
    "The next cell illustrates how you to create a submission for this competition. As this is a code competition that relies on a time series module, submissions must follow the requirements described on the [Evaluation Page](https://www.kaggle.com/c/mlb-player-digital-engagement-forecasting/overview/evaluation) and [Data Page](https://www.kaggle.com/c/mlb-player-digital-engagement-forecasting/data)."
   ]
  },
  {
   "cell_type": "code",
   "execution_count": 35,
   "id": "favorite-trail",
   "metadata": {
    "execution": {
     "iopub.execute_input": "2021-12-27T21:09:46.470383Z",
     "iopub.status.busy": "2021-12-27T21:09:46.469620Z",
     "iopub.status.idle": "2021-12-27T21:09:48.336005Z",
     "shell.execute_reply": "2021-12-27T21:09:48.336577Z",
     "shell.execute_reply.started": "2021-12-27T14:27:33.38125Z"
    },
    "papermill": {
     "duration": 1.930553,
     "end_time": "2021-12-27T21:09:48.336834",
     "exception": false,
     "start_time": "2021-12-27T21:09:46.406281",
     "status": "completed"
    },
    "tags": []
   },
   "outputs": [
    {
     "data": {
      "text/html": [
       "<style type='text/css'>\n",
       ".datatable table.frame { margin-bottom: 0; }\n",
       ".datatable table.frame thead { border-bottom: none; }\n",
       ".datatable table.frame tr.coltypes td {  color: #FFFFFF;  line-height: 6px;  padding: 0 0.5em;}\n",
       ".datatable .bool    { background: #DDDD99; }\n",
       ".datatable .object  { background: #565656; }\n",
       ".datatable .int     { background: #5D9E5D; }\n",
       ".datatable .float   { background: #4040CC; }\n",
       ".datatable .str     { background: #CC4040; }\n",
       ".datatable .row_index {  background: var(--jp-border-color3);  border-right: 1px solid var(--jp-border-color0);  color: var(--jp-ui-font-color3);  font-size: 9px;}\n",
       ".datatable .frame tr.coltypes .row_index {  background: var(--jp-border-color0);}\n",
       ".datatable th:nth-child(2) { padding-left: 12px; }\n",
       ".datatable .hellipsis {  color: var(--jp-cell-editor-border-color);}\n",
       ".datatable .vellipsis {  background: var(--jp-layout-color0);  color: var(--jp-cell-editor-border-color);}\n",
       ".datatable .na {  color: var(--jp-cell-editor-border-color);  font-size: 80%;}\n",
       ".datatable .footer { font-size: 9px; }\n",
       ".datatable .frame_dimensions {  background: var(--jp-border-color3);  border-top: 1px solid var(--jp-border-color0);  color: var(--jp-ui-font-color3);  display: inline-block;  opacity: 0.6;  padding: 1px 10px 1px 5px;}\n",
       ".datatable .frame thead tr.colnames {  background-image: url('data:image/png;base64,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');  background-repeat: repeat-x;  background-size: 14px;  height: 28px;}\n",
       "</style>\n"
      ],
      "text/plain": [
       "<IPython.core.display.HTML object>"
      ]
     },
     "metadata": {},
     "output_type": "display_data"
    }
   ],
   "source": [
    "import joblib\n",
    "model_1=joblib.load(\"../input/mlb-with-lag/Class_1.pkl\")\n",
    "model_2=joblib.load(\"../input/mlb-with-lag/Class_2.pkl\")\n",
    "model_3=joblib.load(\"../input/mlb-with-lag/Class_3.pkl\")\n",
    "model_4=joblib.load(\"../input/mlb-with-lag/Class_4.pkl\")"
   ]
  },
  {
   "cell_type": "code",
   "execution_count": 36,
   "id": "beautiful-barbados",
   "metadata": {
    "execution": {
     "iopub.execute_input": "2021-12-27T21:09:48.458038Z",
     "iopub.status.busy": "2021-12-27T21:09:48.457069Z",
     "iopub.status.idle": "2021-12-27T21:09:48.905711Z",
     "shell.execute_reply": "2021-12-27T21:09:48.905001Z",
     "shell.execute_reply.started": "2021-12-27T14:27:59.454854Z"
    },
    "papermill": {
     "duration": 0.511684,
     "end_time": "2021-12-27T21:09:48.905883",
     "exception": false,
     "start_time": "2021-12-27T21:09:48.394199",
     "status": "completed"
    },
    "tags": []
   },
   "outputs": [
    {
     "data": {
      "text/plain": [
       "<AxesSubplot:title={'center':'Feature importance'}, xlabel='Feature importance', ylabel='Features'>"
      ]
     },
     "execution_count": 36,
     "metadata": {},
     "output_type": "execute_result"
    },
    {
     "data": {
      "image/png": "[encoded data removed]",
      "text/plain": [
       "<Figure size 432x288 with 1 Axes>"
      ]
     },
     "metadata": {
      "needs_background": "light"
     },
     "output_type": "display_data"
    }
   ],
   "source": [
    "import lightgbm\n",
    "lightgbm.plot_importance(model_1,max_num_features=20)"
   ]
  },
  {
   "cell_type": "code",
   "execution_count": 37,
   "id": "weighted-judges",
   "metadata": {
    "execution": {
     "iopub.execute_input": "2021-12-27T21:09:49.027719Z",
     "iopub.status.busy": "2021-12-27T21:09:49.027051Z",
     "iopub.status.idle": "2021-12-27T21:10:03.046734Z",
     "shell.execute_reply": "2021-12-27T21:10:03.047324Z",
     "shell.execute_reply.started": "2021-12-27T14:37:10.639144Z"
    },
    "papermill": {
     "duration": 14.084098,
     "end_time": "2021-12-27T21:10:03.047639",
     "exception": false,
     "start_time": "2021-12-27T21:09:48.963541",
     "status": "completed"
    },
    "tags": []
   },
   "outputs": [],
   "source": [
    "import shap \n",
    "explainer1 = shap.TreeExplainer(model_1)\n",
    "explainer2 = shap.TreeExplainer(model_2)\n",
    "explainer3 = shap.TreeExplainer(model_3)\n",
    "explainer4 = shap.TreeExplainer(model_4)\n",
    "X_valid=X_valid.astype({name:np.int for name in [\"wildeliminated\",\"eliminated\"]})\n",
    "# calculate shap values. This is what we will plot.\n",
    "# Calculate shap_values for all of val_X rather than a single row, to have more data for plot.\n",
    "\n",
    "# Make plot. Index of [1] is explained in text below.\n"
   ]
  },
  {
   "cell_type": "code",
   "execution_count": 38,
   "id": "involved-acrylic",
   "metadata": {
    "execution": {
     "iopub.execute_input": "2021-12-27T21:10:03.170970Z",
     "iopub.status.busy": "2021-12-27T21:10:03.170249Z",
     "iopub.status.idle": "2021-12-27T22:28:46.131511Z",
     "shell.execute_reply": "2021-12-27T22:28:46.130650Z",
     "shell.execute_reply.started": "2021-12-27T16:16:01.618787Z"
    },
    "papermill": {
     "duration": 4723.024042,
     "end_time": "2021-12-27T22:28:46.131728",
     "exception": false,
     "start_time": "2021-12-27T21:10:03.107686",
     "status": "completed"
    },
    "tags": []
   },
   "outputs": [],
   "source": [
    "sp1=explainer1(X_valid)\n",
    "sp2=explainer2(X_valid)\n",
    "sp3=explainer3(X_valid)\n",
    "sp4=explainer4(X_valid)"
   ]
  },
  {
   "cell_type": "code",
   "execution_count": 39,
   "id": "nuclear-princess",
   "metadata": {
    "execution": {
     "iopub.execute_input": "2021-12-27T22:28:46.258195Z",
     "iopub.status.busy": "2021-12-27T22:28:46.257240Z",
     "iopub.status.idle": "2021-12-27T22:29:01.737134Z",
     "shell.execute_reply": "2021-12-27T22:29:01.736531Z",
     "shell.execute_reply.started": "2021-12-27T16:55:06.673788Z"
    },
    "papermill": {
     "duration": 15.54354,
     "end_time": "2021-12-27T22:29:01.737292",
     "exception": false,
     "start_time": "2021-12-27T22:28:46.193752",
     "status": "completed"
    },
    "tags": []
   },
   "outputs": [
    {
     "data": {
      "image/png": "[encoded data removed]",
      "text/plain": [
       "<Figure size 576x684 with 2 Axes>"
      ]
     },
     "metadata": {
      "needs_background": "light"
     },
     "output_type": "display_data"
    }
   ],
   "source": [
    "shap.summary_plot(sp1)"
   ]
  },
  {
   "cell_type": "code",
   "execution_count": 40,
   "id": "aggressive-prime",
   "metadata": {
    "execution": {
     "iopub.execute_input": "2021-12-27T22:29:01.863745Z",
     "iopub.status.busy": "2021-12-27T22:29:01.862794Z",
     "iopub.status.idle": "2021-12-27T22:29:02.190506Z",
     "shell.execute_reply": "2021-12-27T22:29:02.191000Z",
     "shell.execute_reply.started": "2021-12-27T13:54:24.202379Z"
    },
    "papermill": {
     "duration": 0.393565,
     "end_time": "2021-12-27T22:29:02.191192",
     "exception": false,
     "start_time": "2021-12-27T22:29:01.797627",
     "status": "completed"
    },
    "tags": []
   },
   "outputs": [
    {
     "data": {
      "text/plain": [
       "<AxesSubplot:title={'center':'Feature importance'}, xlabel='Feature importance', ylabel='Features'>"
      ]
     },
     "execution_count": 40,
     "metadata": {},
     "output_type": "execute_result"
    },
    {
     "data": {
      "image/png": "[encoded data removed]",
      "text/plain": [
       "<Figure size 432x288 with 1 Axes>"
      ]
     },
     "metadata": {
      "needs_background": "light"
     },
     "output_type": "display_data"
    }
   ],
   "source": [
    "lightgbm.plot_importance(model_2,max_num_features=20)"
   ]
  },
  {
   "cell_type": "code",
   "execution_count": 41,
   "id": "found-framing",
   "metadata": {
    "execution": {
     "iopub.execute_input": "2021-12-27T22:29:02.316765Z",
     "iopub.status.busy": "2021-12-27T22:29:02.315826Z",
     "iopub.status.idle": "2021-12-27T22:29:16.186583Z",
     "shell.execute_reply": "2021-12-27T22:29:16.187088Z"
    },
    "papermill": {
     "duration": 13.935089,
     "end_time": "2021-12-27T22:29:16.187273",
     "exception": false,
     "start_time": "2021-12-27T22:29:02.252184",
     "status": "completed"
    },
    "tags": []
   },
   "outputs": [
    {
     "data": {
      "image/png": "[encoded data removed]",
      "text/plain": [
       "<Figure size 576x684 with 2 Axes>"
      ]
     },
     "metadata": {
      "needs_background": "light"
     },
     "output_type": "display_data"
    }
   ],
   "source": [
    "shap.summary_plot(sp2)"
   ]
  },
  {
   "cell_type": "code",
   "execution_count": 42,
   "id": "fabulous-domestic",
   "metadata": {
    "execution": {
     "iopub.execute_input": "2021-12-27T22:29:16.319098Z",
     "iopub.status.busy": "2021-12-27T22:29:16.318372Z",
     "iopub.status.idle": "2021-12-27T22:29:16.662977Z",
     "shell.execute_reply": "2021-12-27T22:29:16.663474Z",
     "shell.execute_reply.started": "2021-12-27T13:56:04.834211Z"
    },
    "papermill": {
     "duration": 0.411927,
     "end_time": "2021-12-27T22:29:16.663668",
     "exception": false,
     "start_time": "2021-12-27T22:29:16.251741",
     "status": "completed"
    },
    "tags": []
   },
   "outputs": [
    {
     "data": {
      "text/plain": [
       "<AxesSubplot:title={'center':'Feature importance'}, xlabel='Feature importance', ylabel='Features'>"
      ]
     },
     "execution_count": 42,
     "metadata": {},
     "output_type": "execute_result"
    },
    {
     "data": {
      "image/png": "[encoded data removed]",
      "text/plain": [
       "<Figure size 432x288 with 1 Axes>"
      ]
     },
     "metadata": {
      "needs_background": "light"
     },
     "output_type": "display_data"
    }
   ],
   "source": [
    "lightgbm.plot_importance(model_3,max_num_features=20)"
   ]
  },
  {
   "cell_type": "code",
   "execution_count": 43,
   "id": "basic-coupon",
   "metadata": {
    "execution": {
     "iopub.execute_input": "2021-12-27T22:29:16.800016Z",
     "iopub.status.busy": "2021-12-27T22:29:16.799346Z",
     "iopub.status.idle": "2021-12-27T22:29:30.621342Z",
     "shell.execute_reply": "2021-12-27T22:29:30.621867Z"
    },
    "papermill": {
     "duration": 13.892066,
     "end_time": "2021-12-27T22:29:30.622040",
     "exception": false,
     "start_time": "2021-12-27T22:29:16.729974",
     "status": "completed"
    },
    "tags": []
   },
   "outputs": [
    {
     "data": {
      "image/png": "[encoded data removed]",
      "text/plain": [
       "<Figure size 576x684 with 2 Axes>"
      ]
     },
     "metadata": {
      "needs_background": "light"
     },
     "output_type": "display_data"
    }
   ],
   "source": [
    "shap.summary_plot(sp3)"
   ]
  },
  {
   "cell_type": "code",
   "execution_count": 44,
   "id": "aquatic-halifax",
   "metadata": {
    "execution": {
     "iopub.execute_input": "2021-12-27T22:29:30.761015Z",
     "iopub.status.busy": "2021-12-27T22:29:30.760349Z",
     "iopub.status.idle": "2021-12-27T22:29:31.102700Z",
     "shell.execute_reply": "2021-12-27T22:29:31.102074Z",
     "shell.execute_reply.started": "2021-12-27T13:56:12.771708Z"
    },
    "papermill": {
     "duration": 0.413651,
     "end_time": "2021-12-27T22:29:31.102857",
     "exception": false,
     "start_time": "2021-12-27T22:29:30.689206",
     "status": "completed"
    },
    "tags": []
   },
   "outputs": [
    {
     "data": {
      "text/plain": [
       "<AxesSubplot:title={'center':'Feature importance'}, xlabel='Feature importance', ylabel='Features'>"
      ]
     },
     "execution_count": 44,
     "metadata": {},
     "output_type": "execute_result"
    },
    {
     "data": {
      "image/png": "[encoded data removed]",
      "text/plain": [
       "<Figure size 432x288 with 1 Axes>"
      ]
     },
     "metadata": {
      "needs_background": "light"
     },
     "output_type": "display_data"
    }
   ],
   "source": [
    "lightgbm.plot_importance(model_4,max_num_features=20)"
   ]
  },
  {
   "cell_type": "code",
   "execution_count": 45,
   "id": "polish-titanium",
   "metadata": {
    "execution": {
     "iopub.execute_input": "2021-12-27T22:29:31.250170Z",
     "iopub.status.busy": "2021-12-27T22:29:31.249207Z",
     "iopub.status.idle": "2021-12-27T22:29:45.458753Z",
     "shell.execute_reply": "2021-12-27T22:29:45.458217Z"
    },
    "papermill": {
     "duration": 14.285568,
     "end_time": "2021-12-27T22:29:45.458908",
     "exception": false,
     "start_time": "2021-12-27T22:29:31.173340",
     "status": "completed"
    },
    "tags": []
   },
   "outputs": [
    {
     "data": {
      "image/png": "[encoded data removed]",
      "text/plain": [
       "<Figure size 576x684 with 2 Axes>"
      ]
     },
     "metadata": {
      "needs_background": "light"
     },
     "output_type": "display_data"
    }
   ],
   "source": [
    "shap.summary_plot(sp4)"
   ]
  },
  {
   "cell_type": "code",
   "execution_count": 46,
   "id": "intense-artwork",
   "metadata": {
    "_kg_hide-input": true,
    "execution": {
     "iopub.execute_input": "2021-12-27T22:29:45.635134Z",
     "iopub.status.busy": "2021-12-27T22:29:45.634346Z",
     "iopub.status.idle": "2021-12-27T22:29:45.638071Z",
     "shell.execute_reply": "2021-12-27T22:29:45.637400Z",
     "shell.execute_reply.started": "2021-12-24T03:40:36.943559Z"
    },
    "papermill": {
     "duration": 0.105458,
     "end_time": "2021-12-27T22:29:45.638235",
     "exception": false,
     "start_time": "2021-12-27T22:29:45.532777",
     "status": "completed"
    },
    "tags": []
   },
   "outputs": [],
   "source": [
    "def make_predictions(targets,test_dfs,features):\n",
    "    X = make_playerBoxScores(test_dfs, features)\n",
    "    standings=make_standings(test_dfs,standings_feature)\n",
    "    rosters=make_rosters(test_dfs)\n",
    "    games=make_games(test_dfs)\n",
    "    TwitterFollowers=make_playerTwitterFollowers(test_dfs)\n",
    "    rosters['playerId']=[str(x) for x in rosters.playerId]\n",
    "    TwitterFollowers['playerId']=[str(x) for x in TwitterFollowers.playerId]\n",
    "    players_1['playerId']=[str(x) for x in players_1.playerId]\n",
    "    X = X.merge(pids_test, how='right')\n",
    "    \n",
    "    X['date'] = X.date.fillna(method='ffill').fillna(method='bfill')\n",
    "        # Merge for processing\n",
    "        # Filter for players in test set\n",
    "    X['seasonId']=X.date.dt.year\n",
    "    X=X.merge(awardhist,how='left',on=['seasonId','playerId'])\n",
    "    X=X.merge(targ,how='left',on=['seasonId','playerId'])\n",
    "    X=X.merge(seasons,how='left',on='seasonId')\n",
    "    X['seasonPart'] = np.select(\n",
    "            [\n",
    "            X['date'] < X['preSeasonStartDate'], \n",
    "            X['date'] <X['regularSeasonStartDate'],\n",
    "            X['date'] <= X['lastDate1stHalf'],\n",
    "            X['date'] <X['firstDate2ndHalf'],\n",
    "            X['date'] <=X['regularSeasonEndDate'],\n",
    "            X['date'] < X['postSeasonStartDate'],\n",
    "           X['date'] <= X['postSeasonEndDate'],\n",
    "            X['date'] >X['postSeasonEndDate']\n",
    "            ], \n",
    "            [\n",
    "            'Offseason',\n",
    "            'Preseason',\n",
    "            'Reg Season 1st Half',\n",
    "            'All-Star Break',\n",
    "            'Reg Season 2nd Half',\n",
    "            'Between Reg and Postseason',\n",
    "            'Postseason',\n",
    "            'Offseason'\n",
    "            ], \n",
    "            default = np.nan\n",
    "            )\n",
    "    X=pd.get_dummies(X,columns=['seasonPart'])\n",
    "    X=X.drop('seasonId',axis=1)\n",
    "    X=X.merge(rosters,how='left',on=['date','playerId'])\n",
    "    X=X.merge(TwitterFollowers,how='left',on=['date','playerId'])\n",
    "    X=X.merge(standings,how='left',on=['date','teamId'])\n",
    "    X=X.merge(games,how='left',on=['date','teamId'])\n",
    "    X=X.merge(players_1,how='left',on=['playerId'])  \n",
    "    X['seasonId']=X.date.dt.year\n",
    "    X['age']=X['seasonId']-X['birthyear']\n",
    "    X.drop(['seasonId','birthyear'],axis=1, inplace=True)\n",
    "    missing_cols = set( columns ) - set(X.columns )\n",
    "        # Add a missing column in test set with default value equal to 0\n",
    "    for c in missing_cols:\n",
    "        X[c] = 0\n",
    "    X.fillna(0, inplace=True)\n",
    "    A=X.copy()\n",
    "    A=A[columns]\n",
    "    A=A.astype('float32')\n",
    "    A = A.astype({name: np.int for name  in uint8})\n",
    "    A=A.astype({name:np.int for name in [\"wildeliminated\",\"eliminated\"]})\n",
    "    targets1 = model_1.predict(A)\n",
    "    targets2= model_2.predict(A)\n",
    "    targets3=model_3.predict(A)\n",
    "    targets4=model_4.predict(A)\n",
    "    y_pred = pd.DataFrame({\"target1\":targets1,\"target2\":targets2,\"target3\":targets3,\"target4\":targets4})\n",
    "    y_pred[targets] = y_pred[targets].clip(0, 100)\n",
    "    y_pred['date']=X['date']\n",
    "    y_pred['playerId'] =X.playerId\n",
    "    y_pred['date']=y_pred.date.fillna(method='ffill').fillna(method='bfill')\n",
    "    y_pred['date']=[(x+1).strftime('%Y%m%d') for x in y_pred['date']]\n",
    "    y_pred['date_playerId']=[b['date']+'_'+str(b['playerId']) for a,b in y_pred.iterrows()]\n",
    "    y_pred=y_pred.drop(['date','playerId'],axis=1)\n",
    "    y_pred = y_pred[['date_playerId'] + targets]\n",
    "#        (date + 1).strftime('%Y%m%d') + '_' + str(playerId)\n",
    "#        for date, playerId in y_pred.index\n",
    "#    \n",
    "#    y_pred.reset_index('playerId', drop=True, inplace=True)\n",
    "#    y_pred = y_pred[['date_playerId'] + targets]  # reorder\n",
    "#    y_pred.index = pd.Int64Index(\n",
    "#        [int(date.strftime('%Y%m%d')) for date in y_pred.index], name='date')\n",
    "    return y_pred"
   ]
  },
  {
   "cell_type": "code",
   "execution_count": 47,
   "id": "federal-patrol",
   "metadata": {
    "execution": {
     "iopub.execute_input": "2021-12-27T22:29:45.792979Z",
     "iopub.status.busy": "2021-12-27T22:29:45.792103Z",
     "iopub.status.idle": "2021-12-27T22:29:58.720446Z",
     "shell.execute_reply": "2021-12-27T22:29:58.721043Z",
     "shell.execute_reply.started": "2021-12-24T03:40:41.175241Z"
    },
    "papermill": {
     "duration": 13.009027,
     "end_time": "2021-12-27T22:29:58.721260",
     "exception": false,
     "start_time": "2021-12-27T22:29:45.712233",
     "status": "completed"
    },
    "scrolled": true,
    "tags": []
   },
   "outputs": [
    {
     "name": "stdout",
     "output_type": "stream",
     "text": [
      "This version of the API is not optimized and should not be used to estimate the runtime of your code on the hidden test set.\n",
      "CPU times: user 10.9 s, sys: 427 ms, total: 11.3 s\n",
      "Wall time: 12.9 s\n"
     ]
    }
   ],
   "source": [
    "%%time\n",
    "import mlb\n",
    "\n",
    "env = mlb.make_env()\n",
    "iter_test = env.iter_test()\n",
    "\n",
    "for (test_df, sample_prediction_df) in iter_test:\n",
    "#    # Unpack features from test_df\n",
    "    test_dfs = unpack_data(test_df, [  # targets\n",
    "    'playerBoxScores',  # features\n",
    "    # Other dataframes available for features:\n",
    "    'games',\n",
    "    'rosters',\n",
    "    'teamBoxScores',\n",
    "    'transactions',\n",
    "    'standings',\n",
    "    # 'awards',\n",
    "    # 'events',\n",
    "    'playerTwitterFollowers',\n",
    "    'teamTwitterFollowers',\n",
    "])\n",
    "    # Create predictions\n",
    "    y_pred = make_predictions(\n",
    "        test_dfs=test_dfs,\n",
    "        features=features,\n",
    "        targets=targets,\n",
    "    )\n",
    "    submission = (\n",
    "       sample_prediction_df\n",
    "        [['date_playerId']]\n",
    "        .reset_index()  \n",
    "        .merge(y_pred, how='left', on='date_playerId')\n",
    "        .set_index('date')  \n",
    "    )\n",
    "\n",
    "    # Submit predictions\n",
    "    env.predict(submission)  # constructs submissions.csv\n"
   ]
  },
  {
   "cell_type": "code",
   "execution_count": 48,
   "id": "heavy-maintenance",
   "metadata": {
    "execution": {
     "iopub.execute_input": "2021-12-27T22:29:58.896911Z",
     "iopub.status.busy": "2021-12-27T22:29:58.895950Z",
     "iopub.status.idle": "2021-12-27T22:29:58.913929Z",
     "shell.execute_reply": "2021-12-27T22:29:58.914694Z",
     "shell.execute_reply.started": "2021-07-16T12:47:39.638993Z"
    },
    "papermill": {
     "duration": 0.110677,
     "end_time": "2021-12-27T22:29:58.914978",
     "exception": false,
     "start_time": "2021-12-27T22:29:58.804301",
     "status": "completed"
    },
    "tags": []
   },
   "outputs": [
    {
     "data": {
      "text/html": [
       "<div>\n",
       "<style scoped>\n",
       "    .dataframe tbody tr th:only-of-type {\n",
       "        vertical-align: middle;\n",
       "    }\n",
       "\n",
       "    .dataframe tbody tr th {\n",
       "        vertical-align: top;\n",
       "    }\n",
       "\n",
       "    .dataframe thead th {\n",
       "        text-align: right;\n",
       "    }\n",
       "</style>\n",
       "<table border=\"1\" class=\"dataframe\">\n",
       "  <thead>\n",
       "    <tr style=\"text-align: right;\">\n",
       "      <th></th>\n",
       "      <th>date_playerId</th>\n",
       "      <th>target1</th>\n",
       "      <th>target2</th>\n",
       "      <th>target3</th>\n",
       "      <th>target4</th>\n",
       "    </tr>\n",
       "    <tr>\n",
       "      <th>date</th>\n",
       "      <th></th>\n",
       "      <th></th>\n",
       "      <th></th>\n",
       "      <th></th>\n",
       "      <th></th>\n",
       "    </tr>\n",
       "  </thead>\n",
       "  <tbody>\n",
       "    <tr>\n",
       "      <th>20210430</th>\n",
       "      <td>20210501_488726</td>\n",
       "      <td>2.246578</td>\n",
       "      <td>6.239217</td>\n",
       "      <td>0.060968</td>\n",
       "      <td>2.489672</td>\n",
       "    </tr>\n",
       "    <tr>\n",
       "      <th>20210430</th>\n",
       "      <td>20210501_605218</td>\n",
       "      <td>0.002695</td>\n",
       "      <td>0.423651</td>\n",
       "      <td>0.006261</td>\n",
       "      <td>0.787937</td>\n",
       "    </tr>\n",
       "    <tr>\n",
       "      <th>20210430</th>\n",
       "      <td>20210501_621563</td>\n",
       "      <td>0.224530</td>\n",
       "      <td>3.262513</td>\n",
       "      <td>0.013906</td>\n",
       "      <td>0.977115</td>\n",
       "    </tr>\n",
       "    <tr>\n",
       "      <th>20210430</th>\n",
       "      <td>20210501_670084</td>\n",
       "      <td>0.004608</td>\n",
       "      <td>1.355075</td>\n",
       "      <td>0.025096</td>\n",
       "      <td>0.702753</td>\n",
       "    </tr>\n",
       "    <tr>\n",
       "      <th>20210430</th>\n",
       "      <td>20210501_670970</td>\n",
       "      <td>0.001378</td>\n",
       "      <td>0.437157</td>\n",
       "      <td>0.122985</td>\n",
       "      <td>0.168838</td>\n",
       "    </tr>\n",
       "    <tr>\n",
       "      <th>...</th>\n",
       "      <td>...</td>\n",
       "      <td>...</td>\n",
       "      <td>...</td>\n",
       "      <td>...</td>\n",
       "      <td>...</td>\n",
       "    </tr>\n",
       "    <tr>\n",
       "      <th>20210430</th>\n",
       "      <td>20210501_596049</td>\n",
       "      <td>0.000000</td>\n",
       "      <td>0.133644</td>\n",
       "      <td>0.002524</td>\n",
       "      <td>0.028806</td>\n",
       "    </tr>\n",
       "    <tr>\n",
       "      <th>20210430</th>\n",
       "      <td>20210501_642851</td>\n",
       "      <td>0.006739</td>\n",
       "      <td>0.209232</td>\n",
       "      <td>0.005120</td>\n",
       "      <td>0.186146</td>\n",
       "    </tr>\n",
       "    <tr>\n",
       "      <th>20210430</th>\n",
       "      <td>20210501_596071</td>\n",
       "      <td>0.000005</td>\n",
       "      <td>0.237598</td>\n",
       "      <td>0.000104</td>\n",
       "      <td>0.114882</td>\n",
       "    </tr>\n",
       "    <tr>\n",
       "      <th>20210430</th>\n",
       "      <td>20210501_664901</td>\n",
       "      <td>0.000000</td>\n",
       "      <td>0.438215</td>\n",
       "      <td>0.001186</td>\n",
       "      <td>0.235538</td>\n",
       "    </tr>\n",
       "    <tr>\n",
       "      <th>20210430</th>\n",
       "      <td>20210501_605525</td>\n",
       "      <td>0.002270</td>\n",
       "      <td>1.102395</td>\n",
       "      <td>0.003688</td>\n",
       "      <td>0.230268</td>\n",
       "    </tr>\n",
       "  </tbody>\n",
       "</table>\n",
       "<p>1187 rows × 5 columns</p>\n",
       "</div>"
      ],
      "text/plain": [
       "            date_playerId   target1   target2   target3   target4\n",
       "date                                                             \n",
       "20210430  20210501_488726  2.246578  6.239217  0.060968  2.489672\n",
       "20210430  20210501_605218  0.002695  0.423651  0.006261  0.787937\n",
       "20210430  20210501_621563  0.224530  3.262513  0.013906  0.977115\n",
       "20210430  20210501_670084  0.004608  1.355075  0.025096  0.702753\n",
       "20210430  20210501_670970  0.001378  0.437157  0.122985  0.168838\n",
       "...                   ...       ...       ...       ...       ...\n",
       "20210430  20210501_596049  0.000000  0.133644  0.002524  0.028806\n",
       "20210430  20210501_642851  0.006739  0.209232  0.005120  0.186146\n",
       "20210430  20210501_596071  0.000005  0.237598  0.000104  0.114882\n",
       "20210430  20210501_664901  0.000000  0.438215  0.001186  0.235538\n",
       "20210430  20210501_605525  0.002270  1.102395  0.003688  0.230268\n",
       "\n",
       "[1187 rows x 5 columns]"
      ]
     },
     "execution_count": 48,
     "metadata": {},
     "output_type": "execute_result"
    }
   ],
   "source": [
    "submission"
   ]
  },
  {
   "cell_type": "markdown",
   "id": "color-deposit",
   "metadata": {
    "papermill": {
     "duration": 0.078737,
     "end_time": "2021-12-27T22:29:59.085117",
     "exception": false,
     "start_time": "2021-12-27T22:29:59.006380",
     "status": "completed"
    },
    "tags": []
   },
   "source": [
    "To complete a submission for this competition, we'll need to commit this notebook and submit the resulting submission file it creates,`submissions.csv`. From the notebook editor:\n",
    "- make sure *Internet* is turned off in **Settings**,\n",
    "- click the **Save Version** button to the upper right,\n",
    "- make sure *Save and Run All (Commit)* is selected, and\n",
    "- click **Save**.\n",
    "\n",
    "Once the commit completes (should only be three or four minutes):\n",
    "- select from the menubar **File -> Version History**,\n",
    "- select from the ellipsis menu of the latest version **... -> Submit to Competition**, and\n",
    "- click **Submit**\n",
    "\n",
    "Kaggle will rerun the notebook on the public test set and display the score on the public leaderboard. [**My Submissions**](https://www.kaggle.com/c/mlb-player-digital-engagement-forecasting/submissions) will show the status of the submission: currently running, succeeded, or failed.\n",
    "\n",
    "The submission requirements for code competitions can be somewhat exacting. If you're having trouble, checkout our [**Code Competitions - Errors & Debugging Tips**](https://www.kaggle.com/docs/competitions#notebooks-only-FAQ)."
   ]
  },
  {
   "cell_type": "markdown",
   "id": "bulgarian-remainder",
   "metadata": {
    "papermill": {
     "duration": 0.080178,
     "end_time": "2021-12-27T22:29:59.252510",
     "exception": false,
     "start_time": "2021-12-27T22:29:59.172332",
     "status": "completed"
    },
    "tags": []
   },
   "source": [
    "# Explainable AI and Hyperparameter Tuning with Vertex #\n",
    "\n",
    "[This complementary notebook](https://www.kaggle.com/ryanholbrook/vertex-ai-with-mlb-player-digital-engagement) demonstrates how to run this notebook in Vertex AI Notebooks. You'll learn how to use **Explainable AI (XAI)** to refine your features and how to tune your model with **Vertex Vizier**."
   ]
  }
 ],
 "metadata": {
  "kernelspec": {
   "display_name": "Python 3",
   "language": "python",
   "name": "python3"
  },
  "language_info": {
   "codemirror_mode": {
    "name": "ipython",
    "version": 3
   },
   "file_extension": ".py",
   "mimetype": "text/x-python",
   "name": "python",
   "nbconvert_exporter": "python",
   "pygments_lexer": "ipython3",
   "version": "3.7.10"
  },
  "papermill": {
   "default_parameters": {},
   "duration": 5144.717806,
   "end_time": "2021-12-27T22:30:02.168220",
   "environment_variables": {},
   "exception": null,
   "input_path": "__notebook__.ipynb",
   "output_path": "__notebook__.ipynb",
   "parameters": {},
   "start_time": "2021-12-27T21:04:17.450414",
   "version": "2.3.3"
  },
  "widgets": {
   "application/vnd.jupyter.widget-state+json": {
    "state": {
     "12a0c4937b7249bc89af14140209372e": {
      "model_module": "@jupyter-widgets/base",
      "model_module_version": "1.2.0",
      "model_name": "LayoutModel",
      "state": {
       "_model_module": "@jupyter-widgets/base",
       "_model_module_version": "1.2.0",
       "_model_name": "LayoutModel",
       "_view_count": null,
       "_view_module": "@jupyter-widgets/base",
       "_view_module_version": "1.2.0",
       "_view_name": "LayoutView",
       "align_content": null,
       "align_items": null,
       "align_self": null,
       "border": null,
       "bottom": null,
       "display": null,
       "flex": null,
       "flex_flow": null,
       "grid_area": null,
       "grid_auto_columns": null,
       "grid_auto_flow": null,
       "grid_auto_rows": null,
       "grid_column": null,
       "grid_gap": null,
       "grid_row": null,
       "grid_template_areas": null,
       "grid_template_columns": null,
       "grid_template_rows": null,
       "height": null,
       "justify_content": null,
       "justify_items": null,
       "left": null,
       "margin": null,
       "max_height": null,
       "max_width": null,
       "min_height": null,
       "min_width": null,
       "object_fit": null,
       "object_position": null,
       "order": null,
       "overflow": null,
       "overflow_x": null,
       "overflow_y": null,
       "padding": null,
       "right": null,
       "top": null,
       "visibility": null,
       "width": null
      }
     },
     "15e489241b074aa2ae55c36edb82cc1a": {
      "model_module": "@jupyter-widgets/output",
      "model_module_version": "1.0.0",
      "model_name": "OutputModel",
      "state": {
       "_dom_classes": [],
       "_model_module": "@jupyter-widgets/output",
       "_model_module_version": "1.0.0",
       "_model_name": "OutputModel",
       "_view_count": null,
       "_view_module": "@jupyter-widgets/output",
       "_view_module_version": "1.0.0",
       "_view_name": "OutputView",
       "layout": "IPY_MODEL_febf2a941fd54534a960cb1369796522",
       "msg_id": "",
       "outputs": [
        {
         "data": {
          "text/html": "<div>\n<style scoped>\n    .dataframe tbody tr th:only-of-type {\n        vertical-align: middle;\n    }\n\n    .dataframe tbody tr th {\n        vertical-align: top;\n    }\n\n    .dataframe thead th {\n        text-align: right;\n    }\n</style>\n<table border=\"1\" class=\"dataframe\">\n  <thead>\n    <tr style=\"text-align: right;\">\n      <th></th>\n      <th>awardDate</th>\n      <th>awardSeason</th>\n      <th>awardId</th>\n      <th>awardName</th>\n      <th>playerId</th>\n      <th>playerName</th>\n      <th>awardPlayerTeamId</th>\n    </tr>\n  </thead>\n  <tbody>\n    <tr>\n      <th>0</th>\n      <td>2017-12-21</td>\n      <td>2017</td>\n      <td>WARRENSPAHN</td>\n      <td>Warren Spahn Award</td>\n      <td>477132</td>\n      <td>Clayton Kershaw</td>\n      <td>119.0</td>\n    </tr>\n    <tr>\n      <th>1</th>\n      <td>2017-12-20</td>\n      <td>2017</td>\n      <td>MILBORGAS</td>\n      <td>MiLB.com Organization All-Star</td>\n      <td>474319</td>\n      <td>Brandon Snyder</td>\n      <td>120.0</td>\n    </tr>\n    <tr>\n      <th>2</th>\n      <td>2017-12-20</td>\n      <td>2017</td>\n      <td>MILBORGAS</td>\n      <td>MiLB.com Organization All-Star</td>\n      <td>592530</td>\n      <td>Jose Marmolejos</td>\n      <td>120.0</td>\n    </tr>\n    <tr>\n      <th>3</th>\n      <td>2017-12-20</td>\n      <td>2017</td>\n      <td>MILBORGAS</td>\n      <td>MiLB.com Organization All-Star</td>\n      <td>593833</td>\n      <td>Wander Suero</td>\n      <td>120.0</td>\n    </tr>\n    <tr>\n      <th>4</th>\n      <td>2017-12-20</td>\n      <td>2017</td>\n      <td>MILBORGAS</td>\n      <td>MiLB.com Organization All-Star</td>\n      <td>600466</td>\n      <td>Raudy Read</td>\n      <td>120.0</td>\n    </tr>\n    <tr>\n      <th>...</th>\n      <td>...</td>\n      <td>...</td>\n      <td>...</td>\n      <td>...</td>\n      <td>...</td>\n      <td>...</td>\n      <td>...</td>\n    </tr>\n    <tr>\n      <th>11251</th>\n      <td>2000-08-27</td>\n      <td>2000</td>\n      <td>NLPOW</td>\n      <td>NL Player of the Week</td>\n      <td>134181</td>\n      <td>Adrian Beltre</td>\n      <td>119.0</td>\n    </tr>\n    <tr>\n      <th>11252</th>\n      <td>2000-07-09</td>\n      <td>2000</td>\n      <td>FUTURES</td>\n      <td>Futures Game Selection</td>\n      <td>282332</td>\n      <td>CC Sabathia</td>\n      <td>402.0</td>\n    </tr>\n    <tr>\n      <th>11253</th>\n      <td>1998-09-01</td>\n      <td>1998</td>\n      <td>TLPSAS</td>\n      <td>TEX Post-Season All-Star</td>\n      <td>134181</td>\n      <td>Adrian Beltre</td>\n      <td>510.0</td>\n    </tr>\n    <tr>\n      <th>11254</th>\n      <td>1998-07-07</td>\n      <td>1998</td>\n      <td>ALAS</td>\n      <td>AL All-Star</td>\n      <td>112526</td>\n      <td>Bartolo Colon</td>\n      <td>114.0</td>\n    </tr>\n    <tr>\n      <th>11255</th>\n      <td>1998-06-21</td>\n      <td>1998</td>\n      <td>ALPOW</td>\n      <td>AL Player of the Week</td>\n      <td>112526</td>\n      <td>Bartolo Colon</td>\n      <td>114.0</td>\n    </tr>\n  </tbody>\n</table>\n<p>11256 rows × 7 columns</p>\n</div>",
          "text/plain": "        awardDate  awardSeason      awardId                       awardName  \\\n0      2017-12-21         2017  WARRENSPAHN              Warren Spahn Award   \n1      2017-12-20         2017    MILBORGAS  MiLB.com Organization All-Star   \n2      2017-12-20         2017    MILBORGAS  MiLB.com Organization All-Star   \n3      2017-12-20         2017    MILBORGAS  MiLB.com Organization All-Star   \n4      2017-12-20         2017    MILBORGAS  MiLB.com Organization All-Star   \n...           ...          ...          ...                             ...   \n11251  2000-08-27         2000        NLPOW           NL Player of the Week   \n11252  2000-07-09         2000      FUTURES          Futures Game Selection   \n11253  1998-09-01         1998       TLPSAS        TEX Post-Season All-Star   \n11254  1998-07-07         1998         ALAS                     AL All-Star   \n11255  1998-06-21         1998        ALPOW           AL Player of the Week   \n\n       playerId       playerName  awardPlayerTeamId  \n0        477132  Clayton Kershaw              119.0  \n1        474319   Brandon Snyder              120.0  \n2        592530  Jose Marmolejos              120.0  \n3        593833     Wander Suero              120.0  \n4        600466       Raudy Read              120.0  \n...         ...              ...                ...  \n11251    134181    Adrian Beltre              119.0  \n11252    282332      CC Sabathia              402.0  \n11253    134181    Adrian Beltre              510.0  \n11254    112526    Bartolo Colon              114.0  \n11255    112526    Bartolo Colon              114.0  \n\n[11256 rows x 7 columns]"
         },
         "metadata": {},
         "output_type": "display_data"
        }
       ]
      }
     },
     "3c20451c83e6429d917e439e18ac67a8": {
      "model_module": "@jupyter-widgets/output",
      "model_module_version": "1.0.0",
      "model_name": "OutputModel",
      "state": {
       "_dom_classes": [],
       "_model_module": "@jupyter-widgets/output",
       "_model_module_version": "1.0.0",
       "_model_name": "OutputModel",
       "_view_count": null,
       "_view_module": "@jupyter-widgets/output",
       "_view_module_version": "1.0.0",
       "_view_name": "OutputView",
       "layout": "IPY_MODEL_b05d98534d2943159f49e1e8abe540a1",
       "msg_id": "",
       "outputs": [
        {
         "data": {
          "text/html": "<div>\n<style scoped>\n    .dataframe tbody tr th:only-of-type {\n        vertical-align: middle;\n    }\n\n    .dataframe tbody tr th {\n        vertical-align: top;\n    }\n\n    .dataframe thead th {\n        text-align: right;\n    }\n</style>\n<table border=\"1\" class=\"dataframe\">\n  <thead>\n    <tr style=\"text-align: right;\">\n      <th></th>\n      <th>playerId</th>\n      <th>playerName</th>\n      <th>DOB</th>\n      <th>mlbDebutDate</th>\n      <th>birthCity</th>\n      <th>birthStateProvince</th>\n      <th>birthCountry</th>\n      <th>heightInches</th>\n      <th>weight</th>\n      <th>primaryPositionCode</th>\n      <th>primaryPositionName</th>\n      <th>playerForTestSetAndFuturePreds</th>\n    </tr>\n  </thead>\n  <tbody>\n    <tr>\n      <th>0</th>\n      <td>665482</td>\n      <td>Gilberto Celestino</td>\n      <td>1999-02-13</td>\n      <td>2021-06-02</td>\n      <td>Santo Domingo</td>\n      <td>NaN</td>\n      <td>Dominican Republic</td>\n      <td>72</td>\n      <td>170</td>\n      <td>8</td>\n      <td>Outfielder</td>\n      <td>False</td>\n    </tr>\n    <tr>\n      <th>1</th>\n      <td>593590</td>\n      <td>Webster Rivas</td>\n      <td>1990-08-08</td>\n      <td>2021-05-28</td>\n      <td>Nagua</td>\n      <td>NaN</td>\n      <td>Dominican Republic</td>\n      <td>73</td>\n      <td>219</td>\n      <td>3</td>\n      <td>First Base</td>\n      <td>True</td>\n    </tr>\n    <tr>\n      <th>2</th>\n      <td>661269</td>\n      <td>Vladimir Gutierrez</td>\n      <td>1995-09-18</td>\n      <td>2021-05-28</td>\n      <td>Havana</td>\n      <td>NaN</td>\n      <td>Cuba</td>\n      <td>73</td>\n      <td>190</td>\n      <td>1</td>\n      <td>Pitcher</td>\n      <td>True</td>\n    </tr>\n    <tr>\n      <th>3</th>\n      <td>669212</td>\n      <td>Eli Morgan</td>\n      <td>1996-05-13</td>\n      <td>2021-05-28</td>\n      <td>Rancho Palos Verdes</td>\n      <td>CA</td>\n      <td>USA</td>\n      <td>70</td>\n      <td>190</td>\n      <td>1</td>\n      <td>Pitcher</td>\n      <td>True</td>\n    </tr>\n    <tr>\n      <th>4</th>\n      <td>666201</td>\n      <td>Alek Manoah</td>\n      <td>1998-01-09</td>\n      <td>2021-05-27</td>\n      <td>Homestead</td>\n      <td>FL</td>\n      <td>USA</td>\n      <td>78</td>\n      <td>260</td>\n      <td>1</td>\n      <td>Pitcher</td>\n      <td>True</td>\n    </tr>\n    <tr>\n      <th>...</th>\n      <td>...</td>\n      <td>...</td>\n      <td>...</td>\n      <td>...</td>\n      <td>...</td>\n      <td>...</td>\n      <td>...</td>\n      <td>...</td>\n      <td>...</td>\n      <td>...</td>\n      <td>...</td>\n      <td>...</td>\n    </tr>\n    <tr>\n      <th>2056</th>\n      <td>672695</td>\n      <td>Geraldo Perdomo</td>\n      <td>1999-10-22</td>\n      <td>NaN</td>\n      <td>Santo Domingo</td>\n      <td>NaN</td>\n      <td>Dominican Republic</td>\n      <td>74</td>\n      <td>203</td>\n      <td>6</td>\n      <td>Shortstop</td>\n      <td>True</td>\n    </tr>\n    <tr>\n      <th>2057</th>\n      <td>672911</td>\n      <td>Jesus Cruz</td>\n      <td>1995-04-15</td>\n      <td>NaN</td>\n      <td>Salinas de Hidalgo</td>\n      <td>San Luis Potosi</td>\n      <td>Mexico</td>\n      <td>73</td>\n      <td>230</td>\n      <td>1</td>\n      <td>Pitcher</td>\n      <td>False</td>\n    </tr>\n    <tr>\n      <th>2058</th>\n      <td>676103</td>\n      <td>Damon Jones</td>\n      <td>1994-09-30</td>\n      <td>NaN</td>\n      <td>Twin Falls</td>\n      <td>ID</td>\n      <td>USA</td>\n      <td>77</td>\n      <td>233</td>\n      <td>1</td>\n      <td>Pitcher</td>\n      <td>True</td>\n    </tr>\n    <tr>\n      <th>2059</th>\n      <td>676755</td>\n      <td>Isaac Mattson</td>\n      <td>1995-07-14</td>\n      <td>NaN</td>\n      <td>Erie</td>\n      <td>PA</td>\n      <td>USA</td>\n      <td>74</td>\n      <td>205</td>\n      <td>1</td>\n      <td>Pitcher</td>\n      <td>True</td>\n    </tr>\n    <tr>\n      <th>2060</th>\n      <td>680430</td>\n      <td>Nick Allgeyer</td>\n      <td>1996-02-03</td>\n      <td>NaN</td>\n      <td>St. Louis</td>\n      <td>MO</td>\n      <td>USA</td>\n      <td>75</td>\n      <td>210</td>\n      <td>1</td>\n      <td>Pitcher</td>\n      <td>True</td>\n    </tr>\n  </tbody>\n</table>\n<p>2061 rows × 12 columns</p>\n</div>",
          "text/plain": "      playerId          playerName         DOB mlbDebutDate  \\\n0       665482  Gilberto Celestino  1999-02-13   2021-06-02   \n1       593590       Webster Rivas  1990-08-08   2021-05-28   \n2       661269  Vladimir Gutierrez  1995-09-18   2021-05-28   \n3       669212          Eli Morgan  1996-05-13   2021-05-28   \n4       666201         Alek Manoah  1998-01-09   2021-05-27   \n...        ...                 ...         ...          ...   \n2056    672695     Geraldo Perdomo  1999-10-22          NaN   \n2057    672911          Jesus Cruz  1995-04-15          NaN   \n2058    676103         Damon Jones  1994-09-30          NaN   \n2059    676755       Isaac Mattson  1995-07-14          NaN   \n2060    680430       Nick Allgeyer  1996-02-03          NaN   \n\n                birthCity birthStateProvince        birthCountry  \\\n0           Santo Domingo                NaN  Dominican Republic   \n1                   Nagua                NaN  Dominican Republic   \n2                  Havana                NaN                Cuba   \n3     Rancho Palos Verdes                 CA                 USA   \n4               Homestead                 FL                 USA   \n...                   ...                ...                 ...   \n2056        Santo Domingo                NaN  Dominican Republic   \n2057   Salinas de Hidalgo    San Luis Potosi              Mexico   \n2058           Twin Falls                 ID                 USA   \n2059                 Erie                 PA                 USA   \n2060            St. Louis                 MO                 USA   \n\n      heightInches  weight primaryPositionCode primaryPositionName  \\\n0               72     170                   8          Outfielder   \n1               73     219                   3          First Base   \n2               73     190                   1             Pitcher   \n3               70     190                   1             Pitcher   \n4               78     260                   1             Pitcher   \n...            ...     ...                 ...                 ...   \n2056            74     203                   6           Shortstop   \n2057            73     230                   1             Pitcher   \n2058            77     233                   1             Pitcher   \n2059            74     205                   1             Pitcher   \n2060            75     210                   1             Pitcher   \n\n     playerForTestSetAndFuturePreds  \n0                             False  \n1                              True  \n2                              True  \n3                              True  \n4                              True  \n...                             ...  \n2056                           True  \n2057                          False  \n2058                           True  \n2059                           True  \n2060                           True  \n\n[2061 rows x 12 columns]"
         },
         "metadata": {},
         "output_type": "display_data"
        }
       ]
      }
     },
     "4d43e12c041e4abdae52c6c6e3b29636": {
      "model_module": "@jupyter-widgets/controls",
      "model_module_version": "1.5.0",
      "model_name": "TabModel",
      "state": {
       "_dom_classes": [],
       "_model_module": "@jupyter-widgets/controls",
       "_model_module_version": "1.5.0",
       "_model_name": "TabModel",
       "_titles": {
        "0": "seasons",
        "1": "teams",
        "2": "players",
        "3": "awards"
       },
       "_view_count": null,
       "_view_module": "@jupyter-widgets/controls",
       "_view_module_version": "1.5.0",
       "_view_name": "TabView",
       "box_style": "",
       "children": [
        "IPY_MODEL_d2d11d4e95b84f23be5e80ffd8640153",
        "IPY_MODEL_c8ea2ae69d974a4c8d4ffa855461395d",
        "IPY_MODEL_3c20451c83e6429d917e439e18ac67a8",
        "IPY_MODEL_15e489241b074aa2ae55c36edb82cc1a"
       ],
       "layout": "IPY_MODEL_933b2b437fe24a4f86bd52329aad2b78",
       "selected_index": 0
      }
     },
     "933b2b437fe24a4f86bd52329aad2b78": {
      "model_module": "@jupyter-widgets/base",
      "model_module_version": "1.2.0",
      "model_name": "LayoutModel",
      "state": {
       "_model_module": "@jupyter-widgets/base",
       "_model_module_version": "1.2.0",
       "_model_name": "LayoutModel",
       "_view_count": null,
       "_view_module": "@jupyter-widgets/base",
       "_view_module_version": "1.2.0",
       "_view_name": "LayoutView",
       "align_content": null,
       "align_items": null,
       "align_self": null,
       "border": null,
       "bottom": null,
       "display": null,
       "flex": null,
       "flex_flow": null,
       "grid_area": null,
       "grid_auto_columns": null,
       "grid_auto_flow": null,
       "grid_auto_rows": null,
       "grid_column": null,
       "grid_gap": null,
       "grid_row": null,
       "grid_template_areas": null,
       "grid_template_columns": null,
       "grid_template_rows": null,
       "height": null,
       "justify_content": null,
       "justify_items": null,
       "left": null,
       "margin": null,
       "max_height": null,
       "max_width": null,
       "min_height": null,
       "min_width": null,
       "object_fit": null,
       "object_position": null,
       "order": null,
       "overflow": null,
       "overflow_x": null,
       "overflow_y": null,
       "padding": null,
       "right": null,
       "top": null,
       "visibility": null,
       "width": null
      }
     },
     "b05d98534d2943159f49e1e8abe540a1": {
      "model_module": "@jupyter-widgets/base",
      "model_module_version": "1.2.0",
      "model_name": "LayoutModel",
      "state": {
       "_model_module": "@jupyter-widgets/base",
       "_model_module_version": "1.2.0",
       "_model_name": "LayoutModel",
       "_view_count": null,
       "_view_module": "@jupyter-widgets/base",
       "_view_module_version": "1.2.0",
       "_view_name": "LayoutView",
       "align_content": null,
       "align_items": null,
       "align_self": null,
       "border": null,
       "bottom": null,
       "display": null,
       "flex": null,
       "flex_flow": null,
       "grid_area": null,
       "grid_auto_columns": null,
       "grid_auto_flow": null,
       "grid_auto_rows": null,
       "grid_column": null,
       "grid_gap": null,
       "grid_row": null,
       "grid_template_areas": null,
       "grid_template_columns": null,
       "grid_template_rows": null,
       "height": null,
       "justify_content": null,
       "justify_items": null,
       "left": null,
       "margin": null,
       "max_height": null,
       "max_width": null,
       "min_height": null,
       "min_width": null,
       "object_fit": null,
       "object_position": null,
       "order": null,
       "overflow": null,
       "overflow_x": null,
       "overflow_y": null,
       "padding": null,
       "right": null,
       "top": null,
       "visibility": null,
       "width": null
      }
     },
     "baea453dd05e4f45aac24d3ca8b254dc": {
      "model_module": "@jupyter-widgets/base",
      "model_module_version": "1.2.0",
      "model_name": "LayoutModel",
      "state": {
       "_model_module": "@jupyter-widgets/base",
       "_model_module_version": "1.2.0",
       "_model_name": "LayoutModel",
       "_view_count": null,
       "_view_module": "@jupyter-widgets/base",
       "_view_module_version": "1.2.0",
       "_view_name": "LayoutView",
       "align_content": null,
       "align_items": null,
       "align_self": null,
       "border": null,
       "bottom": null,
       "display": null,
       "flex": null,
       "flex_flow": null,
       "grid_area": null,
       "grid_auto_columns": null,
       "grid_auto_flow": null,
       "grid_auto_rows": null,
       "grid_column": null,
       "grid_gap": null,
       "grid_row": null,
       "grid_template_areas": null,
       "grid_template_columns": null,
       "grid_template_rows": null,
       "height": null,
       "justify_content": null,
       "justify_items": null,
       "left": null,
       "margin": null,
       "max_height": null,
       "max_width": null,
       "min_height": null,
       "min_width": null,
       "object_fit": null,
       "object_position": null,
       "order": null,
       "overflow": null,
       "overflow_x": null,
       "overflow_y": null,
       "padding": null,
       "right": null,
       "top": null,
       "visibility": null,
       "width": null
      }
     },
     "c8ea2ae69d974a4c8d4ffa855461395d": {
      "model_module": "@jupyter-widgets/output",
      "model_module_version": "1.0.0",
      "model_name": "OutputModel",
      "state": {
       "_dom_classes": [],
       "_model_module": "@jupyter-widgets/output",
       "_model_module_version": "1.0.0",
       "_model_name": "OutputModel",
       "_view_count": null,
       "_view_module": "@jupyter-widgets/output",
       "_view_module_version": "1.0.0",
       "_view_name": "OutputView",
       "layout": "IPY_MODEL_baea453dd05e4f45aac24d3ca8b254dc",
       "msg_id": "",
       "outputs": [
        {
         "data": {
          "text/html": "<div>\n<style scoped>\n    .dataframe tbody tr th:only-of-type {\n        vertical-align: middle;\n    }\n\n    .dataframe tbody tr th {\n        vertical-align: top;\n    }\n\n    .dataframe thead th {\n        text-align: right;\n    }\n</style>\n<table border=\"1\" class=\"dataframe\">\n  <thead>\n    <tr style=\"text-align: right;\">\n      <th></th>\n      <th>id</th>\n      <th>name</th>\n      <th>teamName</th>\n      <th>teamCode</th>\n      <th>shortName</th>\n      <th>abbreviation</th>\n      <th>locationName</th>\n      <th>leagueId</th>\n      <th>leagueName</th>\n      <th>divisionId</th>\n      <th>divisionName</th>\n      <th>venueId</th>\n      <th>venueName</th>\n    </tr>\n  </thead>\n  <tbody>\n    <tr>\n      <th>0</th>\n      <td>108</td>\n      <td>Los Angeles Angels</td>\n      <td>Angels</td>\n      <td>ana</td>\n      <td>LA Angels</td>\n      <td>LAA</td>\n      <td>Anaheim</td>\n      <td>103</td>\n      <td>American League</td>\n      <td>200</td>\n      <td>American League West</td>\n      <td>1</td>\n      <td>Angel Stadium</td>\n    </tr>\n    <tr>\n      <th>1</th>\n      <td>109</td>\n      <td>Arizona Diamondbacks</td>\n      <td>D-backs</td>\n      <td>ari</td>\n      <td>Arizona</td>\n      <td>ARI</td>\n      <td>Phoenix</td>\n      <td>104</td>\n      <td>National League</td>\n      <td>203</td>\n      <td>National League West</td>\n      <td>15</td>\n      <td>Chase Field</td>\n    </tr>\n    <tr>\n      <th>2</th>\n      <td>110</td>\n      <td>Baltimore Orioles</td>\n      <td>Orioles</td>\n      <td>bal</td>\n      <td>Baltimore</td>\n      <td>BAL</td>\n      <td>Baltimore</td>\n      <td>103</td>\n      <td>American League</td>\n      <td>201</td>\n      <td>American League East</td>\n      <td>2</td>\n      <td>Oriole Park at Camden Yards</td>\n    </tr>\n    <tr>\n      <th>3</th>\n      <td>111</td>\n      <td>Boston Red Sox</td>\n      <td>Red Sox</td>\n      <td>bos</td>\n      <td>Boston</td>\n      <td>BOS</td>\n      <td>Boston</td>\n      <td>103</td>\n      <td>American League</td>\n      <td>201</td>\n      <td>American League East</td>\n      <td>3</td>\n      <td>Fenway Park</td>\n    </tr>\n    <tr>\n      <th>4</th>\n      <td>112</td>\n      <td>Chicago Cubs</td>\n      <td>Cubs</td>\n      <td>chn</td>\n      <td>Chi Cubs</td>\n      <td>CHC</td>\n      <td>Chicago</td>\n      <td>104</td>\n      <td>National League</td>\n      <td>205</td>\n      <td>National League Central</td>\n      <td>17</td>\n      <td>Wrigley Field</td>\n    </tr>\n    <tr>\n      <th>5</th>\n      <td>113</td>\n      <td>Cincinnati Reds</td>\n      <td>Reds</td>\n      <td>cin</td>\n      <td>Cincinnati</td>\n      <td>CIN</td>\n      <td>Cincinnati</td>\n      <td>104</td>\n      <td>National League</td>\n      <td>205</td>\n      <td>National League Central</td>\n      <td>2602</td>\n      <td>Great American Ball Park</td>\n    </tr>\n    <tr>\n      <th>6</th>\n      <td>114</td>\n      <td>Cleveland Indians</td>\n      <td>Indians</td>\n      <td>cle</td>\n      <td>Cleveland</td>\n      <td>CLE</td>\n      <td>Cleveland</td>\n      <td>103</td>\n      <td>American League</td>\n      <td>202</td>\n      <td>American League Central</td>\n      <td>5</td>\n      <td>Progressive Field</td>\n    </tr>\n    <tr>\n      <th>7</th>\n      <td>115</td>\n      <td>Colorado Rockies</td>\n      <td>Rockies</td>\n      <td>col</td>\n      <td>Colorado</td>\n      <td>COL</td>\n      <td>Denver</td>\n      <td>104</td>\n      <td>National League</td>\n      <td>203</td>\n      <td>National League West</td>\n      <td>19</td>\n      <td>Coors Field</td>\n    </tr>\n    <tr>\n      <th>8</th>\n      <td>116</td>\n      <td>Detroit Tigers</td>\n      <td>Tigers</td>\n      <td>det</td>\n      <td>Detroit</td>\n      <td>DET</td>\n      <td>Detroit</td>\n      <td>103</td>\n      <td>American League</td>\n      <td>202</td>\n      <td>American League Central</td>\n      <td>2394</td>\n      <td>Comerica Park</td>\n    </tr>\n    <tr>\n      <th>9</th>\n      <td>117</td>\n      <td>Houston Astros</td>\n      <td>Astros</td>\n      <td>hou</td>\n      <td>Houston</td>\n      <td>HOU</td>\n      <td>Houston</td>\n      <td>103</td>\n      <td>American League</td>\n      <td>200</td>\n      <td>American League West</td>\n      <td>2392</td>\n      <td>Minute Maid Park</td>\n    </tr>\n    <tr>\n      <th>10</th>\n      <td>118</td>\n      <td>Kansas City Royals</td>\n      <td>Royals</td>\n      <td>kca</td>\n      <td>Kansas City</td>\n      <td>KC</td>\n      <td>Kansas City</td>\n      <td>103</td>\n      <td>American League</td>\n      <td>202</td>\n      <td>American League Central</td>\n      <td>7</td>\n      <td>Kauffman Stadium</td>\n    </tr>\n    <tr>\n      <th>11</th>\n      <td>119</td>\n      <td>Los Angeles Dodgers</td>\n      <td>Dodgers</td>\n      <td>lan</td>\n      <td>LA Dodgers</td>\n      <td>LAD</td>\n      <td>Los Angeles</td>\n      <td>104</td>\n      <td>National League</td>\n      <td>203</td>\n      <td>National League West</td>\n      <td>22</td>\n      <td>Dodger Stadium</td>\n    </tr>\n    <tr>\n      <th>12</th>\n      <td>120</td>\n      <td>Washington Nationals</td>\n      <td>Nationals</td>\n      <td>was</td>\n      <td>Washington</td>\n      <td>WSH</td>\n      <td>Washington</td>\n      <td>104</td>\n      <td>National League</td>\n      <td>204</td>\n      <td>National League East</td>\n      <td>3309</td>\n      <td>Nationals Park</td>\n    </tr>\n    <tr>\n      <th>13</th>\n      <td>121</td>\n      <td>New York Mets</td>\n      <td>Mets</td>\n      <td>nyn</td>\n      <td>NY Mets</td>\n      <td>NYM</td>\n      <td>Flushing</td>\n      <td>104</td>\n      <td>National League</td>\n      <td>204</td>\n      <td>National League East</td>\n      <td>3289</td>\n      <td>Citi Field</td>\n    </tr>\n    <tr>\n      <th>14</th>\n      <td>133</td>\n      <td>Oakland Athletics</td>\n      <td>Athletics</td>\n      <td>oak</td>\n      <td>Oakland</td>\n      <td>OAK</td>\n      <td>Oakland</td>\n      <td>103</td>\n      <td>American League</td>\n      <td>200</td>\n      <td>American League West</td>\n      <td>10</td>\n      <td>Oakland Coliseum</td>\n    </tr>\n    <tr>\n      <th>15</th>\n      <td>134</td>\n      <td>Pittsburgh Pirates</td>\n      <td>Pirates</td>\n      <td>pit</td>\n      <td>Pittsburgh</td>\n      <td>PIT</td>\n      <td>Pittsburgh</td>\n      <td>104</td>\n      <td>National League</td>\n      <td>205</td>\n      <td>National League Central</td>\n      <td>31</td>\n      <td>PNC Park</td>\n    </tr>\n    <tr>\n      <th>16</th>\n      <td>135</td>\n      <td>San Diego Padres</td>\n      <td>Padres</td>\n      <td>sdn</td>\n      <td>San Diego</td>\n      <td>SD</td>\n      <td>San Diego</td>\n      <td>104</td>\n      <td>National League</td>\n      <td>203</td>\n      <td>National League West</td>\n      <td>2680</td>\n      <td>Petco Park</td>\n    </tr>\n    <tr>\n      <th>17</th>\n      <td>136</td>\n      <td>Seattle Mariners</td>\n      <td>Mariners</td>\n      <td>sea</td>\n      <td>Seattle</td>\n      <td>SEA</td>\n      <td>Seattle</td>\n      <td>103</td>\n      <td>American League</td>\n      <td>200</td>\n      <td>American League West</td>\n      <td>680</td>\n      <td>T-Mobile Park</td>\n    </tr>\n    <tr>\n      <th>18</th>\n      <td>137</td>\n      <td>San Francisco Giants</td>\n      <td>Giants</td>\n      <td>sfn</td>\n      <td>San Francisco</td>\n      <td>SF</td>\n      <td>San Francisco</td>\n      <td>104</td>\n      <td>National League</td>\n      <td>203</td>\n      <td>National League West</td>\n      <td>2395</td>\n      <td>Oracle Park</td>\n    </tr>\n    <tr>\n      <th>19</th>\n      <td>138</td>\n      <td>St. Louis Cardinals</td>\n      <td>Cardinals</td>\n      <td>sln</td>\n      <td>St. Louis</td>\n      <td>STL</td>\n      <td>St. Louis</td>\n      <td>104</td>\n      <td>National League</td>\n      <td>205</td>\n      <td>National League Central</td>\n      <td>2889</td>\n      <td>Busch Stadium</td>\n    </tr>\n    <tr>\n      <th>20</th>\n      <td>139</td>\n      <td>Tampa Bay Rays</td>\n      <td>Rays</td>\n      <td>tba</td>\n      <td>Tampa Bay</td>\n      <td>TB</td>\n      <td>St. Petersburg</td>\n      <td>103</td>\n      <td>American League</td>\n      <td>201</td>\n      <td>American League East</td>\n      <td>12</td>\n      <td>Tropicana Field</td>\n    </tr>\n    <tr>\n      <th>21</th>\n      <td>140</td>\n      <td>Texas Rangers</td>\n      <td>Rangers</td>\n      <td>tex</td>\n      <td>Texas</td>\n      <td>TEX</td>\n      <td>Arlington</td>\n      <td>103</td>\n      <td>American League</td>\n      <td>200</td>\n      <td>American League West</td>\n      <td>5325</td>\n      <td>Globe Life Field</td>\n    </tr>\n    <tr>\n      <th>22</th>\n      <td>141</td>\n      <td>Toronto Blue Jays</td>\n      <td>Blue Jays</td>\n      <td>tor</td>\n      <td>Toronto</td>\n      <td>TOR</td>\n      <td>Toronto</td>\n      <td>103</td>\n      <td>American League</td>\n      <td>201</td>\n      <td>American League East</td>\n      <td>14</td>\n      <td>Rogers Centre</td>\n    </tr>\n    <tr>\n      <th>23</th>\n      <td>142</td>\n      <td>Minnesota Twins</td>\n      <td>Twins</td>\n      <td>min</td>\n      <td>Minnesota</td>\n      <td>MIN</td>\n      <td>Minneapolis</td>\n      <td>103</td>\n      <td>American League</td>\n      <td>202</td>\n      <td>American League Central</td>\n      <td>3312</td>\n      <td>Target Field</td>\n    </tr>\n    <tr>\n      <th>24</th>\n      <td>143</td>\n      <td>Philadelphia Phillies</td>\n      <td>Phillies</td>\n      <td>phi</td>\n      <td>Philadelphia</td>\n      <td>PHI</td>\n      <td>Philadelphia</td>\n      <td>104</td>\n      <td>National League</td>\n      <td>204</td>\n      <td>National League East</td>\n      <td>2681</td>\n      <td>Citizens Bank Park</td>\n    </tr>\n    <tr>\n      <th>25</th>\n      <td>144</td>\n      <td>Atlanta Braves</td>\n      <td>Braves</td>\n      <td>atl</td>\n      <td>Atlanta</td>\n      <td>ATL</td>\n      <td>Atlanta</td>\n      <td>104</td>\n      <td>National League</td>\n      <td>204</td>\n      <td>National League East</td>\n      <td>4705</td>\n      <td>Truist Park</td>\n    </tr>\n    <tr>\n      <th>26</th>\n      <td>145</td>\n      <td>Chicago White Sox</td>\n      <td>White Sox</td>\n      <td>cha</td>\n      <td>Chi White Sox</td>\n      <td>CWS</td>\n      <td>Chicago</td>\n      <td>103</td>\n      <td>American League</td>\n      <td>202</td>\n      <td>American League Central</td>\n      <td>4</td>\n      <td>Guaranteed Rate Field</td>\n    </tr>\n    <tr>\n      <th>27</th>\n      <td>146</td>\n      <td>Miami Marlins</td>\n      <td>Marlins</td>\n      <td>mia</td>\n      <td>Miami</td>\n      <td>MIA</td>\n      <td>Miami</td>\n      <td>104</td>\n      <td>National League</td>\n      <td>204</td>\n      <td>National League East</td>\n      <td>4169</td>\n      <td>loanDepot park</td>\n    </tr>\n    <tr>\n      <th>28</th>\n      <td>147</td>\n      <td>New York Yankees</td>\n      <td>Yankees</td>\n      <td>nya</td>\n      <td>NY Yankees</td>\n      <td>NYY</td>\n      <td>Bronx</td>\n      <td>103</td>\n      <td>American League</td>\n      <td>201</td>\n      <td>American League East</td>\n      <td>3313</td>\n      <td>Yankee Stadium</td>\n    </tr>\n    <tr>\n      <th>29</th>\n      <td>158</td>\n      <td>Milwaukee Brewers</td>\n      <td>Brewers</td>\n      <td>mil</td>\n      <td>Milwaukee</td>\n      <td>MIL</td>\n      <td>Milwaukee</td>\n      <td>104</td>\n      <td>National League</td>\n      <td>205</td>\n      <td>National League Central</td>\n      <td>32</td>\n      <td>American Family Field</td>\n    </tr>\n  </tbody>\n</table>\n</div>",
          "text/plain": "     id                   name   teamName teamCode      shortName  \\\n0   108     Los Angeles Angels     Angels      ana      LA Angels   \n1   109   Arizona Diamondbacks    D-backs      ari        Arizona   \n2   110      Baltimore Orioles    Orioles      bal      Baltimore   \n3   111         Boston Red Sox    Red Sox      bos         Boston   \n4   112           Chicago Cubs       Cubs      chn       Chi Cubs   \n5   113        Cincinnati Reds       Reds      cin     Cincinnati   \n6   114      Cleveland Indians    Indians      cle      Cleveland   \n7   115       Colorado Rockies    Rockies      col       Colorado   \n8   116         Detroit Tigers     Tigers      det        Detroit   \n9   117         Houston Astros     Astros      hou        Houston   \n10  118     Kansas City Royals     Royals      kca    Kansas City   \n11  119    Los Angeles Dodgers    Dodgers      lan     LA Dodgers   \n12  120   Washington Nationals  Nationals      was     Washington   \n13  121          New York Mets       Mets      nyn        NY Mets   \n14  133      Oakland Athletics  Athletics      oak        Oakland   \n15  134     Pittsburgh Pirates    Pirates      pit     Pittsburgh   \n16  135       San Diego Padres     Padres      sdn      San Diego   \n17  136       Seattle Mariners   Mariners      sea        Seattle   \n18  137   San Francisco Giants     Giants      sfn  San Francisco   \n19  138    St. Louis Cardinals  Cardinals      sln      St. Louis   \n20  139         Tampa Bay Rays       Rays      tba      Tampa Bay   \n21  140          Texas Rangers    Rangers      tex          Texas   \n22  141      Toronto Blue Jays  Blue Jays      tor        Toronto   \n23  142        Minnesota Twins      Twins      min      Minnesota   \n24  143  Philadelphia Phillies   Phillies      phi   Philadelphia   \n25  144         Atlanta Braves     Braves      atl        Atlanta   \n26  145      Chicago White Sox  White Sox      cha  Chi White Sox   \n27  146          Miami Marlins    Marlins      mia          Miami   \n28  147       New York Yankees    Yankees      nya     NY Yankees   \n29  158      Milwaukee Brewers    Brewers      mil      Milwaukee   \n\n   abbreviation    locationName  leagueId       leagueName  divisionId  \\\n0           LAA         Anaheim       103  American League         200   \n1           ARI         Phoenix       104  National League         203   \n2           BAL       Baltimore       103  American League         201   \n3           BOS          Boston       103  American League         201   \n4           CHC         Chicago       104  National League         205   \n5           CIN      Cincinnati       104  National League         205   \n6           CLE       Cleveland       103  American League         202   \n7           COL          Denver       104  National League         203   \n8           DET         Detroit       103  American League         202   \n9           HOU         Houston       103  American League         200   \n10           KC     Kansas City       103  American League         202   \n11          LAD     Los Angeles       104  National League         203   \n12          WSH      Washington       104  National League         204   \n13          NYM        Flushing       104  National League         204   \n14          OAK         Oakland       103  American League         200   \n15          PIT      Pittsburgh       104  National League         205   \n16           SD       San Diego       104  National League         203   \n17          SEA         Seattle       103  American League         200   \n18           SF   San Francisco       104  National League         203   \n19          STL       St. Louis       104  National League         205   \n20           TB  St. Petersburg       103  American League         201   \n21          TEX       Arlington       103  American League         200   \n22          TOR         Toronto       103  American League         201   \n23          MIN     Minneapolis       103  American League         202   \n24          PHI    Philadelphia       104  National League         204   \n25          ATL         Atlanta       104  National League         204   \n26          CWS         Chicago       103  American League         202   \n27          MIA           Miami       104  National League         204   \n28          NYY           Bronx       103  American League         201   \n29          MIL       Milwaukee       104  National League         205   \n\n               divisionName  venueId                    venueName  \n0      American League West        1                Angel Stadium  \n1      National League West       15                  Chase Field  \n2      American League East        2  Oriole Park at Camden Yards  \n3      American League East        3                  Fenway Park  \n4   National League Central       17                Wrigley Field  \n5   National League Central     2602     Great American Ball Park  \n6   American League Central        5            Progressive Field  \n7      National League West       19                  Coors Field  \n8   American League Central     2394                Comerica Park  \n9      American League West     2392             Minute Maid Park  \n10  American League Central        7             Kauffman Stadium  \n11     National League West       22               Dodger Stadium  \n12     National League East     3309               Nationals Park  \n13     National League East     3289                   Citi Field  \n14     American League West       10             Oakland Coliseum  \n15  National League Central       31                     PNC Park  \n16     National League West     2680                   Petco Park  \n17     American League West      680                T-Mobile Park  \n18     National League West     2395                  Oracle Park  \n19  National League Central     2889                Busch Stadium  \n20     American League East       12              Tropicana Field  \n21     American League West     5325             Globe Life Field  \n22     American League East       14                Rogers Centre  \n23  American League Central     3312                 Target Field  \n24     National League East     2681           Citizens Bank Park  \n25     National League East     4705                  Truist Park  \n26  American League Central        4        Guaranteed Rate Field  \n27     National League East     4169               loanDepot park  \n28     American League East     3313               Yankee Stadium  \n29  National League Central       32        American Family Field  "
         },
         "metadata": {},
         "output_type": "display_data"
        }
       ]
      }
     },
     "d2d11d4e95b84f23be5e80ffd8640153": {
      "model_module": "@jupyter-widgets/output",
      "model_module_version": "1.0.0",
      "model_name": "OutputModel",
      "state": {
       "_dom_classes": [],
       "_model_module": "@jupyter-widgets/output",
       "_model_module_version": "1.0.0",
       "_model_name": "OutputModel",
       "_view_count": null,
       "_view_module": "@jupyter-widgets/output",
       "_view_module_version": "1.0.0",
       "_view_name": "OutputView",
       "layout": "IPY_MODEL_12a0c4937b7249bc89af14140209372e",
       "msg_id": "",
       "outputs": [
        {
         "data": {
          "text/html": "<div>\n<style scoped>\n    .dataframe tbody tr th:only-of-type {\n        vertical-align: middle;\n    }\n\n    .dataframe tbody tr th {\n        vertical-align: top;\n    }\n\n    .dataframe thead th {\n        text-align: right;\n    }\n</style>\n<table border=\"1\" class=\"dataframe\">\n  <thead>\n    <tr style=\"text-align: right;\">\n      <th></th>\n      <th>seasonId</th>\n      <th>seasonStartDate</th>\n      <th>seasonEndDate</th>\n      <th>preSeasonStartDate</th>\n      <th>preSeasonEndDate</th>\n      <th>regularSeasonStartDate</th>\n      <th>regularSeasonEndDate</th>\n      <th>lastDate1stHalf</th>\n      <th>allStarDate</th>\n      <th>firstDate2ndHalf</th>\n      <th>postSeasonStartDate</th>\n      <th>postSeasonEndDate</th>\n    </tr>\n  </thead>\n  <tbody>\n    <tr>\n      <th>0</th>\n      <td>2017</td>\n      <td>2017-04-02</td>\n      <td>2017-11-01</td>\n      <td>2017-02-22</td>\n      <td>2017-04-01</td>\n      <td>2017-04-02</td>\n      <td>2017-10-01</td>\n      <td>2017-07-09</td>\n      <td>2017-07-11</td>\n      <td>2017-07-14</td>\n      <td>2017-10-03</td>\n      <td>2017-11-01</td>\n    </tr>\n    <tr>\n      <th>1</th>\n      <td>2018</td>\n      <td>2018-03-29</td>\n      <td>2018-10-28</td>\n      <td>2018-02-21</td>\n      <td>2018-03-27</td>\n      <td>2018-03-29</td>\n      <td>2018-10-01</td>\n      <td>2018-07-15</td>\n      <td>2018-07-17</td>\n      <td>2018-07-19</td>\n      <td>2018-10-02</td>\n      <td>2018-10-28</td>\n    </tr>\n    <tr>\n      <th>2</th>\n      <td>2019</td>\n      <td>2019-03-20</td>\n      <td>2019-10-30</td>\n      <td>2019-02-21</td>\n      <td>2019-03-26</td>\n      <td>2019-03-20</td>\n      <td>2019-09-29</td>\n      <td>2019-07-07</td>\n      <td>2019-07-09</td>\n      <td>2019-07-11</td>\n      <td>2019-10-01</td>\n      <td>2019-10-30</td>\n    </tr>\n    <tr>\n      <th>3</th>\n      <td>2020</td>\n      <td>2020-07-23</td>\n      <td>2020-10-28</td>\n      <td>2020-02-21</td>\n      <td>2020-07-22</td>\n      <td>2020-07-23</td>\n      <td>2020-09-27</td>\n      <td>2020-08-25</td>\n      <td>NaN</td>\n      <td>2020-08-26</td>\n      <td>2020-09-29</td>\n      <td>2020-10-28</td>\n    </tr>\n    <tr>\n      <th>4</th>\n      <td>2021</td>\n      <td>2021-02-28</td>\n      <td>2021-10-31</td>\n      <td>2021-02-28</td>\n      <td>2021-03-30</td>\n      <td>2021-04-01</td>\n      <td>2021-10-03</td>\n      <td>2021-07-11</td>\n      <td>2021-07-13</td>\n      <td>2021-07-15</td>\n      <td>2021-10-04</td>\n      <td>2021-10-31</td>\n    </tr>\n  </tbody>\n</table>\n</div>",
          "text/plain": "   seasonId seasonStartDate seasonEndDate preSeasonStartDate preSeasonEndDate  \\\n0      2017      2017-04-02    2017-11-01         2017-02-22       2017-04-01   \n1      2018      2018-03-29    2018-10-28         2018-02-21       2018-03-27   \n2      2019      2019-03-20    2019-10-30         2019-02-21       2019-03-26   \n3      2020      2020-07-23    2020-10-28         2020-02-21       2020-07-22   \n4      2021      2021-02-28    2021-10-31         2021-02-28       2021-03-30   \n\n  regularSeasonStartDate regularSeasonEndDate lastDate1stHalf allStarDate  \\\n0             2017-04-02           2017-10-01      2017-07-09  2017-07-11   \n1             2018-03-29           2018-10-01      2018-07-15  2018-07-17   \n2             2019-03-20           2019-09-29      2019-07-07  2019-07-09   \n3             2020-07-23           2020-09-27      2020-08-25         NaN   \n4             2021-04-01           2021-10-03      2021-07-11  2021-07-13   \n\n  firstDate2ndHalf postSeasonStartDate postSeasonEndDate  \n0       2017-07-14          2017-10-03        2017-11-01  \n1       2018-07-19          2018-10-02        2018-10-28  \n2       2019-07-11          2019-10-01        2019-10-30  \n3       2020-08-26          2020-09-29        2020-10-28  \n4       2021-07-15          2021-10-04        2021-10-31  "
         },
         "metadata": {},
         "output_type": "display_data"
        }
       ]
      }
     },
     "febf2a941fd54534a960cb1369796522": {
      "model_module": "@jupyter-widgets/base",
      "model_module_version": "1.2.0",
      "model_name": "LayoutModel",
      "state": {
       "_model_module": "@jupyter-widgets/base",
       "_model_module_version": "1.2.0",
       "_model_name": "LayoutModel",
       "_view_count": null,
       "_view_module": "@jupyter-widgets/base",
       "_view_module_version": "1.2.0",
       "_view_name": "LayoutView",
       "align_content": null,
       "align_items": null,
       "align_self": null,
       "border": null,
       "bottom": null,
       "display": null,
       "flex": null,
       "flex_flow": null,
       "grid_area": null,
       "grid_auto_columns": null,
       "grid_auto_flow": null,
       "grid_auto_rows": null,
       "grid_column": null,
       "grid_gap": null,
       "grid_row": null,
       "grid_template_areas": null,
       "grid_template_columns": null,
       "grid_template_rows": null,
       "height": null,
       "justify_content": null,
       "justify_items": null,
       "left": null,
       "margin": null,
       "max_height": null,
       "max_width": null,
       "min_height": null,
       "min_width": null,
       "object_fit": null,
       "object_position": null,
       "order": null,
       "overflow": null,
       "overflow_x": null,
       "overflow_y": null,
       "padding": null,
       "right": null,
       "top": null,
       "visibility": null,
       "width": null
      }
     }
    },
    "version_major": 2,
    "version_minor": 0
   }
  }
 },
 "nbformat": 4,
 "nbformat_minor": 5
}
