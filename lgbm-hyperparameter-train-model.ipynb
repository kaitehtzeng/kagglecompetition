{
 "cells": [
  {
   "cell_type": "markdown",
   "id": "durable-equilibrium",
   "metadata": {
    "execution": {
     "iopub.execute_input": "2021-06-08T23:38:55.536369Z",
     "iopub.status.busy": "2021-06-08T23:38:55.536027Z",
     "iopub.status.idle": "2021-06-08T23:38:55.540097Z",
     "shell.execute_reply": "2021-06-08T23:38:55.53902Z",
     "shell.execute_reply.started": "2021-06-08T23:38:55.536341Z"
    },
    "papermill": {
     "duration": 0.032357,
     "end_time": "2022-01-01T17:11:38.617161",
     "exception": false,
     "start_time": "2022-01-01T17:11:38.584804",
     "status": "completed"
    },
    "tags": []
   },
   "source": [
    "# MLB Player Digital Engagement Forecasting Part 2\n"
   ]
  },
  {
   "cell_type": "markdown",
   "id": "equal-orleans",
   "metadata": {
    "papermill": {
     "duration": 0.027968,
     "end_time": "2022-01-01T17:11:38.675064",
     "exception": false,
     "start_time": "2022-01-01T17:11:38.647096",
     "status": "completed"
    },
    "tags": []
   },
   "source": [
    "This is *MLB Digital Engagement Forecasting* competition held by Kaggle. This notebook will:\n",
    "- load and join the data,\n",
    "- create a feature set,\n",
    "- tune hyperparameter,\n",
    "- trained model.\n",
    "\n",
    "\n",
    "\n"
   ]
  },
  {
   "cell_type": "code",
   "execution_count": 1,
   "id": "informed-receipt",
   "metadata": {
    "_cell_guid": "b1076dfc-b9ad-4769-8c92-a6c4dae69d19",
    "_kg_hide-input": true,
    "_uuid": "8f2839f25d086af736a60e9eeb907d3b93b6e0e5",
    "execution": {
     "iopub.execute_input": "2022-01-01T17:11:38.745112Z",
     "iopub.status.busy": "2022-01-01T17:11:38.744415Z",
     "iopub.status.idle": "2022-01-01T17:11:47.323318Z",
     "shell.execute_reply": "2022-01-01T17:11:47.322484Z",
     "shell.execute_reply.started": "2022-01-01T01:16:34.40376Z"
    },
    "papermill": {
     "duration": 8.619889,
     "end_time": "2022-01-01T17:11:47.323526",
     "exception": false,
     "start_time": "2022-01-01T17:11:38.703637",
     "status": "completed"
    },
    "tags": []
   },
   "outputs": [
    {
     "data": {
      "text/html": [
       "<style type='text/css'>\n",
       ".datatable table.frame { margin-bottom: 0; }\n",
       ".datatable table.frame thead { border-bottom: none; }\n",
       ".datatable table.frame tr.coltypes td {  color: #FFFFFF;  line-height: 6px;  padding: 0 0.5em;}\n",
       ".datatable .bool    { background: #DDDD99; }\n",
       ".datatable .object  { background: #565656; }\n",
       ".datatable .int     { background: #5D9E5D; }\n",
       ".datatable .float   { background: #4040CC; }\n",
       ".datatable .str     { background: #CC4040; }\n",
       ".datatable .row_index {  background: var(--jp-border-color3);  border-right: 1px solid var(--jp-border-color0);  color: var(--jp-ui-font-color3);  font-size: 9px;}\n",
       ".datatable .frame tr.coltypes .row_index {  background: var(--jp-border-color0);}\n",
       ".datatable th:nth-child(2) { padding-left: 12px; }\n",
       ".datatable .hellipsis {  color: var(--jp-cell-editor-border-color);}\n",
       ".datatable .vellipsis {  background: var(--jp-layout-color0);  color: var(--jp-cell-editor-border-color);}\n",
       ".datatable .na {  color: var(--jp-cell-editor-border-color);  font-size: 80%;}\n",
       ".datatable .footer { font-size: 9px; }\n",
       ".datatable .frame_dimensions {  background: var(--jp-border-color3);  border-top: 1px solid var(--jp-border-color0);  color: var(--jp-ui-font-color3);  display: inline-block;  opacity: 0.6;  padding: 1px 10px 1px 5px;}\n",
       "</style>\n"
      ],
      "text/plain": [
       "<IPython.core.display.HTML object>"
      ]
     },
     "metadata": {},
     "output_type": "display_data"
    }
   ],
   "source": [
    "import gc\n",
    "import sys\n",
    "import warnings\n",
    "from joblib import Parallel, delayed\n",
    "from pathlib import Path\n",
    "from optuna.samplers import TPESampler\n",
    "import multiprocessing\n",
    "import optuna\n",
    "from sklearn.model_selection import train_test_split\n",
    "from sklearn.metrics import mean_absolute_error\n",
    "from sklearn.utils import resample\n",
    "import lightgbm as lgb\n",
    "from sklearn.metrics import accuracy_score\n",
    "import ipywidgets as widgets\n",
    "import matplotlib.pyplot as plt\n",
    "import numpy as np\n",
    "import pandas as pd\n",
    "import seaborn as sns\n",
    "from sklearn.model_selection import train_test_split\n",
    "from statsmodels.tsa.deterministic import (CalendarFourier,\n",
    "                                           CalendarSeasonality,\n",
    "                                           CalendarTimeTrend,\n",
    "                                           DeterministicProcess)\n",
    "\n",
    "import tensorflow as tf\n",
    "from tensorflow import keras\n",
    "from tensorflow.keras import layers\n",
    "from keras.layers.experimental.preprocessing import StringLookup\n",
    "from lightgbm import  LGBMRegressor\n",
    "warnings.simplefilter(\"ignore\")\n",
    "\n",
    "# Set Matplotlib defaults\n",
    "plt.style.use(\"seaborn-whitegrid\")\n",
    "plt.rc(\"figure\", autolayout=True, figsize=(11, 5))\n",
    "plt.rc(\n",
    "    \"axes\",\n",
    "    labelweight=\"bold\",\n",
    "    labelsize=\"large\",\n",
    "    titleweight=\"bold\",\n",
    "    titlesize=14,\n",
    "    titlepad=10,\n",
    ")\n",
    "plot_params = dict(\n",
    "    color=\"0.75\",\n",
    "    style=\".-\",\n",
    "    markeredgecolor=\"0.25\",\n",
    "    markerfacecolor=\"0.25\",\n",
    "    legend=False,\n",
    ")"
   ]
  },
  {
   "cell_type": "markdown",
   "id": "identical-partition",
   "metadata": {
    "papermill": {
     "duration": 0.029691,
     "end_time": "2022-01-01T17:11:47.383604",
     "exception": false,
     "start_time": "2022-01-01T17:11:47.353913",
     "status": "completed"
    },
    "tags": []
   },
   "source": [
    "# 1. Create Training Data #"
   ]
  },
  {
   "cell_type": "markdown",
   "id": "irish-establishment",
   "metadata": {
    "papermill": {
     "duration": 0.032883,
     "end_time": "2022-01-01T17:11:47.450203",
     "exception": false,
     "start_time": "2022-01-01T17:11:47.417320",
     "status": "completed"
    },
    "tags": []
   },
   "source": [
    "### Read and extract dataframes"
   ]
  },
  {
   "cell_type": "code",
   "execution_count": 2,
   "id": "technical-atmosphere",
   "metadata": {
    "_kg_hide-input": true,
    "execution": {
     "iopub.execute_input": "2022-01-01T17:11:47.510885Z",
     "iopub.status.busy": "2022-01-01T17:11:47.510230Z",
     "iopub.status.idle": "2022-01-01T17:11:47.516071Z",
     "shell.execute_reply": "2022-01-01T17:11:47.516587Z",
     "shell.execute_reply.started": "2022-01-01T01:09:30.849052Z"
    },
    "papermill": {
     "duration": 0.038087,
     "end_time": "2022-01-01T17:11:47.516772",
     "exception": false,
     "start_time": "2022-01-01T17:11:47.478685",
     "status": "completed"
    },
    "tags": []
   },
   "outputs": [],
   "source": [
    "# Helper function to unpack json found in daily data\n",
    "def unpack_json(json_str):\n",
    "    return pd.DataFrame() if pd.isna(json_str) else pd.read_json(json_str)\n",
    "\n",
    "\n",
    "def unpack_data(data, dfs=None, n_jobs=-1):\n",
    "    if dfs is not None:\n",
    "        data = data.loc[:, dfs]\n",
    "    unnested_dfs = {}\n",
    "    for name, column in data.iteritems():\n",
    "        daily_dfs = Parallel(n_jobs=n_jobs)(\n",
    "            delayed(unpack_json)(item) for date, item in column.iteritems())\n",
    "        df = pd.concat(daily_dfs)\n",
    "        unnested_dfs[name] = df\n",
    "    return unnested_dfs"
   ]
  },
  {
   "cell_type": "markdown",
   "id": "controlling-basement",
   "metadata": {
    "papermill": {
     "duration": 0.028842,
     "end_time": "2022-01-01T17:11:47.574974",
     "exception": false,
     "start_time": "2022-01-01T17:11:47.546132",
     "status": "completed"
    },
    "tags": []
   },
   "source": [
    "We use features from following tables: seasons,teams,players,and awards"
   ]
  },
  {
   "cell_type": "code",
   "execution_count": 3,
   "id": "color-minneapolis",
   "metadata": {
    "_kg_hide-input": true,
    "execution": {
     "iopub.execute_input": "2022-01-01T17:11:47.639663Z",
     "iopub.status.busy": "2022-01-01T17:11:47.639024Z",
     "iopub.status.idle": "2022-01-01T17:11:47.865078Z",
     "shell.execute_reply": "2022-01-01T17:11:47.864557Z",
     "shell.execute_reply.started": "2022-01-01T01:09:30.862921Z"
    },
    "papermill": {
     "duration": 0.259671,
     "end_time": "2022-01-01T17:11:47.865229",
     "exception": false,
     "start_time": "2022-01-01T17:11:47.605558",
     "status": "completed"
    },
    "tags": []
   },
   "outputs": [
    {
     "data": {
      "application/vnd.jupyter.widget-view+json": {
       "model_id": "21c1d7612a564c489b2e75212a7fb011",
       "version_major": 2,
       "version_minor": 0
      },
      "text/plain": [
       "Tab(children=(Output(), Output(), Output(), Output()), _titles={'0': 'seasons', '1': 'teams', '2': 'players', …"
      ]
     },
     "metadata": {},
     "output_type": "display_data"
    }
   ],
   "source": [
    "data_dir = Path('../input/mlb-player-digital-engagement-forecasting/')\n",
    "\n",
    "df_names = ['seasons', 'teams', 'players', 'awards']\n",
    "\n",
    "for name in df_names:\n",
    "    globals()[name] = pd.read_csv(data_dir / f\"{name}.csv\")\n",
    "\n",
    "kaggle_data_tabs = widgets.Tab()\n",
    "# Add Output widgets for each pandas DF as tabs' children\n",
    "kaggle_data_tabs.children = list([widgets.Output() for df_name in df_names])\n",
    "\n",
    "for index in range(0, len(df_names)):\n",
    "    # Rename tab bar titles to df names\n",
    "    kaggle_data_tabs.set_title(index, df_names[index])\n",
    "    \n",
    "    # Display corresponding table output for this tab name\n",
    "    with kaggle_data_tabs.children[index]:\n",
    "        display(eval(df_names[index]))\n",
    "\n",
    "display(kaggle_data_tabs)\n",
    "del teams"
   ]
  },
  {
   "cell_type": "markdown",
   "id": "improving-liberty",
   "metadata": {
    "papermill": {
     "duration": 0.028922,
     "end_time": "2022-01-01T17:11:47.926491",
     "exception": false,
     "start_time": "2022-01-01T17:11:47.897569",
     "status": "completed"
    },
    "tags": []
   },
   "source": [
    "### Players tables(Library containing high level information about all MLB players in this dataset):\n",
    "Creating dummies for players birthcountry. Features used in the model:birthyear, birthcountry, and primary position code"
   ]
  },
  {
   "cell_type": "code",
   "execution_count": 4,
   "id": "interior-morris",
   "metadata": {
    "execution": {
     "iopub.execute_input": "2022-01-01T17:11:47.996218Z",
     "iopub.status.busy": "2022-01-01T17:11:47.993153Z",
     "iopub.status.idle": "2022-01-01T17:11:48.116718Z",
     "shell.execute_reply": "2022-01-01T17:11:48.117240Z",
     "shell.execute_reply.started": "2022-01-01T01:09:31.092191Z"
    },
    "papermill": {
     "duration": 0.161889,
     "end_time": "2022-01-01T17:11:48.117463",
     "exception": false,
     "start_time": "2022-01-01T17:11:47.955574",
     "status": "completed"
    },
    "tags": []
   },
   "outputs": [],
   "source": [
    "players_1=players[players['playerForTestSetAndFuturePreds']==True].copy()\n",
    "players_1.loc[players_1['playerForTestSetAndFuturePreds']==True,\"birthCountry\"].unique()\n",
    "players_1.loc[(players_1['birthCountry']=='Taiwan')|(players_1['birthCountry']=='South Korea')|(players_1['birthCountry']=='Japan')|(players_1['birthCountry']==\"China\"),\"birthCountry\"]=\"Asia\"\n",
    "players_1.loc[(players_1['birthCountry']=='Germany')|(players_1['birthCountry']=='Netherlands'),'birthCountry']='Europe'\n",
    "players_1.loc[(players_1['birthCountry']!='USA')&(players_1['birthCountry']!='Europe')&(players_1['birthCountry']!='Asia'),'birthCountry']='America'\n",
    "players_1=players_1[['playerId','birthCountry','DOB','heightInches','weight','primaryPositionCode']]\n",
    "players_1=pd.get_dummies(players_1,columns=['birthCountry','primaryPositionCode'])\n",
    "players_1['DOB'] = pd.PeriodIndex(players_1.DOB, freq='D')\n",
    "players_1['birthyear']=players_1.DOB.dt.year\n",
    "players_1.drop('DOB',axis=1,inplace=True)"
   ]
  },
  {
   "cell_type": "markdown",
   "id": "closed-spider",
   "metadata": {
    "papermill": {
     "duration": 0.028945,
     "end_time": "2022-01-01T17:11:48.176432",
     "exception": false,
     "start_time": "2022-01-01T17:11:48.147487",
     "status": "completed"
    },
    "tags": []
   },
   "source": [
    "The training data is a time-indexed collection of nested JSON fields containing information about each player. Our target is the `nextDayPlayerEngagement` column, while the remaining columns could be used to construct features."
   ]
  },
  {
   "cell_type": "code",
   "execution_count": 5,
   "id": "starting-biodiversity",
   "metadata": {
    "_kg_hide-input": false,
    "execution": {
     "iopub.execute_input": "2022-01-01T17:11:48.242554Z",
     "iopub.status.busy": "2022-01-01T17:11:48.241859Z",
     "iopub.status.idle": "2022-01-01T17:12:48.404225Z",
     "shell.execute_reply": "2022-01-01T17:12:48.404831Z",
     "shell.execute_reply.started": "2022-01-01T01:09:31.248125Z"
    },
    "papermill": {
     "duration": 60.198174,
     "end_time": "2022-01-01T17:12:48.405105",
     "exception": false,
     "start_time": "2022-01-01T17:11:48.206931",
     "status": "completed"
    },
    "tags": []
   },
   "outputs": [
    {
     "name": "stdout",
     "output_type": "stream",
     "text": [
      "<class 'pandas.core.frame.DataFrame'>\n",
      "PeriodIndex: 1216 entries, 2018-01-01 to 2021-04-30\n",
      "Freq: D\n",
      "Data columns (total 8 columns):\n",
      " #   Column                   Non-Null Count  Dtype \n",
      "---  ------                   --------------  ----- \n",
      " 0   nextDayPlayerEngagement  1216 non-null   object\n",
      " 1   games                    639 non-null    object\n",
      " 2   rosters                  1216 non-null   object\n",
      " 3   playerBoxScores          538 non-null    object\n",
      " 4   transactions             1103 non-null   object\n",
      " 5   standings                531 non-null    object\n",
      " 6   awards                   294 non-null    object\n",
      " 7   playerTwitterFollowers   40 non-null     object\n",
      "dtypes: object(8)\n",
      "memory usage: 85.5+ KB\n",
      "None\n",
      "CPU times: user 19.2 s, sys: 6.97 s, total: 26.2 s\n",
      "Wall time: 1min\n"
     ]
    }
   ],
   "source": [
    "%%time\n",
    "# Define dataframes to load from training set\n",
    "dfs = [\n",
    "    'nextDayPlayerEngagement',  # targets\n",
    "    'playerBoxScores',  # features\n",
    "    # Other dataframes available for features:\n",
    "    'games',\n",
    "    'rosters',\n",
    "    #'teamBoxScores',\n",
    "    'transactions',\n",
    "    'standings',\n",
    "    'awards',\n",
    "    # 'events',\n",
    "    'playerTwitterFollowers',\n",
    "]\n",
    "\n",
    "# Read training data\n",
    "training = pd.read_csv(\n",
    "    data_dir / 'train.csv',\n",
    "    usecols=['date'] + dfs,\n",
    ")\n",
    "\n",
    "# Convert training data date field to datetime type\n",
    "training['date'] = pd.to_datetime(training['date'], format=\"%Y%m%d\")\n",
    "training = training.set_index('date').to_period('D')\n",
    "print(training.info())"
   ]
  },
  {
   "cell_type": "markdown",
   "id": "viral-automation",
   "metadata": {
    "papermill": {
     "duration": 0.033538,
     "end_time": "2022-01-01T17:12:48.472125",
     "exception": false,
     "start_time": "2022-01-01T17:12:48.438587",
     "status": "completed"
    },
    "tags": []
   },
   "source": [
    "### Quick overview of the training table"
   ]
  },
  {
   "cell_type": "code",
   "execution_count": 6,
   "id": "relative-panic",
   "metadata": {
    "execution": {
     "iopub.execute_input": "2022-01-01T17:12:48.543998Z",
     "iopub.status.busy": "2022-01-01T17:12:48.542984Z",
     "iopub.status.idle": "2022-01-01T17:12:48.575057Z",
     "shell.execute_reply": "2022-01-01T17:12:48.575664Z",
     "shell.execute_reply.started": "2022-01-01T01:10:31.593893Z"
    },
    "papermill": {
     "duration": 0.069973,
     "end_time": "2022-01-01T17:12:48.575835",
     "exception": false,
     "start_time": "2022-01-01T17:12:48.505862",
     "status": "completed"
    },
    "tags": []
   },
   "outputs": [
    {
     "data": {
      "text/html": [
       "<div>\n",
       "<style scoped>\n",
       "    .dataframe tbody tr th:only-of-type {\n",
       "        vertical-align: middle;\n",
       "    }\n",
       "\n",
       "    .dataframe tbody tr th {\n",
       "        vertical-align: top;\n",
       "    }\n",
       "\n",
       "    .dataframe thead th {\n",
       "        text-align: right;\n",
       "    }\n",
       "</style>\n",
       "<table border=\"1\" class=\"dataframe\">\n",
       "  <thead>\n",
       "    <tr style=\"text-align: right;\">\n",
       "      <th></th>\n",
       "      <th>nextDayPlayerEngagement</th>\n",
       "      <th>games</th>\n",
       "      <th>rosters</th>\n",
       "      <th>playerBoxScores</th>\n",
       "      <th>transactions</th>\n",
       "      <th>standings</th>\n",
       "      <th>awards</th>\n",
       "      <th>playerTwitterFollowers</th>\n",
       "    </tr>\n",
       "    <tr>\n",
       "      <th>date</th>\n",
       "      <th></th>\n",
       "      <th></th>\n",
       "      <th></th>\n",
       "      <th></th>\n",
       "      <th></th>\n",
       "      <th></th>\n",
       "      <th></th>\n",
       "      <th></th>\n",
       "    </tr>\n",
       "  </thead>\n",
       "  <tbody>\n",
       "    <tr>\n",
       "      <th>2018-01-01</th>\n",
       "      <td>[{\"engagementMetricsDate\":\"2018-01-02\",\"player...</td>\n",
       "      <td>NaN</td>\n",
       "      <td>[{\"playerId\":400121,\"gameDate\":\"2018-01-01\",\"t...</td>\n",
       "      <td>NaN</td>\n",
       "      <td>[{\"transactionId\":340732,\"playerId\":547348,\"pl...</td>\n",
       "      <td>NaN</td>\n",
       "      <td>NaN</td>\n",
       "      <td>[{\"date\":\"2018-01-01\",\"playerId\":545361,\"playe...</td>\n",
       "    </tr>\n",
       "    <tr>\n",
       "      <th>2018-01-02</th>\n",
       "      <td>[{\"engagementMetricsDate\":\"2018-01-03\",\"player...</td>\n",
       "      <td>NaN</td>\n",
       "      <td>[{\"playerId\":134181,\"gameDate\":\"2018-01-02\",\"t...</td>\n",
       "      <td>NaN</td>\n",
       "      <td>[{\"transactionId\":339458,\"playerId\":621173,\"pl...</td>\n",
       "      <td>NaN</td>\n",
       "      <td>NaN</td>\n",
       "      <td>NaN</td>\n",
       "    </tr>\n",
       "    <tr>\n",
       "      <th>2018-01-03</th>\n",
       "      <td>[{\"engagementMetricsDate\":\"2018-01-04\",\"player...</td>\n",
       "      <td>NaN</td>\n",
       "      <td>[{\"playerId\":425492,\"gameDate\":\"2018-01-03\",\"t...</td>\n",
       "      <td>NaN</td>\n",
       "      <td>[{\"transactionId\":347527,\"playerId\":572389,\"pl...</td>\n",
       "      <td>NaN</td>\n",
       "      <td>NaN</td>\n",
       "      <td>NaN</td>\n",
       "    </tr>\n",
       "    <tr>\n",
       "      <th>2018-01-04</th>\n",
       "      <td>[{\"engagementMetricsDate\":\"2018-01-05\",\"player...</td>\n",
       "      <td>NaN</td>\n",
       "      <td>[{\"playerId\":282332,\"gameDate\":\"2018-01-04\",\"t...</td>\n",
       "      <td>NaN</td>\n",
       "      <td>[{\"transactionId\":339549,\"playerId\":545343,\"pl...</td>\n",
       "      <td>NaN</td>\n",
       "      <td>NaN</td>\n",
       "      <td>NaN</td>\n",
       "    </tr>\n",
       "    <tr>\n",
       "      <th>2018-01-05</th>\n",
       "      <td>[{\"engagementMetricsDate\":\"2018-01-06\",\"player...</td>\n",
       "      <td>NaN</td>\n",
       "      <td>[{\"playerId\":282332,\"gameDate\":\"2018-01-05\",\"t...</td>\n",
       "      <td>NaN</td>\n",
       "      <td>[{\"transactionId\":341195,\"playerId\":628336,\"pl...</td>\n",
       "      <td>NaN</td>\n",
       "      <td>NaN</td>\n",
       "      <td>NaN</td>\n",
       "    </tr>\n",
       "  </tbody>\n",
       "</table>\n",
       "</div>"
      ],
      "text/plain": [
       "                                      nextDayPlayerEngagement games  \\\n",
       "date                                                                  \n",
       "2018-01-01  [{\"engagementMetricsDate\":\"2018-01-02\",\"player...   NaN   \n",
       "2018-01-02  [{\"engagementMetricsDate\":\"2018-01-03\",\"player...   NaN   \n",
       "2018-01-03  [{\"engagementMetricsDate\":\"2018-01-04\",\"player...   NaN   \n",
       "2018-01-04  [{\"engagementMetricsDate\":\"2018-01-05\",\"player...   NaN   \n",
       "2018-01-05  [{\"engagementMetricsDate\":\"2018-01-06\",\"player...   NaN   \n",
       "\n",
       "                                                      rosters playerBoxScores  \\\n",
       "date                                                                            \n",
       "2018-01-01  [{\"playerId\":400121,\"gameDate\":\"2018-01-01\",\"t...             NaN   \n",
       "2018-01-02  [{\"playerId\":134181,\"gameDate\":\"2018-01-02\",\"t...             NaN   \n",
       "2018-01-03  [{\"playerId\":425492,\"gameDate\":\"2018-01-03\",\"t...             NaN   \n",
       "2018-01-04  [{\"playerId\":282332,\"gameDate\":\"2018-01-04\",\"t...             NaN   \n",
       "2018-01-05  [{\"playerId\":282332,\"gameDate\":\"2018-01-05\",\"t...             NaN   \n",
       "\n",
       "                                                 transactions standings  \\\n",
       "date                                                                      \n",
       "2018-01-01  [{\"transactionId\":340732,\"playerId\":547348,\"pl...       NaN   \n",
       "2018-01-02  [{\"transactionId\":339458,\"playerId\":621173,\"pl...       NaN   \n",
       "2018-01-03  [{\"transactionId\":347527,\"playerId\":572389,\"pl...       NaN   \n",
       "2018-01-04  [{\"transactionId\":339549,\"playerId\":545343,\"pl...       NaN   \n",
       "2018-01-05  [{\"transactionId\":341195,\"playerId\":628336,\"pl...       NaN   \n",
       "\n",
       "           awards                             playerTwitterFollowers  \n",
       "date                                                                  \n",
       "2018-01-01    NaN  [{\"date\":\"2018-01-01\",\"playerId\":545361,\"playe...  \n",
       "2018-01-02    NaN                                                NaN  \n",
       "2018-01-03    NaN                                                NaN  \n",
       "2018-01-04    NaN                                                NaN  \n",
       "2018-01-05    NaN                                                NaN  "
      ]
     },
     "execution_count": 6,
     "metadata": {},
     "output_type": "execute_result"
    }
   ],
   "source": [
    "training.head()"
   ]
  },
  {
   "cell_type": "markdown",
   "id": "breathing-fundamentals",
   "metadata": {
    "papermill": {
     "duration": 0.034431,
     "end_time": "2022-01-01T17:12:48.644074",
     "exception": false,
     "start_time": "2022-01-01T17:12:48.609643",
     "status": "completed"
    },
    "tags": []
   },
   "source": [
    "### Unpack Json file with created equation"
   ]
  },
  {
   "cell_type": "code",
   "execution_count": 7,
   "id": "homeless-partnership",
   "metadata": {
    "execution": {
     "iopub.execute_input": "2022-01-01T17:12:48.718576Z",
     "iopub.status.busy": "2022-01-01T17:12:48.717798Z",
     "iopub.status.idle": "2022-01-01T17:13:43.982179Z",
     "shell.execute_reply": "2022-01-01T17:13:43.982745Z",
     "shell.execute_reply.started": "2022-01-01T01:10:31.628049Z"
    },
    "papermill": {
     "duration": 55.305254,
     "end_time": "2022-01-01T17:13:43.983078",
     "exception": false,
     "start_time": "2022-01-01T17:12:48.677824",
     "status": "completed"
    },
    "tags": []
   },
   "outputs": [
    {
     "name": "stdout",
     "output_type": "stream",
     "text": [
      "CPU times: user 3 µs, sys: 1e+03 ns, total: 4 µs\n",
      "Wall time: 6.91 µs\n",
      "\n",
      " dict_keys(['nextDayPlayerEngagement', 'playerBoxScores', 'games', 'rosters', 'transactions', 'standings', 'awards', 'playerTwitterFollowers'])\n"
     ]
    }
   ],
   "source": [
    "%time\n",
    "# Unpack nested dataframes and store in dictionary `training_dfs`\n",
    "training_dfs = unpack_data(training, dfs=dfs)\n",
    "print('\\n', training_dfs.keys())"
   ]
  },
  {
   "cell_type": "markdown",
   "id": "original-retrieval",
   "metadata": {
    "papermill": {
     "duration": 0.030305,
     "end_time": "2022-01-01T17:13:44.043802",
     "exception": false,
     "start_time": "2022-01-01T17:13:44.013497",
     "status": "completed"
    },
    "tags": []
   },
   "source": [
    "### Games Table:\n",
    "Transfer game/row data structure to team/row structure.Features newly created for the model:wins difference,score difference \n"
   ]
  },
  {
   "cell_type": "code",
   "execution_count": 8,
   "id": "signed-rebound",
   "metadata": {
    "execution": {
     "iopub.execute_input": "2022-01-01T17:13:44.109452Z",
     "iopub.status.busy": "2022-01-01T17:13:44.108427Z",
     "iopub.status.idle": "2022-01-01T17:13:44.119145Z",
     "shell.execute_reply": "2022-01-01T17:13:44.119614Z",
     "shell.execute_reply.started": "2022-01-01T01:11:29.225262Z"
    },
    "papermill": {
     "duration": 0.045478,
     "end_time": "2022-01-01T17:13:44.119799",
     "exception": false,
     "start_time": "2022-01-01T17:13:44.074321",
     "status": "completed"
    },
    "tags": []
   },
   "outputs": [],
   "source": [
    "def make_games(dfs:dict): \n",
    "    home=dfs['games'].copy()\n",
    "    if \"gameDate\" in  home.columns:\n",
    "        home=home.rename(columns={'homeId':'teamId','homeWins':'teamWins','awayWins':'oppWins','homeScore':'teamScore','awayScore':'oppScore','homeWinner':'teamWinner',\"gameDate\":\"date\"})\n",
    "        home=home[['teamId','teamWins','oppWins','teamScore','oppScore','teamWinner',\"date\",\"gameType\"]]\n",
    "        away=dfs['games'].copy()\n",
    "        away=away.rename(columns={'awayId':'teamId','homeWins':'oppWins','awayWins':'teamWins','homeScore':'oppScore','awayScore':'teamScore','awayWinner':'teamWinner',\"gameDate\":\"date\"})\n",
    "        away=away[['teamId','teamWins','oppWins','teamScore','oppScore','teamWinner',\"date\",\"gameType\"]]\n",
    "        away\n",
    "        games=pd.concat([home,away],axis=0)\n",
    "        games[\"winsdiff\"]=games['teamWins']-games['oppWins']\n",
    "        games[\"scorediff\"]=games['teamScore']-games['oppScore']\n",
    "        games=games.drop(['teamWins','oppWins','teamScore','oppScore'],axis=1)\n",
    "        games = games.groupby(['date', 'teamId'], as_index=False).mean()\n",
    "        games['date']=pd.PeriodIndex(games.date,freq='D')\n",
    "    else:\n",
    "        games=dfs['games'].copy()\n",
    "        games[['teamId']]=np.nan\n",
    "        games[['date']]=np.nan\n",
    "    return games"
   ]
  },
  {
   "cell_type": "markdown",
   "id": "convinced-forwarding",
   "metadata": {
    "papermill": {
     "duration": 0.030474,
     "end_time": "2022-01-01T17:13:44.180831",
     "exception": false,
     "start_time": "2022-01-01T17:13:44.150357",
     "status": "completed"
    },
    "tags": []
   },
   "source": [
    "### Include players' average target value of the previous year as features"
   ]
  },
  {
   "cell_type": "code",
   "execution_count": 9,
   "id": "greatest-airfare",
   "metadata": {
    "execution": {
     "iopub.execute_input": "2022-01-01T17:13:44.247123Z",
     "iopub.status.busy": "2022-01-01T17:13:44.246132Z",
     "iopub.status.idle": "2022-01-01T17:13:45.482927Z",
     "shell.execute_reply": "2022-01-01T17:13:45.483476Z",
     "shell.execute_reply.started": "2022-01-01T01:11:29.238879Z"
    },
    "papermill": {
     "duration": 1.271978,
     "end_time": "2022-01-01T17:13:45.483658",
     "exception": false,
     "start_time": "2022-01-01T17:13:44.211680",
     "status": "completed"
    },
    "tags": []
   },
   "outputs": [],
   "source": [
    "targ = training_dfs['nextDayPlayerEngagement'].copy()\n",
    "targets = [\"target1\", \"target2\", \"target3\", \"target4\"]\n",
    "targ  = targ .astype({name: np.float32 for name  in targets})\n",
    "targ = targ.rename(columns={'engagementMetricsDate': 'date'})\n",
    "targ['date'] = pd.to_datetime(targ['date'])\n",
    "targ = targ.set_index('date').to_period('D')\n",
    "targ.index = targ.index - 1\n",
    "targ=targ.reset_index()"
   ]
  },
  {
   "cell_type": "code",
   "execution_count": 10,
   "id": "married-michael",
   "metadata": {
    "execution": {
     "iopub.execute_input": "2022-01-01T17:13:45.548905Z",
     "iopub.status.busy": "2022-01-01T17:13:45.547878Z",
     "iopub.status.idle": "2022-01-01T17:13:46.115326Z",
     "shell.execute_reply": "2022-01-01T17:13:46.114763Z",
     "shell.execute_reply.started": "2022-01-01T01:11:30.550139Z"
    },
    "papermill": {
     "duration": 0.600922,
     "end_time": "2022-01-01T17:13:46.115469",
     "exception": false,
     "start_time": "2022-01-01T17:13:45.514547",
     "status": "completed"
    },
    "tags": []
   },
   "outputs": [],
   "source": [
    "targ['seasonId']=targ.date.dt.year+1\n",
    "targ.drop(['date'],axis=1,inplace=True)\n",
    "targ=targ.groupby(by=['seasonId','playerId'],as_index=False).mean()\n",
    "targ=targ.loc[(targ.seasonId!=2022),:]\n",
    "# Match target dates to feature dates and create date index\n",
    "targ=targ.rename(columns={\"target1\":\"meantarget1\",\"target2\":\"meantarget2\",\"target3\":\"meantarget3\",\"target4\":\"meantarget4\"})\n",
    "targ = targ.astype({'playerId': str})"
   ]
  },
  {
   "cell_type": "markdown",
   "id": "driving-chambers",
   "metadata": {
    "papermill": {
     "duration": 0.030446,
     "end_time": "2022-01-01T17:13:46.176797",
     "exception": false,
     "start_time": "2022-01-01T17:13:46.146351",
     "status": "completed"
    },
    "tags": []
   },
   "source": [
    "### Rosters: player_id, team_id, status_code,game_date"
   ]
  },
  {
   "cell_type": "code",
   "execution_count": 11,
   "id": "hydraulic-domestic",
   "metadata": {
    "execution": {
     "iopub.execute_input": "2022-01-01T17:13:46.245121Z",
     "iopub.status.busy": "2022-01-01T17:13:46.244057Z",
     "iopub.status.idle": "2022-01-01T17:13:46.246366Z",
     "shell.execute_reply": "2022-01-01T17:13:46.246821Z",
     "shell.execute_reply.started": "2022-01-01T01:11:31.110327Z"
    },
    "papermill": {
     "duration": 0.039744,
     "end_time": "2022-01-01T17:13:46.246989",
     "exception": false,
     "start_time": "2022-01-01T17:13:46.207245",
     "status": "completed"
    },
    "tags": []
   },
   "outputs": [],
   "source": [
    "def make_rosters(dfs:dict):\n",
    "    rosters=dfs['rosters'].copy()\n",
    "    if \"playerId\" in rosters.columns:\n",
    "        rosters=rosters[['playerId','gameDate','teamId','statusCode']]\n",
    "        rosters=pd.get_dummies(rosters,columns=['statusCode'])\n",
    "        rosters=rosters.rename(columns={'gameDate':'date'})\n",
    "        rosters['date']=pd.PeriodIndex(rosters.date,freq='D')\n",
    "    else:\n",
    "        rosters[['playerId']]=np.nan\n",
    "        rosters[['date']]=np.nan\n",
    "        rosters[['teamId']]=np.nan\n",
    "    return rosters"
   ]
  },
  {
   "cell_type": "markdown",
   "id": "russian-hotel",
   "metadata": {
    "papermill": {
     "duration": 0.031116,
     "end_time": "2022-01-01T17:13:46.309110",
     "exception": false,
     "start_time": "2022-01-01T17:13:46.277994",
     "status": "completed"
    },
    "tags": []
   },
   "source": [
    "### twitter followers: player_id, date, numberof followers"
   ]
  },
  {
   "cell_type": "code",
   "execution_count": 12,
   "id": "apart-developer",
   "metadata": {
    "execution": {
     "iopub.execute_input": "2022-01-01T17:13:46.373102Z",
     "iopub.status.busy": "2022-01-01T17:13:46.372468Z",
     "iopub.status.idle": "2022-01-01T17:13:46.377523Z",
     "shell.execute_reply": "2022-01-01T17:13:46.377987Z",
     "shell.execute_reply.started": "2022-01-01T01:11:31.118786Z"
    },
    "papermill": {
     "duration": 0.03839,
     "end_time": "2022-01-01T17:13:46.378150",
     "exception": false,
     "start_time": "2022-01-01T17:13:46.339760",
     "status": "completed"
    },
    "tags": []
   },
   "outputs": [],
   "source": [
    "\n",
    "def make_playerTwitterFollowers(dfs:dict):\n",
    "    twitfollowers=dfs['playerTwitterFollowers'].copy()\n",
    "    if 'playerId' in  twitfollowers.columns:\n",
    "        twitfollowers=twitfollowers[['date','playerId','numberOfFollowers']]\n",
    "        twitfollowers['date']=pd.PeriodIndex(twitfollowers.date,freq='D')\n",
    "    else:\n",
    "        twitfollowers[['playerId']]=np.nan\n",
    "        twitfollowers[['date']]=np.nan\n",
    "    return twitfollowers\n"
   ]
  },
  {
   "cell_type": "markdown",
   "id": "bound-premises",
   "metadata": {
    "papermill": {
     "duration": 0.03001,
     "end_time": "2022-01-01T17:13:46.438239",
     "exception": false,
     "start_time": "2022-01-01T17:13:46.408229",
     "status": "completed"
    },
    "tags": []
   },
   "source": [
    "### Team_Standing:'teamid','gamedate','divisionRank','leagueRank','wildCardRank','pct','wins','eliminated','wildCardEliminated'"
   ]
  },
  {
   "cell_type": "code",
   "execution_count": 13,
   "id": "whole-church",
   "metadata": {
    "execution": {
     "iopub.execute_input": "2022-01-01T17:13:46.502537Z",
     "iopub.status.busy": "2022-01-01T17:13:46.501935Z",
     "iopub.status.idle": "2022-01-01T17:13:46.508330Z",
     "shell.execute_reply": "2022-01-01T17:13:46.508839Z",
     "shell.execute_reply.started": "2022-01-01T01:11:31.135039Z"
    },
    "papermill": {
     "duration": 0.040135,
     "end_time": "2022-01-01T17:13:46.509010",
     "exception": false,
     "start_time": "2022-01-01T17:13:46.468875",
     "status": "completed"
    },
    "tags": []
   },
   "outputs": [],
   "source": [
    "standings_feature=['divisionRank','leagueRank','wildCardRank','pct','wins','eliminationNumber','wildCardEliminationNumber'\n",
    "       ]\n",
    "def make_standings(dfs:dict,standings_feature):\n",
    "    standings=dfs['standings'].copy()\n",
    "    if 'teamId' in standings.columns: \n",
    "        standings=standings[['teamId','gameDate']+standings_feature]\n",
    "        standings=standings.rename(columns={'gameDate':'date'})\n",
    "        standings['date']=pd.PeriodIndex(standings.date,freq='D')\n",
    "        standings['eliminated']=standings['eliminationNumber']=='E'\n",
    "        standings['wildeliminated']=standings['wildCardEliminationNumber']=='E'\n",
    "        standings=standings.drop(['eliminationNumber','wildCardEliminationNumber'],axis=1)\n",
    "    else:\n",
    "        standings[['teamId']]=np.nan\n",
    "        standings[['date']]=np.nan\n",
    "    return standings"
   ]
  },
  {
   "cell_type": "markdown",
   "id": "latter-architect",
   "metadata": {
    "papermill": {
     "duration": 0.029914,
     "end_time": "2022-01-01T17:13:46.568977",
     "exception": false,
     "start_time": "2022-01-01T17:13:46.539063",
     "status": "completed"
    },
    "tags": []
   },
   "source": [
    "# Previous year award"
   ]
  },
  {
   "cell_type": "code",
   "execution_count": 14,
   "id": "ranking-redhead",
   "metadata": {
    "execution": {
     "iopub.execute_input": "2022-01-01T17:13:46.633217Z",
     "iopub.status.busy": "2022-01-01T17:13:46.632647Z",
     "iopub.status.idle": "2022-01-01T17:13:46.637296Z",
     "shell.execute_reply": "2022-01-01T17:13:46.637820Z",
     "shell.execute_reply.started": "2022-01-01T01:11:31.148576Z"
    },
    "papermill": {
     "duration": 0.038773,
     "end_time": "2022-01-01T17:13:46.637997",
     "exception": false,
     "start_time": "2022-01-01T17:13:46.599224",
     "status": "completed"
    },
    "tags": []
   },
   "outputs": [],
   "source": [
    "awardhist=training_dfs['awards'].copy()"
   ]
  },
  {
   "cell_type": "code",
   "execution_count": 15,
   "id": "proud-yesterday",
   "metadata": {
    "execution": {
     "iopub.execute_input": "2022-01-01T17:13:46.702603Z",
     "iopub.status.busy": "2022-01-01T17:13:46.702011Z",
     "iopub.status.idle": "2022-01-01T17:13:46.708205Z",
     "shell.execute_reply": "2022-01-01T17:13:46.708671Z",
     "shell.execute_reply.started": "2022-01-01T01:11:31.162034Z"
    },
    "papermill": {
     "duration": 0.040402,
     "end_time": "2022-01-01T17:13:46.708836",
     "exception": false,
     "start_time": "2022-01-01T17:13:46.668434",
     "status": "completed"
    },
    "tags": []
   },
   "outputs": [],
   "source": [
    "awards=['All-MLB First Team', 'All-MLB Second Team','NL Comeback Player of the Year',\n",
    "       'Edgar Martinez Outstanding DH of the Year',\n",
    "       'AL Comeback Player of the Year', 'The Hutch Award','AL Cy Young', 'NL Cy Young', 'AL MVP',\n",
    "       'NL MVP','MLB Players Choice NL Comeback Player',\n",
    "       'MLB Players Choice NL Outstanding Pitcher',\n",
    "       'MLB Players Choice NL Outstanding Rookie',\n",
    "       'MLB Players Choice NL Outstanding Player',\n",
    "       'Rawlings NL Platinum Glove', 'Babe Ruth Award',\n",
    "       'MLB Players Choice Player of the Year',\n",
    "       'MLB Players Choice Man of the Year',\n",
    "       'MLB Players Choice AL Outstanding Player',\n",
    "       'MLB Players Choice AL Comeback Player',\n",
    "       'MLB Players Choice AL Outstanding Pitcher',\n",
    "       'MLB Players Choice AL Outstanding Rookie', 'Wilson Defensive Player of the Year',\n",
    "       'Wilson MLB Defensive Player of the Year', 'AL Silver Slugger',\n",
    "       'NL Silver Slugger', 'MLBPAA Heart and Hustle Award',\n",
    "       'Rawlings AL Platinum Glove', 'Roberto Clemente Award', 'NL Hank Aaron Award',\n",
    "       'AL Hank Aaron Award', 'Trevor Hoffman NL Reliever of the Year',\n",
    "       'Mariano Rivera AL Reliever of the Year',\n",
    "       'World Series Championship', 'World Series MVP','Baseball America Minor League Player of the Year',\n",
    "       'Baseball America Major League Rookie of the Year',\n",
    "       'Baseball America Major League Player of the Year','Home Run Derby Winner', 'All-Star MVP', 'AL All-Star',\n",
    "       'NL All-Star',]\n"
   ]
  },
  {
   "cell_type": "code",
   "execution_count": 16,
   "id": "informational-bermuda",
   "metadata": {
    "execution": {
     "iopub.execute_input": "2022-01-01T17:13:46.772952Z",
     "iopub.status.busy": "2022-01-01T17:13:46.772329Z",
     "iopub.status.idle": "2022-01-01T17:13:46.799943Z",
     "shell.execute_reply": "2022-01-01T17:13:46.799260Z",
     "shell.execute_reply.started": "2022-01-01T01:11:31.173202Z"
    },
    "papermill": {
     "duration": 0.061085,
     "end_time": "2022-01-01T17:13:46.800090",
     "exception": false,
     "start_time": "2022-01-01T17:13:46.739005",
     "status": "completed"
    },
    "tags": []
   },
   "outputs": [],
   "source": [
    "awardhist=training_dfs['awards'].copy()\n",
    "awardhist=awardhist[['awardSeason','playerId','awardName']]\n",
    "awardhist=awardhist.loc[awardhist.awardName.isin(awards),:]\n",
    "awardhist=awardhist.rename(columns={'awardSeason':'seasonId'})\n",
    "awardhist['seasonId']=awardhist['seasonId']+1\n",
    "awardhist=pd.get_dummies(awardhist,'awardName')\n",
    "awardhist=awardhist.groupby(['playerId','seasonId'],as_index=False).sum()\n",
    "awardhist['playerId']=[str(a) for a in awardhist.playerId]"
   ]
  },
  {
   "cell_type": "code",
   "execution_count": 17,
   "id": "affecting-asian",
   "metadata": {
    "execution": {
     "iopub.execute_input": "2022-01-01T17:13:46.866107Z",
     "iopub.status.busy": "2022-01-01T17:13:46.865493Z",
     "iopub.status.idle": "2022-01-01T17:13:46.867904Z",
     "shell.execute_reply": "2022-01-01T17:13:46.868473Z",
     "shell.execute_reply.started": "2022-01-01T01:11:31.208024Z"
    },
    "papermill": {
     "duration": 0.037754,
     "end_time": "2022-01-01T17:13:46.868644",
     "exception": false,
     "start_time": "2022-01-01T17:13:46.830890",
     "status": "completed"
    },
    "tags": []
   },
   "outputs": [],
   "source": [
    "#features = [\n",
    "#    \"hits\",\n",
    "#    'doubles', \n",
    "#    'triples',\n",
    "#    \"strikeOuts\",\n",
    "#    \"homeRuns\",\n",
    "#    \"runsScored\",\n",
    "#    \"stolenBases\",\n",
    "#    \"strikes\",\n",
    "#    \"flyOuts\",\n",
    "#    \"groundOuts\",\n",
    "#    \"errors\",\n",
    "#    \"rbi\",\n",
    "#    \"baseOnBalls\",\n",
    "#    \"gamesPlayedPitching\", \n",
    "#    'gamesStartedPitching',\n",
    "#    'completeGamesPitching', \n",
    "#    'shutoutsPitching', \n",
    "#    'winsPitching',\n",
    "#    'lossesPitching',\n",
    "#    'runsPitching', \n",
    "#    'homeRunsPitching', \n",
    "#    'strikeOutsPitching',\n",
    "#    'baseOnBallsPitching',\n",
    "#    'inningsPitched',\n",
    "#    'teamName',\n",
    "#    'positionName',\n",
    "#]\n"
   ]
  },
  {
   "cell_type": "markdown",
   "id": "leading-twins",
   "metadata": {
    "papermill": {
     "duration": 0.0298,
     "end_time": "2022-01-01T17:13:46.929362",
     "exception": false,
     "start_time": "2022-01-01T17:13:46.899562",
     "status": "completed"
    },
    "tags": []
   },
   "source": [
    "### game_date features (Box Score Statistics)"
   ]
  },
  {
   "cell_type": "code",
   "execution_count": 18,
   "id": "revolutionary-finance",
   "metadata": {
    "execution": {
     "iopub.execute_input": "2022-01-01T17:13:46.997830Z",
     "iopub.status.busy": "2022-01-01T17:13:46.997160Z",
     "iopub.status.idle": "2022-01-01T17:13:46.999287Z",
     "shell.execute_reply": "2022-01-01T17:13:46.999820Z",
     "shell.execute_reply.started": "2022-01-01T01:11:31.213261Z"
    },
    "papermill": {
     "duration": 0.040566,
     "end_time": "2022-01-01T17:13:47",
     "exception": false,
     "start_time": "2022-01-01T17:13:46.959434",
     "status": "completed"
    },
    "tags": []
   },
   "outputs": [],
   "source": [
    "features = ['home',\n",
    "    'gamesPlayedBatting', 'flyOuts',\n",
    "       'groundOuts', 'runsScored', 'doubles', 'triples', 'homeRuns',\n",
    "       'strikeOuts', 'baseOnBalls', 'intentionalWalks', 'hits', 'hitByPitch',\n",
    "       'atBats', 'caughtStealing', 'stolenBases', 'groundIntoDoublePlay',\n",
    "       'groundIntoTriplePlay', 'plateAppearances', 'totalBases', 'rbi',\n",
    "       'leftOnBase', 'sacBunts', 'sacFlies', 'catchersInterference',\n",
    "       'pickoffs', 'gamesPlayedPitching', 'gamesStartedPitching',\n",
    "       'completeGamesPitching', 'shutoutsPitching', 'winsPitching',\n",
    "       'lossesPitching', 'flyOutsPitching', 'airOutsPitching',\n",
    "       'groundOutsPitching', 'runsPitching', 'doublesPitching',\n",
    "       'triplesPitching', 'homeRunsPitching', 'strikeOutsPitching',\n",
    "       'baseOnBallsPitching', 'intentionalWalksPitching', 'hitsPitching',\n",
    "       'hitByPitchPitching', 'atBatsPitching', 'caughtStealingPitching',\n",
    "       'stolenBasesPitching', 'inningsPitched', 'saveOpportunities',\n",
    "       'earnedRuns', 'battersFaced',  'pitchesThrown', 'balls',\n",
    "       'strikes', 'hitBatsmen', 'balks', 'wildPitches', 'pickoffsPitching',\n",
    "       'rbiPitching', 'gamesFinishedPitching', 'inheritedRunners',\n",
    "       'inheritedRunnersScored', 'catchersInterferencePitching',\n",
    "       'sacBuntsPitching', 'sacFliesPitching', 'saves', 'holds', 'blownSaves',\n",
    "       'assists', 'putOuts', 'errors', 'chances','battingOrder',\n",
    "    'positionName'\n",
    "]"
   ]
  },
  {
   "cell_type": "code",
   "execution_count": 19,
   "id": "particular-carroll",
   "metadata": {
    "execution": {
     "iopub.execute_input": "2022-01-01T17:13:47.065747Z",
     "iopub.status.busy": "2022-01-01T17:13:47.065113Z",
     "iopub.status.idle": "2022-01-01T17:13:47.066935Z",
     "shell.execute_reply": "2022-01-01T17:13:47.067471Z",
     "shell.execute_reply.started": "2022-01-01T01:11:31.231599Z"
    },
    "papermill": {
     "duration": 0.037551,
     "end_time": "2022-01-01T17:13:47.067637",
     "exception": false,
     "start_time": "2022-01-01T17:13:47.030086",
     "status": "completed"
    },
    "tags": []
   },
   "outputs": [],
   "source": [
    "gc.collect\n",
    "del training"
   ]
  },
  {
   "cell_type": "code",
   "execution_count": 20,
   "id": "similar-plate",
   "metadata": {
    "execution": {
     "iopub.execute_input": "2022-01-01T17:13:47.131999Z",
     "iopub.status.busy": "2022-01-01T17:13:47.131426Z",
     "iopub.status.idle": "2022-01-01T17:13:47.140198Z",
     "shell.execute_reply": "2022-01-01T17:13:47.139644Z",
     "shell.execute_reply.started": "2022-01-01T01:11:31.243182Z"
    },
    "papermill": {
     "duration": 0.041806,
     "end_time": "2022-01-01T17:13:47.140348",
     "exception": false,
     "start_time": "2022-01-01T17:13:47.098542",
     "status": "completed"
    },
    "tags": []
   },
   "outputs": [
    {
     "data": {
      "text/plain": [
       "(1187,)"
      ]
     },
     "execution_count": 20,
     "metadata": {},
     "output_type": "execute_result"
    }
   ],
   "source": [
    "pids_test = players.playerId.loc[\n",
    "    players.playerForTestSetAndFuturePreds.fillna(False)\n",
    "].astype(str)\n",
    "pids_test.shape"
   ]
  },
  {
   "cell_type": "code",
   "execution_count": 21,
   "id": "rational-classroom",
   "metadata": {
    "_kg_hide-input": false,
    "execution": {
     "iopub.execute_input": "2022-01-01T17:13:47.219885Z",
     "iopub.status.busy": "2022-01-01T17:13:47.217192Z",
     "iopub.status.idle": "2022-01-01T17:13:47.222778Z",
     "shell.execute_reply": "2022-01-01T17:13:47.222293Z",
     "shell.execute_reply.started": "2022-01-01T01:11:31.259859Z"
    },
    "papermill": {
     "duration": 0.050533,
     "end_time": "2022-01-01T17:13:47.222921",
     "exception": false,
     "start_time": "2022-01-01T17:13:47.172388",
     "status": "completed"
    },
    "tags": []
   },
   "outputs": [],
   "source": [
    "# Players in the test set. We'll filter our data for only this set of players\n",
    "pids_test = players.playerId.loc[\n",
    "    players.playerForTestSetAndFuturePreds.fillna(False)\n",
    "].astype(str)\n",
    "\n",
    "# Name of target columns\n",
    "targets = [\"target1\", \"target2\", \"target3\", \"target4\"]\n",
    "\n",
    "def make_playerBoxScores(dfs: dict, features):\n",
    "    X = dfs['playerBoxScores'].copy()\n",
    "    if 'playerId' in X.columns:\n",
    "        X = dfs['playerBoxScores'].copy()\n",
    "        X = X[['gameDate', 'playerId'] + features]\n",
    "        X = X.rename(columns={'gameDate': 'date'})\n",
    "        X['date'] = pd.PeriodIndex(X.date, freq='D')\n",
    "        X=X[features+['date','playerId']]\n",
    "        X['battingOrder']=X['battingOrder'].fillna(0)\n",
    "        X.loc[X['battingOrder']==0,'battingOrder']=10009\n",
    "        X['starting']=X['battingOrder']%100\n",
    "        X['starting']=X['starting']==0\n",
    "        X['order']=X['battingOrder']//100\n",
    "        X=pd.get_dummies(X,columns=['order'])\n",
    "        X.drop(['battingOrder'],axis=1,inplace=True)\n",
    "        # Set dtypes\n",
    "        X = X.astype({'playerId': str,'starting': int})\n",
    "        X['positionName']=X['positionName'].fillna(value=\"X\")\n",
    "        # Create date index\n",
    "        X=pd.get_dummies(data=X,columns=['positionName'])\n",
    "        # Aggregate multiple games per day by summing\n",
    "        X = X.groupby(['date', 'playerId'], as_index=False).mean()\n",
    "    else:\n",
    "        X[['playerId']]=np.nan\n",
    "        X[['date']]=np.nan\n",
    "    return X\n",
    "\n",
    "# Set dtypes\n",
    "#def make_playerTwitterFollowers(dfs:dict):\n",
    "#    X=dfs['playerTwitterFollowers'].copy()\n",
    "#    X=X[['date', 'playerId','numberOfFollowers']]\n",
    "#    X['date'] = pd.PeriodIndex(X.date, freq='D')\n",
    "##    # Aggregate multiple games per day by summing\n",
    "#    X = X.groupby(['date', 'playerId'], as_index=False).sum()\n",
    "#    return X\n",
    "\n",
    "def make_targets(training_dfs: dict):\n",
    "    Y = training_dfs['nextDayPlayerEngagement'].copy()\n",
    "    # Set dtypes\n",
    "    Y = Y.astype({name: np.float32 for name  in targets})\n",
    "    Y = Y.astype({'playerId': str})\n",
    "    # Match target dates to feature dates and create date index\n",
    "    Y = Y.rename(columns={'engagementMetricsDate': 'date'})\n",
    "    Y['date'] = pd.to_datetime(Y['date'])\n",
    "    Y = Y.set_index('date').to_period('D')\n",
    "    Y.index = Y.index - 1\n",
    "    return Y.reset_index()\n",
    "\n",
    "\n",
    "#def join_datasets(dfs):\n",
    "#    dfs = [x.pivot(index='date', columns='playerId') for x in dfs]\n",
    "#    df = pd.concat(dfs, axis=1).stack().reset_index('playerId')\n",
    "#    return df\n",
    "\n",
    "#def make_trainX(test_dfs: dict, features):\n",
    "#    X = make_playerBoxScores(test_dfs, features)\n",
    "#    X = X.merge(pids_test, how='right')\n",
    "    #fourier_terms = CalendarFourier(freq='A', order=4)\n",
    "    #deterministic = DeterministicProcess(\n",
    "    #    index=X.index,\n",
    "    #    order=0,\n",
    "    #    seasonal=False,  # set to True for weekly seasonality\n",
    "    #    additional_terms=[fourier_terms],\n",
    "    #)\n",
    "    #X = pd.concat([X, deterministic.in_sample()], axis=1)\n",
    " #   return X\n",
    "#def make_trainy(training_dfs: dict,\n",
    "#                      targets):\n",
    "\n",
    "#    Y = make_targets(training_dfs)\n",
    "    # Filter for players in test set\n",
    "#    Y=Y.loc[Y.playerId.isin(pids_test), :]\n",
    "    # Convert from long to wide format\n",
    "    # Restore features and target\n",
    "    # Fill missing values in features\n",
    "#    return Y\n",
    "    # Create train / validation splits\n",
    "#X,Y=make_trainX(training_dfs,features),make_trainy(training_dfs,targets)"
   ]
  },
  {
   "cell_type": "markdown",
   "id": "forbidden-black",
   "metadata": {
    "papermill": {
     "duration": 0.030383,
     "end_time": "2022-01-01T17:13:47.283699",
     "exception": false,
     "start_time": "2022-01-01T17:13:47.253316",
     "status": "completed"
    },
    "tags": []
   },
   "source": [
    "### Merging All Using Tables (test set start from 2021 June)\n",
    "Before merging the tables, we create new features of \"season part\" since the atmosphere at the beginning of the season and that at the end of the season should be very different. We use 2021 season as test set, and 2019,2020 as training set."
   ]
  },
  {
   "cell_type": "code",
   "execution_count": 22,
   "id": "institutional-premiere",
   "metadata": {
    "execution": {
     "iopub.execute_input": "2022-01-01T17:13:47.365555Z",
     "iopub.status.busy": "2022-01-01T17:13:47.364831Z",
     "iopub.status.idle": "2022-01-01T17:13:47.368973Z",
     "shell.execute_reply": "2022-01-01T17:13:47.368236Z",
     "shell.execute_reply.started": "2022-01-01T01:11:31.28528Z"
    },
    "papermill": {
     "duration": 0.054964,
     "end_time": "2022-01-01T17:13:47.369148",
     "exception": false,
     "start_time": "2022-01-01T17:13:47.314184",
     "status": "completed"
    },
    "tags": []
   },
   "outputs": [],
   "source": [
    "def make_training_data(training_dfs: dict,\n",
    "                       features,\n",
    "                       targets,\n",
    "                       fourier=4,\n",
    "                       test_size=30):\n",
    "    # Process dataframes\n",
    "    X = make_playerBoxScores(training_dfs, features)\n",
    "    standings=make_standings(training_dfs,standings_feature)\n",
    "    games=make_games(training_dfs)\n",
    "    rosters=make_rosters(training_dfs)\n",
    "    #transactions=make_transactions(training_dfs)\n",
    "    TwitterFollowers=make_playerTwitterFollowers(training_dfs)\n",
    "    Y = make_targets(training_dfs)\n",
    "    rosters['playerId']=[str(x) for x in rosters.playerId]\n",
    "    players_1['playerId']=[str(x) for x in players_1.playerId]\n",
    "    #transactions['playerId']=[str(x) for x in transactions.playerId]\n",
    "    TwitterFollowers['playerId']=[str(x) for x in TwitterFollowers.playerId]\n",
    "    # Merge for processing\n",
    "    Y =Y.loc[Y.playerId.isin(pids_test), :]\n",
    "    df = Y.merge(X,how='left',on=['date','playerId'])\n",
    "    # Filter for players in test set\n",
    "    df['seasonId']=df.date.dt.year\n",
    "    df=df.loc[(df.seasonId!=2018),:]\n",
    "    df=df.merge(awardhist,how='left',on=['seasonId','playerId'])\n",
    "    df=df.merge(targ,how='left',on=['seasonId','playerId'])\n",
    "    unique=pd.DataFrame({'date':df.date.unique()})\n",
    "    unique['seasonId']=unique.date.dt.year\n",
    "    unique=unique.merge(seasons,on='seasonId')\n",
    "    unique['seasonPart'] = np.select(\n",
    "        [\n",
    "        unique['date'] < unique['preSeasonStartDate'], \n",
    "        unique['date'] <unique['regularSeasonStartDate'],\n",
    "        unique['date'] <= unique['lastDate1stHalf'],\n",
    "        unique['date'] < unique['firstDate2ndHalf'],\n",
    "        unique['date'] <= unique['regularSeasonEndDate'],\n",
    "        unique['date'] < unique['postSeasonStartDate'],\n",
    "       unique['date'] <= unique['postSeasonEndDate'],\n",
    "        unique['date'] >unique['postSeasonEndDate']\n",
    "        ], \n",
    "        [\n",
    "        'Offseason',\n",
    "        'Preseason',\n",
    "        'Reg Season 1st Half',\n",
    "        'All-Star Break',\n",
    "        'Reg Season 2nd Half',\n",
    "        'Between Reg and Postseason',\n",
    "        'Postseason',\n",
    "        'Offseason'\n",
    "        ], \n",
    "        default = np.nan\n",
    "        )\n",
    "    unique=unique[['date','seasonPart']]\n",
    "    df=df.merge(unique,how='left',on='date')\n",
    "    df=df.loc[df.seasonPart!='Offseason',:]\n",
    "    #df=df.loc[df.seasonPart!='Preseason',:]\n",
    "    #df=df.loc[df.seasonPart!='Postseason',:]\n",
    "    #df=df.loc[df.seasonPart!='Offseason',:]\n",
    "    df=df.drop('seasonId',axis=1)\n",
    "    df=df.merge(rosters,how='left',on=['date','playerId'])\n",
    "    #df=df.merge(transactions,how='left',on=['date','playerId'])\n",
    "    df=df.merge(TwitterFollowers,how='left',on=['date','playerId'])\n",
    "    df=df.merge(standings,how='left',on=['date','teamId'])\n",
    "    df=df.merge(games,how='left',on=['date','teamId'])\n",
    "    df=df.merge(players_1,how='left',on=['playerId'])\n",
    "    #df['seasonId']=df.date.dt.year\n",
    "    #df['age']=df['seasonId']-df['birthyear']\n",
    "    #df.drop('seasonId',axis=1, inplace=True)\n",
    "    df=pd.get_dummies(df,columns=['teamId'])\n",
    "    # Convert from long to wide format\n",
    "    #df = df.pivot(columns=\"playerId\")\n",
    "    # Restore features and targets\n",
    "    df['seasonId']=df.date.dt.year\n",
    "    df['age']=df['seasonId']-df['birthyear']\n",
    "    train_df=df.loc[(df.seasonId!=2021),:]\n",
    "    test_df=df.loc[(df.seasonId==2021),:]\n",
    "    train_df=pd.get_dummies(train_df,columns=['seasonPart'])\n",
    "    test_df=pd.get_dummies(test_df,columns=['seasonPart'])\n",
    "    missing_cols = set( train_df.columns ) - set(test_df.columns )\n",
    "    for c in missing_cols:\n",
    "        test_df[c] = 0\n",
    "    y_train = train_df[targets]\n",
    "    y_valid = test_df[targets]\n",
    "    # Fill missing values in features\n",
    "    X_train =train_df.drop(targets+['date','playerId','birthyear','seasonId'],axis=1)\n",
    "    X_train.fillna(0, inplace=True)\n",
    "    X_valid =test_df.drop(targets+['date','playerId','birthyear','seasonId'],axis=1)\n",
    "    X_valid.fillna(0, inplace=True)\n",
    "    # Create temporal features\n",
    "    # Create train / validation splits,:]\n",
    "    #X_train,X_valid=X.loc[train_id,:],X.loc[test_id,:]\n",
    "    #y_train,y_valid=Y.loc[train_id,:],Y.loc[test_id,:]\n",
    "    return X_train, X_valid, y_train, y_valid"
   ]
  },
  {
   "cell_type": "code",
   "execution_count": 23,
   "id": "frozen-contrary",
   "metadata": {
    "execution": {
     "iopub.execute_input": "2022-01-01T17:13:47.441746Z",
     "iopub.status.busy": "2022-01-01T17:13:47.440764Z",
     "iopub.status.idle": "2022-01-01T17:16:20.847744Z",
     "shell.execute_reply": "2022-01-01T17:16:20.847084Z",
     "shell.execute_reply.started": "2022-01-01T01:11:31.317383Z"
    },
    "papermill": {
     "duration": 153.44183,
     "end_time": "2022-01-01T17:16:20.847935",
     "exception": false,
     "start_time": "2022-01-01T17:13:47.406105",
     "status": "completed"
    },
    "tags": []
   },
   "outputs": [],
   "source": [
    "X_train, X_valid, y_train, y_valid=make_training_data(training_dfs,\n",
    "                       features,\n",
    "                       targets\n",
    "                       )"
   ]
  },
  {
   "cell_type": "code",
   "execution_count": 24,
   "id": "reported-wrong",
   "metadata": {
    "execution": {
     "iopub.execute_input": "2022-01-01T17:16:20.917789Z",
     "iopub.status.busy": "2022-01-01T17:16:20.916589Z",
     "iopub.status.idle": "2022-01-01T17:16:20.921408Z",
     "shell.execute_reply": "2022-01-01T17:16:20.920862Z",
     "shell.execute_reply.started": "2022-01-01T01:14:27.391834Z"
    },
    "papermill": {
     "duration": 0.042465,
     "end_time": "2022-01-01T17:16:20.921552",
     "exception": false,
     "start_time": "2022-01-01T17:16:20.879087",
     "status": "completed"
    },
    "tags": []
   },
   "outputs": [
    {
     "data": {
      "text/plain": [
       "Index(['home', 'gamesPlayedBatting', 'flyOuts', 'groundOuts', 'runsScored',\n",
       "       'doubles', 'triples', 'homeRuns', 'strikeOuts', 'baseOnBalls',\n",
       "       ...\n",
       "       'teamId_146.0', 'teamId_147.0', 'teamId_158.0', 'age',\n",
       "       'seasonPart_All-Star Break', 'seasonPart_Between Reg and Postseason',\n",
       "       'seasonPart_Postseason', 'seasonPart_Preseason',\n",
       "       'seasonPart_Reg Season 1st Half', 'seasonPart_Reg Season 2nd Half'],\n",
       "      dtype='object', length=215)"
      ]
     },
     "execution_count": 24,
     "metadata": {},
     "output_type": "execute_result"
    }
   ],
   "source": [
    "X_train.columns"
   ]
  },
  {
   "cell_type": "code",
   "execution_count": 25,
   "id": "purple-local",
   "metadata": {
    "execution": {
     "iopub.execute_input": "2022-01-01T17:16:20.988348Z",
     "iopub.status.busy": "2022-01-01T17:16:20.987698Z",
     "iopub.status.idle": "2022-01-01T17:16:21.149057Z",
     "shell.execute_reply": "2022-01-01T17:16:21.149618Z",
     "shell.execute_reply.started": "2022-01-01T01:14:27.404069Z"
    },
    "papermill": {
     "duration": 0.196248,
     "end_time": "2022-01-01T17:16:21.149842",
     "exception": false,
     "start_time": "2022-01-01T17:16:20.953594",
     "status": "completed"
    },
    "tags": []
   },
   "outputs": [],
   "source": [
    "del training_dfs "
   ]
  },
  {
   "cell_type": "code",
   "execution_count": 26,
   "id": "trained-spank",
   "metadata": {
    "execution": {
     "iopub.execute_input": "2022-01-01T17:16:21.227179Z",
     "iopub.status.busy": "2022-01-01T17:16:21.226494Z",
     "iopub.status.idle": "2022-01-01T17:16:21.229361Z",
     "shell.execute_reply": "2022-01-01T17:16:21.228885Z",
     "shell.execute_reply.started": "2022-01-01T01:14:27.655354Z"
    },
    "papermill": {
     "duration": 0.047724,
     "end_time": "2022-01-01T17:16:21.229502",
     "exception": false,
     "start_time": "2022-01-01T17:16:21.181778",
     "status": "completed"
    },
    "tags": []
   },
   "outputs": [],
   "source": [
    "columns=X_train.columns\n",
    "uint8=[col for col in columns if X_train[col].dtype == \"uint8\"]"
   ]
  },
  {
   "cell_type": "code",
   "execution_count": 27,
   "id": "macro-jimmy",
   "metadata": {
    "execution": {
     "iopub.execute_input": "2022-01-01T17:16:21.565700Z",
     "iopub.status.busy": "2022-01-01T17:16:21.564871Z",
     "iopub.status.idle": "2022-01-01T17:16:21.569204Z",
     "shell.execute_reply": "2022-01-01T17:16:21.568713Z",
     "shell.execute_reply.started": "2022-01-01T01:14:27.674952Z"
    },
    "papermill": {
     "duration": 0.309151,
     "end_time": "2022-01-01T17:16:21.569363",
     "exception": false,
     "start_time": "2022-01-01T17:16:21.260212",
     "status": "completed"
    },
    "tags": []
   },
   "outputs": [
    {
     "data": {
      "text/plain": [
       "18692"
      ]
     },
     "execution_count": 27,
     "metadata": {},
     "output_type": "execute_result"
    }
   ],
   "source": [
    "gc.collect()"
   ]
  },
  {
   "cell_type": "code",
   "execution_count": 28,
   "id": "framed-george",
   "metadata": {
    "execution": {
     "iopub.execute_input": "2022-01-01T17:16:21.640125Z",
     "iopub.status.busy": "2022-01-01T17:16:21.639332Z",
     "iopub.status.idle": "2022-01-01T17:16:21.642493Z",
     "shell.execute_reply": "2022-01-01T17:16:21.641963Z",
     "shell.execute_reply.started": "2022-01-01T01:14:27.913854Z"
    },
    "papermill": {
     "duration": 0.041313,
     "end_time": "2022-01-01T17:16:21.642635",
     "exception": false,
     "start_time": "2022-01-01T17:16:21.601322",
     "status": "completed"
    },
    "tags": []
   },
   "outputs": [],
   "source": [
    "#history_df = pd.DataFrame(history.history)\n",
    "#history_df.loc[:, ['loss', 'val_loss']].plot()"
   ]
  },
  {
   "cell_type": "markdown",
   "id": "simplified-judgment",
   "metadata": {
    "papermill": {
     "duration": 0.031131,
     "end_time": "2022-01-01T17:16:21.705099",
     "exception": false,
     "start_time": "2022-01-01T17:16:21.673968",
     "status": "completed"
    },
    "tags": []
   },
   "source": [
    "# Optimize Lgbm 4-1 #"
   ]
  },
  {
   "cell_type": "markdown",
   "id": "right-nickel",
   "metadata": {
    "papermill": {
     "duration": 0.031152,
     "end_time": "2022-01-01T17:16:21.768102",
     "exception": false,
     "start_time": "2022-01-01T17:16:21.736950",
     "status": "completed"
    },
    "tags": []
   },
   "source": [
    "Below is how lgbm for taget 1 is tuned and traned. Models for target 2, 3 and 4 are tuned and trained in similar process."
   ]
  },
  {
   "cell_type": "code",
   "execution_count": 29,
   "id": "fallen-riding",
   "metadata": {
    "execution": {
     "iopub.execute_input": "2022-01-01T17:16:21.841007Z",
     "iopub.status.busy": "2022-01-01T17:16:21.840295Z",
     "iopub.status.idle": "2022-01-01T17:16:24.632883Z",
     "shell.execute_reply": "2022-01-01T17:16:24.631995Z",
     "shell.execute_reply.started": "2022-01-01T01:15:11.045135Z"
    },
    "papermill": {
     "duration": 2.832104,
     "end_time": "2022-01-01T17:16:24.633051",
     "exception": false,
     "start_time": "2022-01-01T17:16:21.800947",
     "status": "completed"
    },
    "tags": []
   },
   "outputs": [],
   "source": [
    "y_valid_1=y_valid['target1']\n",
    "y_train_1=y_train['target1']\n",
    "columns=X_train.columns.tolist()\n",
    "columns\n",
    "uint8=[col for col in columns if X_train[col].dtype == \"uint8\"]\n",
    "X_train = X_train.astype({name: np.int for name  in uint8})\n",
    "X_valid = X_valid.astype({name: np.int for name  in uint8})\n",
    "X_train=X_train.astype({name:np.int for name in [\"wildeliminated\",\"eliminated\"]})\n",
    "X_valid=X_valid.astype({name:np.int for name in [\"wildeliminated\",\"eliminated\"]})\n",
    "del y_train, y_valid"
   ]
  },
  {
   "cell_type": "code",
   "execution_count": 30,
   "id": "focused-prize",
   "metadata": {
    "execution": {
     "iopub.execute_input": "2022-01-01T17:16:24.705492Z",
     "iopub.status.busy": "2022-01-01T17:16:24.704538Z",
     "iopub.status.idle": "2022-01-01T17:16:24.707695Z",
     "shell.execute_reply": "2022-01-01T17:16:24.707190Z",
     "shell.execute_reply.started": "2022-01-01T01:17:51.271966Z"
    },
    "papermill": {
     "duration": 0.043296,
     "end_time": "2022-01-01T17:16:24.707837",
     "exception": false,
     "start_time": "2022-01-01T17:16:24.664541",
     "status": "completed"
    },
    "tags": []
   },
   "outputs": [],
   "source": [
    "def objective_1(trial):\n",
    "    params = {\n",
    "       'boosting_type': 'gbdt',\n",
    "       'importance_type': 'gain',\n",
    "       'reg_alpha': trial.suggest_uniform('reg_alpha', 0.1, 0.9),\n",
    "       'reg_lambda': trial.suggest_uniform('reg_lambda', 0.1, 0.9),\n",
    "       'num_leaves': trial.suggest_int('num_leaves', 2, 256),\n",
    "       'feature_fraction': trial.suggest_uniform('feature_fraction', 0.4, 1.0),\n",
    "       'subsample': trial.suggest_uniform('subsample', 0.4, 1.0),\n",
    "       'subsample_freq': trial.suggest_int('subsample_freq', 1, 7),\n",
    "        'min_child_samples': trial.suggest_int('min_child_samples', 5, 100),\n",
    "        'learning_rate':trial.suggest_loguniform('learning_rate', 1e-5, 1e-0),\n",
    "        'num_threads': multiprocessing.cpu_count(),\n",
    "        'objective':'mae',\n",
    "        'n_estimators':1000 \n",
    "          }\n",
    "    \n",
    "    gbm = lgb.LGBMRegressor(**params)\n",
    "    gbm.fit(X_train, y_train_1,\n",
    "    eval_set=[(X_valid, y_valid_1)],\n",
    "    eval_metric='mae',\n",
    "    early_stopping_rounds=50,verbose=200\n",
    "    )\n",
    "    y_pred = gbm.predict(X_valid)\n",
    "# eval\n",
    "    mae= mean_absolute_error(y_valid_1, y_pred)\n",
    "    return mae\n"
   ]
  },
  {
   "cell_type": "markdown",
   "id": "yellow-rotation",
   "metadata": {
    "papermill": {
     "duration": 0.031045,
     "end_time": "2022-01-01T17:16:24.770964",
     "exception": false,
     "start_time": "2022-01-01T17:16:24.739919",
     "status": "completed"
    },
    "tags": []
   },
   "source": [
    "# Tune Hyperparameter with optuna #\n"
   ]
  },
  {
   "cell_type": "code",
   "execution_count": 31,
   "id": "solved-bailey",
   "metadata": {
    "execution": {
     "iopub.execute_input": "2022-01-01T17:16:24.840895Z",
     "iopub.status.busy": "2022-01-01T17:16:24.839940Z",
     "iopub.status.idle": "2022-01-01T19:18:50.831836Z",
     "shell.execute_reply": "2022-01-01T19:18:50.832628Z"
    },
    "papermill": {
     "duration": 7346.029879,
     "end_time": "2022-01-01T19:18:50.832929",
     "exception": false,
     "start_time": "2022-01-01T17:16:24.803050",
     "status": "completed"
    },
    "tags": []
   },
   "outputs": [
    {
     "name": "stderr",
     "output_type": "stream",
     "text": [
      "\u001b[32m[I 2022-01-01 17:16:24,838]\u001b[0m A new study created in memory with name: no-name-548e9620-1f52-4e4a-ac13-bc790421a547\u001b[0m\n"
     ]
    },
    {
     "name": "stdout",
     "output_type": "stream",
     "text": [
      "Training until validation scores don't improve for 50 rounds\n",
      "Training until validation scores don't improve for 50 rounds\n",
      "Training until validation scores don't improve for 50 rounds\n",
      "Training until validation scores don't improve for 50 rounds\n",
      "Early stopping, best iteration is:\n",
      "[92]\tvalid_0's l1: 1.36968\n"
     ]
    },
    {
     "name": "stderr",
     "output_type": "stream",
     "text": [
      "\u001b[32m[I 2022-01-01 17:17:33,237]\u001b[0m Trial 0 finished with value: 1.3696771614509051 and parameters: {'reg_alpha': 0.6458726980136842, 'reg_lambda': 0.518393241506194, 'num_leaves': 236, 'feature_fraction': 0.8704137221114486, 'subsample': 0.5677980742805127, 'subsample_freq': 5, 'min_child_samples': 60, 'learning_rate': 0.15020749050530585}. Best is trial 0 with value: 1.3696771614509051.\u001b[0m\n"
     ]
    },
    {
     "name": "stdout",
     "output_type": "stream",
     "text": [
      "Training until validation scores don't improve for 50 rounds\n",
      "[200]\tvalid_0's l1: 1.44741\n",
      "[200]\tvalid_0's l1: 1.3683\n",
      "[200]\tvalid_0's l1: 1.47658\n",
      "Early stopping, best iteration is:\n",
      "[216]\tvalid_0's l1: 1.36771\n"
     ]
    },
    {
     "name": "stderr",
     "output_type": "stream",
     "text": [
      "\u001b[32m[I 2022-01-01 17:18:15,504]\u001b[0m Trial 3 finished with value: 1.367711365127603 and parameters: {'reg_alpha': 0.21806577703683105, 'reg_lambda': 0.19884363674994265, 'num_leaves': 197, 'feature_fraction': 0.5333030501617965, 'subsample': 0.6053689817274363, 'subsample_freq': 5, 'min_child_samples': 43, 'learning_rate': 0.16057447780325268}. Best is trial 3 with value: 1.367711365127603.\u001b[0m\n"
     ]
    },
    {
     "name": "stdout",
     "output_type": "stream",
     "text": [
      "Training until validation scores don't improve for 50 rounds\n",
      "[400]\tvalid_0's l1: 1.42699\n",
      "[200]\tvalid_0's l1: 1.37989\n",
      "[400]\tvalid_0's l1: 1.47641\n",
      "[200]\tvalid_0's l1: 1.37673\n",
      "Early stopping, best iteration is:\n",
      "[168]\tvalid_0's l1: 1.3763\n"
     ]
    },
    {
     "name": "stderr",
     "output_type": "stream",
     "text": [
      "\u001b[32m[I 2022-01-01 17:19:30,463]\u001b[0m Trial 5 finished with value: 1.376301685323312 and parameters: {'reg_alpha': 0.6498810277306861, 'reg_lambda': 0.19143140605705666, 'num_leaves': 144, 'feature_fraction': 0.7366711030518323, 'subsample': 0.7917723218520532, 'subsample_freq': 6, 'min_child_samples': 11, 'learning_rate': 0.5600671514412197}. Best is trial 3 with value: 1.367711365127603.\u001b[0m\n"
     ]
    },
    {
     "name": "stdout",
     "output_type": "stream",
     "text": [
      "Training until validation scores don't improve for 50 rounds\n",
      "[400]\tvalid_0's l1: 1.37835\n",
      "[600]\tvalid_0's l1: 1.41338\n",
      "[600]\tvalid_0's l1: 1.47623\n",
      "[600]\tvalid_0's l1: 1.37467\n",
      "[800]\tvalid_0's l1: 1.40384\n",
      "Early stopping, best iteration is:\n",
      "[686]\tvalid_0's l1: 1.37424\n"
     ]
    },
    {
     "name": "stderr",
     "output_type": "stream",
     "text": [
      "\u001b[32m[I 2022-01-01 17:21:25,651]\u001b[0m Trial 4 finished with value: 1.3742443689462789 and parameters: {'reg_alpha': 0.3643530092156637, 'reg_lambda': 0.4956863201624625, 'num_leaves': 56, 'feature_fraction': 0.5494762016872186, 'subsample': 0.9381420690227269, 'subsample_freq': 5, 'min_child_samples': 100, 'learning_rate': 0.0353381260825993}. Best is trial 3 with value: 1.367711365127603.\u001b[0m\n"
     ]
    },
    {
     "name": "stdout",
     "output_type": "stream",
     "text": [
      "[200]\tvalid_0's l1: 1.47647\n",
      "Training until validation scores don't improve for 50 rounds\n",
      "[800]\tvalid_0's l1: 1.47604\n",
      "[1000]\tvalid_0's l1: 1.39728\n",
      "Did not meet early stopping. Best iteration is:\n",
      "[1000]\tvalid_0's l1: 1.39728\n"
     ]
    },
    {
     "name": "stderr",
     "output_type": "stream",
     "text": [
      "\u001b[32m[I 2022-01-01 17:22:19,026]\u001b[0m Trial 1 finished with value: 1.3972781224405761 and parameters: {'reg_alpha': 0.4036738228123923, 'reg_lambda': 0.5616150532598799, 'num_leaves': 135, 'feature_fraction': 0.9276567124034819, 'subsample': 0.47828309937373026, 'subsample_freq': 4, 'min_child_samples': 75, 'learning_rate': 0.0013990490210092953}. Best is trial 3 with value: 1.367711365127603.\u001b[0m\n"
     ]
    },
    {
     "name": "stdout",
     "output_type": "stream",
     "text": [
      "Training until validation scores don't improve for 50 rounds\n",
      "[200]\tvalid_0's l1: 1.47641\n",
      "[1000]\tvalid_0's l1: 1.47584\n",
      "Did not meet early stopping. Best iteration is:\n",
      "[1000]\tvalid_0's l1: 1.47584\n",
      "[400]\tvalid_0's l1: 1.47618\n"
     ]
    },
    {
     "name": "stderr",
     "output_type": "stream",
     "text": [
      "\u001b[32m[I 2022-01-01 17:23:31,106]\u001b[0m Trial 2 finished with value: 1.4758433890497322 and parameters: {'reg_alpha': 0.8708470406561415, 'reg_lambda': 0.544428870797115, 'num_leaves': 197, 'feature_fraction': 0.860569330703177, 'subsample': 0.6084816706054401, 'subsample_freq': 7, 'min_child_samples': 62, 'learning_rate': 1.0294145610720608e-05}. Best is trial 3 with value: 1.367711365127603.\u001b[0m\n"
     ]
    },
    {
     "name": "stdout",
     "output_type": "stream",
     "text": [
      "Training until validation scores don't improve for 50 rounds\n",
      "[200]\tvalid_0's l1: 1.47571\n",
      "[400]\tvalid_0's l1: 1.47608\n",
      "[200]\tvalid_0's l1: 1.37637\n",
      "[600]\tvalid_0's l1: 1.47588\n",
      "[600]\tvalid_0's l1: 1.47572\n",
      "[400]\tvalid_0's l1: 1.37239\n",
      "[400]\tvalid_0's l1: 1.47454\n",
      "[600]\tvalid_0's l1: 1.36971\n",
      "[800]\tvalid_0's l1: 1.47535\n",
      "[800]\tvalid_0's l1: 1.47558\n",
      "[800]\tvalid_0's l1: 1.3669\n",
      "[600]\tvalid_0's l1: 1.47327\n",
      "Early stopping, best iteration is:\n",
      "[862]\tvalid_0's l1: 1.36668\n"
     ]
    },
    {
     "name": "stderr",
     "output_type": "stream",
     "text": [
      "\u001b[32m[I 2022-01-01 17:27:34,693]\u001b[0m Trial 9 finished with value: 1.3666786314278736 and parameters: {'reg_alpha': 0.8239295814203415, 'reg_lambda': 0.30033533234794263, 'num_leaves': 68, 'feature_fraction': 0.550011442141727, 'subsample': 0.675488010131891, 'subsample_freq': 5, 'min_child_samples': 46, 'learning_rate': 0.08971854080630787}. Best is trial 9 with value: 1.3666786314278736.\u001b[0m\n"
     ]
    },
    {
     "name": "stdout",
     "output_type": "stream",
     "text": [
      "Training until validation scores don't improve for 50 rounds\n",
      "[1000]\tvalid_0's l1: 1.47496\n",
      "Did not meet early stopping. Best iteration is:\n",
      "[1000]\tvalid_0's l1: 1.47496\n"
     ]
    },
    {
     "name": "stderr",
     "output_type": "stream",
     "text": [
      "\u001b[32m[I 2022-01-01 17:28:08,837]\u001b[0m Trial 7 finished with value: 1.4749562083192853 and parameters: {'reg_alpha': 0.7811496106246775, 'reg_lambda': 0.631511871126627, 'num_leaves': 89, 'feature_fraction': 0.6582226343069593, 'subsample': 0.7793383552462401, 'subsample_freq': 5, 'min_child_samples': 39, 'learning_rate': 2.2043740746469567e-05}. Best is trial 9 with value: 1.3666786314278736.\u001b[0m\n"
     ]
    },
    {
     "name": "stdout",
     "output_type": "stream",
     "text": [
      "Training until validation scores don't improve for 50 rounds\n",
      "[800]\tvalid_0's l1: 1.47195\n",
      "[1000]\tvalid_0's l1: 1.47527\n",
      "Did not meet early stopping. Best iteration is:\n",
      "[1000]\tvalid_0's l1: 1.47527\n",
      "[200]\tvalid_0's l1: 1.4744\n"
     ]
    },
    {
     "name": "stderr",
     "output_type": "stream",
     "text": [
      "\u001b[32m[I 2022-01-01 17:29:12,518]\u001b[0m Trial 6 finished with value: 1.4752727875346934 and parameters: {'reg_alpha': 0.770370142403116, 'reg_lambda': 0.5504008628424154, 'num_leaves': 191, 'feature_fraction': 0.46660797506241913, 'subsample': 0.871507693200507, 'subsample_freq': 5, 'min_child_samples': 45, 'learning_rate': 1.670438360572384e-05}. Best is trial 9 with value: 1.3666786314278736.\u001b[0m\n"
     ]
    },
    {
     "name": "stdout",
     "output_type": "stream",
     "text": [
      "Training until validation scores don't improve for 50 rounds\n",
      "[200]\tvalid_0's l1: 1.46966\n",
      "Early stopping, best iteration is:\n",
      "[134]\tvalid_0's l1: 1.39241\n"
     ]
    },
    {
     "name": "stderr",
     "output_type": "stream",
     "text": [
      "\u001b[32m[I 2022-01-01 17:29:56,364]\u001b[0m Trial 12 finished with value: 1.3924096144743117 and parameters: {'reg_alpha': 0.7658415262838038, 'reg_lambda': 0.5818117461971393, 'num_leaves': 19, 'feature_fraction': 0.8800651821254576, 'subsample': 0.6917226372713785, 'subsample_freq': 4, 'min_child_samples': 64, 'learning_rate': 0.05361925355880613}. Best is trial 9 with value: 1.3666786314278736.\u001b[0m\n"
     ]
    },
    {
     "name": "stdout",
     "output_type": "stream",
     "text": [
      "[1000]\tvalid_0's l1: 1.4706\n",
      "Did not meet early stopping. Best iteration is:\n",
      "[1000]\tvalid_0's l1: 1.4706\n",
      "Training until validation scores don't improve for 50 rounds\n"
     ]
    },
    {
     "name": "stderr",
     "output_type": "stream",
     "text": [
      "\u001b[32m[I 2022-01-01 17:30:21,786]\u001b[0m Trial 8 finished with value: 1.4706009480347593 and parameters: {'reg_alpha': 0.8311617249331799, 'reg_lambda': 0.14298939718712964, 'num_leaves': 193, 'feature_fraction': 0.8610394902396532, 'subsample': 0.7001454011234036, 'subsample_freq': 4, 'min_child_samples': 95, 'learning_rate': 5.811887298622751e-05}. Best is trial 9 with value: 1.3666786314278736.\u001b[0m\n"
     ]
    },
    {
     "name": "stdout",
     "output_type": "stream",
     "text": [
      "[400]\tvalid_0's l1: 1.4621\n",
      "[400]\tvalid_0's l1: 1.47169\n",
      "Training until validation scores don't improve for 50 rounds\n",
      "[200]\tvalid_0's l1: 1.46456\n",
      "[600]\tvalid_0's l1: 1.455\n",
      "[200]\tvalid_0's l1: 1.41732\n",
      "[400]\tvalid_0's l1: 1.45126\n",
      "[600]\tvalid_0's l1: 1.46884\n",
      "[800]\tvalid_0's l1: 1.44854\n",
      "[600]\tvalid_0's l1: 1.44086\n",
      "[400]\tvalid_0's l1: 1.395\n",
      "[800]\tvalid_0's l1: 1.46595\n",
      "[1000]\tvalid_0's l1: 1.44271\n",
      "Did not meet early stopping. Best iteration is:\n",
      "[1000]\tvalid_0's l1: 1.44271\n",
      "[800]\tvalid_0's l1: 1.43326\n"
     ]
    },
    {
     "name": "stderr",
     "output_type": "stream",
     "text": [
      "\u001b[32m[I 2022-01-01 17:34:01,679]\u001b[0m Trial 11 finished with value: 1.4427136699475704 and parameters: {'reg_alpha': 0.27630277825838406, 'reg_lambda': 0.5648472075506311, 'num_leaves': 151, 'feature_fraction': 0.6604152145353299, 'subsample': 0.6229284150304926, 'subsample_freq': 1, 'min_child_samples': 31, 'learning_rate': 0.00035318535114302465}. Best is trial 9 with value: 1.3666786314278736.\u001b[0m\n"
     ]
    },
    {
     "name": "stdout",
     "output_type": "stream",
     "text": [
      "Training until validation scores don't improve for 50 rounds\n",
      "[600]\tvalid_0's l1: 1.3853\n",
      "[1000]\tvalid_0's l1: 1.42724\n",
      "Did not meet early stopping. Best iteration is:\n",
      "[1000]\tvalid_0's l1: 1.42724\n"
     ]
    },
    {
     "name": "stderr",
     "output_type": "stream",
     "text": [
      "\u001b[32m[I 2022-01-01 17:34:44,399]\u001b[0m Trial 13 finished with value: 1.4272444862073894 and parameters: {'reg_alpha': 0.8989418724308356, 'reg_lambda': 0.8754043910322111, 'num_leaves': 7, 'feature_fraction': 0.6742919695840572, 'subsample': 0.4898712498034121, 'subsample_freq': 1, 'min_child_samples': 11, 'learning_rate': 0.0014332685106404253}. Best is trial 9 with value: 1.3666786314278736.\u001b[0m\n"
     ]
    },
    {
     "name": "stdout",
     "output_type": "stream",
     "text": [
      "[1000]\tvalid_0's l1: 1.46319\n",
      "Did not meet early stopping. Best iteration is:\n",
      "[1000]\tvalid_0's l1: 1.46319\n",
      "Training until validation scores don't improve for 50 rounds\n"
     ]
    },
    {
     "name": "stderr",
     "output_type": "stream",
     "text": [
      "\u001b[32m[I 2022-01-01 17:35:08,247]\u001b[0m Trial 10 finished with value: 1.4631933142853026 and parameters: {'reg_alpha': 0.7730180675757875, 'reg_lambda': 0.8559520747507688, 'num_leaves': 101, 'feature_fraction': 0.6011940444582544, 'subsample': 0.8106962562644959, 'subsample_freq': 4, 'min_child_samples': 18, 'learning_rate': 0.00013644747394413474}. Best is trial 9 with value: 1.3666786314278736.\u001b[0m\n"
     ]
    },
    {
     "name": "stdout",
     "output_type": "stream",
     "text": [
      "Early stopping, best iteration is:\n",
      "[112]\tvalid_0's l1: 1.37353\n"
     ]
    },
    {
     "name": "stderr",
     "output_type": "stream",
     "text": [
      "\u001b[32m[I 2022-01-01 17:35:16,615]\u001b[0m Trial 15 finished with value: 1.3735308383211682 and parameters: {'reg_alpha': 0.12344275112459041, 'reg_lambda': 0.3225918637284936, 'num_leaves': 89, 'feature_fraction': 0.40072871702642926, 'subsample': 0.4423650758766987, 'subsample_freq': 1, 'min_child_samples': 20, 'learning_rate': 0.815268867580768}. Best is trial 9 with value: 1.3666786314278736.\u001b[0m\n"
     ]
    },
    {
     "name": "stdout",
     "output_type": "stream",
     "text": [
      "Training until validation scores don't improve for 50 rounds\n",
      "Early stopping, best iteration is:\n",
      "[54]\tvalid_0's l1: 1.38612\n"
     ]
    },
    {
     "name": "stderr",
     "output_type": "stream",
     "text": [
      "\u001b[32m[I 2022-01-01 17:35:21,141]\u001b[0m Trial 16 finished with value: 1.3861243312756384 and parameters: {'reg_alpha': 0.1051921229907643, 'reg_lambda': 0.3007900375108899, 'num_leaves': 91, 'feature_fraction': 0.40790091362527153, 'subsample': 0.4282637038726166, 'subsample_freq': 7, 'min_child_samples': 27, 'learning_rate': 0.9746413339103317}. Best is trial 9 with value: 1.3666786314278736.\u001b[0m\n"
     ]
    },
    {
     "name": "stdout",
     "output_type": "stream",
     "text": [
      "Training until validation scores don't improve for 50 rounds\n",
      "Training until validation scores don't improve for 50 rounds\n",
      "[800]\tvalid_0's l1: 1.37955\n",
      "[200]\tvalid_0's l1: 1.38671\n",
      "[200]\tvalid_0's l1: 1.38929\n",
      "[1000]\tvalid_0's l1: 1.37665\n",
      "Did not meet early stopping. Best iteration is:\n",
      "[1000]\tvalid_0's l1: 1.37665\n",
      "[200]\tvalid_0's l1: 1.37722\n"
     ]
    },
    {
     "name": "stderr",
     "output_type": "stream",
     "text": [
      "\u001b[32m[I 2022-01-01 17:37:19,944]\u001b[0m Trial 14 finished with value: 1.3766463148414267 and parameters: {'reg_alpha': 0.15908380460328583, 'reg_lambda': 0.3041653508273083, 'num_leaves': 83, 'feature_fraction': 0.4341848282496436, 'subsample': 0.4423260513670303, 'subsample_freq': 1, 'min_child_samples': 27, 'learning_rate': 0.004772812394085137}. Best is trial 9 with value: 1.3666786314278736.\u001b[0m\n"
     ]
    },
    {
     "name": "stdout",
     "output_type": "stream",
     "text": [
      "Training until validation scores don't improve for 50 rounds\n",
      "[400]\tvalid_0's l1: 1.3717\n",
      "[400]\tvalid_0's l1: 1.37435\n",
      "[400]\tvalid_0's l1: 1.3673\n",
      "[200]\tvalid_0's l1: 1.37875\n",
      "[600]\tvalid_0's l1: 1.36616\n",
      "[600]\tvalid_0's l1: 1.36595\n",
      "[600]\tvalid_0's l1: 1.36914\n",
      "Early stopping, best iteration is:\n",
      "[578]\tvalid_0's l1: 1.36588\n"
     ]
    },
    {
     "name": "stderr",
     "output_type": "stream",
     "text": [
      "\u001b[32m[I 2022-01-01 17:40:24,826]\u001b[0m Trial 19 finished with value: 1.3658844202219236 and parameters: {'reg_alpha': 0.19525166164367225, 'reg_lambda': 0.36348573015731167, 'num_leaves': 249, 'feature_fraction': 0.5155216306590316, 'subsample': 0.5498724790068206, 'subsample_freq': 3, 'min_child_samples': 48, 'learning_rate': 0.01504753251315197}. Best is trial 19 with value: 1.3658844202219236.\u001b[0m\n"
     ]
    },
    {
     "name": "stdout",
     "output_type": "stream",
     "text": [
      "Training until validation scores don't improve for 50 rounds\n",
      "[400]\tvalid_0's l1: 1.36896\n",
      "[800]\tvalid_0's l1: 1.36456\n",
      "[800]\tvalid_0's l1: 1.36788\n",
      "[200]\tvalid_0's l1: 1.40109\n",
      "[1000]\tvalid_0's l1: 1.36366\n",
      "Did not meet early stopping. Best iteration is:\n",
      "[993]\tvalid_0's l1: 1.36365\n",
      "[600]\tvalid_0's l1: 1.3673\n",
      "[400]\tvalid_0's l1: 1.38729\n"
     ]
    },
    {
     "name": "stderr",
     "output_type": "stream",
     "text": [
      "\u001b[32m[I 2022-01-01 17:42:48,788]\u001b[0m Trial 17 finished with value: 1.3636509262585537 and parameters: {'reg_alpha': 0.1468152491830631, 'reg_lambda': 0.29848378478322757, 'num_leaves': 255, 'feature_fraction': 0.4314757304268292, 'subsample': 0.4065835150956014, 'subsample_freq': 2, 'min_child_samples': 23, 'learning_rate': 0.009499627105679701}. Best is trial 17 with value: 1.3636509262585537.\u001b[0m\n"
     ]
    },
    {
     "name": "stdout",
     "output_type": "stream",
     "text": [
      "[1000]\tvalid_0's l1: 1.3673\n",
      "Did not meet early stopping. Best iteration is:\n",
      "[1000]\tvalid_0's l1: 1.3673\n",
      "Training until validation scores don't improve for 50 rounds\n"
     ]
    },
    {
     "name": "stderr",
     "output_type": "stream",
     "text": [
      "\u001b[32m[I 2022-01-01 17:43:14,956]\u001b[0m Trial 18 finished with value: 1.3673003647195572 and parameters: {'reg_alpha': 0.17391939826452557, 'reg_lambda': 0.29165897706216204, 'num_leaves': 236, 'feature_fraction': 0.4997122874280101, 'subsample': 0.6942436201020596, 'subsample_freq': 7, 'min_child_samples': 78, 'learning_rate': 0.008923366622985795}. Best is trial 17 with value: 1.3636509262585537.\u001b[0m\n"
     ]
    },
    {
     "name": "stdout",
     "output_type": "stream",
     "text": [
      "Training until validation scores don't improve for 50 rounds\n",
      "[600]\tvalid_0's l1: 1.38129\n",
      "[800]\tvalid_0's l1: 1.36658\n",
      "[800]\tvalid_0's l1: 1.38025\n",
      "Early stopping, best iteration is:\n",
      "[885]\tvalid_0's l1: 1.36642\n",
      "[200]\tvalid_0's l1: 1.38344\n",
      "[200]\tvalid_0's l1: 1.37852\n"
     ]
    },
    {
     "name": "stderr",
     "output_type": "stream",
     "text": [
      "\u001b[32m[I 2022-01-01 17:45:05,696]\u001b[0m Trial 20 finished with value: 1.366420428918404 and parameters: {'reg_alpha': 0.5825948818913593, 'reg_lambda': 0.3915865541615743, 'num_leaves': 248, 'feature_fraction': 0.5142398751337091, 'subsample': 0.6894326139921833, 'subsample_freq': 3, 'min_child_samples': 78, 'learning_rate': 0.013589543577481282}. Best is trial 17 with value: 1.3636509262585537.\u001b[0m\n"
     ]
    },
    {
     "name": "stdout",
     "output_type": "stream",
     "text": [
      "[1000]\tvalid_0's l1: 1.37977\n",
      "Did not meet early stopping. Best iteration is:\n",
      "[999]\tvalid_0's l1: 1.37977\n",
      "Training until validation scores don't improve for 50 rounds\n"
     ]
    },
    {
     "name": "stderr",
     "output_type": "stream",
     "text": [
      "\u001b[32m[I 2022-01-01 17:45:24,187]\u001b[0m Trial 21 finished with value: 1.3797745127014283 and parameters: {'reg_alpha': 0.5202012208738831, 'reg_lambda': 0.41197288186166825, 'num_leaves': 44, 'feature_fraction': 0.5108834410678623, 'subsample': 0.5391862774256679, 'subsample_freq': 2, 'min_child_samples': 78, 'learning_rate': 0.008308061866202206}. Best is trial 17 with value: 1.3636509262585537.\u001b[0m\n"
     ]
    },
    {
     "name": "stdout",
     "output_type": "stream",
     "text": [
      "Training until validation scores don't improve for 50 rounds\n",
      "[400]\tvalid_0's l1: 1.37067\n",
      "[400]\tvalid_0's l1: 1.36903\n",
      "[200]\tvalid_0's l1: 1.37646\n",
      "[200]\tvalid_0's l1: 1.37138\n",
      "[600]\tvalid_0's l1: 1.36698\n",
      "[600]\tvalid_0's l1: 1.36784\n",
      "Early stopping, best iteration is:\n",
      "[323]\tvalid_0's l1: 1.36709\n"
     ]
    },
    {
     "name": "stderr",
     "output_type": "stream",
     "text": [
      "\u001b[32m[I 2022-01-01 17:48:27,521]\u001b[0m Trial 25 finished with value: 1.36708794329125 and parameters: {'reg_alpha': 0.5325225775564438, 'reg_lambda': 0.4125735218346755, 'num_leaves': 253, 'feature_fraction': 0.7580639168156124, 'subsample': 0.5249949447982142, 'subsample_freq': 2, 'min_child_samples': 89, 'learning_rate': 0.020334829909390804}. Best is trial 17 with value: 1.3636509262585537.\u001b[0m\n"
     ]
    },
    {
     "name": "stdout",
     "output_type": "stream",
     "text": [
      "[400]\tvalid_0's l1: 1.36692\n",
      "Training until validation scores don't improve for 50 rounds\n",
      "Early stopping, best iteration is:\n",
      "[738]\tvalid_0's l1: 1.36648\n",
      "[800]\tvalid_0's l1: 1.36662\n"
     ]
    },
    {
     "name": "stderr",
     "output_type": "stream",
     "text": [
      "\u001b[32m[I 2022-01-01 17:49:27,987]\u001b[0m Trial 23 finished with value: 1.3664782317310242 and parameters: {'reg_alpha': 0.2978732420260235, 'reg_lambda': 0.4039679788581028, 'num_leaves': 256, 'feature_fraction': 0.7682654441527632, 'subsample': 0.5262552321626466, 'subsample_freq': 2, 'min_child_samples': 36, 'learning_rate': 0.013489611296941484}. Best is trial 17 with value: 1.3636509262585537.\u001b[0m\n"
     ]
    },
    {
     "name": "stdout",
     "output_type": "stream",
     "text": [
      "Training until validation scores don't improve for 50 rounds\n",
      "[200]\tvalid_0's l1: 1.44178\n",
      "[600]\tvalid_0's l1: 1.36485\n",
      "[1000]\tvalid_0's l1: 1.36581\n",
      "Did not meet early stopping. Best iteration is:\n",
      "[994]\tvalid_0's l1: 1.3658\n",
      "[200]\tvalid_0's l1: 1.4381\n"
     ]
    },
    {
     "name": "stderr",
     "output_type": "stream",
     "text": [
      "\u001b[32m[I 2022-01-01 17:51:09,143]\u001b[0m Trial 22 finished with value: 1.3658036734591013 and parameters: {'reg_alpha': 0.31120502146391116, 'reg_lambda': 0.4091401151096294, 'num_leaves': 254, 'feature_fraction': 0.4850011820434019, 'subsample': 0.5338913536238782, 'subsample_freq': 2, 'min_child_samples': 80, 'learning_rate': 0.010851751311132963}. Best is trial 17 with value: 1.3636509262585537.\u001b[0m\n"
     ]
    },
    {
     "name": "stdout",
     "output_type": "stream",
     "text": [
      "Training until validation scores don't improve for 50 rounds\n",
      "[400]\tvalid_0's l1: 1.41873\n",
      "[800]\tvalid_0's l1: 1.36421\n",
      "[400]\tvalid_0's l1: 1.4142\n",
      "[200]\tvalid_0's l1: 1.43861\n",
      "[600]\tvalid_0's l1: 1.40398\n",
      "[1000]\tvalid_0's l1: 1.36384\n",
      "Did not meet early stopping. Best iteration is:\n",
      "[988]\tvalid_0's l1: 1.36384\n"
     ]
    },
    {
     "name": "stderr",
     "output_type": "stream",
     "text": [
      "\u001b[32m[I 2022-01-01 17:53:18,495]\u001b[0m Trial 24 finished with value: 1.3638410190556767 and parameters: {'reg_alpha': 0.5710083832398855, 'reg_lambda': 0.41200965710307963, 'num_leaves': 256, 'feature_fraction': 0.4725786491082933, 'subsample': 0.5276452641176206, 'subsample_freq': 2, 'min_child_samples': 89, 'learning_rate': 0.015443257036456158}. Best is trial 17 with value: 1.3636509262585537.\u001b[0m\n"
     ]
    },
    {
     "name": "stdout",
     "output_type": "stream",
     "text": [
      "Training until validation scores don't improve for 50 rounds\n",
      "[600]\tvalid_0's l1: 1.40003\n",
      "[400]\tvalid_0's l1: 1.41497\n",
      "[800]\tvalid_0's l1: 1.39406\n",
      "[200]\tvalid_0's l1: 1.43871\n",
      "[800]\tvalid_0's l1: 1.39099\n",
      "[1000]\tvalid_0's l1: 1.38745\n",
      "Did not meet early stopping. Best iteration is:\n",
      "[997]\tvalid_0's l1: 1.38743\n",
      "[600]\tvalid_0's l1: 1.40078\n"
     ]
    },
    {
     "name": "stderr",
     "output_type": "stream",
     "text": [
      "\u001b[32m[I 2022-01-01 17:55:53,843]\u001b[0m Trial 26 finished with value: 1.3874281784993163 and parameters: {'reg_alpha': 0.6187742269692744, 'reg_lambda': 0.41358624349928713, 'num_leaves': 246, 'feature_fraction': 0.5978749804734976, 'subsample': 0.4045218244131166, 'subsample_freq': 3, 'min_child_samples': 53, 'learning_rate': 0.0018012148371784043}. Best is trial 17 with value: 1.3636509262585537.\u001b[0m\n"
     ]
    },
    {
     "name": "stdout",
     "output_type": "stream",
     "text": [
      "Training until validation scores don't improve for 50 rounds\n",
      "[400]\tvalid_0's l1: 1.4151\n",
      "[1000]\tvalid_0's l1: 1.385\n",
      "Did not meet early stopping. Best iteration is:\n",
      "[1000]\tvalid_0's l1: 1.385\n",
      "[800]\tvalid_0's l1: 1.39162\n"
     ]
    },
    {
     "name": "stderr",
     "output_type": "stream",
     "text": [
      "\u001b[32m[I 2022-01-01 17:56:55,003]\u001b[0m Trial 27 finished with value: 1.3849975393041523 and parameters: {'reg_alpha': 0.6086115049747198, 'reg_lambda': 0.7243580945947596, 'num_leaves': 221, 'feature_fraction': 0.5928680734817174, 'subsample': 0.40409633220887076, 'subsample_freq': 3, 'min_child_samples': 55, 'learning_rate': 0.0020576068934840845}. Best is trial 17 with value: 1.3636509262585537.\u001b[0m\n"
     ]
    },
    {
     "name": "stdout",
     "output_type": "stream",
     "text": [
      "Training until validation scores don't improve for 50 rounds\n",
      "[200]\tvalid_0's l1: 1.42422\n",
      "[600]\tvalid_0's l1: 1.40059\n",
      "[1000]\tvalid_0's l1: 1.38565\n",
      "Did not meet early stopping. Best iteration is:\n",
      "[1000]\tvalid_0's l1: 1.38565\n",
      "[200]\tvalid_0's l1: 1.46382\n"
     ]
    },
    {
     "name": "stderr",
     "output_type": "stream",
     "text": [
      "\u001b[32m[I 2022-01-01 17:58:41,182]\u001b[0m Trial 28 finished with value: 1.385645062071598 and parameters: {'reg_alpha': 0.4107777518397125, 'reg_lambda': 0.7015114823309212, 'num_leaves': 220, 'feature_fraction': 0.6018980087447388, 'subsample': 0.4060171105030418, 'subsample_freq': 3, 'min_child_samples': 52, 'learning_rate': 0.00202018555950724}. Best is trial 17 with value: 1.3636509262585537.\u001b[0m\n"
     ]
    },
    {
     "name": "stdout",
     "output_type": "stream",
     "text": [
      "Training until validation scores don't improve for 50 rounds\n",
      "[800]\tvalid_0's l1: 1.39116\n",
      "[400]\tvalid_0's l1: 1.39911\n",
      "[200]\tvalid_0's l1: 1.36606\n",
      "[400]\tvalid_0's l1: 1.45153\n",
      "[1000]\tvalid_0's l1: 1.38472\n",
      "Did not meet early stopping. Best iteration is:\n",
      "[1000]\tvalid_0's l1: 1.38472\n",
      "[600]\tvalid_0's l1: 1.38632\n"
     ]
    },
    {
     "name": "stderr",
     "output_type": "stream",
     "text": [
      "\u001b[32m[I 2022-01-01 18:00:43,960]\u001b[0m Trial 29 finished with value: 1.3847189107995277 and parameters: {'reg_alpha': 0.4283378640885256, 'reg_lambda': 0.46359566688496745, 'num_leaves': 219, 'feature_fraction': 0.4482463703071291, 'subsample': 0.41101632649207015, 'subsample_freq': 3, 'min_child_samples': 86, 'learning_rate': 0.0021356112957845318}. Best is trial 17 with value: 1.3636509262585537.\u001b[0m\n"
     ]
    },
    {
     "name": "stdout",
     "output_type": "stream",
     "text": [
      "Early stopping, best iteration is:\n",
      "[281]\tvalid_0's l1: 1.36557\n",
      "Training until validation scores don't improve for 50 rounds\n"
     ]
    },
    {
     "name": "stderr",
     "output_type": "stream",
     "text": [
      "\u001b[32m[I 2022-01-01 18:00:55,229]\u001b[0m Trial 32 finished with value: 1.3655659880601498 and parameters: {'reg_alpha': 0.686217836770617, 'reg_lambda': 0.49102426516769304, 'num_leaves': 175, 'feature_fraction': 0.4485290038399632, 'subsample': 0.48471355714486497, 'subsample_freq': 2, 'min_child_samples': 69, 'learning_rate': 0.2570921655682015}. Best is trial 17 with value: 1.3636509262585537.\u001b[0m\n"
     ]
    },
    {
     "name": "stdout",
     "output_type": "stream",
     "text": [
      "Training until validation scores don't improve for 50 rounds\n",
      "[600]\tvalid_0's l1: 1.44142\n",
      "[800]\tvalid_0's l1: 1.37892\n",
      "[200]\tvalid_0's l1: 1.36555\n",
      "[200]\tvalid_0's l1: 1.36718\n",
      "Early stopping, best iteration is:\n",
      "[264]\tvalid_0's l1: 1.36644\n"
     ]
    },
    {
     "name": "stderr",
     "output_type": "stream",
     "text": [
      "\u001b[32m[I 2022-01-01 18:02:57,291]\u001b[0m Trial 34 finished with value: 1.3664391518971408 and parameters: {'reg_alpha': 0.6937481133014644, 'reg_lambda': 0.47723306872152654, 'num_leaves': 172, 'feature_fraction': 0.4720472320093235, 'subsample': 0.483439429392874, 'subsample_freq': 2, 'min_child_samples': 69, 'learning_rate': 0.1875642488551682}. Best is trial 17 with value: 1.3636509262585537.\u001b[0m\n"
     ]
    },
    {
     "name": "stdout",
     "output_type": "stream",
     "text": [
      "Training until validation scores don't improve for 50 rounds\n",
      "[1000]\tvalid_0's l1: 1.37442\n",
      "Did not meet early stopping. Best iteration is:\n",
      "[1000]\tvalid_0's l1: 1.37442\n",
      "[400]\tvalid_0's l1: 1.36223\n",
      "[800]\tvalid_0's l1: 1.43306\n",
      "Early stopping, best iteration is:\n",
      "[394]\tvalid_0's l1: 1.36222\n"
     ]
    },
    {
     "name": "stderr",
     "output_type": "stream",
     "text": [
      "\u001b[32m[I 2022-01-01 18:03:41,162]\u001b[0m Trial 33 finished with value: 1.36222459369548 and parameters: {'reg_alpha': 0.26590361227273873, 'reg_lambda': 0.2397083380611361, 'num_leaves': 168, 'feature_fraction': 0.4774585948755324, 'subsample': 0.4878808300517289, 'subsample_freq': 2, 'min_child_samples': 69, 'learning_rate': 0.21334481421245585}. Best is trial 33 with value: 1.36222459369548.\u001b[0m\n",
      "\u001b[32m[I 2022-01-01 18:03:45,232]\u001b[0m Trial 30 finished with value: 1.3744248752487338 and parameters: {'reg_alpha': 0.43458910865436473, 'reg_lambda': 0.6641415094158114, 'num_leaves': 224, 'feature_fraction': 0.4289389304900821, 'subsample': 0.40052936605705025, 'subsample_freq': 2, 'min_child_samples': 89, 'learning_rate': 0.003406775440901421}. Best is trial 33 with value: 1.36222459369548.\u001b[0m\n"
     ]
    },
    {
     "name": "stdout",
     "output_type": "stream",
     "text": [
      "Training until validation scores don't improve for 50 rounds\n",
      "Training until validation scores don't improve for 50 rounds\n",
      "Early stopping, best iteration is:\n",
      "[130]\tvalid_0's l1: 1.36644\n"
     ]
    },
    {
     "name": "stderr",
     "output_type": "stream",
     "text": [
      "\u001b[32m[I 2022-01-01 18:04:08,164]\u001b[0m Trial 35 finished with value: 1.3664405151887231 and parameters: {'reg_alpha': 0.6813101060195931, 'reg_lambda': 0.25978003905547453, 'num_leaves': 118, 'feature_fraction': 0.40082244909466225, 'subsample': 0.4836019768721076, 'subsample_freq': 2, 'min_child_samples': 85, 'learning_rate': 0.24323978946438066}. Best is trial 33 with value: 1.36222459369548.\u001b[0m\n"
     ]
    },
    {
     "name": "stdout",
     "output_type": "stream",
     "text": [
      "Training until validation scores don't improve for 50 rounds\n",
      "Early stopping, best iteration is:\n",
      "[48]\tvalid_0's l1: 1.36801\n"
     ]
    },
    {
     "name": "stderr",
     "output_type": "stream",
     "text": [
      "\u001b[32m[I 2022-01-01 18:04:46,709]\u001b[0m Trial 38 finished with value: 1.368005081892687 and parameters: {'reg_alpha': 0.47896877445227415, 'reg_lambda': 0.1992257063999871, 'num_leaves': 175, 'feature_fraction': 0.978253442310012, 'subsample': 0.5970832115911309, 'subsample_freq': 1, 'min_child_samples': 68, 'learning_rate': 0.32140577922232105}. Best is trial 33 with value: 1.36222459369548.\u001b[0m\n"
     ]
    },
    {
     "name": "stdout",
     "output_type": "stream",
     "text": [
      "Training until validation scores don't improve for 50 rounds\n",
      "[1000]\tvalid_0's l1: 1.42568\n",
      "Did not meet early stopping. Best iteration is:\n",
      "[1000]\tvalid_0's l1: 1.42568\n",
      "Early stopping, best iteration is:\n",
      "[140]\tvalid_0's l1: 1.36677\n"
     ]
    },
    {
     "name": "stderr",
     "output_type": "stream",
     "text": [
      "\u001b[32m[I 2022-01-01 18:05:07,439]\u001b[0m Trial 36 finished with value: 1.3667707852958448 and parameters: {'reg_alpha': 0.4634812386974973, 'reg_lambda': 0.25676102379649784, 'num_leaves': 168, 'feature_fraction': 0.4365302087609301, 'subsample': 0.470791037770198, 'subsample_freq': 2, 'min_child_samples': 71, 'learning_rate': 0.29776459548664436}. Best is trial 33 with value: 1.36222459369548.\u001b[0m\n"
     ]
    },
    {
     "name": "stdout",
     "output_type": "stream",
     "text": [
      "Training until validation scores don't improve for 50 rounds\n",
      "[200]\tvalid_0's l1: 1.36678\n"
     ]
    },
    {
     "name": "stderr",
     "output_type": "stream",
     "text": [
      "\u001b[32m[I 2022-01-01 18:05:29,301]\u001b[0m Trial 31 finished with value: 1.4256816184749734 and parameters: {'reg_alpha': 0.43883947884656926, 'reg_lambda': 0.2366667145297071, 'num_leaves': 217, 'feature_fraction': 0.452561855577949, 'subsample': 0.509187828027861, 'subsample_freq': 2, 'min_child_samples': 68, 'learning_rate': 0.0006363271961719922}. Best is trial 33 with value: 1.36222459369548.\u001b[0m\n"
     ]
    },
    {
     "name": "stdout",
     "output_type": "stream",
     "text": [
      "Training until validation scores don't improve for 50 rounds\n",
      "Early stopping, best iteration is:\n",
      "[219]\tvalid_0's l1: 1.36619\n"
     ]
    },
    {
     "name": "stderr",
     "output_type": "stream",
     "text": [
      "\u001b[32m[I 2022-01-01 18:05:59,331]\u001b[0m Trial 37 finished with value: 1.3661908875039144 and parameters: {'reg_alpha': 0.49126924346219963, 'reg_lambda': 0.23559749048839956, 'num_leaves': 167, 'feature_fraction': 0.4012756743187959, 'subsample': 0.4754660969688822, 'subsample_freq': 1, 'min_child_samples': 65, 'learning_rate': 0.27357096712874684}. Best is trial 33 with value: 1.36222459369548.\u001b[0m\n"
     ]
    },
    {
     "name": "stdout",
     "output_type": "stream",
     "text": [
      "Training until validation scores don't improve for 50 rounds\n",
      "[200]\tvalid_0's l1: 1.374\n",
      "[200]\tvalid_0's l1: 1.37376\n",
      "[200]\tvalid_0's l1: 1.37385\n",
      "[400]\tvalid_0's l1: 1.37104\n",
      "[200]\tvalid_0's l1: 1.37427\n",
      "[400]\tvalid_0's l1: 1.37029\n",
      "[400]\tvalid_0's l1: 1.37306\n",
      "Early stopping, best iteration is:\n",
      "[471]\tvalid_0's l1: 1.3709\n"
     ]
    },
    {
     "name": "stderr",
     "output_type": "stream",
     "text": [
      "\u001b[32m[I 2022-01-01 18:07:26,414]\u001b[0m Trial 40 finished with value: 1.3708988968110882 and parameters: {'reg_alpha': 0.2505768057425307, 'reg_lambda': 0.13041215565851633, 'num_leaves': 125, 'feature_fraction': 0.5586474730851144, 'subsample': 0.5705900657879798, 'subsample_freq': 1, 'min_child_samples': 59, 'learning_rate': 0.07703600498076192}. Best is trial 33 with value: 1.36222459369548.\u001b[0m\n"
     ]
    },
    {
     "name": "stdout",
     "output_type": "stream",
     "text": [
      "Training until validation scores don't improve for 50 rounds\n",
      "[400]\tvalid_0's l1: 1.37276\n",
      "[600]\tvalid_0's l1: 1.37162\n",
      "[600]\tvalid_0's l1: 1.36929\n",
      "[200]\tvalid_0's l1: 1.3724\n",
      "[800]\tvalid_0's l1: 1.37073\n",
      "Early stopping, best iteration is:\n",
      "[634]\tvalid_0's l1: 1.36901\n",
      "[600]\tvalid_0's l1: 1.37172\n"
     ]
    },
    {
     "name": "stderr",
     "output_type": "stream",
     "text": [
      "\u001b[32m[I 2022-01-01 18:09:00,742]\u001b[0m Trial 39 finished with value: 1.3690108261697496 and parameters: {'reg_alpha': 0.6982766353112716, 'reg_lambda': 0.2335670540738529, 'num_leaves': 163, 'feature_fraction': 0.5555438680618651, 'subsample': 0.5752334339643528, 'subsample_freq': 2, 'min_child_samples': 69, 'learning_rate': 0.07625359638078243}. Best is trial 33 with value: 1.36222459369548.\u001b[0m\n"
     ]
    },
    {
     "name": "stdout",
     "output_type": "stream",
     "text": [
      "Training until validation scores don't improve for 50 rounds\n",
      "[1000]\tvalid_0's l1: 1.3697\n",
      "Did not meet early stopping. Best iteration is:\n",
      "[1000]\tvalid_0's l1: 1.3697\n",
      "[400]\tvalid_0's l1: 1.37165\n",
      "[800]\tvalid_0's l1: 1.37033\n"
     ]
    },
    {
     "name": "stderr",
     "output_type": "stream",
     "text": [
      "\u001b[32m[I 2022-01-01 18:09:51,886]\u001b[0m Trial 41 finished with value: 1.3696975499132098 and parameters: {'reg_alpha': 0.3599608506104316, 'reg_lambda': 0.15095676745139047, 'num_leaves': 130, 'feature_fraction': 0.5586703221525307, 'subsample': 0.5881687432402005, 'subsample_freq': 1, 'min_child_samples': 99, 'learning_rate': 0.03632990142740309}. Best is trial 33 with value: 1.36222459369548.\u001b[0m\n"
     ]
    },
    {
     "name": "stdout",
     "output_type": "stream",
     "text": [
      "Training until validation scores don't improve for 50 rounds\n",
      "[1000]\tvalid_0's l1: 1.36943\n",
      "Did not meet early stopping. Best iteration is:\n",
      "[990]\tvalid_0's l1: 1.36943\n",
      "[200]\tvalid_0's l1: 1.36943\n",
      "[600]\tvalid_0's l1: 1.36998\n"
     ]
    },
    {
     "name": "stderr",
     "output_type": "stream",
     "text": [
      "\u001b[32m[I 2022-01-01 18:10:50,219]\u001b[0m Trial 42 finished with value: 1.3694326855942642 and parameters: {'reg_alpha': 0.24942231484312335, 'reg_lambda': 0.11685000690598935, 'num_leaves': 125, 'feature_fraction': 0.5509113756461252, 'subsample': 0.574196573044532, 'subsample_freq': 6, 'min_child_samples': 59, 'learning_rate': 0.03742110899414778}. Best is trial 33 with value: 1.36222459369548.\u001b[0m\n"
     ]
    },
    {
     "name": "stdout",
     "output_type": "stream",
     "text": [
      "Training until validation scores don't improve for 50 rounds\n",
      "[200]\tvalid_0's l1: 1.37157\n",
      "[800]\tvalid_0's l1: 1.36954\n",
      "[400]\tvalid_0's l1: 1.3669\n",
      "[200]\tvalid_0's l1: 1.40532\n",
      "[1000]\tvalid_0's l1: 1.3689\n",
      "Did not meet early stopping. Best iteration is:\n",
      "[999]\tvalid_0's l1: 1.3689\n",
      "[400]\tvalid_0's l1: 1.36984\n"
     ]
    },
    {
     "name": "stderr",
     "output_type": "stream",
     "text": [
      "\u001b[32m[I 2022-01-01 18:12:54,573]\u001b[0m Trial 43 finished with value: 1.3689001081145857 and parameters: {'reg_alpha': 0.36893129119547036, 'reg_lambda': 0.3568288755653135, 'num_leaves': 148, 'feature_fraction': 0.5658632695730778, 'subsample': 0.6338870524146257, 'subsample_freq': 6, 'min_child_samples': 100, 'learning_rate': 0.03620315965672327}. Best is trial 33 with value: 1.36222459369548.\u001b[0m\n"
     ]
    },
    {
     "name": "stdout",
     "output_type": "stream",
     "text": [
      "Training until validation scores don't improve for 50 rounds\n",
      "[600]\tvalid_0's l1: 1.36581\n",
      "[400]\tvalid_0's l1: 1.38403\n",
      "[600]\tvalid_0's l1: 1.36855\n",
      "Early stopping, best iteration is:\n",
      "[145]\tvalid_0's l1: 1.3697\n"
     ]
    },
    {
     "name": "stderr",
     "output_type": "stream",
     "text": [
      "\u001b[32m[I 2022-01-01 18:14:15,285]\u001b[0m Trial 47 finished with value: 1.3696964775222893 and parameters: {'reg_alpha': 0.3292605506311819, 'reg_lambda': 0.4549563149304393, 'num_leaves': 198, 'feature_fraction': 0.4928720716797217, 'subsample': 0.4583584025954381, 'subsample_freq': 3, 'min_child_samples': 84, 'learning_rate': 0.5707956702854403}. Best is trial 33 with value: 1.36222459369548.\u001b[0m\n"
     ]
    },
    {
     "name": "stdout",
     "output_type": "stream",
     "text": [
      "[800]\tvalid_0's l1: 1.36517\n",
      "Training until validation scores don't improve for 50 rounds\n",
      "[600]\tvalid_0's l1: 1.3759\n",
      "[800]\tvalid_0's l1: 1.36742\n",
      "[1000]\tvalid_0's l1: 1.36442\n",
      "Did not meet early stopping. Best iteration is:\n",
      "[992]\tvalid_0's l1: 1.36442\n"
     ]
    },
    {
     "name": "stderr",
     "output_type": "stream",
     "text": [
      "\u001b[32m[I 2022-01-01 18:15:57,645]\u001b[0m Trial 44 finished with value: 1.3644168648537494 and parameters: {'reg_alpha': 0.3351338275137726, 'reg_lambda': 0.35081127041033255, 'num_leaves': 200, 'feature_fraction': 0.48299845366994676, 'subsample': 0.6454119953599754, 'subsample_freq': 3, 'min_child_samples': 94, 'learning_rate': 0.03784504549653343}. Best is trial 33 with value: 1.36222459369548.\u001b[0m\n"
     ]
    },
    {
     "name": "stdout",
     "output_type": "stream",
     "text": [
      "[200]\tvalid_0's l1: 1.39728\n",
      "Training until validation scores don't improve for 50 rounds\n",
      "[800]\tvalid_0's l1: 1.37094\n",
      "[1000]\tvalid_0's l1: 1.36655\n",
      "Did not meet early stopping. Best iteration is:\n",
      "[983]\tvalid_0's l1: 1.36654\n"
     ]
    },
    {
     "name": "stderr",
     "output_type": "stream",
     "text": [
      "\u001b[32m[I 2022-01-01 18:16:45,327]\u001b[0m Trial 45 finished with value: 1.3665426460032943 and parameters: {'reg_alpha': 0.3301485612314563, 'reg_lambda': 0.34444729111269395, 'num_leaves': 196, 'feature_fraction': 0.47311265211075515, 'subsample': 0.6301085582425556, 'subsample_freq': 3, 'min_child_samples': 83, 'learning_rate': 0.028623411775722283}. Best is trial 33 with value: 1.36222459369548.\u001b[0m\n"
     ]
    },
    {
     "name": "stdout",
     "output_type": "stream",
     "text": [
      "Training until validation scores don't improve for 50 rounds\n",
      "[200]\tvalid_0's l1: 1.36799\n",
      "[1000]\tvalid_0's l1: 1.36866\n",
      "Did not meet early stopping. Best iteration is:\n",
      "[999]\tvalid_0's l1: 1.36866\n",
      "[400]\tvalid_0's l1: 1.37795\n"
     ]
    },
    {
     "name": "stderr",
     "output_type": "stream",
     "text": [
      "\u001b[32m[I 2022-01-01 18:17:56,455]\u001b[0m Trial 46 finished with value: 1.3686639827546914 and parameters: {'reg_alpha': 0.33253385059561624, 'reg_lambda': 0.3543688201694821, 'num_leaves': 199, 'feature_fraction': 0.48329633566999675, 'subsample': 0.4468506971165938, 'subsample_freq': 3, 'min_child_samples': 74, 'learning_rate': 0.00560847925906099}. Best is trial 33 with value: 1.36222459369548.\u001b[0m\n"
     ]
    },
    {
     "name": "stdout",
     "output_type": "stream",
     "text": [
      "Training until validation scores don't improve for 50 rounds\n",
      "[200]\tvalid_0's l1: 1.37141\n",
      "Early stopping, best iteration is:\n",
      "[346]\tvalid_0's l1: 1.36598\n"
     ]
    },
    {
     "name": "stderr",
     "output_type": "stream",
     "text": [
      "\u001b[32m[I 2022-01-01 18:18:34,106]\u001b[0m Trial 49 finished with value: 1.3659813880247702 and parameters: {'reg_alpha': 0.54495796010142, 'reg_lambda': 0.34190311268775847, 'num_leaves': 201, 'feature_fraction': 0.4674963871039012, 'subsample': 0.49924264042180916, 'subsample_freq': 3, 'min_child_samples': 90, 'learning_rate': 0.136852418491591}. Best is trial 33 with value: 1.36222459369548.\u001b[0m\n"
     ]
    },
    {
     "name": "stdout",
     "output_type": "stream",
     "text": [
      "Training until validation scores don't improve for 50 rounds\n",
      "[600]\tvalid_0's l1: 1.37008\n",
      "[200]\tvalid_0's l1: 1.3658\n",
      "[400]\tvalid_0's l1: 1.36776\n",
      "Early stopping, best iteration is:\n",
      "[386]\tvalid_0's l1: 1.36771\n"
     ]
    },
    {
     "name": "stderr",
     "output_type": "stream",
     "text": [
      "\u001b[32m[I 2022-01-01 18:19:57,618]\u001b[0m Trial 50 finished with value: 1.3677054910940383 and parameters: {'reg_alpha': 0.5517363849038636, 'reg_lambda': 0.526776895627785, 'num_leaves': 185, 'feature_fraction': 0.42420867949589247, 'subsample': 0.74610999596699, 'subsample_freq': 4, 'min_child_samples': 95, 'learning_rate': 0.11252743681002082}. Best is trial 33 with value: 1.36222459369548.\u001b[0m\n"
     ]
    },
    {
     "name": "stdout",
     "output_type": "stream",
     "text": [
      "[200]\tvalid_0's l1: 1.36689\n",
      "Training until validation scores don't improve for 50 rounds\n",
      "[800]\tvalid_0's l1: 1.36723\n",
      "[400]\tvalid_0's l1: 1.36414\n",
      "[400]\tvalid_0's l1: 1.36487\n",
      "[200]\tvalid_0's l1: 1.36951\n",
      "Early stopping, best iteration is:\n",
      "[200]\tvalid_0's l1: 1.36951\n"
     ]
    },
    {
     "name": "stderr",
     "output_type": "stream",
     "text": [
      "\u001b[32m[I 2022-01-01 18:21:59,661]\u001b[0m Trial 53 finished with value: 1.3695131231057918 and parameters: {'reg_alpha': 0.13887359863979687, 'reg_lambda': 0.50557855908422, 'num_leaves': 235, 'feature_fraction': 0.6273254017957162, 'subsample': 0.6600270663641752, 'subsample_freq': 2, 'min_child_samples': 6, 'learning_rate': 0.052359073879569645}. Best is trial 33 with value: 1.36222459369548.\u001b[0m\n"
     ]
    },
    {
     "name": "stdout",
     "output_type": "stream",
     "text": [
      "Early stopping, best iteration is:\n",
      "[516]\tvalid_0's l1: 1.36299\n",
      "[1000]\tvalid_0's l1: 1.36633\n",
      "Did not meet early stopping. Best iteration is:\n",
      "[1000]\tvalid_0's l1: 1.36633\n",
      "Training until validation scores don't improve for 50 rounds\n"
     ]
    },
    {
     "name": "stderr",
     "output_type": "stream",
     "text": [
      "\u001b[32m[I 2022-01-01 18:22:16,214]\u001b[0m Trial 51 finished with value: 1.3629944795679225 and parameters: {'reg_alpha': 0.552536625161997, 'reg_lambda': 0.5191748617736902, 'num_leaves': 233, 'feature_fraction': 0.4230307967479837, 'subsample': 0.7559552980504192, 'subsample_freq': 4, 'min_child_samples': 95, 'learning_rate': 0.10490869149867478}. Best is trial 33 with value: 1.36222459369548.\u001b[0m\n"
     ]
    },
    {
     "name": "stdout",
     "output_type": "stream",
     "text": [
      "Training until validation scores don't improve for 50 rounds\n",
      "[600]\tvalid_0's l1: 1.36374\n"
     ]
    },
    {
     "name": "stderr",
     "output_type": "stream",
     "text": [
      "\u001b[32m[I 2022-01-01 18:22:33,683]\u001b[0m Trial 48 finished with value: 1.36632778138624 and parameters: {'reg_alpha': 0.13654590959904223, 'reg_lambda': 0.5212554936455452, 'num_leaves': 235, 'feature_fraction': 0.47814759099837834, 'subsample': 0.5098536299191213, 'subsample_freq': 2, 'min_child_samples': 74, 'learning_rate': 0.007051731957608121}. Best is trial 33 with value: 1.36222459369548.\u001b[0m\n"
     ]
    },
    {
     "name": "stdout",
     "output_type": "stream",
     "text": [
      "Training until validation scores don't improve for 50 rounds\n",
      "Early stopping, best iteration is:\n",
      "[612]\tvalid_0's l1: 1.36374\n"
     ]
    },
    {
     "name": "stderr",
     "output_type": "stream",
     "text": [
      "\u001b[32m[I 2022-01-01 18:23:05,667]\u001b[0m Trial 52 finished with value: 1.3637366088943605 and parameters: {'reg_alpha': 0.13866767529842924, 'reg_lambda': 0.5074828692572885, 'num_leaves': 185, 'feature_fraction': 0.42081946043798774, 'subsample': 0.75176447773664, 'subsample_freq': 4, 'min_child_samples': 95, 'learning_rate': 0.10854770807552584}. Best is trial 33 with value: 1.36222459369548.\u001b[0m\n"
     ]
    },
    {
     "name": "stdout",
     "output_type": "stream",
     "text": [
      "Training until validation scores don't improve for 50 rounds\n",
      "Early stopping, best iteration is:\n",
      "[48]\tvalid_0's l1: 1.37021\n"
     ]
    },
    {
     "name": "stderr",
     "output_type": "stream",
     "text": [
      "\u001b[32m[I 2022-01-01 18:23:28,305]\u001b[0m Trial 56 finished with value: 1.370214310841447 and parameters: {'reg_alpha': 0.7259650241329847, 'reg_lambda': 0.4597179782869165, 'num_leaves': 182, 'feature_fraction': 0.41836229154796606, 'subsample': 0.8459465441322342, 'subsample_freq': 4, 'min_child_samples': 95, 'learning_rate': 0.5228484636663959}. Best is trial 33 with value: 1.36222459369548.\u001b[0m\n"
     ]
    },
    {
     "name": "stdout",
     "output_type": "stream",
     "text": [
      "Training until validation scores don't improve for 50 rounds\n",
      "[200]\tvalid_0's l1: 1.40415\n",
      "[200]\tvalid_0's l1: 1.37388\n",
      "Early stopping, best iteration is:\n",
      "[145]\tvalid_0's l1: 1.36773\n"
     ]
    },
    {
     "name": "stderr",
     "output_type": "stream",
     "text": [
      "\u001b[32m[I 2022-01-01 18:24:58,952]\u001b[0m Trial 58 finished with value: 1.3677326622973935 and parameters: {'reg_alpha': 0.2149171329338304, 'reg_lambda': 0.5699378161211236, 'num_leaves': 209, 'feature_fraction': 0.5300916073021922, 'subsample': 0.7423611856552548, 'subsample_freq': 5, 'min_child_samples': 92, 'learning_rate': 0.10539451328302336}. Best is trial 33 with value: 1.36222459369548.\u001b[0m\n"
     ]
    },
    {
     "name": "stdout",
     "output_type": "stream",
     "text": [
      "[200]\tvalid_0's l1: 1.37281\n",
      "Training until validation scores don't improve for 50 rounds\n",
      "[400]\tvalid_0's l1: 1.38373\n",
      "[400]\tvalid_0's l1: 1.36937\n",
      "[400]\tvalid_0's l1: 1.36994\n",
      "Early stopping, best iteration is:\n",
      "[507]\tvalid_0's l1: 1.36871\n"
     ]
    },
    {
     "name": "stderr",
     "output_type": "stream",
     "text": [
      "\u001b[32m[I 2022-01-01 18:26:47,313]\u001b[0m Trial 55 finished with value: 1.3687107489788988 and parameters: {'reg_alpha': 0.7456266810386778, 'reg_lambda': 0.5982257610254118, 'num_leaves': 208, 'feature_fraction': 0.5231413877799465, 'subsample': 0.7507183400924201, 'subsample_freq': 4, 'min_child_samples': 95, 'learning_rate': 0.021227271110480218}. Best is trial 33 with value: 1.36222459369548.\u001b[0m\n"
     ]
    },
    {
     "name": "stdout",
     "output_type": "stream",
     "text": [
      "[200]\tvalid_0's l1: 1.37323\n",
      "[600]\tvalid_0's l1: 1.37496\n",
      "Training until validation scores don't improve for 50 rounds\n",
      "[600]\tvalid_0's l1: 1.36889\n",
      "[400]\tvalid_0's l1: 1.36818\n",
      "[800]\tvalid_0's l1: 1.37064\n",
      "[200]\tvalid_0's l1: 1.36749\n",
      "[800]\tvalid_0's l1: 1.3677\n",
      "[600]\tvalid_0's l1: 1.3672\n",
      "[1000]\tvalid_0's l1: 1.36857\n",
      "Did not meet early stopping. Best iteration is:\n",
      "[999]\tvalid_0's l1: 1.36855\n",
      "[400]\tvalid_0's l1: 1.36495\n"
     ]
    },
    {
     "name": "stderr",
     "output_type": "stream",
     "text": [
      "\u001b[32m[I 2022-01-01 18:30:16,977]\u001b[0m Trial 54 finished with value: 1.3685540062275572 and parameters: {'reg_alpha': 0.20968174881690466, 'reg_lambda': 0.4373280945703868, 'num_leaves': 209, 'feature_fraction': 0.5323948100360304, 'subsample': 0.5533280548848861, 'subsample_freq': 2, 'min_child_samples': 96, 'learning_rate': 0.005703146884456339}. Best is trial 33 with value: 1.36222459369548.\u001b[0m\n"
     ]
    },
    {
     "name": "stdout",
     "output_type": "stream",
     "text": [
      "Training until validation scores don't improve for 50 rounds\n",
      "[1000]\tvalid_0's l1: 1.36682\n",
      "Did not meet early stopping. Best iteration is:\n",
      "[998]\tvalid_0's l1: 1.36682\n",
      "[800]\tvalid_0's l1: 1.36602\n"
     ]
    },
    {
     "name": "stderr",
     "output_type": "stream",
     "text": [
      "\u001b[32m[I 2022-01-01 18:31:20,452]\u001b[0m Trial 57 finished with value: 1.3668232333183858 and parameters: {'reg_alpha': 0.23468151203931964, 'reg_lambda': 0.6185263479773775, 'num_leaves': 206, 'feature_fraction': 0.41269983924922027, 'subsample': 0.8477141944407555, 'subsample_freq': 4, 'min_child_samples': 95, 'learning_rate': 0.023616498660961244}. Best is trial 33 with value: 1.36222459369548.\u001b[0m\n"
     ]
    },
    {
     "name": "stdout",
     "output_type": "stream",
     "text": [
      "[600]\tvalid_0's l1: 1.36398\n",
      "Training until validation scores don't improve for 50 rounds\n",
      "Early stopping, best iteration is:\n",
      "[596]\tvalid_0's l1: 1.36397\n"
     ]
    },
    {
     "name": "stderr",
     "output_type": "stream",
     "text": [
      "\u001b[32m[I 2022-01-01 18:32:02,189]\u001b[0m Trial 60 finished with value: 1.363974170676233 and parameters: {'reg_alpha': 0.17323445777669294, 'reg_lambda': 0.4352594975924873, 'num_leaves': 231, 'feature_fraction': 0.4041785728218242, 'subsample': 0.7803740387917737, 'subsample_freq': 5, 'min_child_samples': 98, 'learning_rate': 0.06390981490481232}. Best is trial 33 with value: 1.36222459369548.\u001b[0m\n"
     ]
    },
    {
     "name": "stdout",
     "output_type": "stream",
     "text": [
      "Training until validation scores don't improve for 50 rounds\n",
      "[200]\tvalid_0's l1: 1.37286\n",
      "[1000]\tvalid_0's l1: 1.36519\n",
      "Did not meet early stopping. Best iteration is:\n",
      "[1000]\tvalid_0's l1: 1.36519\n"
     ]
    },
    {
     "name": "stderr",
     "output_type": "stream",
     "text": [
      "\u001b[32m[I 2022-01-01 18:32:45,008]\u001b[0m Trial 59 finished with value: 1.3651869475155236 and parameters: {'reg_alpha': 0.17301442805108186, 'reg_lambda': 0.3771162474671369, 'num_leaves': 209, 'feature_fraction': 0.401534131167551, 'subsample': 0.737768133568794, 'subsample_freq': 4, 'min_child_samples': 97, 'learning_rate': 0.0223096725507844}. Best is trial 33 with value: 1.36222459369548.\u001b[0m\n"
     ]
    },
    {
     "name": "stdout",
     "output_type": "stream",
     "text": [
      "Training until validation scores don't improve for 50 rounds\n",
      "[200]\tvalid_0's l1: 1.36745\n",
      "[200]\tvalid_0's l1: 1.36396\n",
      "Early stopping, best iteration is:\n",
      "[262]\tvalid_0's l1: 1.36723\n"
     ]
    },
    {
     "name": "stderr",
     "output_type": "stream",
     "text": [
      "\u001b[32m[I 2022-01-01 18:33:52,078]\u001b[0m Trial 62 finished with value: 1.3672265104564343 and parameters: {'reg_alpha': 0.16880856155537927, 'reg_lambda': 0.18083381819025698, 'num_leaves': 230, 'feature_fraction': 0.8136005504475776, 'subsample': 0.7960522513024504, 'subsample_freq': 5, 'min_child_samples': 81, 'learning_rate': 0.052153361430329934}. Best is trial 33 with value: 1.36222459369548.\u001b[0m\n"
     ]
    },
    {
     "name": "stdout",
     "output_type": "stream",
     "text": [
      "[400]\tvalid_0's l1: 1.36716\n",
      "Training until validation scores don't improve for 50 rounds\n",
      "[200]\tvalid_0's l1: 1.36748\n",
      "[400]\tvalid_0's l1: 1.36256\n",
      "[200]\tvalid_0's l1: 1.3684\n",
      "[600]\tvalid_0's l1: 1.36546\n",
      "[400]\tvalid_0's l1: 1.36576\n",
      "[400]\tvalid_0's l1: 1.36658\n",
      "[600]\tvalid_0's l1: 1.36148\n",
      "[800]\tvalid_0's l1: 1.36407\n",
      "[600]\tvalid_0's l1: 1.36468\n",
      "[600]\tvalid_0's l1: 1.36562\n",
      "[800]\tvalid_0's l1: 1.36089\n",
      "[1000]\tvalid_0's l1: 1.36364\n",
      "Did not meet early stopping. Best iteration is:\n",
      "[1000]\tvalid_0's l1: 1.36364\n",
      "[800]\tvalid_0's l1: 1.3646\n",
      "[800]\tvalid_0's l1: 1.36384\n"
     ]
    },
    {
     "name": "stderr",
     "output_type": "stream",
     "text": [
      "\u001b[32m[I 2022-01-01 18:38:39,612]\u001b[0m Trial 61 finished with value: 1.3636401438580377 and parameters: {'reg_alpha': 0.5716275636828269, 'reg_lambda': 0.3814917992148481, 'num_leaves': 242, 'feature_fraction': 0.4044425149867289, 'subsample': 0.8144528008817438, 'subsample_freq': 5, 'min_child_samples': 100, 'learning_rate': 0.018596908971900496}. Best is trial 33 with value: 1.36222459369548.\u001b[0m\n"
     ]
    },
    {
     "name": "stdout",
     "output_type": "stream",
     "text": [
      "Training until validation scores don't improve for 50 rounds\n",
      "Early stopping, best iteration is:\n",
      "[920]\tvalid_0's l1: 1.36065\n",
      "Early stopping, best iteration is:\n",
      "[845]\tvalid_0's l1: 1.3634\n",
      "Early stopping, best iteration is:\n",
      "[913]\tvalid_0's l1: 1.36445\n"
     ]
    },
    {
     "name": "stderr",
     "output_type": "stream",
     "text": [
      "\u001b[32m[I 2022-01-01 18:39:30,744]\u001b[0m Trial 63 finished with value: 1.3606505292543247 and parameters: {'reg_alpha': 0.10650029101278541, 'reg_lambda': 0.5399843503291755, 'num_leaves': 244, 'feature_fraction': 0.4487727288089311, 'subsample': 0.7873138460840563, 'subsample_freq': 5, 'min_child_samples': 100, 'learning_rate': 0.05678266844862463}. Best is trial 63 with value: 1.3606505292543247.\u001b[0m\n",
      "\u001b[32m[I 2022-01-01 18:39:31,665]\u001b[0m Trial 64 finished with value: 1.3633995276270925 and parameters: {'reg_alpha': 0.10247372660937354, 'reg_lambda': 0.32552037267802736, 'num_leaves': 231, 'feature_fraction': 0.45713080080487434, 'subsample': 0.7841736352834945, 'subsample_freq': 5, 'min_child_samples': 90, 'learning_rate': 0.05023204875623388}. Best is trial 63 with value: 1.3606505292543247.\u001b[0m\n",
      "\u001b[32m[I 2022-01-01 18:39:39,157]\u001b[0m Trial 65 finished with value: 1.3644475338136586 and parameters: {'reg_alpha': 0.10973532975075717, 'reg_lambda': 0.429655431010162, 'num_leaves': 154, 'feature_fraction': 0.45289640956481514, 'subsample': 0.7181022934407123, 'subsample_freq': 5, 'min_child_samples': 100, 'learning_rate': 0.06765306630384847}. Best is trial 63 with value: 1.3606505292543247.\u001b[0m\n"
     ]
    },
    {
     "name": "stdout",
     "output_type": "stream",
     "text": [
      "Training until validation scores don't improve for 50 rounds\n",
      "Training until validation scores don't improve for 50 rounds\n",
      "Training until validation scores don't improve for 50 rounds\n",
      "[200]\tvalid_0's l1: 1.36454\n",
      "Early stopping, best iteration is:\n",
      "[227]\tvalid_0's l1: 1.36453\n"
     ]
    },
    {
     "name": "stderr",
     "output_type": "stream",
     "text": [
      "\u001b[32m[I 2022-01-01 18:41:04,680]\u001b[0m Trial 66 finished with value: 1.3645341553576875 and parameters: {'reg_alpha': 0.5892405164352204, 'reg_lambda': 0.3189936956949263, 'num_leaves': 246, 'feature_fraction': 0.4529566256879017, 'subsample': 0.9169130140967466, 'subsample_freq': 5, 'min_child_samples': 100, 'learning_rate': 0.15789671339964043}. Best is trial 63 with value: 1.3606505292543247.\u001b[0m\n"
     ]
    },
    {
     "name": "stdout",
     "output_type": "stream",
     "text": [
      "Training until validation scores don't improve for 50 rounds\n",
      "[200]\tvalid_0's l1: 1.36423\n",
      "Early stopping, best iteration is:\n",
      "[145]\tvalid_0's l1: 1.36539\n"
     ]
    },
    {
     "name": "stderr",
     "output_type": "stream",
     "text": [
      "\u001b[32m[I 2022-01-01 18:41:27,734]\u001b[0m Trial 69 finished with value: 1.3653892168279778 and parameters: {'reg_alpha': 0.1010974811946315, 'reg_lambda': 0.28312066354026433, 'num_leaves': 245, 'feature_fraction': 0.43754742605819585, 'subsample': 0.9172128341068824, 'subsample_freq': 6, 'min_child_samples': 87, 'learning_rate': 0.1619920875637345}. Best is trial 63 with value: 1.3606505292543247.\u001b[0m\n"
     ]
    },
    {
     "name": "stdout",
     "output_type": "stream",
     "text": [
      "[200]\tvalid_0's l1: 1.3764\n",
      "Training until validation scores don't improve for 50 rounds\n",
      "Early stopping, best iteration is:\n",
      "[233]\tvalid_0's l1: 1.36385\n"
     ]
    },
    {
     "name": "stderr",
     "output_type": "stream",
     "text": [
      "\u001b[32m[I 2022-01-01 18:42:03,305]\u001b[0m Trial 68 finished with value: 1.3638460037932432 and parameters: {'reg_alpha': 0.10795583154535618, 'reg_lambda': 0.5512548963542798, 'num_leaves': 244, 'feature_fraction': 0.4483724556114654, 'subsample': 0.9321270931957355, 'subsample_freq': 5, 'min_child_samples': 100, 'learning_rate': 0.16270665579150714}. Best is trial 63 with value: 1.3606505292543247.\u001b[0m\n"
     ]
    },
    {
     "name": "stdout",
     "output_type": "stream",
     "text": [
      "Training until validation scores don't improve for 50 rounds\n",
      "Early stopping, best iteration is:\n",
      "[46]\tvalid_0's l1: 1.37108\n"
     ]
    },
    {
     "name": "stderr",
     "output_type": "stream",
     "text": [
      "\u001b[32m[I 2022-01-01 18:42:20,221]\u001b[0m Trial 71 finished with value: 1.3710812432133361 and parameters: {'reg_alpha': 0.5126161861923347, 'reg_lambda': 0.5408368012411403, 'num_leaves': 240, 'feature_fraction': 0.4240617930505432, 'subsample': 0.8186116252110311, 'subsample_freq': 6, 'min_child_samples': 92, 'learning_rate': 0.4652655409179009}. Best is trial 63 with value: 1.3606505292543247.\u001b[0m\n"
     ]
    },
    {
     "name": "stdout",
     "output_type": "stream",
     "text": [
      "Training until validation scores don't improve for 50 rounds\n",
      "[200]\tvalid_0's l1: 1.37213\n",
      "Early stopping, best iteration is:\n",
      "[207]\tvalid_0's l1: 1.37031\n"
     ]
    },
    {
     "name": "stderr",
     "output_type": "stream",
     "text": [
      "\u001b[32m[I 2022-01-01 18:43:12,476]\u001b[0m Trial 70 finished with value: 1.3703091937487941 and parameters: {'reg_alpha': 0.6400019156025365, 'reg_lambda': 0.5292820884923438, 'num_leaves': 241, 'feature_fraction': 0.4345232629165273, 'subsample': 0.8155244003530668, 'subsample_freq': 6, 'min_child_samples': 37, 'learning_rate': 0.4800936270523864}. Best is trial 63 with value: 1.3606505292543247.\u001b[0m\n"
     ]
    },
    {
     "name": "stdout",
     "output_type": "stream",
     "text": [
      "[400]\tvalid_0's l1: 1.36709\n",
      "Early stopping, best iteration is:\n",
      "[109]\tvalid_0's l1: 1.36669\n"
     ]
    },
    {
     "name": "stderr",
     "output_type": "stream",
     "text": [
      "\u001b[32m[I 2022-01-01 18:43:22,156]\u001b[0m Trial 72 finished with value: 1.3666918710061318 and parameters: {'reg_alpha': 0.628767360292332, 'reg_lambda': 0.2716198113610046, 'num_leaves': 226, 'feature_fraction': 0.4238167540777431, 'subsample': 0.812145392859102, 'subsample_freq': 6, 'min_child_samples': 92, 'learning_rate': 0.4352548550191212}. Best is trial 63 with value: 1.3606505292543247.\u001b[0m\n"
     ]
    },
    {
     "name": "stdout",
     "output_type": "stream",
     "text": [
      "Training until validation scores don't improve for 50 rounds\n",
      "Training until validation scores don't improve for 50 rounds\n",
      "[200]\tvalid_0's l1: 1.38212\n",
      "[600]\tvalid_0's l1: 1.36548\n",
      "[200]\tvalid_0's l1: 1.37656\n",
      "[200]\tvalid_0's l1: 1.38825\n",
      "[400]\tvalid_0's l1: 1.37099\n",
      "[800]\tvalid_0's l1: 1.36496\n",
      "[400]\tvalid_0's l1: 1.3687\n",
      "[400]\tvalid_0's l1: 1.37392\n",
      "[600]\tvalid_0's l1: 1.36834\n",
      "[1000]\tvalid_0's l1: 1.36423\n",
      "Did not meet early stopping. Best iteration is:\n",
      "[999]\tvalid_0's l1: 1.36423\n"
     ]
    },
    {
     "name": "stderr",
     "output_type": "stream",
     "text": [
      "\u001b[32m[I 2022-01-01 18:48:09,940]\u001b[0m Trial 67 finished with value: 1.3642278115294484 and parameters: {'reg_alpha': 0.10673525181140767, 'reg_lambda': 0.5320691967123405, 'num_leaves': 247, 'feature_fraction': 0.452599762269588, 'subsample': 0.9301519872133592, 'subsample_freq': 6, 'min_child_samples': 100, 'learning_rate': 0.01501452689297023}. Best is trial 63 with value: 1.3606505292543247.\u001b[0m\n"
     ]
    },
    {
     "name": "stdout",
     "output_type": "stream",
     "text": [
      "Training until validation scores don't improve for 50 rounds\n",
      "[600]\tvalid_0's l1: 1.36777\n",
      "[800]\tvalid_0's l1: 1.36743\n",
      "[600]\tvalid_0's l1: 1.36877\n",
      "Early stopping, best iteration is:\n",
      "[644]\tvalid_0's l1: 1.36762\n"
     ]
    },
    {
     "name": "stderr",
     "output_type": "stream",
     "text": [
      "\u001b[32m[I 2022-01-01 18:49:31,626]\u001b[0m Trial 74 finished with value: 1.3676220428868535 and parameters: {'reg_alpha': 0.5664107896396184, 'reg_lambda': 0.37966149460831067, 'num_leaves': 256, 'feature_fraction': 0.5009625887967097, 'subsample': 0.8401134695446879, 'subsample_freq': 4, 'min_child_samples': 87, 'learning_rate': 0.015872487935990994}. Best is trial 63 with value: 1.3606505292543247.\u001b[0m\n"
     ]
    },
    {
     "name": "stdout",
     "output_type": "stream",
     "text": [
      "Training until validation scores don't improve for 50 rounds\n",
      "[1000]\tvalid_0's l1: 1.36644\n",
      "Did not meet early stopping. Best iteration is:\n",
      "[993]\tvalid_0's l1: 1.36644\n",
      "[200]\tvalid_0's l1: 1.38522\n",
      "[800]\tvalid_0's l1: 1.36751\n"
     ]
    },
    {
     "name": "stderr",
     "output_type": "stream",
     "text": [
      "\u001b[32m[I 2022-01-01 18:50:36,122]\u001b[0m Trial 73 finished with value: 1.3664415443299405 and parameters: {'reg_alpha': 0.6332851211755144, 'reg_lambda': 0.48495110120012336, 'num_leaves': 228, 'feature_fraction': 0.5002447261131258, 'subsample': 0.7670452942214506, 'subsample_freq': 4, 'min_child_samples': 20, 'learning_rate': 0.01203102054172353}. Best is trial 63 with value: 1.3606505292543247.\u001b[0m\n"
     ]
    },
    {
     "name": "stdout",
     "output_type": "stream",
     "text": [
      "Training until validation scores don't improve for 50 rounds\n",
      "[200]\tvalid_0's l1: 1.38728\n",
      "[400]\tvalid_0's l1: 1.36994\n",
      "[1000]\tvalid_0's l1: 1.36689\n",
      "Did not meet early stopping. Best iteration is:\n",
      "[993]\tvalid_0's l1: 1.36689\n"
     ]
    },
    {
     "name": "stderr",
     "output_type": "stream",
     "text": [
      "\u001b[32m[I 2022-01-01 18:52:26,145]\u001b[0m Trial 75 finished with value: 1.366894284408248 and parameters: {'reg_alpha': 0.5710974866909118, 'reg_lambda': 0.3801826671993318, 'num_leaves': 254, 'feature_fraction': 0.4996566068276567, 'subsample': 0.7664635096849644, 'subsample_freq': 4, 'min_child_samples': 20, 'learning_rate': 0.00916513805810802}. Best is trial 63 with value: 1.3606505292543247.\u001b[0m\n"
     ]
    },
    {
     "name": "stdout",
     "output_type": "stream",
     "text": [
      "Training until validation scores don't improve for 50 rounds\n",
      "[200]\tvalid_0's l1: 1.4197\n",
      "[400]\tvalid_0's l1: 1.37167\n",
      "[600]\tvalid_0's l1: 1.36657\n",
      "[200]\tvalid_0's l1: 1.42538\n",
      "[400]\tvalid_0's l1: 1.3947\n",
      "[800]\tvalid_0's l1: 1.36589\n",
      "[600]\tvalid_0's l1: 1.36749\n",
      "[400]\tvalid_0's l1: 1.40109\n",
      "[600]\tvalid_0's l1: 1.38289\n",
      "[1000]\tvalid_0's l1: 1.36526\n",
      "Did not meet early stopping. Best iteration is:\n",
      "[1000]\tvalid_0's l1: 1.36526\n",
      "[800]\tvalid_0's l1: 1.3665\n"
     ]
    },
    {
     "name": "stderr",
     "output_type": "stream",
     "text": [
      "\u001b[32m[I 2022-01-01 18:56:55,070]\u001b[0m Trial 76 finished with value: 1.3652574548779162 and parameters: {'reg_alpha': 0.5662580197635636, 'reg_lambda': 0.31294961358612927, 'num_leaves': 254, 'feature_fraction': 0.4986374043782351, 'subsample': 0.7601975127004388, 'subsample_freq': 4, 'min_child_samples': 42, 'learning_rate': 0.010796725358123153}. Best is trial 63 with value: 1.3606505292543247.\u001b[0m\n"
     ]
    },
    {
     "name": "stdout",
     "output_type": "stream",
     "text": [
      "Training until validation scores don't improve for 50 rounds\n",
      "[600]\tvalid_0's l1: 1.38862\n",
      "[800]\tvalid_0's l1: 1.37628\n",
      "[1000]\tvalid_0's l1: 1.36614\n",
      "Did not meet early stopping. Best iteration is:\n",
      "[989]\tvalid_0's l1: 1.36614\n",
      "[200]\tvalid_0's l1: 1.36775\n",
      "[800]\tvalid_0's l1: 1.3816\n"
     ]
    },
    {
     "name": "stderr",
     "output_type": "stream",
     "text": [
      "\u001b[32m[I 2022-01-01 18:58:46,053]\u001b[0m Trial 77 finished with value: 1.36613783369983 and parameters: {'reg_alpha': 0.1458271275568584, 'reg_lambda': 0.3163590849218324, 'num_leaves': 256, 'feature_fraction': 0.5046114378050534, 'subsample': 0.8809384274778272, 'subsample_freq': 5, 'min_child_samples': 89, 'learning_rate': 0.009544652591839401}. Best is trial 63 with value: 1.3606505292543247.\u001b[0m\n"
     ]
    },
    {
     "name": "stdout",
     "output_type": "stream",
     "text": [
      "Training until validation scores don't improve for 50 rounds\n",
      "[1000]\tvalid_0's l1: 1.37178\n",
      "Did not meet early stopping. Best iteration is:\n",
      "[1000]\tvalid_0's l1: 1.37178\n",
      "[400]\tvalid_0's l1: 1.36603\n",
      "Early stopping, best iteration is:\n",
      "[350]\tvalid_0's l1: 1.36598\n"
     ]
    },
    {
     "name": "stderr",
     "output_type": "stream",
     "text": [
      "\u001b[32m[I 2022-01-01 18:59:51,762]\u001b[0m Trial 80 finished with value: 1.3659830085557372 and parameters: {'reg_alpha': 0.14063480099506823, 'reg_lambda': 0.5020146391046423, 'num_leaves': 217, 'feature_fraction': 0.46398413937907934, 'subsample': 0.7218999030717528, 'subsample_freq': 5, 'min_child_samples': 88, 'learning_rate': 0.08885804279983325}. Best is trial 63 with value: 1.3606505292543247.\u001b[0m\n"
     ]
    },
    {
     "name": "stdout",
     "output_type": "stream",
     "text": [
      "Training until validation scores don't improve for 50 rounds\n"
     ]
    },
    {
     "name": "stderr",
     "output_type": "stream",
     "text": [
      "\u001b[32m[I 2022-01-01 19:00:11,331]\u001b[0m Trial 78 finished with value: 1.3717838800831148 and parameters: {'reg_alpha': 0.592018495413787, 'reg_lambda': 0.30420353262810307, 'num_leaves': 256, 'feature_fraction': 0.4641523360765551, 'subsample': 0.7617104865943612, 'subsample_freq': 5, 'min_child_samples': 90, 'learning_rate': 0.0037404690013564793}. Best is trial 63 with value: 1.3606505292543247.\u001b[0m\n"
     ]
    },
    {
     "name": "stdout",
     "output_type": "stream",
     "text": [
      "[1000]\tvalid_0's l1: 1.37677\n",
      "Did not meet early stopping. Best iteration is:\n",
      "[1000]\tvalid_0's l1: 1.37677\n",
      "Training until validation scores don't improve for 50 rounds\n",
      "[200]\tvalid_0's l1: 1.42589\n"
     ]
    },
    {
     "name": "stderr",
     "output_type": "stream",
     "text": [
      "\u001b[32m[I 2022-01-01 19:00:40,485]\u001b[0m Trial 79 finished with value: 1.376773717248256 and parameters: {'reg_alpha': 0.5960753484534225, 'reg_lambda': 0.31812825371316844, 'num_leaves': 187, 'feature_fraction': 0.46398679009379246, 'subsample': 0.7257232790269337, 'subsample_freq': 5, 'min_child_samples': 89, 'learning_rate': 0.0032529637199889727}. Best is trial 63 with value: 1.3606505292543247.\u001b[0m\n"
     ]
    },
    {
     "name": "stdout",
     "output_type": "stream",
     "text": [
      "Training until validation scores don't improve for 50 rounds\n",
      "[200]\tvalid_0's l1: 1.37408\n",
      "[200]\tvalid_0's l1: 1.417\n",
      "[400]\tvalid_0's l1: 1.40288\n",
      "[200]\tvalid_0's l1: 1.36664\n",
      "[400]\tvalid_0's l1: 1.37246\n",
      "Early stopping, best iteration is:\n",
      "[277]\tvalid_0's l1: 1.36492\n",
      "[600]\tvalid_0's l1: 1.39029\n",
      "[400]\tvalid_0's l1: 1.39446\n"
     ]
    },
    {
     "name": "stderr",
     "output_type": "stream",
     "text": [
      "\u001b[32m[I 2022-01-01 19:03:23,575]\u001b[0m Trial 84 finished with value: 1.3649231806008209 and parameters: {'reg_alpha': 0.6605377663014773, 'reg_lambda': 0.5596875024059725, 'num_leaves': 240, 'feature_fraction': 0.44327223232066854, 'subsample': 0.7887718005405501, 'subsample_freq': 5, 'min_child_samples': 92, 'learning_rate': 0.11327789175629176}. Best is trial 63 with value: 1.3606505292543247.\u001b[0m\n"
     ]
    },
    {
     "name": "stdout",
     "output_type": "stream",
     "text": [
      "Training until validation scores don't improve for 50 rounds\n",
      "[600]\tvalid_0's l1: 1.37052\n",
      "[800]\tvalid_0's l1: 1.38336\n",
      "[600]\tvalid_0's l1: 1.38302\n",
      "[800]\tvalid_0's l1: 1.36836\n",
      "[200]\tvalid_0's l1: 1.36899\n",
      "[1000]\tvalid_0's l1: 1.36737\n",
      "Did not meet early stopping. Best iteration is:\n",
      "[1000]\tvalid_0's l1: 1.36737\n",
      "[1000]\tvalid_0's l1: 1.3788\n",
      "Did not meet early stopping. Best iteration is:\n",
      "[1000]\tvalid_0's l1: 1.3788\n"
     ]
    },
    {
     "name": "stderr",
     "output_type": "stream",
     "text": [
      "\u001b[32m[I 2022-01-01 19:06:24,818]\u001b[0m Trial 83 finished with value: 1.367366882177527 and parameters: {'reg_alpha': 0.19089086602744032, 'reg_lambda': 0.20022864471639298, 'num_leaves': 138, 'feature_fraction': 0.4098547036110898, 'subsample': 0.7844268395552147, 'subsample_freq': 5, 'min_child_samples': 81, 'learning_rate': 0.03014439275067332}. Best is trial 63 with value: 1.3606505292543247.\u001b[0m\n"
     ]
    },
    {
     "name": "stdout",
     "output_type": "stream",
     "text": [
      "[400]\tvalid_0's l1: 1.3671\n",
      "[800]\tvalid_0's l1: 1.37632\n"
     ]
    },
    {
     "name": "stderr",
     "output_type": "stream",
     "text": [
      "\u001b[32m[I 2022-01-01 19:06:35,988]\u001b[0m Trial 81 finished with value: 1.378797348319981 and parameters: {'reg_alpha': 0.6591521711057484, 'reg_lambda': 0.220604151925884, 'num_leaves': 158, 'feature_fraction': 0.40043901720758035, 'subsample': 0.7166626413078596, 'subsample_freq': 5, 'min_child_samples': 15, 'learning_rate': 0.0033238597770563175}. Best is trial 63 with value: 1.3606505292543247.\u001b[0m\n"
     ]
    },
    {
     "name": "stdout",
     "output_type": "stream",
     "text": [
      "Training until validation scores don't improve for 50 rounds\n",
      "Training until validation scores don't improve for 50 rounds\n",
      "[600]\tvalid_0's l1: 1.36556\n",
      "[1000]\tvalid_0's l1: 1.37245\n",
      "Did not meet early stopping. Best iteration is:\n",
      "[1000]\tvalid_0's l1: 1.37245\n",
      "[200]\tvalid_0's l1: 1.36957\n"
     ]
    },
    {
     "name": "stderr",
     "output_type": "stream",
     "text": [
      "\u001b[32m[I 2022-01-01 19:08:30,631]\u001b[0m Trial 82 finished with value: 1.3724458695655122 and parameters: {'reg_alpha': 0.6014366911877553, 'reg_lambda': 0.5941563713000693, 'num_leaves': 189, 'feature_fraction': 0.4018053569448113, 'subsample': 0.7850389706347479, 'subsample_freq': 5, 'min_child_samples': 81, 'learning_rate': 0.00422621359291065}. Best is trial 63 with value: 1.3606505292543247.\u001b[0m\n"
     ]
    },
    {
     "name": "stdout",
     "output_type": "stream",
     "text": [
      "[200]\tvalid_0's l1: 1.3694\n",
      "Training until validation scores don't improve for 50 rounds\n",
      "[800]\tvalid_0's l1: 1.36347\n",
      "Early stopping, best iteration is:\n",
      "[78]\tvalid_0's l1: 1.37579\n"
     ]
    },
    {
     "name": "stderr",
     "output_type": "stream",
     "text": [
      "\u001b[32m[I 2022-01-01 19:09:21,239]\u001b[0m Trial 88 finished with value: 1.3757895761977306 and parameters: {'reg_alpha': 0.12405282314945962, 'reg_lambda': 0.4720231062280345, 'num_leaves': 110, 'feature_fraction': 0.7175894440048359, 'subsample': 0.8808174939262922, 'subsample_freq': 4, 'min_child_samples': 76, 'learning_rate': 0.21571346200529148}. Best is trial 63 with value: 1.3606505292543247.\u001b[0m\n"
     ]
    },
    {
     "name": "stdout",
     "output_type": "stream",
     "text": [
      "Training until validation scores don't improve for 50 rounds\n",
      "Early stopping, best iteration is:\n",
      "[840]\tvalid_0's l1: 1.36341\n",
      "[400]\tvalid_0's l1: 1.36717\n",
      "[400]\tvalid_0's l1: 1.36741\n"
     ]
    },
    {
     "name": "stderr",
     "output_type": "stream",
     "text": [
      "\u001b[32m[I 2022-01-01 19:10:17,148]\u001b[0m Trial 85 finished with value: 1.3634100402717944 and parameters: {'reg_alpha': 0.11506008650504464, 'reg_lambda': 0.550133563381692, 'num_leaves': 238, 'feature_fraction': 0.41392311867780696, 'subsample': 0.7043590047825592, 'subsample_freq': 5, 'min_child_samples': 83, 'learning_rate': 0.05266042474409279}. Best is trial 63 with value: 1.3606505292543247.\u001b[0m\n"
     ]
    },
    {
     "name": "stdout",
     "output_type": "stream",
     "text": [
      "Training until validation scores don't improve for 50 rounds\n",
      "[200]\tvalid_0's l1: 1.37023\n",
      "[600]\tvalid_0's l1: 1.36571\n",
      "[600]\tvalid_0's l1: 1.36503\n",
      "[200]\tvalid_0's l1: 1.36661\n",
      "[400]\tvalid_0's l1: 1.36853\n",
      "[400]\tvalid_0's l1: 1.36407\n",
      "[800]\tvalid_0's l1: 1.36396\n",
      "[800]\tvalid_0's l1: 1.36473\n",
      "Early stopping, best iteration is:\n",
      "[854]\tvalid_0's l1: 1.36368\n",
      "Early stopping, best iteration is:\n",
      "[854]\tvalid_0's l1: 1.36429\n",
      "[600]\tvalid_0's l1: 1.36722\n",
      "[600]\tvalid_0's l1: 1.36229\n"
     ]
    },
    {
     "name": "stderr",
     "output_type": "stream",
     "text": [
      "\u001b[32m[I 2022-01-01 19:14:33,310]\u001b[0m Trial 86 finished with value: 1.3642865452549342 and parameters: {'reg_alpha': 0.12634937303356303, 'reg_lambda': 0.5869490988069395, 'num_leaves': 235, 'feature_fraction': 0.4320592236234365, 'subsample': 0.9753643331240774, 'subsample_freq': 5, 'min_child_samples': 49, 'learning_rate': 0.04534854708936275}. Best is trial 63 with value: 1.3606505292543247.\u001b[0m\n",
      "\u001b[32m[I 2022-01-01 19:14:33,498]\u001b[0m Trial 87 finished with value: 1.3636797357929649 and parameters: {'reg_alpha': 0.5224783988127659, 'reg_lambda': 0.5960231788192423, 'num_leaves': 235, 'feature_fraction': 0.4394942222608906, 'subsample': 0.956150892276277, 'subsample_freq': 5, 'min_child_samples': 97, 'learning_rate': 0.04843124283772629}. Best is trial 63 with value: 1.3606505292543247.\u001b[0m\n"
     ]
    },
    {
     "name": "stdout",
     "output_type": "stream",
     "text": [
      "Training until validation scores don't improve for 50 rounds\n",
      "Training until validation scores don't improve for 50 rounds\n",
      "[800]\tvalid_0's l1: 1.3614\n",
      "[800]\tvalid_0's l1: 1.36625\n",
      "[200]\tvalid_0's l1: 1.36921\n",
      "[200]\tvalid_0's l1: 1.36707\n",
      "Early stopping, best iteration is:\n",
      "[870]\tvalid_0's l1: 1.36122\n"
     ]
    },
    {
     "name": "stderr",
     "output_type": "stream",
     "text": [
      "\u001b[32m[I 2022-01-01 19:16:48,563]\u001b[0m Trial 90 finished with value: 1.3612208063757187 and parameters: {'reg_alpha': 0.2779030350511046, 'reg_lambda': 0.6547784482327931, 'num_leaves': 234, 'feature_fraction': 0.42991824278657514, 'subsample': 0.6731063392492177, 'subsample_freq': 5, 'min_child_samples': 85, 'learning_rate': 0.050176456925167166}. Best is trial 63 with value: 1.3606505292543247.\u001b[0m\n"
     ]
    },
    {
     "name": "stdout",
     "output_type": "stream",
     "text": [
      "[400]\tvalid_0's l1: 1.36593\n",
      "[1000]\tvalid_0's l1: 1.36575\n",
      "Did not meet early stopping. Best iteration is:\n",
      "[983]\tvalid_0's l1: 1.36575\n",
      "[400]\tvalid_0's l1: 1.36327\n"
     ]
    },
    {
     "name": "stderr",
     "output_type": "stream",
     "text": [
      "\u001b[32m[I 2022-01-01 19:17:39,257]\u001b[0m Trial 89 finished with value: 1.3657455976361363 and parameters: {'reg_alpha': 0.518869722409942, 'reg_lambda': 0.5561299954250023, 'num_leaves': 215, 'feature_fraction': 0.4398138986239549, 'subsample': 0.9971950701249148, 'subsample_freq': 5, 'min_child_samples': 97, 'learning_rate': 0.04617546597694592}. Best is trial 63 with value: 1.3606505292543247.\u001b[0m\n"
     ]
    },
    {
     "name": "stdout",
     "output_type": "stream",
     "text": [
      "Early stopping, best iteration is:\n",
      "[501]\tvalid_0's l1: 1.36534\n"
     ]
    },
    {
     "name": "stderr",
     "output_type": "stream",
     "text": [
      "\u001b[32m[I 2022-01-01 19:18:08,855]\u001b[0m Trial 92 finished with value: 1.3653373327910887 and parameters: {'reg_alpha': 0.5233943849117308, 'reg_lambda': 0.6574312920648473, 'num_leaves': 223, 'feature_fraction': 0.415818035498764, 'subsample': 0.6835335104004079, 'subsample_freq': 5, 'min_child_samples': 62, 'learning_rate': 0.06567255049078936}. Best is trial 63 with value: 1.3606505292543247.\u001b[0m\n"
     ]
    },
    {
     "name": "stdout",
     "output_type": "stream",
     "text": [
      "[600]\tvalid_0's l1: 1.36216\n",
      "[800]\tvalid_0's l1: 1.36154\n",
      "Early stopping, best iteration is:\n",
      "[845]\tvalid_0's l1: 1.36144\n"
     ]
    },
    {
     "name": "stderr",
     "output_type": "stream",
     "text": [
      "\u001b[32m[I 2022-01-01 19:18:50,815]\u001b[0m Trial 91 finished with value: 1.3614368791086748 and parameters: {'reg_alpha': 0.5099134364493241, 'reg_lambda': 0.6147456683798871, 'num_leaves': 217, 'feature_fraction': 0.4177823693174164, 'subsample': 0.6733939314852503, 'subsample_freq': 4, 'min_child_samples': 85, 'learning_rate': 0.045583999269574}. Best is trial 63 with value: 1.3606505292543247.\u001b[0m\n"
     ]
    }
   ],
   "source": [
    "study = optuna.create_study(direction = \"minimize\", sampler = TPESampler(seed=101))\n",
    "study.optimize(objective_1, n_trials =100, n_jobs = multiprocessing.cpu_count(), timeout=60*60*2)"
   ]
  },
  {
   "cell_type": "markdown",
   "id": "described-frank",
   "metadata": {
    "papermill": {
     "duration": 0.159264,
     "end_time": "2022-01-01T19:18:51.147904",
     "exception": false,
     "start_time": "2022-01-01T19:18:50.988640",
     "status": "completed"
    },
    "tags": []
   },
   "source": [
    "## Train with tuned lgbm ##\n"
   ]
  },
  {
   "cell_type": "code",
   "execution_count": 32,
   "id": "satellite-construction",
   "metadata": {
    "execution": {
     "iopub.execute_input": "2022-01-01T19:18:51.479716Z",
     "iopub.status.busy": "2022-01-01T19:18:51.479030Z",
     "iopub.status.idle": "2022-01-01T19:20:36.639045Z",
     "shell.execute_reply": "2022-01-01T19:20:36.639516Z",
     "shell.execute_reply.started": "2021-12-29T16:16:53.066289Z"
    },
    "papermill": {
     "duration": 105.336377,
     "end_time": "2022-01-01T19:20:36.639721",
     "exception": false,
     "start_time": "2022-01-01T19:18:51.303344",
     "status": "completed"
    },
    "tags": []
   },
   "outputs": [
    {
     "name": "stdout",
     "output_type": "stream",
     "text": [
      "[LightGBM] [Warning] feature_fraction is set=0.4487727288089311, colsample_bytree=1.0 will be ignored. Current value: feature_fraction=0.4487727288089311\n",
      "Training until validation scores don't improve for 50 rounds\n",
      "[200]\tvalid's l1: 1.36564\n",
      "[400]\tvalid's l1: 1.363\n",
      "[600]\tvalid's l1: 1.36172\n",
      "[800]\tvalid's l1: 1.36085\n",
      "Early stopping, best iteration is:\n",
      "[797]\tvalid's l1: 1.36085\n"
     ]
    },
    {
     "data": {
      "text/plain": [
       "LGBMRegressor(feature_fraction=0.4487727288089311, importance_type='gain',\n",
       "              learning_rate=0.05678266844862463, metric='mae',\n",
       "              min_child_samples=100, n_estimators=1000, n_jobs=4,\n",
       "              num_leaves=244, objective='mae', random_state=101,\n",
       "              reg_alpha=0.10650029101278541, reg_lambda=0.5399843503291755,\n",
       "              subsample=0.7873138460840563, subsample_freq=5, task='train')"
      ]
     },
     "execution_count": 32,
     "metadata": {},
     "output_type": "execute_result"
    }
   ],
   "source": [
    "Class_1 = LGBMRegressor(\n",
    "    task = 'train',\n",
    "    boosting_type = 'gbdt',\n",
    "    objective = 'mae',\n",
    "    random_state = 101,\n",
    "    importance_type = 'gain',\n",
    "    n_estimators = 1000,\n",
    "    n_jobs = multiprocessing.cpu_count(),\n",
    "    metric = 'mae'\n",
    ")\n",
    "Class_1.set_params(\n",
    "    **study.best_trial.params\n",
    ")\n",
    "Class_1.fit(\n",
    "    X_train, \n",
    "    y_train_1,\n",
    "    eval_set = [(X_valid, y_valid_1)],\n",
    "    eval_names = ['valid'],\n",
    "    early_stopping_rounds = 50,verbose=200\n",
    ")"
   ]
  },
  {
   "cell_type": "code",
   "execution_count": 33,
   "id": "imported-device",
   "metadata": {
    "execution": {
     "iopub.execute_input": "2022-01-01T19:20:36.955050Z",
     "iopub.status.busy": "2022-01-01T19:20:36.954034Z",
     "iopub.status.idle": "2022-01-01T19:20:37.611261Z",
     "shell.execute_reply": "2022-01-01T19:20:37.610730Z",
     "shell.execute_reply.started": "2021-12-29T16:16:53.660166Z"
    },
    "papermill": {
     "duration": 0.817461,
     "end_time": "2022-01-01T19:20:37.611439",
     "exception": false,
     "start_time": "2022-01-01T19:20:36.793978",
     "status": "completed"
    },
    "tags": []
   },
   "outputs": [
    {
     "data": {
      "text/plain": [
       "['Class_1.pkl']"
      ]
     },
     "execution_count": 33,
     "metadata": {},
     "output_type": "execute_result"
    }
   ],
   "source": [
    "import joblib\n",
    "joblib_file = \"Class_1.pkl\"  \n",
    "joblib.dump(Class_1, joblib_file)\n",
    "\n"
   ]
  }
 ],
 "metadata": {
  "kernelspec": {
   "display_name": "Python 3",
   "language": "python",
   "name": "python3"
  },
  "language_info": {
   "codemirror_mode": {
    "name": "ipython",
    "version": 3
   },
   "file_extension": ".py",
   "mimetype": "text/x-python",
   "name": "python",
   "nbconvert_exporter": "python",
   "pygments_lexer": "ipython3",
   "version": "3.7.10"
  },
  "papermill": {
   "default_parameters": {},
   "duration": 7750.580381,
   "end_time": "2022-01-01T19:20:41.279711",
   "environment_variables": {},
   "exception": null,
   "input_path": "__notebook__.ipynb",
   "output_path": "__notebook__.ipynb",
   "parameters": {},
   "start_time": "2022-01-01T17:11:30.699330",
   "version": "2.3.3"
  },
  "widgets": {
   "application/vnd.jupyter.widget-state+json": {
    "state": {
     "080ad6cd0a294303addf0d0510a53d99": {
      "model_module": "@jupyter-widgets/base",
      "model_module_version": "1.2.0",
      "model_name": "LayoutModel",
      "state": {
       "_model_module": "@jupyter-widgets/base",
       "_model_module_version": "1.2.0",
       "_model_name": "LayoutModel",
       "_view_count": null,
       "_view_module": "@jupyter-widgets/base",
       "_view_module_version": "1.2.0",
       "_view_name": "LayoutView",
       "align_content": null,
       "align_items": null,
       "align_self": null,
       "border": null,
       "bottom": null,
       "display": null,
       "flex": null,
       "flex_flow": null,
       "grid_area": null,
       "grid_auto_columns": null,
       "grid_auto_flow": null,
       "grid_auto_rows": null,
       "grid_column": null,
       "grid_gap": null,
       "grid_row": null,
       "grid_template_areas": null,
       "grid_template_columns": null,
       "grid_template_rows": null,
       "height": null,
       "justify_content": null,
       "justify_items": null,
       "left": null,
       "margin": null,
       "max_height": null,
       "max_width": null,
       "min_height": null,
       "min_width": null,
       "object_fit": null,
       "object_position": null,
       "order": null,
       "overflow": null,
       "overflow_x": null,
       "overflow_y": null,
       "padding": null,
       "right": null,
       "top": null,
       "visibility": null,
       "width": null
      }
     },
     "0b5a47acc96341cc85fc0fbb65a3bb37": {
      "model_module": "@jupyter-widgets/output",
      "model_module_version": "1.0.0",
      "model_name": "OutputModel",
      "state": {
       "_dom_classes": [],
       "_model_module": "@jupyter-widgets/output",
       "_model_module_version": "1.0.0",
       "_model_name": "OutputModel",
       "_view_count": null,
       "_view_module": "@jupyter-widgets/output",
       "_view_module_version": "1.0.0",
       "_view_name": "OutputView",
       "layout": "IPY_MODEL_e9292311d9be40aaaedfbdcf720bbba5",
       "msg_id": "",
       "outputs": [
        {
         "data": {
          "text/html": "<div>\n<style scoped>\n    .dataframe tbody tr th:only-of-type {\n        vertical-align: middle;\n    }\n\n    .dataframe tbody tr th {\n        vertical-align: top;\n    }\n\n    .dataframe thead th {\n        text-align: right;\n    }\n</style>\n<table border=\"1\" class=\"dataframe\">\n  <thead>\n    <tr style=\"text-align: right;\">\n      <th></th>\n      <th>seasonId</th>\n      <th>seasonStartDate</th>\n      <th>seasonEndDate</th>\n      <th>preSeasonStartDate</th>\n      <th>preSeasonEndDate</th>\n      <th>regularSeasonStartDate</th>\n      <th>regularSeasonEndDate</th>\n      <th>lastDate1stHalf</th>\n      <th>allStarDate</th>\n      <th>firstDate2ndHalf</th>\n      <th>postSeasonStartDate</th>\n      <th>postSeasonEndDate</th>\n    </tr>\n  </thead>\n  <tbody>\n    <tr>\n      <th>0</th>\n      <td>2017</td>\n      <td>2017-04-02</td>\n      <td>2017-11-01</td>\n      <td>2017-02-22</td>\n      <td>2017-04-01</td>\n      <td>2017-04-02</td>\n      <td>2017-10-01</td>\n      <td>2017-07-09</td>\n      <td>2017-07-11</td>\n      <td>2017-07-14</td>\n      <td>2017-10-03</td>\n      <td>2017-11-01</td>\n    </tr>\n    <tr>\n      <th>1</th>\n      <td>2018</td>\n      <td>2018-03-29</td>\n      <td>2018-10-28</td>\n      <td>2018-02-21</td>\n      <td>2018-03-27</td>\n      <td>2018-03-29</td>\n      <td>2018-10-01</td>\n      <td>2018-07-15</td>\n      <td>2018-07-17</td>\n      <td>2018-07-19</td>\n      <td>2018-10-02</td>\n      <td>2018-10-28</td>\n    </tr>\n    <tr>\n      <th>2</th>\n      <td>2019</td>\n      <td>2019-03-20</td>\n      <td>2019-10-30</td>\n      <td>2019-02-21</td>\n      <td>2019-03-26</td>\n      <td>2019-03-20</td>\n      <td>2019-09-29</td>\n      <td>2019-07-07</td>\n      <td>2019-07-09</td>\n      <td>2019-07-11</td>\n      <td>2019-10-01</td>\n      <td>2019-10-30</td>\n    </tr>\n    <tr>\n      <th>3</th>\n      <td>2020</td>\n      <td>2020-07-23</td>\n      <td>2020-10-28</td>\n      <td>2020-02-21</td>\n      <td>2020-07-22</td>\n      <td>2020-07-23</td>\n      <td>2020-09-27</td>\n      <td>2020-08-25</td>\n      <td>NaN</td>\n      <td>2020-08-26</td>\n      <td>2020-09-29</td>\n      <td>2020-10-28</td>\n    </tr>\n    <tr>\n      <th>4</th>\n      <td>2021</td>\n      <td>2021-02-28</td>\n      <td>2021-10-31</td>\n      <td>2021-02-28</td>\n      <td>2021-03-30</td>\n      <td>2021-04-01</td>\n      <td>2021-10-03</td>\n      <td>2021-07-11</td>\n      <td>2021-07-13</td>\n      <td>2021-07-15</td>\n      <td>2021-10-04</td>\n      <td>2021-10-31</td>\n    </tr>\n  </tbody>\n</table>\n</div>",
          "text/plain": "   seasonId seasonStartDate seasonEndDate preSeasonStartDate preSeasonEndDate  \\\n0      2017      2017-04-02    2017-11-01         2017-02-22       2017-04-01   \n1      2018      2018-03-29    2018-10-28         2018-02-21       2018-03-27   \n2      2019      2019-03-20    2019-10-30         2019-02-21       2019-03-26   \n3      2020      2020-07-23    2020-10-28         2020-02-21       2020-07-22   \n4      2021      2021-02-28    2021-10-31         2021-02-28       2021-03-30   \n\n  regularSeasonStartDate regularSeasonEndDate lastDate1stHalf allStarDate  \\\n0             2017-04-02           2017-10-01      2017-07-09  2017-07-11   \n1             2018-03-29           2018-10-01      2018-07-15  2018-07-17   \n2             2019-03-20           2019-09-29      2019-07-07  2019-07-09   \n3             2020-07-23           2020-09-27      2020-08-25         NaN   \n4             2021-04-01           2021-10-03      2021-07-11  2021-07-13   \n\n  firstDate2ndHalf postSeasonStartDate postSeasonEndDate  \n0       2017-07-14          2017-10-03        2017-11-01  \n1       2018-07-19          2018-10-02        2018-10-28  \n2       2019-07-11          2019-10-01        2019-10-30  \n3       2020-08-26          2020-09-29        2020-10-28  \n4       2021-07-15          2021-10-04        2021-10-31  "
         },
         "metadata": {},
         "output_type": "display_data"
        }
       ]
      }
     },
     "21c1d7612a564c489b2e75212a7fb011": {
      "model_module": "@jupyter-widgets/controls",
      "model_module_version": "1.5.0",
      "model_name": "TabModel",
      "state": {
       "_dom_classes": [],
       "_model_module": "@jupyter-widgets/controls",
       "_model_module_version": "1.5.0",
       "_model_name": "TabModel",
       "_titles": {
        "0": "seasons",
        "1": "teams",
        "2": "players",
        "3": "awards"
       },
       "_view_count": null,
       "_view_module": "@jupyter-widgets/controls",
       "_view_module_version": "1.5.0",
       "_view_name": "TabView",
       "box_style": "",
       "children": [
        "IPY_MODEL_0b5a47acc96341cc85fc0fbb65a3bb37",
        "IPY_MODEL_2fe8510c4235406684086778cd9d6397",
        "IPY_MODEL_3c5e5131fd3b438a94242faea6be658c",
        "IPY_MODEL_dc9f2ede792e45c8b375f3b93a9a778d"
       ],
       "layout": "IPY_MODEL_f2c55ad3bc154d9295e5712cbe09a9fa",
       "selected_index": 0
      }
     },
     "2fe8510c4235406684086778cd9d6397": {
      "model_module": "@jupyter-widgets/output",
      "model_module_version": "1.0.0",
      "model_name": "OutputModel",
      "state": {
       "_dom_classes": [],
       "_model_module": "@jupyter-widgets/output",
       "_model_module_version": "1.0.0",
       "_model_name": "OutputModel",
       "_view_count": null,
       "_view_module": "@jupyter-widgets/output",
       "_view_module_version": "1.0.0",
       "_view_name": "OutputView",
       "layout": "IPY_MODEL_bc535b075e8c4e439a6e0c99a54cacd5",
       "msg_id": "",
       "outputs": [
        {
         "data": {
          "text/html": "<div>\n<style scoped>\n    .dataframe tbody tr th:only-of-type {\n        vertical-align: middle;\n    }\n\n    .dataframe tbody tr th {\n        vertical-align: top;\n    }\n\n    .dataframe thead th {\n        text-align: right;\n    }\n</style>\n<table border=\"1\" class=\"dataframe\">\n  <thead>\n    <tr style=\"text-align: right;\">\n      <th></th>\n      <th>id</th>\n      <th>name</th>\n      <th>teamName</th>\n      <th>teamCode</th>\n      <th>shortName</th>\n      <th>abbreviation</th>\n      <th>locationName</th>\n      <th>leagueId</th>\n      <th>leagueName</th>\n      <th>divisionId</th>\n      <th>divisionName</th>\n      <th>venueId</th>\n      <th>venueName</th>\n    </tr>\n  </thead>\n  <tbody>\n    <tr>\n      <th>0</th>\n      <td>108</td>\n      <td>Los Angeles Angels</td>\n      <td>Angels</td>\n      <td>ana</td>\n      <td>LA Angels</td>\n      <td>LAA</td>\n      <td>Anaheim</td>\n      <td>103</td>\n      <td>American League</td>\n      <td>200</td>\n      <td>American League West</td>\n      <td>1</td>\n      <td>Angel Stadium</td>\n    </tr>\n    <tr>\n      <th>1</th>\n      <td>109</td>\n      <td>Arizona Diamondbacks</td>\n      <td>D-backs</td>\n      <td>ari</td>\n      <td>Arizona</td>\n      <td>ARI</td>\n      <td>Phoenix</td>\n      <td>104</td>\n      <td>National League</td>\n      <td>203</td>\n      <td>National League West</td>\n      <td>15</td>\n      <td>Chase Field</td>\n    </tr>\n    <tr>\n      <th>2</th>\n      <td>110</td>\n      <td>Baltimore Orioles</td>\n      <td>Orioles</td>\n      <td>bal</td>\n      <td>Baltimore</td>\n      <td>BAL</td>\n      <td>Baltimore</td>\n      <td>103</td>\n      <td>American League</td>\n      <td>201</td>\n      <td>American League East</td>\n      <td>2</td>\n      <td>Oriole Park at Camden Yards</td>\n    </tr>\n    <tr>\n      <th>3</th>\n      <td>111</td>\n      <td>Boston Red Sox</td>\n      <td>Red Sox</td>\n      <td>bos</td>\n      <td>Boston</td>\n      <td>BOS</td>\n      <td>Boston</td>\n      <td>103</td>\n      <td>American League</td>\n      <td>201</td>\n      <td>American League East</td>\n      <td>3</td>\n      <td>Fenway Park</td>\n    </tr>\n    <tr>\n      <th>4</th>\n      <td>112</td>\n      <td>Chicago Cubs</td>\n      <td>Cubs</td>\n      <td>chn</td>\n      <td>Chi Cubs</td>\n      <td>CHC</td>\n      <td>Chicago</td>\n      <td>104</td>\n      <td>National League</td>\n      <td>205</td>\n      <td>National League Central</td>\n      <td>17</td>\n      <td>Wrigley Field</td>\n    </tr>\n    <tr>\n      <th>5</th>\n      <td>113</td>\n      <td>Cincinnati Reds</td>\n      <td>Reds</td>\n      <td>cin</td>\n      <td>Cincinnati</td>\n      <td>CIN</td>\n      <td>Cincinnati</td>\n      <td>104</td>\n      <td>National League</td>\n      <td>205</td>\n      <td>National League Central</td>\n      <td>2602</td>\n      <td>Great American Ball Park</td>\n    </tr>\n    <tr>\n      <th>6</th>\n      <td>114</td>\n      <td>Cleveland Indians</td>\n      <td>Indians</td>\n      <td>cle</td>\n      <td>Cleveland</td>\n      <td>CLE</td>\n      <td>Cleveland</td>\n      <td>103</td>\n      <td>American League</td>\n      <td>202</td>\n      <td>American League Central</td>\n      <td>5</td>\n      <td>Progressive Field</td>\n    </tr>\n    <tr>\n      <th>7</th>\n      <td>115</td>\n      <td>Colorado Rockies</td>\n      <td>Rockies</td>\n      <td>col</td>\n      <td>Colorado</td>\n      <td>COL</td>\n      <td>Denver</td>\n      <td>104</td>\n      <td>National League</td>\n      <td>203</td>\n      <td>National League West</td>\n      <td>19</td>\n      <td>Coors Field</td>\n    </tr>\n    <tr>\n      <th>8</th>\n      <td>116</td>\n      <td>Detroit Tigers</td>\n      <td>Tigers</td>\n      <td>det</td>\n      <td>Detroit</td>\n      <td>DET</td>\n      <td>Detroit</td>\n      <td>103</td>\n      <td>American League</td>\n      <td>202</td>\n      <td>American League Central</td>\n      <td>2394</td>\n      <td>Comerica Park</td>\n    </tr>\n    <tr>\n      <th>9</th>\n      <td>117</td>\n      <td>Houston Astros</td>\n      <td>Astros</td>\n      <td>hou</td>\n      <td>Houston</td>\n      <td>HOU</td>\n      <td>Houston</td>\n      <td>103</td>\n      <td>American League</td>\n      <td>200</td>\n      <td>American League West</td>\n      <td>2392</td>\n      <td>Minute Maid Park</td>\n    </tr>\n    <tr>\n      <th>10</th>\n      <td>118</td>\n      <td>Kansas City Royals</td>\n      <td>Royals</td>\n      <td>kca</td>\n      <td>Kansas City</td>\n      <td>KC</td>\n      <td>Kansas City</td>\n      <td>103</td>\n      <td>American League</td>\n      <td>202</td>\n      <td>American League Central</td>\n      <td>7</td>\n      <td>Kauffman Stadium</td>\n    </tr>\n    <tr>\n      <th>11</th>\n      <td>119</td>\n      <td>Los Angeles Dodgers</td>\n      <td>Dodgers</td>\n      <td>lan</td>\n      <td>LA Dodgers</td>\n      <td>LAD</td>\n      <td>Los Angeles</td>\n      <td>104</td>\n      <td>National League</td>\n      <td>203</td>\n      <td>National League West</td>\n      <td>22</td>\n      <td>Dodger Stadium</td>\n    </tr>\n    <tr>\n      <th>12</th>\n      <td>120</td>\n      <td>Washington Nationals</td>\n      <td>Nationals</td>\n      <td>was</td>\n      <td>Washington</td>\n      <td>WSH</td>\n      <td>Washington</td>\n      <td>104</td>\n      <td>National League</td>\n      <td>204</td>\n      <td>National League East</td>\n      <td>3309</td>\n      <td>Nationals Park</td>\n    </tr>\n    <tr>\n      <th>13</th>\n      <td>121</td>\n      <td>New York Mets</td>\n      <td>Mets</td>\n      <td>nyn</td>\n      <td>NY Mets</td>\n      <td>NYM</td>\n      <td>Flushing</td>\n      <td>104</td>\n      <td>National League</td>\n      <td>204</td>\n      <td>National League East</td>\n      <td>3289</td>\n      <td>Citi Field</td>\n    </tr>\n    <tr>\n      <th>14</th>\n      <td>133</td>\n      <td>Oakland Athletics</td>\n      <td>Athletics</td>\n      <td>oak</td>\n      <td>Oakland</td>\n      <td>OAK</td>\n      <td>Oakland</td>\n      <td>103</td>\n      <td>American League</td>\n      <td>200</td>\n      <td>American League West</td>\n      <td>10</td>\n      <td>Oakland Coliseum</td>\n    </tr>\n    <tr>\n      <th>15</th>\n      <td>134</td>\n      <td>Pittsburgh Pirates</td>\n      <td>Pirates</td>\n      <td>pit</td>\n      <td>Pittsburgh</td>\n      <td>PIT</td>\n      <td>Pittsburgh</td>\n      <td>104</td>\n      <td>National League</td>\n      <td>205</td>\n      <td>National League Central</td>\n      <td>31</td>\n      <td>PNC Park</td>\n    </tr>\n    <tr>\n      <th>16</th>\n      <td>135</td>\n      <td>San Diego Padres</td>\n      <td>Padres</td>\n      <td>sdn</td>\n      <td>San Diego</td>\n      <td>SD</td>\n      <td>San Diego</td>\n      <td>104</td>\n      <td>National League</td>\n      <td>203</td>\n      <td>National League West</td>\n      <td>2680</td>\n      <td>Petco Park</td>\n    </tr>\n    <tr>\n      <th>17</th>\n      <td>136</td>\n      <td>Seattle Mariners</td>\n      <td>Mariners</td>\n      <td>sea</td>\n      <td>Seattle</td>\n      <td>SEA</td>\n      <td>Seattle</td>\n      <td>103</td>\n      <td>American League</td>\n      <td>200</td>\n      <td>American League West</td>\n      <td>680</td>\n      <td>T-Mobile Park</td>\n    </tr>\n    <tr>\n      <th>18</th>\n      <td>137</td>\n      <td>San Francisco Giants</td>\n      <td>Giants</td>\n      <td>sfn</td>\n      <td>San Francisco</td>\n      <td>SF</td>\n      <td>San Francisco</td>\n      <td>104</td>\n      <td>National League</td>\n      <td>203</td>\n      <td>National League West</td>\n      <td>2395</td>\n      <td>Oracle Park</td>\n    </tr>\n    <tr>\n      <th>19</th>\n      <td>138</td>\n      <td>St. Louis Cardinals</td>\n      <td>Cardinals</td>\n      <td>sln</td>\n      <td>St. Louis</td>\n      <td>STL</td>\n      <td>St. Louis</td>\n      <td>104</td>\n      <td>National League</td>\n      <td>205</td>\n      <td>National League Central</td>\n      <td>2889</td>\n      <td>Busch Stadium</td>\n    </tr>\n    <tr>\n      <th>20</th>\n      <td>139</td>\n      <td>Tampa Bay Rays</td>\n      <td>Rays</td>\n      <td>tba</td>\n      <td>Tampa Bay</td>\n      <td>TB</td>\n      <td>St. Petersburg</td>\n      <td>103</td>\n      <td>American League</td>\n      <td>201</td>\n      <td>American League East</td>\n      <td>12</td>\n      <td>Tropicana Field</td>\n    </tr>\n    <tr>\n      <th>21</th>\n      <td>140</td>\n      <td>Texas Rangers</td>\n      <td>Rangers</td>\n      <td>tex</td>\n      <td>Texas</td>\n      <td>TEX</td>\n      <td>Arlington</td>\n      <td>103</td>\n      <td>American League</td>\n      <td>200</td>\n      <td>American League West</td>\n      <td>5325</td>\n      <td>Globe Life Field</td>\n    </tr>\n    <tr>\n      <th>22</th>\n      <td>141</td>\n      <td>Toronto Blue Jays</td>\n      <td>Blue Jays</td>\n      <td>tor</td>\n      <td>Toronto</td>\n      <td>TOR</td>\n      <td>Toronto</td>\n      <td>103</td>\n      <td>American League</td>\n      <td>201</td>\n      <td>American League East</td>\n      <td>14</td>\n      <td>Rogers Centre</td>\n    </tr>\n    <tr>\n      <th>23</th>\n      <td>142</td>\n      <td>Minnesota Twins</td>\n      <td>Twins</td>\n      <td>min</td>\n      <td>Minnesota</td>\n      <td>MIN</td>\n      <td>Minneapolis</td>\n      <td>103</td>\n      <td>American League</td>\n      <td>202</td>\n      <td>American League Central</td>\n      <td>3312</td>\n      <td>Target Field</td>\n    </tr>\n    <tr>\n      <th>24</th>\n      <td>143</td>\n      <td>Philadelphia Phillies</td>\n      <td>Phillies</td>\n      <td>phi</td>\n      <td>Philadelphia</td>\n      <td>PHI</td>\n      <td>Philadelphia</td>\n      <td>104</td>\n      <td>National League</td>\n      <td>204</td>\n      <td>National League East</td>\n      <td>2681</td>\n      <td>Citizens Bank Park</td>\n    </tr>\n    <tr>\n      <th>25</th>\n      <td>144</td>\n      <td>Atlanta Braves</td>\n      <td>Braves</td>\n      <td>atl</td>\n      <td>Atlanta</td>\n      <td>ATL</td>\n      <td>Atlanta</td>\n      <td>104</td>\n      <td>National League</td>\n      <td>204</td>\n      <td>National League East</td>\n      <td>4705</td>\n      <td>Truist Park</td>\n    </tr>\n    <tr>\n      <th>26</th>\n      <td>145</td>\n      <td>Chicago White Sox</td>\n      <td>White Sox</td>\n      <td>cha</td>\n      <td>Chi White Sox</td>\n      <td>CWS</td>\n      <td>Chicago</td>\n      <td>103</td>\n      <td>American League</td>\n      <td>202</td>\n      <td>American League Central</td>\n      <td>4</td>\n      <td>Guaranteed Rate Field</td>\n    </tr>\n    <tr>\n      <th>27</th>\n      <td>146</td>\n      <td>Miami Marlins</td>\n      <td>Marlins</td>\n      <td>mia</td>\n      <td>Miami</td>\n      <td>MIA</td>\n      <td>Miami</td>\n      <td>104</td>\n      <td>National League</td>\n      <td>204</td>\n      <td>National League East</td>\n      <td>4169</td>\n      <td>loanDepot park</td>\n    </tr>\n    <tr>\n      <th>28</th>\n      <td>147</td>\n      <td>New York Yankees</td>\n      <td>Yankees</td>\n      <td>nya</td>\n      <td>NY Yankees</td>\n      <td>NYY</td>\n      <td>Bronx</td>\n      <td>103</td>\n      <td>American League</td>\n      <td>201</td>\n      <td>American League East</td>\n      <td>3313</td>\n      <td>Yankee Stadium</td>\n    </tr>\n    <tr>\n      <th>29</th>\n      <td>158</td>\n      <td>Milwaukee Brewers</td>\n      <td>Brewers</td>\n      <td>mil</td>\n      <td>Milwaukee</td>\n      <td>MIL</td>\n      <td>Milwaukee</td>\n      <td>104</td>\n      <td>National League</td>\n      <td>205</td>\n      <td>National League Central</td>\n      <td>32</td>\n      <td>American Family Field</td>\n    </tr>\n  </tbody>\n</table>\n</div>",
          "text/plain": "     id                   name   teamName teamCode      shortName  \\\n0   108     Los Angeles Angels     Angels      ana      LA Angels   \n1   109   Arizona Diamondbacks    D-backs      ari        Arizona   \n2   110      Baltimore Orioles    Orioles      bal      Baltimore   \n3   111         Boston Red Sox    Red Sox      bos         Boston   \n4   112           Chicago Cubs       Cubs      chn       Chi Cubs   \n5   113        Cincinnati Reds       Reds      cin     Cincinnati   \n6   114      Cleveland Indians    Indians      cle      Cleveland   \n7   115       Colorado Rockies    Rockies      col       Colorado   \n8   116         Detroit Tigers     Tigers      det        Detroit   \n9   117         Houston Astros     Astros      hou        Houston   \n10  118     Kansas City Royals     Royals      kca    Kansas City   \n11  119    Los Angeles Dodgers    Dodgers      lan     LA Dodgers   \n12  120   Washington Nationals  Nationals      was     Washington   \n13  121          New York Mets       Mets      nyn        NY Mets   \n14  133      Oakland Athletics  Athletics      oak        Oakland   \n15  134     Pittsburgh Pirates    Pirates      pit     Pittsburgh   \n16  135       San Diego Padres     Padres      sdn      San Diego   \n17  136       Seattle Mariners   Mariners      sea        Seattle   \n18  137   San Francisco Giants     Giants      sfn  San Francisco   \n19  138    St. Louis Cardinals  Cardinals      sln      St. Louis   \n20  139         Tampa Bay Rays       Rays      tba      Tampa Bay   \n21  140          Texas Rangers    Rangers      tex          Texas   \n22  141      Toronto Blue Jays  Blue Jays      tor        Toronto   \n23  142        Minnesota Twins      Twins      min      Minnesota   \n24  143  Philadelphia Phillies   Phillies      phi   Philadelphia   \n25  144         Atlanta Braves     Braves      atl        Atlanta   \n26  145      Chicago White Sox  White Sox      cha  Chi White Sox   \n27  146          Miami Marlins    Marlins      mia          Miami   \n28  147       New York Yankees    Yankees      nya     NY Yankees   \n29  158      Milwaukee Brewers    Brewers      mil      Milwaukee   \n\n   abbreviation    locationName  leagueId       leagueName  divisionId  \\\n0           LAA         Anaheim       103  American League         200   \n1           ARI         Phoenix       104  National League         203   \n2           BAL       Baltimore       103  American League         201   \n3           BOS          Boston       103  American League         201   \n4           CHC         Chicago       104  National League         205   \n5           CIN      Cincinnati       104  National League         205   \n6           CLE       Cleveland       103  American League         202   \n7           COL          Denver       104  National League         203   \n8           DET         Detroit       103  American League         202   \n9           HOU         Houston       103  American League         200   \n10           KC     Kansas City       103  American League         202   \n11          LAD     Los Angeles       104  National League         203   \n12          WSH      Washington       104  National League         204   \n13          NYM        Flushing       104  National League         204   \n14          OAK         Oakland       103  American League         200   \n15          PIT      Pittsburgh       104  National League         205   \n16           SD       San Diego       104  National League         203   \n17          SEA         Seattle       103  American League         200   \n18           SF   San Francisco       104  National League         203   \n19          STL       St. Louis       104  National League         205   \n20           TB  St. Petersburg       103  American League         201   \n21          TEX       Arlington       103  American League         200   \n22          TOR         Toronto       103  American League         201   \n23          MIN     Minneapolis       103  American League         202   \n24          PHI    Philadelphia       104  National League         204   \n25          ATL         Atlanta       104  National League         204   \n26          CWS         Chicago       103  American League         202   \n27          MIA           Miami       104  National League         204   \n28          NYY           Bronx       103  American League         201   \n29          MIL       Milwaukee       104  National League         205   \n\n               divisionName  venueId                    venueName  \n0      American League West        1                Angel Stadium  \n1      National League West       15                  Chase Field  \n2      American League East        2  Oriole Park at Camden Yards  \n3      American League East        3                  Fenway Park  \n4   National League Central       17                Wrigley Field  \n5   National League Central     2602     Great American Ball Park  \n6   American League Central        5            Progressive Field  \n7      National League West       19                  Coors Field  \n8   American League Central     2394                Comerica Park  \n9      American League West     2392             Minute Maid Park  \n10  American League Central        7             Kauffman Stadium  \n11     National League West       22               Dodger Stadium  \n12     National League East     3309               Nationals Park  \n13     National League East     3289                   Citi Field  \n14     American League West       10             Oakland Coliseum  \n15  National League Central       31                     PNC Park  \n16     National League West     2680                   Petco Park  \n17     American League West      680                T-Mobile Park  \n18     National League West     2395                  Oracle Park  \n19  National League Central     2889                Busch Stadium  \n20     American League East       12              Tropicana Field  \n21     American League West     5325             Globe Life Field  \n22     American League East       14                Rogers Centre  \n23  American League Central     3312                 Target Field  \n24     National League East     2681           Citizens Bank Park  \n25     National League East     4705                  Truist Park  \n26  American League Central        4        Guaranteed Rate Field  \n27     National League East     4169               loanDepot park  \n28     American League East     3313               Yankee Stadium  \n29  National League Central       32        American Family Field  "
         },
         "metadata": {},
         "output_type": "display_data"
        }
       ]
      }
     },
     "3c5e5131fd3b438a94242faea6be658c": {
      "model_module": "@jupyter-widgets/output",
      "model_module_version": "1.0.0",
      "model_name": "OutputModel",
      "state": {
       "_dom_classes": [],
       "_model_module": "@jupyter-widgets/output",
       "_model_module_version": "1.0.0",
       "_model_name": "OutputModel",
       "_view_count": null,
       "_view_module": "@jupyter-widgets/output",
       "_view_module_version": "1.0.0",
       "_view_name": "OutputView",
       "layout": "IPY_MODEL_e8a8562cb9d145d7a578346a09ddaab5",
       "msg_id": "",
       "outputs": [
        {
         "data": {
          "text/html": "<div>\n<style scoped>\n    .dataframe tbody tr th:only-of-type {\n        vertical-align: middle;\n    }\n\n    .dataframe tbody tr th {\n        vertical-align: top;\n    }\n\n    .dataframe thead th {\n        text-align: right;\n    }\n</style>\n<table border=\"1\" class=\"dataframe\">\n  <thead>\n    <tr style=\"text-align: right;\">\n      <th></th>\n      <th>playerId</th>\n      <th>playerName</th>\n      <th>DOB</th>\n      <th>mlbDebutDate</th>\n      <th>birthCity</th>\n      <th>birthStateProvince</th>\n      <th>birthCountry</th>\n      <th>heightInches</th>\n      <th>weight</th>\n      <th>primaryPositionCode</th>\n      <th>primaryPositionName</th>\n      <th>playerForTestSetAndFuturePreds</th>\n    </tr>\n  </thead>\n  <tbody>\n    <tr>\n      <th>0</th>\n      <td>665482</td>\n      <td>Gilberto Celestino</td>\n      <td>1999-02-13</td>\n      <td>2021-06-02</td>\n      <td>Santo Domingo</td>\n      <td>NaN</td>\n      <td>Dominican Republic</td>\n      <td>72</td>\n      <td>170</td>\n      <td>8</td>\n      <td>Outfielder</td>\n      <td>False</td>\n    </tr>\n    <tr>\n      <th>1</th>\n      <td>593590</td>\n      <td>Webster Rivas</td>\n      <td>1990-08-08</td>\n      <td>2021-05-28</td>\n      <td>Nagua</td>\n      <td>NaN</td>\n      <td>Dominican Republic</td>\n      <td>73</td>\n      <td>219</td>\n      <td>3</td>\n      <td>First Base</td>\n      <td>True</td>\n    </tr>\n    <tr>\n      <th>2</th>\n      <td>661269</td>\n      <td>Vladimir Gutierrez</td>\n      <td>1995-09-18</td>\n      <td>2021-05-28</td>\n      <td>Havana</td>\n      <td>NaN</td>\n      <td>Cuba</td>\n      <td>73</td>\n      <td>190</td>\n      <td>1</td>\n      <td>Pitcher</td>\n      <td>True</td>\n    </tr>\n    <tr>\n      <th>3</th>\n      <td>669212</td>\n      <td>Eli Morgan</td>\n      <td>1996-05-13</td>\n      <td>2021-05-28</td>\n      <td>Rancho Palos Verdes</td>\n      <td>CA</td>\n      <td>USA</td>\n      <td>70</td>\n      <td>190</td>\n      <td>1</td>\n      <td>Pitcher</td>\n      <td>True</td>\n    </tr>\n    <tr>\n      <th>4</th>\n      <td>666201</td>\n      <td>Alek Manoah</td>\n      <td>1998-01-09</td>\n      <td>2021-05-27</td>\n      <td>Homestead</td>\n      <td>FL</td>\n      <td>USA</td>\n      <td>78</td>\n      <td>260</td>\n      <td>1</td>\n      <td>Pitcher</td>\n      <td>True</td>\n    </tr>\n    <tr>\n      <th>...</th>\n      <td>...</td>\n      <td>...</td>\n      <td>...</td>\n      <td>...</td>\n      <td>...</td>\n      <td>...</td>\n      <td>...</td>\n      <td>...</td>\n      <td>...</td>\n      <td>...</td>\n      <td>...</td>\n      <td>...</td>\n    </tr>\n    <tr>\n      <th>2056</th>\n      <td>672695</td>\n      <td>Geraldo Perdomo</td>\n      <td>1999-10-22</td>\n      <td>NaN</td>\n      <td>Santo Domingo</td>\n      <td>NaN</td>\n      <td>Dominican Republic</td>\n      <td>74</td>\n      <td>203</td>\n      <td>6</td>\n      <td>Shortstop</td>\n      <td>True</td>\n    </tr>\n    <tr>\n      <th>2057</th>\n      <td>672911</td>\n      <td>Jesus Cruz</td>\n      <td>1995-04-15</td>\n      <td>NaN</td>\n      <td>Salinas de Hidalgo</td>\n      <td>San Luis Potosi</td>\n      <td>Mexico</td>\n      <td>73</td>\n      <td>230</td>\n      <td>1</td>\n      <td>Pitcher</td>\n      <td>False</td>\n    </tr>\n    <tr>\n      <th>2058</th>\n      <td>676103</td>\n      <td>Damon Jones</td>\n      <td>1994-09-30</td>\n      <td>NaN</td>\n      <td>Twin Falls</td>\n      <td>ID</td>\n      <td>USA</td>\n      <td>77</td>\n      <td>233</td>\n      <td>1</td>\n      <td>Pitcher</td>\n      <td>True</td>\n    </tr>\n    <tr>\n      <th>2059</th>\n      <td>676755</td>\n      <td>Isaac Mattson</td>\n      <td>1995-07-14</td>\n      <td>NaN</td>\n      <td>Erie</td>\n      <td>PA</td>\n      <td>USA</td>\n      <td>74</td>\n      <td>205</td>\n      <td>1</td>\n      <td>Pitcher</td>\n      <td>True</td>\n    </tr>\n    <tr>\n      <th>2060</th>\n      <td>680430</td>\n      <td>Nick Allgeyer</td>\n      <td>1996-02-03</td>\n      <td>NaN</td>\n      <td>St. Louis</td>\n      <td>MO</td>\n      <td>USA</td>\n      <td>75</td>\n      <td>210</td>\n      <td>1</td>\n      <td>Pitcher</td>\n      <td>True</td>\n    </tr>\n  </tbody>\n</table>\n<p>2061 rows × 12 columns</p>\n</div>",
          "text/plain": "      playerId          playerName         DOB mlbDebutDate  \\\n0       665482  Gilberto Celestino  1999-02-13   2021-06-02   \n1       593590       Webster Rivas  1990-08-08   2021-05-28   \n2       661269  Vladimir Gutierrez  1995-09-18   2021-05-28   \n3       669212          Eli Morgan  1996-05-13   2021-05-28   \n4       666201         Alek Manoah  1998-01-09   2021-05-27   \n...        ...                 ...         ...          ...   \n2056    672695     Geraldo Perdomo  1999-10-22          NaN   \n2057    672911          Jesus Cruz  1995-04-15          NaN   \n2058    676103         Damon Jones  1994-09-30          NaN   \n2059    676755       Isaac Mattson  1995-07-14          NaN   \n2060    680430       Nick Allgeyer  1996-02-03          NaN   \n\n                birthCity birthStateProvince        birthCountry  \\\n0           Santo Domingo                NaN  Dominican Republic   \n1                   Nagua                NaN  Dominican Republic   \n2                  Havana                NaN                Cuba   \n3     Rancho Palos Verdes                 CA                 USA   \n4               Homestead                 FL                 USA   \n...                   ...                ...                 ...   \n2056        Santo Domingo                NaN  Dominican Republic   \n2057   Salinas de Hidalgo    San Luis Potosi              Mexico   \n2058           Twin Falls                 ID                 USA   \n2059                 Erie                 PA                 USA   \n2060            St. Louis                 MO                 USA   \n\n      heightInches  weight primaryPositionCode primaryPositionName  \\\n0               72     170                   8          Outfielder   \n1               73     219                   3          First Base   \n2               73     190                   1             Pitcher   \n3               70     190                   1             Pitcher   \n4               78     260                   1             Pitcher   \n...            ...     ...                 ...                 ...   \n2056            74     203                   6           Shortstop   \n2057            73     230                   1             Pitcher   \n2058            77     233                   1             Pitcher   \n2059            74     205                   1             Pitcher   \n2060            75     210                   1             Pitcher   \n\n     playerForTestSetAndFuturePreds  \n0                             False  \n1                              True  \n2                              True  \n3                              True  \n4                              True  \n...                             ...  \n2056                           True  \n2057                          False  \n2058                           True  \n2059                           True  \n2060                           True  \n\n[2061 rows x 12 columns]"
         },
         "metadata": {},
         "output_type": "display_data"
        }
       ]
      }
     },
     "bc535b075e8c4e439a6e0c99a54cacd5": {
      "model_module": "@jupyter-widgets/base",
      "model_module_version": "1.2.0",
      "model_name": "LayoutModel",
      "state": {
       "_model_module": "@jupyter-widgets/base",
       "_model_module_version": "1.2.0",
       "_model_name": "LayoutModel",
       "_view_count": null,
       "_view_module": "@jupyter-widgets/base",
       "_view_module_version": "1.2.0",
       "_view_name": "LayoutView",
       "align_content": null,
       "align_items": null,
       "align_self": null,
       "border": null,
       "bottom": null,
       "display": null,
       "flex": null,
       "flex_flow": null,
       "grid_area": null,
       "grid_auto_columns": null,
       "grid_auto_flow": null,
       "grid_auto_rows": null,
       "grid_column": null,
       "grid_gap": null,
       "grid_row": null,
       "grid_template_areas": null,
       "grid_template_columns": null,
       "grid_template_rows": null,
       "height": null,
       "justify_content": null,
       "justify_items": null,
       "left": null,
       "margin": null,
       "max_height": null,
       "max_width": null,
       "min_height": null,
       "min_width": null,
       "object_fit": null,
       "object_position": null,
       "order": null,
       "overflow": null,
       "overflow_x": null,
       "overflow_y": null,
       "padding": null,
       "right": null,
       "top": null,
       "visibility": null,
       "width": null
      }
     },
     "dc9f2ede792e45c8b375f3b93a9a778d": {
      "model_module": "@jupyter-widgets/output",
      "model_module_version": "1.0.0",
      "model_name": "OutputModel",
      "state": {
       "_dom_classes": [],
       "_model_module": "@jupyter-widgets/output",
       "_model_module_version": "1.0.0",
       "_model_name": "OutputModel",
       "_view_count": null,
       "_view_module": "@jupyter-widgets/output",
       "_view_module_version": "1.0.0",
       "_view_name": "OutputView",
       "layout": "IPY_MODEL_080ad6cd0a294303addf0d0510a53d99",
       "msg_id": "",
       "outputs": [
        {
         "data": {
          "text/html": "<div>\n<style scoped>\n    .dataframe tbody tr th:only-of-type {\n        vertical-align: middle;\n    }\n\n    .dataframe tbody tr th {\n        vertical-align: top;\n    }\n\n    .dataframe thead th {\n        text-align: right;\n    }\n</style>\n<table border=\"1\" class=\"dataframe\">\n  <thead>\n    <tr style=\"text-align: right;\">\n      <th></th>\n      <th>awardDate</th>\n      <th>awardSeason</th>\n      <th>awardId</th>\n      <th>awardName</th>\n      <th>playerId</th>\n      <th>playerName</th>\n      <th>awardPlayerTeamId</th>\n    </tr>\n  </thead>\n  <tbody>\n    <tr>\n      <th>0</th>\n      <td>2017-12-21</td>\n      <td>2017</td>\n      <td>WARRENSPAHN</td>\n      <td>Warren Spahn Award</td>\n      <td>477132</td>\n      <td>Clayton Kershaw</td>\n      <td>119.0</td>\n    </tr>\n    <tr>\n      <th>1</th>\n      <td>2017-12-20</td>\n      <td>2017</td>\n      <td>MILBORGAS</td>\n      <td>MiLB.com Organization All-Star</td>\n      <td>474319</td>\n      <td>Brandon Snyder</td>\n      <td>120.0</td>\n    </tr>\n    <tr>\n      <th>2</th>\n      <td>2017-12-20</td>\n      <td>2017</td>\n      <td>MILBORGAS</td>\n      <td>MiLB.com Organization All-Star</td>\n      <td>592530</td>\n      <td>Jose Marmolejos</td>\n      <td>120.0</td>\n    </tr>\n    <tr>\n      <th>3</th>\n      <td>2017-12-20</td>\n      <td>2017</td>\n      <td>MILBORGAS</td>\n      <td>MiLB.com Organization All-Star</td>\n      <td>593833</td>\n      <td>Wander Suero</td>\n      <td>120.0</td>\n    </tr>\n    <tr>\n      <th>4</th>\n      <td>2017-12-20</td>\n      <td>2017</td>\n      <td>MILBORGAS</td>\n      <td>MiLB.com Organization All-Star</td>\n      <td>600466</td>\n      <td>Raudy Read</td>\n      <td>120.0</td>\n    </tr>\n    <tr>\n      <th>...</th>\n      <td>...</td>\n      <td>...</td>\n      <td>...</td>\n      <td>...</td>\n      <td>...</td>\n      <td>...</td>\n      <td>...</td>\n    </tr>\n    <tr>\n      <th>11251</th>\n      <td>2000-08-27</td>\n      <td>2000</td>\n      <td>NLPOW</td>\n      <td>NL Player of the Week</td>\n      <td>134181</td>\n      <td>Adrian Beltre</td>\n      <td>119.0</td>\n    </tr>\n    <tr>\n      <th>11252</th>\n      <td>2000-07-09</td>\n      <td>2000</td>\n      <td>FUTURES</td>\n      <td>Futures Game Selection</td>\n      <td>282332</td>\n      <td>CC Sabathia</td>\n      <td>402.0</td>\n    </tr>\n    <tr>\n      <th>11253</th>\n      <td>1998-09-01</td>\n      <td>1998</td>\n      <td>TLPSAS</td>\n      <td>TEX Post-Season All-Star</td>\n      <td>134181</td>\n      <td>Adrian Beltre</td>\n      <td>510.0</td>\n    </tr>\n    <tr>\n      <th>11254</th>\n      <td>1998-07-07</td>\n      <td>1998</td>\n      <td>ALAS</td>\n      <td>AL All-Star</td>\n      <td>112526</td>\n      <td>Bartolo Colon</td>\n      <td>114.0</td>\n    </tr>\n    <tr>\n      <th>11255</th>\n      <td>1998-06-21</td>\n      <td>1998</td>\n      <td>ALPOW</td>\n      <td>AL Player of the Week</td>\n      <td>112526</td>\n      <td>Bartolo Colon</td>\n      <td>114.0</td>\n    </tr>\n  </tbody>\n</table>\n<p>11256 rows × 7 columns</p>\n</div>",
          "text/plain": "        awardDate  awardSeason      awardId                       awardName  \\\n0      2017-12-21         2017  WARRENSPAHN              Warren Spahn Award   \n1      2017-12-20         2017    MILBORGAS  MiLB.com Organization All-Star   \n2      2017-12-20         2017    MILBORGAS  MiLB.com Organization All-Star   \n3      2017-12-20         2017    MILBORGAS  MiLB.com Organization All-Star   \n4      2017-12-20         2017    MILBORGAS  MiLB.com Organization All-Star   \n...           ...          ...          ...                             ...   \n11251  2000-08-27         2000        NLPOW           NL Player of the Week   \n11252  2000-07-09         2000      FUTURES          Futures Game Selection   \n11253  1998-09-01         1998       TLPSAS        TEX Post-Season All-Star   \n11254  1998-07-07         1998         ALAS                     AL All-Star   \n11255  1998-06-21         1998        ALPOW           AL Player of the Week   \n\n       playerId       playerName  awardPlayerTeamId  \n0        477132  Clayton Kershaw              119.0  \n1        474319   Brandon Snyder              120.0  \n2        592530  Jose Marmolejos              120.0  \n3        593833     Wander Suero              120.0  \n4        600466       Raudy Read              120.0  \n...         ...              ...                ...  \n11251    134181    Adrian Beltre              119.0  \n11252    282332      CC Sabathia              402.0  \n11253    134181    Adrian Beltre              510.0  \n11254    112526    Bartolo Colon              114.0  \n11255    112526    Bartolo Colon              114.0  \n\n[11256 rows x 7 columns]"
         },
         "metadata": {},
         "output_type": "display_data"
        }
       ]
      }
     },
     "e8a8562cb9d145d7a578346a09ddaab5": {
      "model_module": "@jupyter-widgets/base",
      "model_module_version": "1.2.0",
      "model_name": "LayoutModel",
      "state": {
       "_model_module": "@jupyter-widgets/base",
       "_model_module_version": "1.2.0",
       "_model_name": "LayoutModel",
       "_view_count": null,
       "_view_module": "@jupyter-widgets/base",
       "_view_module_version": "1.2.0",
       "_view_name": "LayoutView",
       "align_content": null,
       "align_items": null,
       "align_self": null,
       "border": null,
       "bottom": null,
       "display": null,
       "flex": null,
       "flex_flow": null,
       "grid_area": null,
       "grid_auto_columns": null,
       "grid_auto_flow": null,
       "grid_auto_rows": null,
       "grid_column": null,
       "grid_gap": null,
       "grid_row": null,
       "grid_template_areas": null,
       "grid_template_columns": null,
       "grid_template_rows": null,
       "height": null,
       "justify_content": null,
       "justify_items": null,
       "left": null,
       "margin": null,
       "max_height": null,
       "max_width": null,
       "min_height": null,
       "min_width": null,
       "object_fit": null,
       "object_position": null,
       "order": null,
       "overflow": null,
       "overflow_x": null,
       "overflow_y": null,
       "padding": null,
       "right": null,
       "top": null,
       "visibility": null,
       "width": null
      }
     },
     "e9292311d9be40aaaedfbdcf720bbba5": {
      "model_module": "@jupyter-widgets/base",
      "model_module_version": "1.2.0",
      "model_name": "LayoutModel",
      "state": {
       "_model_module": "@jupyter-widgets/base",
       "_model_module_version": "1.2.0",
       "_model_name": "LayoutModel",
       "_view_count": null,
       "_view_module": "@jupyter-widgets/base",
       "_view_module_version": "1.2.0",
       "_view_name": "LayoutView",
       "align_content": null,
       "align_items": null,
       "align_self": null,
       "border": null,
       "bottom": null,
       "display": null,
       "flex": null,
       "flex_flow": null,
       "grid_area": null,
       "grid_auto_columns": null,
       "grid_auto_flow": null,
       "grid_auto_rows": null,
       "grid_column": null,
       "grid_gap": null,
       "grid_row": null,
       "grid_template_areas": null,
       "grid_template_columns": null,
       "grid_template_rows": null,
       "height": null,
       "justify_content": null,
       "justify_items": null,
       "left": null,
       "margin": null,
       "max_height": null,
       "max_width": null,
       "min_height": null,
       "min_width": null,
       "object_fit": null,
       "object_position": null,
       "order": null,
       "overflow": null,
       "overflow_x": null,
       "overflow_y": null,
       "padding": null,
       "right": null,
       "top": null,
       "visibility": null,
       "width": null
      }
     },
     "f2c55ad3bc154d9295e5712cbe09a9fa": {
      "model_module": "@jupyter-widgets/base",
      "model_module_version": "1.2.0",
      "model_name": "LayoutModel",
      "state": {
       "_model_module": "@jupyter-widgets/base",
       "_model_module_version": "1.2.0",
       "_model_name": "LayoutModel",
       "_view_count": null,
       "_view_module": "@jupyter-widgets/base",
       "_view_module_version": "1.2.0",
       "_view_name": "LayoutView",
       "align_content": null,
       "align_items": null,
       "align_self": null,
       "border": null,
       "bottom": null,
       "display": null,
       "flex": null,
       "flex_flow": null,
       "grid_area": null,
       "grid_auto_columns": null,
       "grid_auto_flow": null,
       "grid_auto_rows": null,
       "grid_column": null,
       "grid_gap": null,
       "grid_row": null,
       "grid_template_areas": null,
       "grid_template_columns": null,
       "grid_template_rows": null,
       "height": null,
       "justify_content": null,
       "justify_items": null,
       "left": null,
       "margin": null,
       "max_height": null,
       "max_width": null,
       "min_height": null,
       "min_width": null,
       "object_fit": null,
       "object_position": null,
       "order": null,
       "overflow": null,
       "overflow_x": null,
       "overflow_y": null,
       "padding": null,
       "right": null,
       "top": null,
       "visibility": null,
       "width": null
      }
     }
    },
    "version_major": 2,
    "version_minor": 0
   }
  }
 },
 "nbformat": 4,
 "nbformat_minor": 5
}
