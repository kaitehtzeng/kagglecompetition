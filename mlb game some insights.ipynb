{
 "cells": [
  {
   "cell_type": "markdown",
   "id": "sunset-terminology",
   "metadata": {
    "execution": {
     "iopub.execute_input": "2021-06-08T23:38:55.536369Z",
     "iopub.status.busy": "2021-06-08T23:38:55.536027Z",
     "iopub.status.idle": "2021-06-08T23:38:55.540097Z",
     "shell.execute_reply": "2021-06-08T23:38:55.53902Z",
     "shell.execute_reply.started": "2021-06-08T23:38:55.536341Z"
    },
    "papermill": {
     "duration": 0.051196,
     "end_time": "2021-12-29T20:53:04.782999",
     "exception": false,
     "start_time": "2021-12-29T20:53:04.731803",
     "status": "completed"
    },
    "tags": []
   },
   "source": [
    "# MLB Player Digital Engagement Forecasting Part 3\n"
   ]
  },
  {
   "cell_type": "markdown",
   "id": "introductory-signature",
   "metadata": {
    "papermill": {
     "duration": 0.048686,
     "end_time": "2021-12-29T20:53:04.880741",
     "exception": false,
     "start_time": "2021-12-29T20:53:04.832055",
     "status": "completed"
    },
    "tags": []
   },
   "source": [
    "This is *MLB Digital Engagement Forecasting* competition held by Kaggle. This notebook will:\n",
    "- load and join the data,\n",
    "- create a feature set,\n",
    "- predict with trained model.\n",
    "- analysis.\n",
    "- make a submission.\n",
    "\n",
    "\n"
   ]
  },
  {
   "cell_type": "code",
   "execution_count": 1,
   "id": "historical-magnet",
   "metadata": {
    "_cell_guid": "b1076dfc-b9ad-4769-8c92-a6c4dae69d19",
    "_kg_hide-input": true,
    "_uuid": "8f2839f25d086af736a60e9eeb907d3b93b6e0e5",
    "execution": {
     "iopub.execute_input": "2021-12-29T20:53:04.985176Z",
     "iopub.status.busy": "2021-12-29T20:53:04.983990Z",
     "iopub.status.idle": "2021-12-29T20:53:11.305792Z",
     "shell.execute_reply": "2021-12-29T20:53:11.304877Z",
     "shell.execute_reply.started": "2021-12-29T16:10:25.467276Z"
    },
    "papermill": {
     "duration": 6.375794,
     "end_time": "2021-12-29T20:53:11.305953",
     "exception": false,
     "start_time": "2021-12-29T20:53:04.930159",
     "status": "completed"
    },
    "tags": []
   },
   "outputs": [],
   "source": [
    "import gc\n",
    "import sys\n",
    "import warnings\n",
    "from joblib import Parallel, delayed\n",
    "from pathlib import Path\n",
    "import datetime\n",
    "import ipywidgets as widgets\n",
    "import matplotlib.pyplot as plt\n",
    "import numpy as np\n",
    "import pandas as pd\n",
    "import seaborn as sns\n",
    "from sklearn.model_selection import train_test_split\n",
    "from statsmodels.tsa.deterministic import (CalendarFourier,\n",
    "                                           CalendarSeasonality,\n",
    "                                           CalendarTimeTrend,\n",
    "                                           DeterministicProcess)\n",
    "\n",
    "import tensorflow as tf\n",
    "from tensorflow import keras\n",
    "from tensorflow.keras import layers\n",
    "from keras.layers.experimental.preprocessing import StringLookup\n",
    "\n",
    "warnings.simplefilter(\"ignore\")"
   ]
  },
  {
   "cell_type": "markdown",
   "id": "humanitarian-aerospace",
   "metadata": {
    "papermill": {
     "duration": 0.04949,
     "end_time": "2021-12-29T20:53:11.405199",
     "exception": false,
     "start_time": "2021-12-29T20:53:11.355709",
     "status": "completed"
    },
    "tags": []
   },
   "source": [
    "# 1. Create Training Data #"
   ]
  },
  {
   "cell_type": "markdown",
   "id": "alternative-conditioning",
   "metadata": {
    "papermill": {
     "duration": 0.049528,
     "end_time": "2021-12-29T20:53:11.503959",
     "exception": false,
     "start_time": "2021-12-29T20:53:11.454431",
     "status": "completed"
    },
    "tags": []
   },
   "source": [
    "### Read and extract dataframes"
   ]
  },
  {
   "cell_type": "code",
   "execution_count": 2,
   "id": "charitable-photographer",
   "metadata": {
    "_kg_hide-input": true,
    "execution": {
     "iopub.execute_input": "2021-12-29T20:53:11.604877Z",
     "iopub.status.busy": "2021-12-29T20:53:11.604253Z",
     "iopub.status.idle": "2021-12-29T20:53:11.611107Z",
     "shell.execute_reply": "2021-12-29T20:53:11.611634Z",
     "shell.execute_reply.started": "2021-12-29T16:10:32.091527Z"
    },
    "papermill": {
     "duration": 0.058867,
     "end_time": "2021-12-29T20:53:11.611804",
     "exception": false,
     "start_time": "2021-12-29T20:53:11.552937",
     "status": "completed"
    },
    "tags": []
   },
   "outputs": [],
   "source": [
    "# Helper function to unpack json found in daily data\n",
    "def unpack_json(json_str):\n",
    "    return pd.DataFrame() if pd.isna(json_str) else pd.read_json(json_str)\n",
    "\n",
    "\n",
    "def unpack_data(data, dfs=None, n_jobs=-1):\n",
    "    if dfs is not None:\n",
    "        data = data.loc[:, dfs]\n",
    "    unnested_dfs = {}\n",
    "    for name, column in data.iteritems():\n",
    "        daily_dfs = Parallel(n_jobs=n_jobs)(\n",
    "            delayed(unpack_json)(item) for date, item in column.iteritems())\n",
    "        df = pd.concat(daily_dfs)\n",
    "        unnested_dfs[name] = df\n",
    "    return unnested_dfs"
   ]
  },
  {
   "cell_type": "markdown",
   "id": "connected-interference",
   "metadata": {
    "papermill": {
     "duration": 0.048919,
     "end_time": "2021-12-29T20:53:11.709873",
     "exception": false,
     "start_time": "2021-12-29T20:53:11.660954",
     "status": "completed"
    },
    "tags": []
   },
   "source": [
    "We use features from following tables: seasons,teams,players,and awards"
   ]
  },
  {
   "cell_type": "code",
   "execution_count": 3,
   "id": "instant-popularity",
   "metadata": {
    "_kg_hide-input": true,
    "execution": {
     "iopub.execute_input": "2021-12-29T20:53:11.811354Z",
     "iopub.status.busy": "2021-12-29T20:53:11.810667Z",
     "iopub.status.idle": "2021-12-29T20:53:12.036717Z",
     "shell.execute_reply": "2021-12-29T20:53:12.036158Z",
     "shell.execute_reply.started": "2021-12-29T16:10:32.106648Z"
    },
    "papermill": {
     "duration": 0.277847,
     "end_time": "2021-12-29T20:53:12.036862",
     "exception": false,
     "start_time": "2021-12-29T20:53:11.759015",
     "status": "completed"
    },
    "tags": []
   },
   "outputs": [
    {
     "data": {
      "application/vnd.jupyter.widget-view+json": {
       "model_id": "cb7158013f9243348b29f2a0ad45b7ef",
       "version_major": 2,
       "version_minor": 0
      },
      "text/plain": [
       "Tab(children=(Output(), Output(), Output(), Output()), _titles={'0': 'seasons', '1': 'teams', '2': 'players', …"
      ]
     },
     "metadata": {},
     "output_type": "display_data"
    }
   ],
   "source": [
    "data_dir = Path('../input/mlb-player-digital-engagement-forecasting/')\n",
    "\n",
    "df_names = ['seasons', 'teams', 'players', 'awards']\n",
    "\n",
    "for name in df_names:\n",
    "    globals()[name] = pd.read_csv(data_dir / f\"{name}.csv\")\n",
    "\n",
    "kaggle_data_tabs = widgets.Tab()\n",
    "# Add Output widgets for each pandas DF as tabs' children\n",
    "kaggle_data_tabs.children = list([widgets.Output() for df_name in df_names])\n",
    "\n",
    "for index in range(0, len(df_names)):\n",
    "    # Rename tab bar titles to df names\n",
    "    kaggle_data_tabs.set_title(index, df_names[index])\n",
    "    \n",
    "    # Display corresponding table output for this tab name\n",
    "    with kaggle_data_tabs.children[index]:\n",
    "        display(eval(df_names[index]))\n",
    "\n",
    "display(kaggle_data_tabs)\n",
    "del teams"
   ]
  },
  {
   "cell_type": "markdown",
   "id": "moderate-sociology",
   "metadata": {
    "papermill": {
     "duration": 0.050486,
     "end_time": "2021-12-29T20:53:12.142635",
     "exception": false,
     "start_time": "2021-12-29T20:53:12.092149",
     "status": "completed"
    },
    "tags": []
   },
   "source": [
    "### Players tables(Library containing high level information about all MLB players in this dataset):\n",
    "Creating dummies for players birthcountry. Features used in the model:birthyear, birthcountry, and primary position code"
   ]
  },
  {
   "cell_type": "code",
   "execution_count": 4,
   "id": "peaceful-germany",
   "metadata": {
    "execution": {
     "iopub.execute_input": "2021-12-29T20:53:12.251626Z",
     "iopub.status.busy": "2021-12-29T20:53:12.250706Z",
     "iopub.status.idle": "2021-12-29T20:53:12.395830Z",
     "shell.execute_reply": "2021-12-29T20:53:12.395248Z",
     "shell.execute_reply.started": "2021-12-29T16:10:32.385831Z"
    },
    "papermill": {
     "duration": 0.203664,
     "end_time": "2021-12-29T20:53:12.395998",
     "exception": false,
     "start_time": "2021-12-29T20:53:12.192334",
     "status": "completed"
    },
    "tags": []
   },
   "outputs": [],
   "source": [
    "players_1=players[players['playerForTestSetAndFuturePreds']==True].copy()\n",
    "players_1.loc[players_1['playerForTestSetAndFuturePreds']==True,\"birthCountry\"].unique()\n",
    "players_1.loc[(players_1['birthCountry']=='Taiwan')|(players_1['birthCountry']=='South Korea')|(players_1['birthCountry']=='Japan')|(players_1['birthCountry']==\"China\"),\"birthCountry\"]=\"Asia\"\n",
    "players_1.loc[(players_1['birthCountry']=='Germany')|(players_1['birthCountry']=='Netherlands'),'birthCountry']='Europe'\n",
    "players_1.loc[(players_1['birthCountry']!='USA')&(players_1['birthCountry']!='Europe')&(players_1['birthCountry']!='Asia'),'birthCountry']='America'\n",
    "players_1=players_1[['playerId','birthCountry','DOB','heightInches','weight','primaryPositionCode']]\n",
    "players_1=pd.get_dummies(players_1,columns=['birthCountry','primaryPositionCode'])\n",
    "players_1['DOB'] = pd.PeriodIndex(players_1.DOB, freq='D')\n",
    "players_1['birthyear']=players_1.DOB.dt.year\n",
    "players_1.drop('DOB',axis=1,inplace=True)"
   ]
  },
  {
   "cell_type": "markdown",
   "id": "chief-playlist",
   "metadata": {
    "papermill": {
     "duration": 0.050689,
     "end_time": "2021-12-29T20:53:12.496397",
     "exception": false,
     "start_time": "2021-12-29T20:53:12.445708",
     "status": "completed"
    },
    "tags": []
   },
   "source": [
    "The training data is a time-indexed collection of nested JSON fields containing information about each player. Our target is the `nextDayPlayerEngagement` column, while the remaining columns could be used to construct features."
   ]
  },
  {
   "cell_type": "code",
   "execution_count": 5,
   "id": "criminal-globe",
   "metadata": {
    "_kg_hide-input": false,
    "execution": {
     "iopub.execute_input": "2021-12-29T20:53:12.599700Z",
     "iopub.status.busy": "2021-12-29T20:53:12.598713Z",
     "iopub.status.idle": "2021-12-29T20:54:19.946792Z",
     "shell.execute_reply": "2021-12-29T20:54:19.947476Z",
     "shell.execute_reply.started": "2021-12-29T16:10:32.582943Z"
    },
    "papermill": {
     "duration": 67.401415,
     "end_time": "2021-12-29T20:54:19.947837",
     "exception": false,
     "start_time": "2021-12-29T20:53:12.546422",
     "status": "completed"
    },
    "tags": []
   },
   "outputs": [
    {
     "name": "stdout",
     "output_type": "stream",
     "text": [
      "<class 'pandas.core.frame.DataFrame'>\n",
      "PeriodIndex: 1216 entries, 2018-01-01 to 2021-04-30\n",
      "Freq: D\n",
      "Data columns (total 8 columns):\n",
      " #   Column                   Non-Null Count  Dtype \n",
      "---  ------                   --------------  ----- \n",
      " 0   nextDayPlayerEngagement  1216 non-null   object\n",
      " 1   games                    639 non-null    object\n",
      " 2   rosters                  1216 non-null   object\n",
      " 3   playerBoxScores          538 non-null    object\n",
      " 4   transactions             1103 non-null   object\n",
      " 5   standings                531 non-null    object\n",
      " 6   awards                   294 non-null    object\n",
      " 7   playerTwitterFollowers   40 non-null     object\n",
      "dtypes: object(8)\n",
      "memory usage: 85.5+ KB\n",
      "None\n",
      "CPU times: user 32.3 s, sys: 7.96 s, total: 40.2 s\n",
      "Wall time: 1min 7s\n"
     ]
    }
   ],
   "source": [
    "%%time\n",
    "# Define dataframes to load from training set\n",
    "dfs = [\n",
    "    'nextDayPlayerEngagement',  # targets\n",
    "    'playerBoxScores',  # features\n",
    "    # Other dataframes available for features:\n",
    "    'games',\n",
    "    'rosters',\n",
    "    #'teamBoxScores',\n",
    "    'transactions',\n",
    "    'standings',\n",
    "    'awards',\n",
    "    # 'events',\n",
    "    'playerTwitterFollowers',\n",
    "]\n",
    "\n",
    "# Read training data\n",
    "training = pd.read_csv(\n",
    "    data_dir / 'train.csv',\n",
    "    usecols=['date'] + dfs,\n",
    ")\n",
    "\n",
    "# Convert training data date field to datetime type\n",
    "training['date'] = pd.to_datetime(training['date'], format=\"%Y%m%d\")\n",
    "training = training.set_index('date').to_period('D')\n",
    "print(training.info())"
   ]
  },
  {
   "cell_type": "markdown",
   "id": "cleared-presentation",
   "metadata": {
    "papermill": {
     "duration": 0.051068,
     "end_time": "2021-12-29T20:54:20.049542",
     "exception": false,
     "start_time": "2021-12-29T20:54:19.998474",
     "status": "completed"
    },
    "tags": []
   },
   "source": [
    "### Quick overview of the training table"
   ]
  },
  {
   "cell_type": "code",
   "execution_count": 6,
   "id": "formed-estate",
   "metadata": {
    "execution": {
     "iopub.execute_input": "2021-12-29T20:54:20.181846Z",
     "iopub.status.busy": "2021-12-29T20:54:20.180847Z",
     "iopub.status.idle": "2021-12-29T20:54:20.186315Z",
     "shell.execute_reply": "2021-12-29T20:54:20.185710Z",
     "shell.execute_reply.started": "2021-12-29T16:11:37.496167Z"
    },
    "papermill": {
     "duration": 0.085625,
     "end_time": "2021-12-29T20:54:20.186460",
     "exception": false,
     "start_time": "2021-12-29T20:54:20.100835",
     "status": "completed"
    },
    "tags": []
   },
   "outputs": [
    {
     "data": {
      "text/html": [
       "<div>\n",
       "<style scoped>\n",
       "    .dataframe tbody tr th:only-of-type {\n",
       "        vertical-align: middle;\n",
       "    }\n",
       "\n",
       "    .dataframe tbody tr th {\n",
       "        vertical-align: top;\n",
       "    }\n",
       "\n",
       "    .dataframe thead th {\n",
       "        text-align: right;\n",
       "    }\n",
       "</style>\n",
       "<table border=\"1\" class=\"dataframe\">\n",
       "  <thead>\n",
       "    <tr style=\"text-align: right;\">\n",
       "      <th></th>\n",
       "      <th>nextDayPlayerEngagement</th>\n",
       "      <th>games</th>\n",
       "      <th>rosters</th>\n",
       "      <th>playerBoxScores</th>\n",
       "      <th>transactions</th>\n",
       "      <th>standings</th>\n",
       "      <th>awards</th>\n",
       "      <th>playerTwitterFollowers</th>\n",
       "    </tr>\n",
       "    <tr>\n",
       "      <th>date</th>\n",
       "      <th></th>\n",
       "      <th></th>\n",
       "      <th></th>\n",
       "      <th></th>\n",
       "      <th></th>\n",
       "      <th></th>\n",
       "      <th></th>\n",
       "      <th></th>\n",
       "    </tr>\n",
       "  </thead>\n",
       "  <tbody>\n",
       "    <tr>\n",
       "      <th>2018-01-01</th>\n",
       "      <td>[{\"engagementMetricsDate\":\"2018-01-02\",\"player...</td>\n",
       "      <td>NaN</td>\n",
       "      <td>[{\"playerId\":400121,\"gameDate\":\"2018-01-01\",\"t...</td>\n",
       "      <td>NaN</td>\n",
       "      <td>[{\"transactionId\":340732,\"playerId\":547348,\"pl...</td>\n",
       "      <td>NaN</td>\n",
       "      <td>NaN</td>\n",
       "      <td>[{\"date\":\"2018-01-01\",\"playerId\":545361,\"playe...</td>\n",
       "    </tr>\n",
       "    <tr>\n",
       "      <th>2018-01-02</th>\n",
       "      <td>[{\"engagementMetricsDate\":\"2018-01-03\",\"player...</td>\n",
       "      <td>NaN</td>\n",
       "      <td>[{\"playerId\":134181,\"gameDate\":\"2018-01-02\",\"t...</td>\n",
       "      <td>NaN</td>\n",
       "      <td>[{\"transactionId\":339458,\"playerId\":621173,\"pl...</td>\n",
       "      <td>NaN</td>\n",
       "      <td>NaN</td>\n",
       "      <td>NaN</td>\n",
       "    </tr>\n",
       "    <tr>\n",
       "      <th>2018-01-03</th>\n",
       "      <td>[{\"engagementMetricsDate\":\"2018-01-04\",\"player...</td>\n",
       "      <td>NaN</td>\n",
       "      <td>[{\"playerId\":425492,\"gameDate\":\"2018-01-03\",\"t...</td>\n",
       "      <td>NaN</td>\n",
       "      <td>[{\"transactionId\":347527,\"playerId\":572389,\"pl...</td>\n",
       "      <td>NaN</td>\n",
       "      <td>NaN</td>\n",
       "      <td>NaN</td>\n",
       "    </tr>\n",
       "    <tr>\n",
       "      <th>2018-01-04</th>\n",
       "      <td>[{\"engagementMetricsDate\":\"2018-01-05\",\"player...</td>\n",
       "      <td>NaN</td>\n",
       "      <td>[{\"playerId\":282332,\"gameDate\":\"2018-01-04\",\"t...</td>\n",
       "      <td>NaN</td>\n",
       "      <td>[{\"transactionId\":339549,\"playerId\":545343,\"pl...</td>\n",
       "      <td>NaN</td>\n",
       "      <td>NaN</td>\n",
       "      <td>NaN</td>\n",
       "    </tr>\n",
       "    <tr>\n",
       "      <th>2018-01-05</th>\n",
       "      <td>[{\"engagementMetricsDate\":\"2018-01-06\",\"player...</td>\n",
       "      <td>NaN</td>\n",
       "      <td>[{\"playerId\":282332,\"gameDate\":\"2018-01-05\",\"t...</td>\n",
       "      <td>NaN</td>\n",
       "      <td>[{\"transactionId\":341195,\"playerId\":628336,\"pl...</td>\n",
       "      <td>NaN</td>\n",
       "      <td>NaN</td>\n",
       "      <td>NaN</td>\n",
       "    </tr>\n",
       "  </tbody>\n",
       "</table>\n",
       "</div>"
      ],
      "text/plain": [
       "                                      nextDayPlayerEngagement games  \\\n",
       "date                                                                  \n",
       "2018-01-01  [{\"engagementMetricsDate\":\"2018-01-02\",\"player...   NaN   \n",
       "2018-01-02  [{\"engagementMetricsDate\":\"2018-01-03\",\"player...   NaN   \n",
       "2018-01-03  [{\"engagementMetricsDate\":\"2018-01-04\",\"player...   NaN   \n",
       "2018-01-04  [{\"engagementMetricsDate\":\"2018-01-05\",\"player...   NaN   \n",
       "2018-01-05  [{\"engagementMetricsDate\":\"2018-01-06\",\"player...   NaN   \n",
       "\n",
       "                                                      rosters playerBoxScores  \\\n",
       "date                                                                            \n",
       "2018-01-01  [{\"playerId\":400121,\"gameDate\":\"2018-01-01\",\"t...             NaN   \n",
       "2018-01-02  [{\"playerId\":134181,\"gameDate\":\"2018-01-02\",\"t...             NaN   \n",
       "2018-01-03  [{\"playerId\":425492,\"gameDate\":\"2018-01-03\",\"t...             NaN   \n",
       "2018-01-04  [{\"playerId\":282332,\"gameDate\":\"2018-01-04\",\"t...             NaN   \n",
       "2018-01-05  [{\"playerId\":282332,\"gameDate\":\"2018-01-05\",\"t...             NaN   \n",
       "\n",
       "                                                 transactions standings  \\\n",
       "date                                                                      \n",
       "2018-01-01  [{\"transactionId\":340732,\"playerId\":547348,\"pl...       NaN   \n",
       "2018-01-02  [{\"transactionId\":339458,\"playerId\":621173,\"pl...       NaN   \n",
       "2018-01-03  [{\"transactionId\":347527,\"playerId\":572389,\"pl...       NaN   \n",
       "2018-01-04  [{\"transactionId\":339549,\"playerId\":545343,\"pl...       NaN   \n",
       "2018-01-05  [{\"transactionId\":341195,\"playerId\":628336,\"pl...       NaN   \n",
       "\n",
       "           awards                             playerTwitterFollowers  \n",
       "date                                                                  \n",
       "2018-01-01    NaN  [{\"date\":\"2018-01-01\",\"playerId\":545361,\"playe...  \n",
       "2018-01-02    NaN                                                NaN  \n",
       "2018-01-03    NaN                                                NaN  \n",
       "2018-01-04    NaN                                                NaN  \n",
       "2018-01-05    NaN                                                NaN  "
      ]
     },
     "execution_count": 6,
     "metadata": {},
     "output_type": "execute_result"
    }
   ],
   "source": [
    "training.head()"
   ]
  },
  {
   "cell_type": "markdown",
   "id": "joint-brighton",
   "metadata": {
    "papermill": {
     "duration": 0.051412,
     "end_time": "2021-12-29T20:54:20.288948",
     "exception": false,
     "start_time": "2021-12-29T20:54:20.237536",
     "status": "completed"
    },
    "tags": []
   },
   "source": [
    "### Unpack Json file with created equation"
   ]
  },
  {
   "cell_type": "code",
   "execution_count": 7,
   "id": "authorized-bangkok",
   "metadata": {
    "execution": {
     "iopub.execute_input": "2021-12-29T20:54:20.399687Z",
     "iopub.status.busy": "2021-12-29T20:54:20.399009Z",
     "iopub.status.idle": "2021-12-29T20:55:19.269546Z",
     "shell.execute_reply": "2021-12-29T20:55:19.270101Z",
     "shell.execute_reply.started": "2021-12-29T16:11:37.537788Z"
    },
    "papermill": {
     "duration": 58.930374,
     "end_time": "2021-12-29T20:55:19.270277",
     "exception": false,
     "start_time": "2021-12-29T20:54:20.339903",
     "status": "completed"
    },
    "tags": []
   },
   "outputs": [
    {
     "name": "stdout",
     "output_type": "stream",
     "text": [
      "CPU times: user 3 µs, sys: 0 ns, total: 3 µs\n",
      "Wall time: 6.91 µs\n",
      "\n",
      " dict_keys(['nextDayPlayerEngagement', 'playerBoxScores', 'games', 'rosters', 'transactions', 'standings', 'awards', 'playerTwitterFollowers'])\n"
     ]
    }
   ],
   "source": [
    "%time\n",
    "# Unpack nested dataframes and store in dictionary `training_dfs`\n",
    "training_dfs = unpack_data(training, dfs=dfs)\n",
    "print('\\n', training_dfs.keys())"
   ]
  },
  {
   "cell_type": "markdown",
   "id": "recorded-smith",
   "metadata": {
    "papermill": {
     "duration": 0.051493,
     "end_time": "2021-12-29T20:55:19.373222",
     "exception": false,
     "start_time": "2021-12-29T20:55:19.321729",
     "status": "completed"
    },
    "tags": []
   },
   "source": [
    "### Games Table:\n",
    "Transfer game/row data structure to team/row structure.Features newly created for the model:wins difference,score difference \n"
   ]
  },
  {
   "cell_type": "code",
   "execution_count": 8,
   "id": "lesser-threshold",
   "metadata": {
    "execution": {
     "iopub.execute_input": "2021-12-29T20:55:19.487027Z",
     "iopub.status.busy": "2021-12-29T20:55:19.486042Z",
     "iopub.status.idle": "2021-12-29T20:55:19.492207Z",
     "shell.execute_reply": "2021-12-29T20:55:19.492744Z",
     "shell.execute_reply.started": "2021-12-29T16:13:11.567939Z"
    },
    "papermill": {
     "duration": 0.068055,
     "end_time": "2021-12-29T20:55:19.492912",
     "exception": false,
     "start_time": "2021-12-29T20:55:19.424857",
     "status": "completed"
    },
    "tags": []
   },
   "outputs": [],
   "source": [
    "def make_games(dfs:dict): \n",
    "    home=dfs['games'].copy()\n",
    "    if \"gameDate\" in  home.columns:\n",
    "        home=home.rename(columns={'homeId':'teamId','homeWins':'teamWins','awayWins':'oppWins','homeScore':'teamScore','awayScore':'oppScore','homeWinner':'teamWinner',\"gameDate\":\"date\"})\n",
    "        home=home[['teamId','teamWins','oppWins','teamScore','oppScore','teamWinner',\"date\",\"gameType\"]]\n",
    "        away=dfs['games'].copy()\n",
    "        away=away.rename(columns={'awayId':'teamId','homeWins':'oppWins','awayWins':'teamWins','homeScore':'oppScore','awayScore':'teamScore','awayWinner':'teamWinner',\"gameDate\":\"date\"})\n",
    "        away=away[['teamId','teamWins','oppWins','teamScore','oppScore','teamWinner',\"date\",\"gameType\"]]\n",
    "        away\n",
    "        games=pd.concat([home,away],axis=0)\n",
    "        games[\"winsdiff\"]=games['teamWins']-games['oppWins']\n",
    "        games[\"scorediff\"]=games['teamScore']-games['oppScore']\n",
    "        games=games.drop(['teamWins','oppWins','teamScore','oppScore'],axis=1)\n",
    "        games = games.groupby(['date', 'teamId'], as_index=False).mean()\n",
    "        games['date']=pd.PeriodIndex(games.date,freq='D')\n",
    "    else:\n",
    "        games=dfs['games'].copy()\n",
    "        games[['teamId']]=np.nan\n",
    "        games[['date']]=np.nan\n",
    "    return games"
   ]
  },
  {
   "cell_type": "markdown",
   "id": "studied-signal",
   "metadata": {
    "papermill": {
     "duration": 0.052077,
     "end_time": "2021-12-29T20:55:19.597378",
     "exception": false,
     "start_time": "2021-12-29T20:55:19.545301",
     "status": "completed"
    },
    "tags": []
   },
   "source": [
    "### Include players' average target value of the previous year as features"
   ]
  },
  {
   "cell_type": "code",
   "execution_count": 9,
   "id": "angry-aaron",
   "metadata": {
    "execution": {
     "iopub.execute_input": "2021-12-29T20:55:19.704928Z",
     "iopub.status.busy": "2021-12-29T20:55:19.703991Z",
     "iopub.status.idle": "2021-12-29T20:55:21.025373Z",
     "shell.execute_reply": "2021-12-29T20:55:21.024751Z",
     "shell.execute_reply.started": "2021-12-29T16:13:11.588057Z"
    },
    "papermill": {
     "duration": 1.376183,
     "end_time": "2021-12-29T20:55:21.025520",
     "exception": false,
     "start_time": "2021-12-29T20:55:19.649337",
     "status": "completed"
    },
    "tags": []
   },
   "outputs": [],
   "source": [
    "targ = training_dfs['nextDayPlayerEngagement'].copy()\n",
    "targets = [\"target1\", \"target2\", \"target3\", \"target4\"]\n",
    "targ  = targ .astype({name: np.float32 for name  in targets})\n",
    "targ = targ.rename(columns={'engagementMetricsDate': 'date'})\n",
    "targ['date'] = pd.to_datetime(targ['date'])\n",
    "targ = targ.set_index('date').to_period('D')\n",
    "targ.index = targ.index - 1\n",
    "targ=targ.reset_index()"
   ]
  },
  {
   "cell_type": "code",
   "execution_count": 10,
   "id": "close-welsh",
   "metadata": {
    "execution": {
     "iopub.execute_input": "2021-12-29T20:55:21.401762Z",
     "iopub.status.busy": "2021-12-29T20:55:21.401087Z",
     "iopub.status.idle": "2021-12-29T20:55:21.689463Z",
     "shell.execute_reply": "2021-12-29T20:55:21.689961Z",
     "shell.execute_reply.started": "2021-12-29T16:13:13.502412Z"
    },
    "papermill": {
     "duration": 0.612545,
     "end_time": "2021-12-29T20:55:21.690170",
     "exception": false,
     "start_time": "2021-12-29T20:55:21.077625",
     "status": "completed"
    },
    "tags": []
   },
   "outputs": [],
   "source": [
    "targ['seasonId']=targ.date.dt.year+1\n",
    "targ.drop(['date'],axis=1,inplace=True)\n",
    "targ=targ.groupby(by=['seasonId','playerId'],as_index=False).mean()\n",
    "targ=targ.loc[(targ.seasonId!=2022),:]\n",
    "# Match target dates to feature dates and create date index\n",
    "targ=targ.rename(columns={\"target1\":\"meantarget1\",\"target2\":\"meantarget2\",\"target3\":\"meantarget3\",\"target4\":\"meantarget4\"})\n",
    "targ = targ.astype({'playerId': str})"
   ]
  },
  {
   "cell_type": "markdown",
   "id": "worse-pledge",
   "metadata": {
    "papermill": {
     "duration": 0.052221,
     "end_time": "2021-12-29T20:55:21.793941",
     "exception": false,
     "start_time": "2021-12-29T20:55:21.741720",
     "status": "completed"
    },
    "tags": []
   },
   "source": [
    "### Rosters: player_id, team_id, status_code,game_date"
   ]
  },
  {
   "cell_type": "code",
   "execution_count": 11,
   "id": "frozen-hawaiian",
   "metadata": {
    "execution": {
     "iopub.execute_input": "2021-12-29T20:55:21.906185Z",
     "iopub.status.busy": "2021-12-29T20:55:21.904969Z",
     "iopub.status.idle": "2021-12-29T20:55:21.907564Z",
     "shell.execute_reply": "2021-12-29T20:55:21.908185Z",
     "shell.execute_reply.started": "2021-12-29T16:13:14.334873Z"
    },
    "papermill": {
     "duration": 0.062961,
     "end_time": "2021-12-29T20:55:21.908359",
     "exception": false,
     "start_time": "2021-12-29T20:55:21.845398",
     "status": "completed"
    },
    "tags": []
   },
   "outputs": [],
   "source": [
    "def make_rosters(dfs:dict):\n",
    "    rosters=dfs['rosters'].copy()\n",
    "    if \"playerId\" in rosters.columns:\n",
    "        rosters=rosters[['playerId','gameDate','teamId','statusCode']]\n",
    "        rosters=pd.get_dummies(rosters,columns=['statusCode'])\n",
    "        rosters=rosters.rename(columns={'gameDate':'date'})\n",
    "        rosters['date']=pd.PeriodIndex(rosters.date,freq='D')\n",
    "    else:\n",
    "        rosters[['playerId']]=np.nan\n",
    "        rosters[['date']]=np.nan\n",
    "        rosters[['teamId']]=np.nan\n",
    "    return rosters"
   ]
  },
  {
   "cell_type": "markdown",
   "id": "pharmaceutical-transformation",
   "metadata": {
    "papermill": {
     "duration": 0.051524,
     "end_time": "2021-12-29T20:55:22.011548",
     "exception": false,
     "start_time": "2021-12-29T20:55:21.960024",
     "status": "completed"
    },
    "tags": []
   },
   "source": [
    "### twitter followers: player_id, date, numberof followers"
   ]
  },
  {
   "cell_type": "code",
   "execution_count": 12,
   "id": "boring-groove",
   "metadata": {
    "execution": {
     "iopub.execute_input": "2021-12-29T20:55:22.118073Z",
     "iopub.status.busy": "2021-12-29T20:55:22.117127Z",
     "iopub.status.idle": "2021-12-29T20:55:22.123449Z",
     "shell.execute_reply": "2021-12-29T20:55:22.124012Z",
     "shell.execute_reply.started": "2021-12-29T16:13:14.347061Z"
    },
    "papermill": {
     "duration": 0.06142,
     "end_time": "2021-12-29T20:55:22.124193",
     "exception": false,
     "start_time": "2021-12-29T20:55:22.062773",
     "status": "completed"
    },
    "tags": []
   },
   "outputs": [],
   "source": [
    "\n",
    "def make_playerTwitterFollowers(dfs:dict):\n",
    "    twitfollowers=dfs['playerTwitterFollowers'].copy()\n",
    "    if 'playerId' in  twitfollowers.columns:\n",
    "        twitfollowers=twitfollowers[['date','playerId','numberOfFollowers']]\n",
    "        twitfollowers['date']=pd.PeriodIndex(twitfollowers.date,freq='D')\n",
    "    else:\n",
    "        twitfollowers[['playerId']]=np.nan\n",
    "        twitfollowers[['date']]=np.nan\n",
    "    return twitfollowers\n"
   ]
  },
  {
   "cell_type": "markdown",
   "id": "cooked-behavior",
   "metadata": {
    "papermill": {
     "duration": 0.050991,
     "end_time": "2021-12-29T20:55:22.226787",
     "exception": false,
     "start_time": "2021-12-29T20:55:22.175796",
     "status": "completed"
    },
    "tags": []
   },
   "source": [
    "### Team_Standing:'teamid','gamedate','divisionRank','leagueRank','wildCardRank','pct','wins','eliminated','wildCardEliminated'"
   ]
  },
  {
   "cell_type": "code",
   "execution_count": 13,
   "id": "headed-niger",
   "metadata": {
    "execution": {
     "iopub.execute_input": "2021-12-29T20:55:22.332551Z",
     "iopub.status.busy": "2021-12-29T20:55:22.331605Z",
     "iopub.status.idle": "2021-12-29T20:55:22.339610Z",
     "shell.execute_reply": "2021-12-29T20:55:22.340183Z",
     "shell.execute_reply.started": "2021-12-29T16:13:14.364612Z"
    },
    "papermill": {
     "duration": 0.062679,
     "end_time": "2021-12-29T20:55:22.340357",
     "exception": false,
     "start_time": "2021-12-29T20:55:22.277678",
     "status": "completed"
    },
    "tags": []
   },
   "outputs": [],
   "source": [
    "standings_feature=['divisionRank','leagueRank','wildCardRank','pct','wins','eliminationNumber','wildCardEliminationNumber'\n",
    "       ]\n",
    "def make_standings(dfs:dict,standings_feature):\n",
    "    standings=dfs['standings'].copy()\n",
    "    if 'teamId' in standings.columns: \n",
    "        standings=standings[['teamId','gameDate']+standings_feature]\n",
    "        standings=standings.rename(columns={'gameDate':'date'})\n",
    "        standings['date']=pd.PeriodIndex(standings.date,freq='D')\n",
    "        standings['eliminated']=standings['eliminationNumber']=='E'\n",
    "        standings['wildeliminated']=standings['wildCardEliminationNumber']=='E'\n",
    "        standings=standings.drop(['eliminationNumber','wildCardEliminationNumber'],axis=1)\n",
    "    else:\n",
    "        standings[['teamId']]=np.nan\n",
    "        standings[['date']]=np.nan\n",
    "    return standings"
   ]
  },
  {
   "cell_type": "markdown",
   "id": "multiple-eugene",
   "metadata": {
    "papermill": {
     "duration": 0.05072,
     "end_time": "2021-12-29T20:55:22.443785",
     "exception": false,
     "start_time": "2021-12-29T20:55:22.393065",
     "status": "completed"
    },
    "tags": []
   },
   "source": [
    "# Previous year award"
   ]
  },
  {
   "cell_type": "code",
   "execution_count": 14,
   "id": "simplified-pathology",
   "metadata": {
    "execution": {
     "iopub.execute_input": "2021-12-29T20:55:22.550524Z",
     "iopub.status.busy": "2021-12-29T20:55:22.549555Z",
     "iopub.status.idle": "2021-12-29T20:55:22.554837Z",
     "shell.execute_reply": "2021-12-29T20:55:22.555458Z",
     "shell.execute_reply.started": "2021-12-29T16:13:14.381026Z"
    },
    "papermill": {
     "duration": 0.06071,
     "end_time": "2021-12-29T20:55:22.555635",
     "exception": false,
     "start_time": "2021-12-29T20:55:22.494925",
     "status": "completed"
    },
    "tags": []
   },
   "outputs": [],
   "source": [
    "awardhist=training_dfs['awards'].copy()"
   ]
  },
  {
   "cell_type": "code",
   "execution_count": 15,
   "id": "selected-tract",
   "metadata": {
    "execution": {
     "iopub.execute_input": "2021-12-29T20:55:22.662226Z",
     "iopub.status.busy": "2021-12-29T20:55:22.661246Z",
     "iopub.status.idle": "2021-12-29T20:55:22.668794Z",
     "shell.execute_reply": "2021-12-29T20:55:22.669375Z",
     "shell.execute_reply.started": "2021-12-29T16:13:14.397147Z"
    },
    "papermill": {
     "duration": 0.062494,
     "end_time": "2021-12-29T20:55:22.669548",
     "exception": false,
     "start_time": "2021-12-29T20:55:22.607054",
     "status": "completed"
    },
    "tags": []
   },
   "outputs": [],
   "source": [
    "awards=['All-MLB First Team', 'All-MLB Second Team','NL Comeback Player of the Year',\n",
    "       'Edgar Martinez Outstanding DH of the Year',\n",
    "       'AL Comeback Player of the Year', 'The Hutch Award','AL Cy Young', 'NL Cy Young', 'AL MVP',\n",
    "       'NL MVP','MLB Players Choice NL Comeback Player',\n",
    "       'MLB Players Choice NL Outstanding Pitcher',\n",
    "       'MLB Players Choice NL Outstanding Rookie',\n",
    "       'MLB Players Choice NL Outstanding Player',\n",
    "       'Rawlings NL Platinum Glove', 'Babe Ruth Award',\n",
    "       'MLB Players Choice Player of the Year',\n",
    "       'MLB Players Choice Man of the Year',\n",
    "       'MLB Players Choice AL Outstanding Player',\n",
    "       'MLB Players Choice AL Comeback Player',\n",
    "       'MLB Players Choice AL Outstanding Pitcher',\n",
    "       'MLB Players Choice AL Outstanding Rookie', 'Wilson Defensive Player of the Year',\n",
    "       'Wilson MLB Defensive Player of the Year', 'AL Silver Slugger',\n",
    "       'NL Silver Slugger', 'MLBPAA Heart and Hustle Award',\n",
    "       'Rawlings AL Platinum Glove', 'Roberto Clemente Award', 'NL Hank Aaron Award',\n",
    "       'AL Hank Aaron Award', 'Trevor Hoffman NL Reliever of the Year',\n",
    "       'Mariano Rivera AL Reliever of the Year',\n",
    "       'World Series Championship', 'World Series MVP','Baseball America Minor League Player of the Year',\n",
    "       'Baseball America Major League Rookie of the Year',\n",
    "       'Baseball America Major League Player of the Year','Home Run Derby Winner', 'All-Star MVP', 'AL All-Star',\n",
    "       'NL All-Star',]\n"
   ]
  },
  {
   "cell_type": "code",
   "execution_count": 16,
   "id": "contained-orlando",
   "metadata": {
    "execution": {
     "iopub.execute_input": "2021-12-29T20:55:22.777802Z",
     "iopub.status.busy": "2021-12-29T20:55:22.776805Z",
     "iopub.status.idle": "2021-12-29T20:55:22.802519Z",
     "shell.execute_reply": "2021-12-29T20:55:22.803065Z",
     "shell.execute_reply.started": "2021-12-29T16:13:14.409026Z"
    },
    "papermill": {
     "duration": 0.081515,
     "end_time": "2021-12-29T20:55:22.803239",
     "exception": false,
     "start_time": "2021-12-29T20:55:22.721724",
     "status": "completed"
    },
    "tags": []
   },
   "outputs": [],
   "source": [
    "awardhist=training_dfs['awards'].copy()\n",
    "awardhist=awardhist[['awardSeason','playerId','awardName']]\n",
    "awardhist=awardhist.loc[awardhist.awardName.isin(awards),:]\n",
    "awardhist=awardhist.rename(columns={'awardSeason':'seasonId'})\n",
    "awardhist['seasonId']=awardhist['seasonId']+1\n",
    "awardhist=pd.get_dummies(awardhist,'awardName')\n",
    "awardhist=awardhist.groupby(['playerId','seasonId'],as_index=False).sum()\n",
    "awardhist['playerId']=[str(a) for a in awardhist.playerId]"
   ]
  },
  {
   "cell_type": "code",
   "execution_count": 17,
   "id": "removed-defeat",
   "metadata": {
    "execution": {
     "iopub.execute_input": "2021-12-29T20:55:22.910210Z",
     "iopub.status.busy": "2021-12-29T20:55:22.909002Z",
     "iopub.status.idle": "2021-12-29T20:55:22.914130Z",
     "shell.execute_reply": "2021-12-29T20:55:22.914794Z",
     "shell.execute_reply.started": "2021-12-29T16:13:14.456773Z"
    },
    "papermill": {
     "duration": 0.060259,
     "end_time": "2021-12-29T20:55:22.914969",
     "exception": false,
     "start_time": "2021-12-29T20:55:22.854710",
     "status": "completed"
    },
    "tags": []
   },
   "outputs": [],
   "source": [
    "#features = [\n",
    "#    \"hits\",\n",
    "#    'doubles', \n",
    "#    'triples',\n",
    "#    \"strikeOuts\",\n",
    "#    \"homeRuns\",\n",
    "#    \"runsScored\",\n",
    "#    \"stolenBases\",\n",
    "#    \"strikes\",\n",
    "#    \"flyOuts\",\n",
    "#    \"groundOuts\",\n",
    "#    \"errors\",\n",
    "#    \"rbi\",\n",
    "#    \"baseOnBalls\",\n",
    "#    \"gamesPlayedPitching\", \n",
    "#    'gamesStartedPitching',\n",
    "#    'completeGamesPitching', \n",
    "#    'shutoutsPitching', \n",
    "#    'winsPitching',\n",
    "#    'lossesPitching',\n",
    "#    'runsPitching', \n",
    "#    'homeRunsPitching', \n",
    "#    'strikeOutsPitching',\n",
    "#    'baseOnBallsPitching',\n",
    "#    'inningsPitched',\n",
    "#    'teamName',\n",
    "#    'positionName',\n",
    "#]\n"
   ]
  },
  {
   "cell_type": "markdown",
   "id": "elder-begin",
   "metadata": {
    "papermill": {
     "duration": 0.051925,
     "end_time": "2021-12-29T20:55:23.018793",
     "exception": false,
     "start_time": "2021-12-29T20:55:22.966868",
     "status": "completed"
    },
    "tags": []
   },
   "source": [
    "### game_date features (Box Score Statistics)"
   ]
  },
  {
   "cell_type": "code",
   "execution_count": 18,
   "id": "different-triangle",
   "metadata": {
    "execution": {
     "iopub.execute_input": "2021-12-29T20:55:23.127047Z",
     "iopub.status.busy": "2021-12-29T20:55:23.126099Z",
     "iopub.status.idle": "2021-12-29T20:55:23.134013Z",
     "shell.execute_reply": "2021-12-29T20:55:23.134526Z",
     "shell.execute_reply.started": "2021-12-29T16:13:14.464763Z"
    },
    "papermill": {
     "duration": 0.063177,
     "end_time": "2021-12-29T20:55:23.134704",
     "exception": false,
     "start_time": "2021-12-29T20:55:23.071527",
     "status": "completed"
    },
    "tags": []
   },
   "outputs": [],
   "source": [
    "features = ['home',\n",
    "    'gamesPlayedBatting', 'flyOuts',\n",
    "       'groundOuts', 'runsScored', 'doubles', 'triples', 'homeRuns',\n",
    "       'strikeOuts', 'baseOnBalls', 'intentionalWalks', 'hits', 'hitByPitch',\n",
    "       'atBats', 'caughtStealing', 'stolenBases', 'groundIntoDoublePlay',\n",
    "       'groundIntoTriplePlay', 'plateAppearances', 'totalBases', 'rbi',\n",
    "       'leftOnBase', 'sacBunts', 'sacFlies', 'catchersInterference',\n",
    "       'pickoffs', 'gamesPlayedPitching', 'gamesStartedPitching',\n",
    "       'completeGamesPitching', 'shutoutsPitching', 'winsPitching',\n",
    "       'lossesPitching', 'flyOutsPitching', 'airOutsPitching',\n",
    "       'groundOutsPitching', 'runsPitching', 'doublesPitching',\n",
    "       'triplesPitching', 'homeRunsPitching', 'strikeOutsPitching',\n",
    "       'baseOnBallsPitching', 'intentionalWalksPitching', 'hitsPitching',\n",
    "       'hitByPitchPitching', 'atBatsPitching', 'caughtStealingPitching',\n",
    "       'stolenBasesPitching', 'inningsPitched', 'saveOpportunities',\n",
    "       'earnedRuns', 'battersFaced',  'pitchesThrown', 'balls',\n",
    "       'strikes', 'hitBatsmen', 'balks', 'wildPitches', 'pickoffsPitching',\n",
    "       'rbiPitching', 'gamesFinishedPitching', 'inheritedRunners',\n",
    "       'inheritedRunnersScored', 'catchersInterferencePitching',\n",
    "       'sacBuntsPitching', 'sacFliesPitching', 'saves', 'holds', 'blownSaves',\n",
    "       'assists', 'putOuts', 'errors', 'chances','battingOrder',\n",
    "    'positionName'\n",
    "]"
   ]
  },
  {
   "cell_type": "code",
   "execution_count": 19,
   "id": "referenced-surfing",
   "metadata": {
    "execution": {
     "iopub.execute_input": "2021-12-29T20:55:23.241063Z",
     "iopub.status.busy": "2021-12-29T20:55:23.240101Z",
     "iopub.status.idle": "2021-12-29T20:55:23.244699Z",
     "shell.execute_reply": "2021-12-29T20:55:23.245262Z",
     "shell.execute_reply.started": "2021-12-29T16:13:14.484882Z"
    },
    "papermill": {
     "duration": 0.059258,
     "end_time": "2021-12-29T20:55:23.245432",
     "exception": false,
     "start_time": "2021-12-29T20:55:23.186174",
     "status": "completed"
    },
    "tags": []
   },
   "outputs": [],
   "source": [
    "gc.collect\n",
    "del training"
   ]
  },
  {
   "cell_type": "code",
   "execution_count": 20,
   "id": "opened-speech",
   "metadata": {
    "execution": {
     "iopub.execute_input": "2021-12-29T20:55:23.352410Z",
     "iopub.status.busy": "2021-12-29T20:55:23.351418Z",
     "iopub.status.idle": "2021-12-29T20:55:23.361137Z",
     "shell.execute_reply": "2021-12-29T20:55:23.361724Z",
     "shell.execute_reply.started": "2021-12-29T16:13:14.500434Z"
    },
    "papermill": {
     "duration": 0.065057,
     "end_time": "2021-12-29T20:55:23.361897",
     "exception": false,
     "start_time": "2021-12-29T20:55:23.296840",
     "status": "completed"
    },
    "tags": []
   },
   "outputs": [
    {
     "data": {
      "text/plain": [
       "(1187,)"
      ]
     },
     "execution_count": 20,
     "metadata": {},
     "output_type": "execute_result"
    }
   ],
   "source": [
    "pids_test = players.playerId.loc[\n",
    "    players.playerForTestSetAndFuturePreds.fillna(False)\n",
    "].astype(str)\n",
    "pids_test.shape"
   ]
  },
  {
   "cell_type": "code",
   "execution_count": 21,
   "id": "according-opinion",
   "metadata": {
    "_kg_hide-input": false,
    "execution": {
     "iopub.execute_input": "2021-12-29T20:55:23.469132Z",
     "iopub.status.busy": "2021-12-29T20:55:23.468119Z",
     "iopub.status.idle": "2021-12-29T20:55:23.487407Z",
     "shell.execute_reply": "2021-12-29T20:55:23.487924Z",
     "shell.execute_reply.started": "2021-12-29T16:13:14.519535Z"
    },
    "papermill": {
     "duration": 0.074506,
     "end_time": "2021-12-29T20:55:23.488114",
     "exception": false,
     "start_time": "2021-12-29T20:55:23.413608",
     "status": "completed"
    },
    "tags": []
   },
   "outputs": [],
   "source": [
    "# Players in the test set. We'll filter our data for only this set of players\n",
    "pids_test = players.playerId.loc[\n",
    "    players.playerForTestSetAndFuturePreds.fillna(False)\n",
    "].astype(str)\n",
    "\n",
    "# Name of target columns\n",
    "targets = [\"target1\", \"target2\", \"target3\", \"target4\"]\n",
    "\n",
    "def make_playerBoxScores(dfs: dict, features):\n",
    "    X = dfs['playerBoxScores'].copy()\n",
    "    if 'playerId' in X.columns:\n",
    "        X = dfs['playerBoxScores'].copy()\n",
    "        X = X[['gameDate', 'playerId'] + features]\n",
    "        X = X.rename(columns={'gameDate': 'date'})\n",
    "        X['date'] = pd.PeriodIndex(X.date, freq='D')\n",
    "        X=X[features+['date','playerId']]\n",
    "        X['battingOrder']=X['battingOrder'].fillna(0)\n",
    "        X.loc[X['battingOrder']==0,'battingOrder']=10009\n",
    "        X['starting']=X['battingOrder']%100\n",
    "        X['starting']=X['starting']==0\n",
    "        X['order']=X['battingOrder']//100\n",
    "        X=pd.get_dummies(X,columns=['order'])\n",
    "        X.drop(['battingOrder'],axis=1,inplace=True)\n",
    "        # Set dtypes\n",
    "        X = X.astype({'playerId': str,'starting': int})\n",
    "        X['positionName']=X['positionName'].fillna(value=\"X\")\n",
    "        # Create date index\n",
    "        X=pd.get_dummies(data=X,columns=['positionName'])\n",
    "        # Aggregate multiple games per day by summing\n",
    "        X = X.groupby(['date', 'playerId'], as_index=False).mean()\n",
    "    else:\n",
    "        X[['playerId']]=np.nan\n",
    "        X[['date']]=np.nan\n",
    "    return X\n",
    "\n",
    "# Set dtypes\n",
    "#def make_playerTwitterFollowers(dfs:dict):\n",
    "#    X=dfs['playerTwitterFollowers'].copy()\n",
    "#    X=X[['date', 'playerId','numberOfFollowers']]\n",
    "#    X['date'] = pd.PeriodIndex(X.date, freq='D')\n",
    "##    # Aggregate multiple games per day by summing\n",
    "#    X = X.groupby(['date', 'playerId'], as_index=False).sum()\n",
    "#    return X\n",
    "\n",
    "def make_targets(training_dfs: dict):\n",
    "    Y = training_dfs['nextDayPlayerEngagement'].copy()\n",
    "    # Set dtypes\n",
    "    Y = Y.astype({name: np.float32 for name  in targets})\n",
    "    Y = Y.astype({'playerId': str})\n",
    "    # Match target dates to feature dates and create date index\n",
    "    Y = Y.rename(columns={'engagementMetricsDate': 'date'})\n",
    "    Y['date'] = pd.to_datetime(Y['date'])\n",
    "    Y = Y.set_index('date').to_period('D')\n",
    "    Y.index = Y.index - 1\n",
    "    return Y.reset_index()\n",
    "\n",
    "\n",
    "#def join_datasets(dfs):\n",
    "#    dfs = [x.pivot(index='date', columns='playerId') for x in dfs]\n",
    "#    df = pd.concat(dfs, axis=1).stack().reset_index('playerId')\n",
    "#    return df\n",
    "\n",
    "#def make_trainX(test_dfs: dict, features):\n",
    "#    X = make_playerBoxScores(test_dfs, features)\n",
    "#    X = X.merge(pids_test, how='right')\n",
    "    #fourier_terms = CalendarFourier(freq='A', order=4)\n",
    "    #deterministic = DeterministicProcess(\n",
    "    #    index=X.index,\n",
    "    #    order=0,\n",
    "    #    seasonal=False,  # set to True for weekly seasonality\n",
    "    #    additional_terms=[fourier_terms],\n",
    "    #)\n",
    "    #X = pd.concat([X, deterministic.in_sample()], axis=1)\n",
    " #   return X\n",
    "#def make_trainy(training_dfs: dict,\n",
    "#                      targets):\n",
    "\n",
    "#    Y = make_targets(training_dfs)\n",
    "    # Filter for players in test set\n",
    "#    Y=Y.loc[Y.playerId.isin(pids_test), :]\n",
    "    # Convert from long to wide format\n",
    "    # Restore features and target\n",
    "    # Fill missing values in features\n",
    "#    return Y\n",
    "    # Create train / validation splits\n",
    "#X,Y=make_trainX(training_dfs,features),make_trainy(training_dfs,targets)"
   ]
  },
  {
   "cell_type": "markdown",
   "id": "understanding-amazon",
   "metadata": {
    "papermill": {
     "duration": 0.051813,
     "end_time": "2021-12-29T20:55:23.591167",
     "exception": false,
     "start_time": "2021-12-29T20:55:23.539354",
     "status": "completed"
    },
    "tags": []
   },
   "source": [
    "### Merging All Using Tables (test set start from 2021 June)\n",
    "Before merging the tables, we create new features of \"season part\" since the atmosphere at the beginning of the season and that at the end of the season should be very different. We use 2021 season as test set, and 2019,2020 as training set."
   ]
  },
  {
   "cell_type": "code",
   "execution_count": 22,
   "id": "correct-turner",
   "metadata": {
    "execution": {
     "iopub.execute_input": "2021-12-29T20:55:23.697564Z",
     "iopub.status.busy": "2021-12-29T20:55:23.696563Z",
     "iopub.status.idle": "2021-12-29T20:55:23.722765Z",
     "shell.execute_reply": "2021-12-29T20:55:23.723324Z",
     "shell.execute_reply.started": "2021-12-29T16:13:14.545601Z"
    },
    "papermill": {
     "duration": 0.081067,
     "end_time": "2021-12-29T20:55:23.723505",
     "exception": false,
     "start_time": "2021-12-29T20:55:23.642438",
     "status": "completed"
    },
    "tags": []
   },
   "outputs": [],
   "source": [
    "def make_training_data(training_dfs: dict,\n",
    "                       features,\n",
    "                       targets,\n",
    "                       fourier=4,\n",
    "                       test_size=30):\n",
    "    # Process dataframes\n",
    "    X = make_playerBoxScores(training_dfs, features)\n",
    "    standings=make_standings(training_dfs,standings_feature)\n",
    "    games=make_games(training_dfs)\n",
    "    rosters=make_rosters(training_dfs)\n",
    "    #transactions=make_transactions(training_dfs)\n",
    "    TwitterFollowers=make_playerTwitterFollowers(training_dfs)\n",
    "    Y = make_targets(training_dfs)\n",
    "    rosters['playerId']=[str(x) for x in rosters.playerId]\n",
    "    players_1['playerId']=[str(x) for x in players_1.playerId]\n",
    "    #transactions['playerId']=[str(x) for x in transactions.playerId]\n",
    "    TwitterFollowers['playerId']=[str(x) for x in TwitterFollowers.playerId]\n",
    "    # Merge for processing\n",
    "    Y =Y.loc[Y.playerId.isin(pids_test), :]\n",
    "    df = Y.merge(X,how='left',on=['date','playerId'])\n",
    "    # Filter for players in test set\n",
    "    df['seasonId']=df.date.dt.year\n",
    "    df=df.loc[(df.seasonId!=2018),:]\n",
    "    df=df.merge(awardhist,how='left',on=['seasonId','playerId'])\n",
    "    df=df.merge(targ,how='left',on=['seasonId','playerId'])\n",
    "    unique=pd.DataFrame({'date':df.date.unique()})\n",
    "    unique['seasonId']=unique.date.dt.year\n",
    "    unique=unique.merge(seasons,on='seasonId')\n",
    "    unique['seasonPart'] = np.select(\n",
    "        [\n",
    "        unique['date'] < unique['preSeasonStartDate'], \n",
    "        unique['date'] <unique['regularSeasonStartDate'],\n",
    "        unique['date'] <= unique['lastDate1stHalf'],\n",
    "        unique['date'] < unique['firstDate2ndHalf'],\n",
    "        unique['date'] <= unique['regularSeasonEndDate'],\n",
    "        unique['date'] < unique['postSeasonStartDate'],\n",
    "       unique['date'] <= unique['postSeasonEndDate'],\n",
    "        unique['date'] >unique['postSeasonEndDate']\n",
    "        ], \n",
    "        [\n",
    "        'Offseason',\n",
    "        'Preseason',\n",
    "        'Reg Season 1st Half',\n",
    "        'All-Star Break',\n",
    "        'Reg Season 2nd Half',\n",
    "        'Between Reg and Postseason',\n",
    "        'Postseason',\n",
    "        'Offseason'\n",
    "        ], \n",
    "        default = np.nan\n",
    "        )\n",
    "    unique=unique[['date','seasonPart']]\n",
    "    df=df.merge(unique,how='left',on='date')\n",
    "    df=df.loc[df.seasonPart!='Offseason',:]\n",
    "    #df=df.loc[df.seasonPart!='Preseason',:]\n",
    "    #df=df.loc[df.seasonPart!='Postseason',:]\n",
    "    #df=df.loc[df.seasonPart!='Offseason',:]\n",
    "    df=df.drop('seasonId',axis=1)\n",
    "    df=df.merge(rosters,how='left',on=['date','playerId'])\n",
    "    #df=df.merge(transactions,how='left',on=['date','playerId'])\n",
    "    df=df.merge(TwitterFollowers,how='left',on=['date','playerId'])\n",
    "    df=df.merge(standings,how='left',on=['date','teamId'])\n",
    "    df=df.merge(games,how='left',on=['date','teamId'])\n",
    "    df=df.merge(players_1,how='left',on=['playerId'])\n",
    "    #df['seasonId']=df.date.dt.year\n",
    "    #df['age']=df['seasonId']-df['birthyear']\n",
    "    #df.drop('seasonId',axis=1, inplace=True)\n",
    "    df=pd.get_dummies(df,columns=['teamId'])\n",
    "    # Convert from long to wide format\n",
    "    #df = df.pivot(columns=\"playerId\")\n",
    "    # Restore features and targets\n",
    "    df['seasonId']=df.date.dt.year\n",
    "    df['age']=df['seasonId']-df['birthyear']\n",
    "    train_df=df.loc[(df.seasonId!=2021),:]\n",
    "    test_df=df.loc[(df.seasonId==2021),:]\n",
    "    train_df=pd.get_dummies(train_df,columns=['seasonPart'])\n",
    "    test_df=pd.get_dummies(test_df,columns=['seasonPart'])\n",
    "    missing_cols = set( train_df.columns ) - set(test_df.columns )\n",
    "    for c in missing_cols:\n",
    "        test_df[c] = 0\n",
    "    y_train = train_df[targets]\n",
    "    y_valid = test_df[targets]\n",
    "    # Fill missing values in features\n",
    "    X_train =train_df.drop(targets+['date','playerId','birthyear','seasonId'],axis=1)\n",
    "    X_train.fillna(0, inplace=True)\n",
    "    X_valid =test_df.drop(targets+['date','playerId','birthyear','seasonId'],axis=1)\n",
    "    X_valid.fillna(0, inplace=True)\n",
    "    # Create temporal features\n",
    "    # Create train / validation splits,:]\n",
    "    #X_train,X_valid=X.loc[train_id,:],X.loc[test_id,:]\n",
    "    #y_train,y_valid=Y.loc[train_id,:],Y.loc[test_id,:]\n",
    "    return X_train, X_valid, y_train, y_valid"
   ]
  },
  {
   "cell_type": "code",
   "execution_count": 23,
   "id": "human-links",
   "metadata": {
    "execution": {
     "iopub.execute_input": "2021-12-29T20:55:23.831469Z",
     "iopub.status.busy": "2021-12-29T20:55:23.830421Z",
     "iopub.status.idle": "2021-12-29T20:58:18.762939Z",
     "shell.execute_reply": "2021-12-29T20:58:18.762211Z",
     "shell.execute_reply.started": "2021-12-29T16:13:14.580372Z"
    },
    "papermill": {
     "duration": 174.987028,
     "end_time": "2021-12-29T20:58:18.763187",
     "exception": false,
     "start_time": "2021-12-29T20:55:23.776159",
     "status": "completed"
    },
    "tags": []
   },
   "outputs": [],
   "source": [
    "X_train, X_valid, y_train, y_valid=make_training_data(training_dfs,\n",
    "                       features,\n",
    "                       targets\n",
    "                       )"
   ]
  },
  {
   "cell_type": "code",
   "execution_count": 24,
   "id": "sonic-thomas",
   "metadata": {
    "execution": {
     "iopub.execute_input": "2021-12-29T20:58:18.875381Z",
     "iopub.status.busy": "2021-12-29T20:58:18.874688Z",
     "iopub.status.idle": "2021-12-29T20:58:18.877867Z",
     "shell.execute_reply": "2021-12-29T20:58:18.878378Z",
     "shell.execute_reply.started": "2021-12-29T16:16:50.31Z"
    },
    "papermill": {
     "duration": 0.061653,
     "end_time": "2021-12-29T20:58:18.878548",
     "exception": false,
     "start_time": "2021-12-29T20:58:18.816895",
     "status": "completed"
    },
    "tags": []
   },
   "outputs": [
    {
     "data": {
      "text/plain": [
       "Index(['home', 'gamesPlayedBatting', 'flyOuts', 'groundOuts', 'runsScored',\n",
       "       'doubles', 'triples', 'homeRuns', 'strikeOuts', 'baseOnBalls',\n",
       "       ...\n",
       "       'teamId_146.0', 'teamId_147.0', 'teamId_158.0', 'age',\n",
       "       'seasonPart_All-Star Break', 'seasonPart_Between Reg and Postseason',\n",
       "       'seasonPart_Postseason', 'seasonPart_Preseason',\n",
       "       'seasonPart_Reg Season 1st Half', 'seasonPart_Reg Season 2nd Half'],\n",
       "      dtype='object', length=215)"
      ]
     },
     "execution_count": 24,
     "metadata": {},
     "output_type": "execute_result"
    }
   ],
   "source": [
    "X_train.columns"
   ]
  },
  {
   "cell_type": "code",
   "execution_count": 25,
   "id": "universal-dayton",
   "metadata": {
    "execution": {
     "iopub.execute_input": "2021-12-29T20:58:19.252917Z",
     "iopub.status.busy": "2021-12-29T20:58:19.252266Z",
     "iopub.status.idle": "2021-12-29T20:58:19.255442Z",
     "shell.execute_reply": "2021-12-29T20:58:19.254904Z",
     "shell.execute_reply.started": "2021-12-29T16:16:50.320478Z"
    },
    "papermill": {
     "duration": 0.322773,
     "end_time": "2021-12-29T20:58:19.255596",
     "exception": false,
     "start_time": "2021-12-29T20:58:18.932823",
     "status": "completed"
    },
    "tags": []
   },
   "outputs": [],
   "source": [
    "del training_dfs "
   ]
  },
  {
   "cell_type": "code",
   "execution_count": 26,
   "id": "worthy-involvement",
   "metadata": {
    "execution": {
     "iopub.execute_input": "2021-12-29T20:58:19.375887Z",
     "iopub.status.busy": "2021-12-29T20:58:19.371582Z",
     "iopub.status.idle": "2021-12-29T20:58:19.379368Z",
     "shell.execute_reply": "2021-12-29T20:58:19.378722Z",
     "shell.execute_reply.started": "2021-12-29T16:16:50.612911Z"
    },
    "papermill": {
     "duration": 0.071849,
     "end_time": "2021-12-29T20:58:19.379511",
     "exception": false,
     "start_time": "2021-12-29T20:58:19.307662",
     "status": "completed"
    },
    "tags": []
   },
   "outputs": [],
   "source": [
    "columns=X_train.columns\n",
    "uint8=[col for col in columns if X_train[col].dtype == \"uint8\"]"
   ]
  },
  {
   "cell_type": "code",
   "execution_count": 27,
   "id": "continuous-status",
   "metadata": {
    "execution": {
     "iopub.execute_input": "2021-12-29T20:58:19.717957Z",
     "iopub.status.busy": "2021-12-29T20:58:19.717022Z",
     "iopub.status.idle": "2021-12-29T20:58:19.722172Z",
     "shell.execute_reply": "2021-12-29T20:58:19.721598Z",
     "shell.execute_reply.started": "2021-12-29T16:16:50.634294Z"
    },
    "papermill": {
     "duration": 0.289907,
     "end_time": "2021-12-29T20:58:19.722315",
     "exception": false,
     "start_time": "2021-12-29T20:58:19.432408",
     "status": "completed"
    },
    "tags": []
   },
   "outputs": [
    {
     "data": {
      "text/plain": [
       "17111"
      ]
     },
     "execution_count": 27,
     "metadata": {},
     "output_type": "execute_result"
    }
   ],
   "source": [
    "gc.collect()"
   ]
  },
  {
   "cell_type": "code",
   "execution_count": 28,
   "id": "annoying-integrity",
   "metadata": {
    "execution": {
     "iopub.execute_input": "2021-12-29T20:58:19.832817Z",
     "iopub.status.busy": "2021-12-29T20:58:19.832171Z",
     "iopub.status.idle": "2021-12-29T20:58:19.835494Z",
     "shell.execute_reply": "2021-12-29T20:58:19.834830Z",
     "shell.execute_reply.started": "2021-12-29T16:16:50.884507Z"
    },
    "papermill": {
     "duration": 0.059802,
     "end_time": "2021-12-29T20:58:19.835632",
     "exception": false,
     "start_time": "2021-12-29T20:58:19.775830",
     "status": "completed"
    },
    "tags": []
   },
   "outputs": [],
   "source": [
    "#history_df = pd.DataFrame(history.history)\n",
    "#history_df.loc[:, ['loss', 'val_loss']].plot()"
   ]
  },
  {
   "cell_type": "markdown",
   "id": "graphic-albania",
   "metadata": {
    "papermill": {
     "duration": 0.052651,
     "end_time": "2021-12-29T20:58:19.941619",
     "exception": false,
     "start_time": "2021-12-29T20:58:19.888968",
     "status": "completed"
    },
    "tags": []
   },
   "source": [
    "# Insight #"
   ]
  },
  {
   "cell_type": "markdown",
   "id": "overhead-theology",
   "metadata": {
    "papermill": {
     "duration": 0.05246,
     "end_time": "2021-12-29T20:58:20.046830",
     "exception": false,
     "start_time": "2021-12-29T20:58:19.994370",
     "status": "completed"
    },
    "tags": []
   },
   "source": [
    "I skip the model training and hyperparamer tuning part, which can be found in more detail in other notebook."
   ]
  },
  {
   "cell_type": "code",
   "execution_count": 29,
   "id": "stuck-graphics",
   "metadata": {
    "execution": {
     "iopub.execute_input": "2021-12-29T20:58:20.159117Z",
     "iopub.status.busy": "2021-12-29T20:58:20.158419Z",
     "iopub.status.idle": "2021-12-29T20:58:22.108514Z",
     "shell.execute_reply": "2021-12-29T20:58:22.109135Z",
     "shell.execute_reply.started": "2021-12-29T16:16:50.895986Z"
    },
    "papermill": {
     "duration": 2.008939,
     "end_time": "2021-12-29T20:58:22.109365",
     "exception": false,
     "start_time": "2021-12-29T20:58:20.100426",
     "status": "completed"
    },
    "tags": []
   },
   "outputs": [
    {
     "data": {
      "text/html": [
       "<style type='text/css'>\n",
       ".datatable table.frame { margin-bottom: 0; }\n",
       ".datatable table.frame thead { border-bottom: none; }\n",
       ".datatable table.frame tr.coltypes td {  color: #FFFFFF;  line-height: 6px;  padding: 0 0.5em;}\n",
       ".datatable .bool    { background: #DDDD99; }\n",
       ".datatable .object  { background: #565656; }\n",
       ".datatable .int     { background: #5D9E5D; }\n",
       ".datatable .float   { background: #4040CC; }\n",
       ".datatable .str     { background: #CC4040; }\n",
       ".datatable .row_index {  background: var(--jp-border-color3);  border-right: 1px solid var(--jp-border-color0);  color: var(--jp-ui-font-color3);  font-size: 9px;}\n",
       ".datatable .frame tr.coltypes .row_index {  background: var(--jp-border-color0);}\n",
       ".datatable th:nth-child(2) { padding-left: 12px; }\n",
       ".datatable .hellipsis {  color: var(--jp-cell-editor-border-color);}\n",
       ".datatable .vellipsis {  background: var(--jp-layout-color0);  color: var(--jp-cell-editor-border-color);}\n",
       ".datatable .na {  color: var(--jp-cell-editor-border-color);  font-size: 80%;}\n",
       ".datatable .footer { font-size: 9px; }\n",
       ".datatable .frame_dimensions {  background: var(--jp-border-color3);  border-top: 1px solid var(--jp-border-color0);  color: var(--jp-ui-font-color3);  display: inline-block;  opacity: 0.6;  padding: 1px 10px 1px 5px;}\n",
       ".datatable .frame thead tr.colnames {  background-image: url('data:image/png;base64,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');  background-repeat: repeat-x;  background-size: 14px;  height: 28px;}\n",
       "</style>\n"
      ],
      "text/plain": [
       "<IPython.core.display.HTML object>"
      ]
     },
     "metadata": {},
     "output_type": "display_data"
    }
   ],
   "source": [
    "import joblib\n",
    "model_1=joblib.load(\"../input/mlb-with-lag/Class_1.pkl\")\n",
    "model_2=joblib.load(\"../input/mlb-with-lag/Class_2.pkl\")\n",
    "model_3=joblib.load(\"../input/mlb-with-lag/Class_3.pkl\")\n",
    "model_4=joblib.load(\"../input/mlb-with-lag/Class_4.pkl\")"
   ]
  },
  {
   "cell_type": "markdown",
   "id": "heated-austin",
   "metadata": {
    "papermill": {
     "duration": 0.05321,
     "end_time": "2021-12-29T20:58:22.217211",
     "exception": false,
     "start_time": "2021-12-29T20:58:22.164001",
     "status": "completed"
    },
    "tags": []
   },
   "source": [
    "## Target 1 top 20 features (determined by \"gains of split\")\n",
    "Player top 20 features can be put into 3 main categories:\n",
    "* Player Demographic infomation:Players' weight,height,and ages \n",
    "* Lag features:mean of target 1,2 and 3 in previous year\n",
    "* Team:Wins, Pct, League Rank\n"
   ]
  },
  {
   "cell_type": "code",
   "execution_count": 30,
   "id": "optimum-steps",
   "metadata": {
    "execution": {
     "iopub.execute_input": "2021-12-29T20:58:22.329584Z",
     "iopub.status.busy": "2021-12-29T20:58:22.328571Z",
     "iopub.status.idle": "2021-12-29T20:58:22.773479Z",
     "shell.execute_reply": "2021-12-29T20:58:22.772791Z",
     "shell.execute_reply.started": "2021-12-29T16:16:53.066289Z"
    },
    "papermill": {
     "duration": 0.502583,
     "end_time": "2021-12-29T20:58:22.773622",
     "exception": false,
     "start_time": "2021-12-29T20:58:22.271039",
     "status": "completed"
    },
    "tags": []
   },
   "outputs": [
    {
     "data": {
      "text/plain": [
       "<AxesSubplot:title={'center':'Feature importance'}, xlabel='Feature importance', ylabel='Features'>"
      ]
     },
     "execution_count": 30,
     "metadata": {},
     "output_type": "execute_result"
    },
    {
     "data": {
      "image/png": "[encoded data removed]",
      "text/plain": [
       "<Figure size 432x288 with 1 Axes>"
      ]
     },
     "metadata": {
      "needs_background": "light"
     },
     "output_type": "display_data"
    }
   ],
   "source": [
    "import lightgbm\n",
    "lightgbm.plot_importance(model_1,max_num_features=20)"
   ]
  },
  {
   "cell_type": "code",
   "execution_count": 31,
   "id": "unlike-carter",
   "metadata": {
    "execution": {
     "iopub.execute_input": "2021-12-29T20:58:22.890690Z",
     "iopub.status.busy": "2021-12-29T20:58:22.889728Z",
     "iopub.status.idle": "2021-12-29T20:58:36.755592Z",
     "shell.execute_reply": "2021-12-29T20:58:36.756162Z",
     "shell.execute_reply.started": "2021-12-29T16:16:53.660166Z"
    },
    "papermill": {
     "duration": 13.927555,
     "end_time": "2021-12-29T20:58:36.756360",
     "exception": false,
     "start_time": "2021-12-29T20:58:22.828805",
     "status": "completed"
    },
    "tags": []
   },
   "outputs": [],
   "source": [
    "import shap \n",
    "explainer1 = shap.TreeExplainer(model_1)\n",
    "explainer2 = shap.TreeExplainer(model_2)\n",
    "explainer3 = shap.TreeExplainer(model_3)\n",
    "explainer4 = shap.TreeExplainer(model_4)\n",
    "X_valid=X_valid.astype({name:np.int for name in [\"wildeliminated\",\"eliminated\"]})\n",
    "\n"
   ]
  },
  {
   "cell_type": "markdown",
   "id": "julian-satellite",
   "metadata": {
    "papermill": {
     "duration": 0.055868,
     "end_time": "2021-12-29T20:58:36.868654",
     "exception": false,
     "start_time": "2021-12-29T20:58:36.812786",
     "status": "completed"
    },
    "tags": []
   },
   "source": [
    "## Target 1 top 20 features (determined by \"shap value\")"
   ]
  },
  {
   "cell_type": "markdown",
   "id": "meaning-paradise",
   "metadata": {
    "papermill": {
     "duration": 0.055193,
     "end_time": "2021-12-29T20:58:36.979673",
     "exception": false,
     "start_time": "2021-12-29T20:58:36.924480",
     "status": "completed"
    },
    "tags": []
   },
   "source": [
    "* Player boxscore perfomance matter(For batters,homerun,total bases and rbi affects the most;for pitchers are strikes out and inning pitched)\n",
    "* Lag outcomes matters( some sort of fixed effects)\n",
    "* Younger player has haigher value\n",
    "* If the players' teams win, they have higher target. However the effects are small.\n",
    "* New york Yankees players have higher target 1\n",
    "* Teams with higher rank have higher target 1"
   ]
  },
  {
   "cell_type": "code",
   "execution_count": 32,
   "id": "rapid-beach",
   "metadata": {
    "execution": {
     "iopub.execute_input": "2021-12-29T20:58:37.094202Z",
     "iopub.status.busy": "2021-12-29T20:58:37.093529Z",
     "iopub.status.idle": "2021-12-29T21:35:04.799298Z",
     "shell.execute_reply": "2021-12-29T21:35:04.800043Z",
     "shell.execute_reply.started": "2021-12-29T16:17:12.289761Z"
    },
    "papermill": {
     "duration": 2187.76506,
     "end_time": "2021-12-29T21:35:04.800314",
     "exception": false,
     "start_time": "2021-12-29T20:58:37.035254",
     "status": "completed"
    },
    "tags": []
   },
   "outputs": [],
   "source": [
    "sp1=explainer1(X_valid)"
   ]
  },
  {
   "cell_type": "code",
   "execution_count": 33,
   "id": "sought-pharmacology",
   "metadata": {
    "execution": {
     "iopub.execute_input": "2021-12-29T21:35:04.932804Z",
     "iopub.status.busy": "2021-12-29T21:35:04.931397Z",
     "iopub.status.idle": "2021-12-29T22:17:05.935964Z",
     "shell.execute_reply": "2021-12-29T22:17:05.935307Z"
    },
    "papermill": {
     "duration": 2521.069384,
     "end_time": "2021-12-29T22:17:05.936159",
     "exception": false,
     "start_time": "2021-12-29T21:35:04.866775",
     "status": "completed"
    },
    "tags": []
   },
   "outputs": [],
   "source": [
    "\n",
    "sp2=explainer2(X_valid)\n",
    "sp3=explainer3(X_valid)\n",
    "sp4=explainer4(X_valid)"
   ]
  },
  {
   "cell_type": "code",
   "execution_count": 34,
   "id": "suburban-algebra",
   "metadata": {
    "execution": {
     "iopub.execute_input": "2021-12-29T22:17:06.057128Z",
     "iopub.status.busy": "2021-12-29T22:17:06.056464Z",
     "iopub.status.idle": "2021-12-29T22:17:20.884332Z",
     "shell.execute_reply": "2021-12-29T22:17:20.883722Z",
     "shell.execute_reply.started": "2021-12-29T17:05:27.912445Z"
    },
    "papermill": {
     "duration": 14.891291,
     "end_time": "2021-12-29T22:17:20.884469",
     "exception": false,
     "start_time": "2021-12-29T22:17:05.993178",
     "status": "completed"
    },
    "tags": []
   },
   "outputs": [
    {
     "data": {
      "image/png": "[encoded data removed]",
      "text/plain": [
       "<Figure size 576x684 with 2 Axes>"
      ]
     },
     "metadata": {
      "needs_background": "light"
     },
     "output_type": "display_data"
    }
   ],
   "source": [
    "shap.summary_plot(sp1)"
   ]
  },
  {
   "cell_type": "markdown",
   "id": "aggregate-frequency",
   "metadata": {
    "papermill": {
     "duration": 0.057231,
     "end_time": "2021-12-29T22:17:21.000670",
     "exception": false,
     "start_time": "2021-12-29T22:17:20.943439",
     "status": "completed"
    },
    "tags": []
   },
   "source": [
    "## Target 2 top 20 features (determined by \"gains of split\")\n",
    "Player top 20 features can be put into 3 main categories:\n",
    "* Player Demographic infomation:Players' weight,height,and ages \n",
    "* Lag outcomes:mean of target 1,2 and 3 in previous year\n",
    "* Team:Wins, Pct, League Rank\n",
    "Among all, lag outcomes have large effects on target 2 "
   ]
  },
  {
   "cell_type": "code",
   "execution_count": 35,
   "id": "shared-butler",
   "metadata": {
    "execution": {
     "iopub.execute_input": "2021-12-29T22:17:21.122528Z",
     "iopub.status.busy": "2021-12-29T22:17:21.121827Z",
     "iopub.status.idle": "2021-12-29T22:17:21.996352Z",
     "shell.execute_reply": "2021-12-29T22:17:21.995810Z",
     "shell.execute_reply.started": "2021-12-27T13:54:24.202379Z"
    },
    "papermill": {
     "duration": 0.937373,
     "end_time": "2021-12-29T22:17:21.996495",
     "exception": false,
     "start_time": "2021-12-29T22:17:21.059122",
     "status": "completed"
    },
    "tags": []
   },
   "outputs": [
    {
     "data": {
      "text/plain": [
       "<AxesSubplot:title={'center':'Feature importance'}, xlabel='Feature importance', ylabel='Features'>"
      ]
     },
     "execution_count": 35,
     "metadata": {},
     "output_type": "execute_result"
    },
    {
     "data": {
      "image/png": "[encoded data removed]",
      "text/plain": [
       "<Figure size 432x288 with 1 Axes>"
      ]
     },
     "metadata": {
      "needs_background": "light"
     },
     "output_type": "display_data"
    }
   ],
   "source": [
    "lightgbm.plot_importance(model_2,max_num_features=20)"
   ]
  },
  {
   "cell_type": "markdown",
   "id": "agreed-defense",
   "metadata": {
    "papermill": {
     "duration": 0.058904,
     "end_time": "2021-12-29T22:17:22.115597",
     "exception": false,
     "start_time": "2021-12-29T22:17:22.056693",
     "status": "completed"
    },
    "tags": []
   },
   "source": [
    "## Target 2 top 20 features (determined by \"shap value\")\n",
    "* Whether the player is active in Major League matters\n",
    "* Lag outcomes matter\n",
    "* For batter, batting appearance matter\n",
    "* Young player, larger target 2 values\n",
    "* Team performance does not matter much"
   ]
  },
  {
   "cell_type": "code",
   "execution_count": 36,
   "id": "printable-sullivan",
   "metadata": {
    "execution": {
     "iopub.execute_input": "2021-12-29T22:17:22.237875Z",
     "iopub.status.busy": "2021-12-29T22:17:22.237252Z",
     "iopub.status.idle": "2021-12-29T22:17:36.646253Z",
     "shell.execute_reply": "2021-12-29T22:17:36.645587Z"
    },
    "papermill": {
     "duration": 14.471556,
     "end_time": "2021-12-29T22:17:36.646391",
     "exception": false,
     "start_time": "2021-12-29T22:17:22.174835",
     "status": "completed"
    },
    "tags": []
   },
   "outputs": [
    {
     "data": {
      "image/png": "[encoded data removed]",
      "text/plain": [
       "<Figure size 576x684 with 2 Axes>"
      ]
     },
     "metadata": {
      "needs_background": "light"
     },
     "output_type": "display_data"
    }
   ],
   "source": [
    "shap.summary_plot(sp2)"
   ]
  },
  {
   "cell_type": "markdown",
   "id": "local-baseline",
   "metadata": {
    "papermill": {
     "duration": 0.076459,
     "end_time": "2021-12-29T22:17:36.785116",
     "exception": false,
     "start_time": "2021-12-29T22:17:36.708657",
     "status": "completed"
    },
    "tags": []
   },
   "source": [
    "## Target 3 top 20 features (determined by \"gains of split\")\n",
    "Player top 20 features can be put into 2 main categories:\n",
    "* Player Demographic infomation:Players' weight,height,and ages \n",
    "* Lag outcomes:mean of target 1,2 and 3 in previous year\n"
   ]
  },
  {
   "cell_type": "markdown",
   "id": "increasing-intranet",
   "metadata": {
    "papermill": {
     "duration": 0.065426,
     "end_time": "2021-12-29T22:17:36.920002",
     "exception": false,
     "start_time": "2021-12-29T22:17:36.854576",
     "status": "completed"
    },
    "tags": []
   },
   "source": [
    "Among all, lag outcomes have large effects on target 3 \n",
    "Team perfomance does affect target 3, but the effects are relative small."
   ]
  },
  {
   "cell_type": "code",
   "execution_count": 37,
   "id": "returning-diving",
   "metadata": {
    "execution": {
     "iopub.execute_input": "2021-12-29T22:17:37.054732Z",
     "iopub.status.busy": "2021-12-29T22:17:37.054077Z",
     "iopub.status.idle": "2021-12-29T22:17:37.390892Z",
     "shell.execute_reply": "2021-12-29T22:17:37.390387Z",
     "shell.execute_reply.started": "2021-12-27T13:56:04.834211Z"
    },
    "papermill": {
     "duration": 0.403698,
     "end_time": "2021-12-29T22:17:37.391049",
     "exception": false,
     "start_time": "2021-12-29T22:17:36.987351",
     "status": "completed"
    },
    "tags": []
   },
   "outputs": [
    {
     "data": {
      "text/plain": [
       "<AxesSubplot:title={'center':'Feature importance'}, xlabel='Feature importance', ylabel='Features'>"
      ]
     },
     "execution_count": 37,
     "metadata": {},
     "output_type": "execute_result"
    },
    {
     "data": {
      "image/png": "[encoded data removed]",
      "text/plain": [
       "<Figure size 432x288 with 1 Axes>"
      ]
     },
     "metadata": {
      "needs_background": "light"
     },
     "output_type": "display_data"
    }
   ],
   "source": [
    "lightgbm.plot_importance(model_3,max_num_features=20)"
   ]
  },
  {
   "cell_type": "markdown",
   "id": "separated-absorption",
   "metadata": {
    "papermill": {
     "duration": 0.063336,
     "end_time": "2021-12-29T22:17:37.518334",
     "exception": false,
     "start_time": "2021-12-29T22:17:37.454998",
     "status": "completed"
    },
    "tags": []
   },
   "source": [
    "## Target 3 top 20 features (determined by \"shap value\")\n",
    "* Whether the player is active in Major League matters a little\n",
    "* Lag outcomes matter\n",
    "* For batter, homerun,totalbases,rbi matters\n",
    "* For pitcher, strike outs, strikes and inning pitched matters.\n",
    "* Young player, larger target 3 values\n",
    "* Team performance does not matter much\n",
    "* LA Dodgers and Oakland Athletics have higher target 3\n",
    "* Tall and strong players have higher target 3"
   ]
  },
  {
   "cell_type": "code",
   "execution_count": 38,
   "id": "subject-poultry",
   "metadata": {
    "execution": {
     "iopub.execute_input": "2021-12-29T22:17:37.650928Z",
     "iopub.status.busy": "2021-12-29T22:17:37.650299Z",
     "iopub.status.idle": "2021-12-29T22:17:52.330922Z",
     "shell.execute_reply": "2021-12-29T22:17:52.330400Z"
    },
    "papermill": {
     "duration": 14.749056,
     "end_time": "2021-12-29T22:17:52.331083",
     "exception": false,
     "start_time": "2021-12-29T22:17:37.582027",
     "status": "completed"
    },
    "tags": []
   },
   "outputs": [
    {
     "data": {
      "image/png": "[encoded data removed]",
      "text/plain": [
       "<Figure size 576x684 with 2 Axes>"
      ]
     },
     "metadata": {
      "needs_background": "light"
     },
     "output_type": "display_data"
    }
   ],
   "source": [
    "shap.summary_plot(sp3)"
   ]
  },
  {
   "cell_type": "markdown",
   "id": "median-response",
   "metadata": {
    "papermill": {
     "duration": 0.064998,
     "end_time": "2021-12-29T22:17:52.461799",
     "exception": false,
     "start_time": "2021-12-29T22:17:52.396801",
     "status": "completed"
    },
    "tags": []
   },
   "source": [
    "## Target 4 top 20 features (determined by \"gains of split\")\n",
    "Player top 20 features can be put into 3 main categories:\n",
    "* Player Demographic infomation:Players' weight,height,and ages \n",
    "* Lag outcomes:mean of target 1,2 and 3 in previous year\n"
   ]
  },
  {
   "cell_type": "markdown",
   "id": "unique-champagne",
   "metadata": {
    "papermill": {
     "duration": 0.065095,
     "end_time": "2021-12-29T22:17:52.592018",
     "exception": false,
     "start_time": "2021-12-29T22:17:52.526923",
     "status": "completed"
    },
    "tags": []
   },
   "source": [
    "Among all, lag outcomes have large effects on target 4\n",
    "Team perfomance does affect target 3, but the effects are relative small."
   ]
  },
  {
   "cell_type": "code",
   "execution_count": 39,
   "id": "comfortable-warehouse",
   "metadata": {
    "execution": {
     "iopub.execute_input": "2021-12-29T22:17:52.726268Z",
     "iopub.status.busy": "2021-12-29T22:17:52.725261Z",
     "iopub.status.idle": "2021-12-29T22:17:53.060708Z",
     "shell.execute_reply": "2021-12-29T22:17:53.060021Z",
     "shell.execute_reply.started": "2021-12-27T13:56:12.771708Z"
    },
    "papermill": {
     "duration": 0.403678,
     "end_time": "2021-12-29T22:17:53.060853",
     "exception": false,
     "start_time": "2021-12-29T22:17:52.657175",
     "status": "completed"
    },
    "tags": []
   },
   "outputs": [
    {
     "data": {
      "text/plain": [
       "<AxesSubplot:title={'center':'Feature importance'}, xlabel='Feature importance', ylabel='Features'>"
      ]
     },
     "execution_count": 39,
     "metadata": {},
     "output_type": "execute_result"
    },
    {
     "data": {
      "image/png": "[encoded data removed]",
      "text/plain": [
       "<Figure size 432x288 with 1 Axes>"
      ]
     },
     "metadata": {
      "needs_background": "light"
     },
     "output_type": "display_data"
    }
   ],
   "source": [
    "lightgbm.plot_importance(model_4,max_num_features=20)"
   ]
  },
  {
   "cell_type": "markdown",
   "id": "neutral-boston",
   "metadata": {
    "papermill": {
     "duration": 0.067784,
     "end_time": "2021-12-29T22:17:53.197409",
     "exception": false,
     "start_time": "2021-12-29T22:17:53.129625",
     "status": "completed"
    },
    "tags": []
   },
   "source": [
    "## Target 4 top 20 features (determined by \"shap value\")\n",
    "* Whether the player is active in Major League matters a little\n",
    "* Lag outcomes matter\n",
    "* Team performance matters\n",
    "* Batter performances matter a little(total bases,at bats)"
   ]
  },
  {
   "cell_type": "code",
   "execution_count": 40,
   "id": "informative-support",
   "metadata": {
    "execution": {
     "iopub.execute_input": "2021-12-29T22:17:53.340004Z",
     "iopub.status.busy": "2021-12-29T22:17:53.339329Z",
     "iopub.status.idle": "2021-12-29T22:18:08.305624Z",
     "shell.execute_reply": "2021-12-29T22:18:08.305000Z"
    },
    "papermill": {
     "duration": 15.040305,
     "end_time": "2021-12-29T22:18:08.305812",
     "exception": false,
     "start_time": "2021-12-29T22:17:53.265507",
     "status": "completed"
    },
    "tags": []
   },
   "outputs": [
    {
     "data": {
      "image/png": "[encoded data removed]",
      "text/plain": [
       "<Figure size 576x684 with 2 Axes>"
      ]
     },
     "metadata": {
      "needs_background": "light"
     },
     "output_type": "display_data"
    }
   ],
   "source": [
    "shap.summary_plot(sp4)"
   ]
  },
  {
   "cell_type": "code",
   "execution_count": 41,
   "id": "configured-philosophy",
   "metadata": {
    "_kg_hide-input": true,
    "execution": {
     "iopub.execute_input": "2021-12-29T22:18:08.473590Z",
     "iopub.status.busy": "2021-12-29T22:18:08.456075Z",
     "iopub.status.idle": "2021-12-29T22:18:08.477053Z",
     "shell.execute_reply": "2021-12-29T22:18:08.476509Z",
     "shell.execute_reply.started": "2021-12-24T03:40:36.943559Z"
    },
    "papermill": {
     "duration": 0.100004,
     "end_time": "2021-12-29T22:18:08.477202",
     "exception": false,
     "start_time": "2021-12-29T22:18:08.377198",
     "status": "completed"
    },
    "tags": []
   },
   "outputs": [],
   "source": [
    "def make_predictions(targets,test_dfs,features):\n",
    "    X = make_playerBoxScores(test_dfs, features)\n",
    "    standings=make_standings(test_dfs,standings_feature)\n",
    "    rosters=make_rosters(test_dfs)\n",
    "    games=make_games(test_dfs)\n",
    "    TwitterFollowers=make_playerTwitterFollowers(test_dfs)\n",
    "    rosters['playerId']=[str(x) for x in rosters.playerId]\n",
    "    TwitterFollowers['playerId']=[str(x) for x in TwitterFollowers.playerId]\n",
    "    players_1['playerId']=[str(x) for x in players_1.playerId]\n",
    "    X = X.merge(pids_test, how='right')\n",
    "    \n",
    "    X['date'] = X.date.fillna(method='ffill').fillna(method='bfill')\n",
    "        # Merge for processing\n",
    "        # Filter for players in test set\n",
    "    X['seasonId']=X.date.dt.year\n",
    "    X=X.merge(awardhist,how='left',on=['seasonId','playerId'])\n",
    "    X=X.merge(targ,how='left',on=['seasonId','playerId'])\n",
    "    X=X.merge(seasons,how='left',on='seasonId')\n",
    "    X['seasonPart'] = np.select(\n",
    "            [\n",
    "            X['date'] < X['preSeasonStartDate'], \n",
    "            X['date'] <X['regularSeasonStartDate'],\n",
    "            X['date'] <= X['lastDate1stHalf'],\n",
    "            X['date'] <X['firstDate2ndHalf'],\n",
    "            X['date'] <=X['regularSeasonEndDate'],\n",
    "            X['date'] < X['postSeasonStartDate'],\n",
    "           X['date'] <= X['postSeasonEndDate'],\n",
    "            X['date'] >X['postSeasonEndDate']\n",
    "            ], \n",
    "            [\n",
    "            'Offseason',\n",
    "            'Preseason',\n",
    "            'Reg Season 1st Half',\n",
    "            'All-Star Break',\n",
    "            'Reg Season 2nd Half',\n",
    "            'Between Reg and Postseason',\n",
    "            'Postseason',\n",
    "            'Offseason'\n",
    "            ], \n",
    "            default = np.nan\n",
    "            )\n",
    "    X=pd.get_dummies(X,columns=['seasonPart'])\n",
    "    X=X.drop('seasonId',axis=1)\n",
    "    X=X.merge(rosters,how='left',on=['date','playerId'])\n",
    "    X=X.merge(TwitterFollowers,how='left',on=['date','playerId'])\n",
    "    X=X.merge(standings,how='left',on=['date','teamId'])\n",
    "    X=X.merge(games,how='left',on=['date','teamId'])\n",
    "    X=X.merge(players_1,how='left',on=['playerId'])  \n",
    "    X['seasonId']=X.date.dt.year\n",
    "    X['age']=X['seasonId']-X['birthyear']\n",
    "    X.drop(['seasonId','birthyear'],axis=1, inplace=True)\n",
    "    missing_cols = set( columns ) - set(X.columns )\n",
    "        # Add a missing column in test set with default value equal to 0\n",
    "    for c in missing_cols:\n",
    "        X[c] = 0\n",
    "    X.fillna(0, inplace=True)\n",
    "    A=X.copy()\n",
    "    A=A[columns]\n",
    "    A=A.astype('float32')\n",
    "    A = A.astype({name: np.int for name  in uint8})\n",
    "    A=A.astype({name:np.int for name in [\"wildeliminated\",\"eliminated\"]})\n",
    "    targets1 = model_1.predict(A)\n",
    "    targets2= model_2.predict(A)\n",
    "    targets3=model_3.predict(A)\n",
    "    targets4=model_4.predict(A)\n",
    "    y_pred = pd.DataFrame({\"target1\":targets1,\"target2\":targets2,\"target3\":targets3,\"target4\":targets4})\n",
    "    y_pred[targets] = y_pred[targets].clip(0, 100)\n",
    "    y_pred['date']=X['date']\n",
    "    y_pred['playerId'] =X.playerId\n",
    "    y_pred['date']=y_pred.date.fillna(method='ffill').fillna(method='bfill')\n",
    "    y_pred['date']=[(x+1).strftime('%Y%m%d') for x in y_pred['date']]\n",
    "    y_pred['date_playerId']=[b['date']+'_'+str(b['playerId']) for a,b in y_pred.iterrows()]\n",
    "    y_pred=y_pred.drop(['date','playerId'],axis=1)\n",
    "    y_pred = y_pred[['date_playerId'] + targets]\n",
    "#        (date + 1).strftime('%Y%m%d') + '_' + str(playerId)\n",
    "#        for date, playerId in y_pred.index\n",
    "#    \n",
    "#    y_pred.reset_index('playerId', drop=True, inplace=True)\n",
    "#    y_pred = y_pred[['date_playerId'] + targets]  # reorder\n",
    "#    y_pred.index = pd.Int64Index(\n",
    "#        [int(date.strftime('%Y%m%d')) for date in y_pred.index], name='date')\n",
    "    return y_pred"
   ]
  },
  {
   "cell_type": "markdown",
   "id": "center-forestry",
   "metadata": {
    "papermill": {
     "duration": 0.069963,
     "end_time": "2021-12-29T22:18:08.617042",
     "exception": false,
     "start_time": "2021-12-29T22:18:08.547079",
     "status": "completed"
    },
    "tags": []
   },
   "source": [
    "# Submission"
   ]
  },
  {
   "cell_type": "markdown",
   "id": "rubber-division",
   "metadata": {
    "papermill": {
     "duration": 0.071122,
     "end_time": "2021-12-29T22:18:08.758478",
     "exception": false,
     "start_time": "2021-12-29T22:18:08.687356",
     "status": "completed"
    },
    "tags": []
   },
   "source": [
    "This notebook is adapted from the other notebook I used in kaggle competition(I was ranked 52 among 852 teams). Below is just the code used for submission"
   ]
  },
  {
   "cell_type": "code",
   "execution_count": 42,
   "id": "tracked-objective",
   "metadata": {
    "execution": {
     "iopub.execute_input": "2021-12-29T22:18:08.902370Z",
     "iopub.status.busy": "2021-12-29T22:18:08.901643Z",
     "iopub.status.idle": "2021-12-29T22:18:21.487873Z",
     "shell.execute_reply": "2021-12-29T22:18:21.487336Z",
     "shell.execute_reply.started": "2021-12-24T03:40:41.175241Z"
    },
    "papermill": {
     "duration": 12.65943,
     "end_time": "2021-12-29T22:18:21.488060",
     "exception": false,
     "start_time": "2021-12-29T22:18:08.828630",
     "status": "completed"
    },
    "scrolled": true,
    "tags": []
   },
   "outputs": [
    {
     "name": "stdout",
     "output_type": "stream",
     "text": [
      "This version of the API is not optimized and should not be used to estimate the runtime of your code on the hidden test set.\n",
      "CPU times: user 10.7 s, sys: 275 ms, total: 11 s\n",
      "Wall time: 12.6 s\n"
     ]
    }
   ],
   "source": [
    "%%time\n",
    "import mlb\n",
    "\n",
    "env = mlb.make_env()\n",
    "iter_test = env.iter_test()\n",
    "\n",
    "for (test_df, sample_prediction_df) in iter_test:\n",
    "#    # Unpack features from test_df\n",
    "    test_dfs = unpack_data(test_df, [  # targets\n",
    "    'playerBoxScores',  # features\n",
    "    # Other dataframes available for features:\n",
    "    'games',\n",
    "    'rosters',\n",
    "    'teamBoxScores',\n",
    "    'transactions',\n",
    "    'standings',\n",
    "    # 'awards',\n",
    "    # 'events',\n",
    "    'playerTwitterFollowers',\n",
    "    'teamTwitterFollowers',\n",
    "])\n",
    "    # Create predictions\n",
    "    y_pred = make_predictions(\n",
    "        test_dfs=test_dfs,\n",
    "        features=features,\n",
    "        targets=targets,\n",
    "    )\n",
    "    submission = (\n",
    "       sample_prediction_df\n",
    "        [['date_playerId']]\n",
    "        .reset_index()  \n",
    "        .merge(y_pred, how='left', on='date_playerId')\n",
    "        .set_index('date')  \n",
    "    )\n",
    "\n",
    "    # Submit predictions\n",
    "    env.predict(submission)  # constructs submissions.csv\n"
   ]
  },
  {
   "cell_type": "code",
   "execution_count": 43,
   "id": "surprising-willow",
   "metadata": {
    "execution": {
     "iopub.execute_input": "2021-12-29T22:18:21.637750Z",
     "iopub.status.busy": "2021-12-29T22:18:21.636761Z",
     "iopub.status.idle": "2021-12-29T22:18:21.652834Z",
     "shell.execute_reply": "2021-12-29T22:18:21.652220Z",
     "shell.execute_reply.started": "2021-07-16T12:47:39.638993Z"
    },
    "papermill": {
     "duration": 0.093603,
     "end_time": "2021-12-29T22:18:21.652971",
     "exception": false,
     "start_time": "2021-12-29T22:18:21.559368",
     "status": "completed"
    },
    "tags": []
   },
   "outputs": [
    {
     "data": {
      "text/html": [
       "<div>\n",
       "<style scoped>\n",
       "    .dataframe tbody tr th:only-of-type {\n",
       "        vertical-align: middle;\n",
       "    }\n",
       "\n",
       "    .dataframe tbody tr th {\n",
       "        vertical-align: top;\n",
       "    }\n",
       "\n",
       "    .dataframe thead th {\n",
       "        text-align: right;\n",
       "    }\n",
       "</style>\n",
       "<table border=\"1\" class=\"dataframe\">\n",
       "  <thead>\n",
       "    <tr style=\"text-align: right;\">\n",
       "      <th></th>\n",
       "      <th>date_playerId</th>\n",
       "      <th>target1</th>\n",
       "      <th>target2</th>\n",
       "      <th>target3</th>\n",
       "      <th>target4</th>\n",
       "    </tr>\n",
       "    <tr>\n",
       "      <th>date</th>\n",
       "      <th></th>\n",
       "      <th></th>\n",
       "      <th></th>\n",
       "      <th></th>\n",
       "      <th></th>\n",
       "    </tr>\n",
       "  </thead>\n",
       "  <tbody>\n",
       "    <tr>\n",
       "      <th>20210430</th>\n",
       "      <td>20210501_488726</td>\n",
       "      <td>2.246578</td>\n",
       "      <td>6.239217</td>\n",
       "      <td>0.060968</td>\n",
       "      <td>2.489672</td>\n",
       "    </tr>\n",
       "    <tr>\n",
       "      <th>20210430</th>\n",
       "      <td>20210501_605218</td>\n",
       "      <td>0.002695</td>\n",
       "      <td>0.423651</td>\n",
       "      <td>0.006261</td>\n",
       "      <td>0.787937</td>\n",
       "    </tr>\n",
       "    <tr>\n",
       "      <th>20210430</th>\n",
       "      <td>20210501_621563</td>\n",
       "      <td>0.224530</td>\n",
       "      <td>3.262513</td>\n",
       "      <td>0.013906</td>\n",
       "      <td>0.977115</td>\n",
       "    </tr>\n",
       "    <tr>\n",
       "      <th>20210430</th>\n",
       "      <td>20210501_670084</td>\n",
       "      <td>0.004608</td>\n",
       "      <td>1.355075</td>\n",
       "      <td>0.025096</td>\n",
       "      <td>0.702753</td>\n",
       "    </tr>\n",
       "    <tr>\n",
       "      <th>20210430</th>\n",
       "      <td>20210501_670970</td>\n",
       "      <td>0.001378</td>\n",
       "      <td>0.437157</td>\n",
       "      <td>0.122985</td>\n",
       "      <td>0.168838</td>\n",
       "    </tr>\n",
       "    <tr>\n",
       "      <th>...</th>\n",
       "      <td>...</td>\n",
       "      <td>...</td>\n",
       "      <td>...</td>\n",
       "      <td>...</td>\n",
       "      <td>...</td>\n",
       "    </tr>\n",
       "    <tr>\n",
       "      <th>20210430</th>\n",
       "      <td>20210501_596049</td>\n",
       "      <td>0.000000</td>\n",
       "      <td>0.133644</td>\n",
       "      <td>0.002524</td>\n",
       "      <td>0.028806</td>\n",
       "    </tr>\n",
       "    <tr>\n",
       "      <th>20210430</th>\n",
       "      <td>20210501_642851</td>\n",
       "      <td>0.006739</td>\n",
       "      <td>0.209232</td>\n",
       "      <td>0.005120</td>\n",
       "      <td>0.186146</td>\n",
       "    </tr>\n",
       "    <tr>\n",
       "      <th>20210430</th>\n",
       "      <td>20210501_596071</td>\n",
       "      <td>0.000005</td>\n",
       "      <td>0.237598</td>\n",
       "      <td>0.000104</td>\n",
       "      <td>0.114882</td>\n",
       "    </tr>\n",
       "    <tr>\n",
       "      <th>20210430</th>\n",
       "      <td>20210501_664901</td>\n",
       "      <td>0.000000</td>\n",
       "      <td>0.438215</td>\n",
       "      <td>0.001186</td>\n",
       "      <td>0.235538</td>\n",
       "    </tr>\n",
       "    <tr>\n",
       "      <th>20210430</th>\n",
       "      <td>20210501_605525</td>\n",
       "      <td>0.002270</td>\n",
       "      <td>1.102395</td>\n",
       "      <td>0.003688</td>\n",
       "      <td>0.230268</td>\n",
       "    </tr>\n",
       "  </tbody>\n",
       "</table>\n",
       "<p>1187 rows × 5 columns</p>\n",
       "</div>"
      ],
      "text/plain": [
       "            date_playerId   target1   target2   target3   target4\n",
       "date                                                             \n",
       "20210430  20210501_488726  2.246578  6.239217  0.060968  2.489672\n",
       "20210430  20210501_605218  0.002695  0.423651  0.006261  0.787937\n",
       "20210430  20210501_621563  0.224530  3.262513  0.013906  0.977115\n",
       "20210430  20210501_670084  0.004608  1.355075  0.025096  0.702753\n",
       "20210430  20210501_670970  0.001378  0.437157  0.122985  0.168838\n",
       "...                   ...       ...       ...       ...       ...\n",
       "20210430  20210501_596049  0.000000  0.133644  0.002524  0.028806\n",
       "20210430  20210501_642851  0.006739  0.209232  0.005120  0.186146\n",
       "20210430  20210501_596071  0.000005  0.237598  0.000104  0.114882\n",
       "20210430  20210501_664901  0.000000  0.438215  0.001186  0.235538\n",
       "20210430  20210501_605525  0.002270  1.102395  0.003688  0.230268\n",
       "\n",
       "[1187 rows x 5 columns]"
      ]
     },
     "execution_count": 43,
     "metadata": {},
     "output_type": "execute_result"
    }
   ],
   "source": [
    "submission"
   ]
  }
 ],
 "metadata": {
  "kernelspec": {
   "display_name": "Python 3",
   "language": "python",
   "name": "python3"
  },
  "language_info": {
   "codemirror_mode": {
    "name": "ipython",
    "version": 3
   },
   "file_extension": ".py",
   "mimetype": "text/x-python",
   "name": "python",
   "nbconvert_exporter": "python",
   "pygments_lexer": "ipython3",
   "version": "3.7.10"
  },
  "papermill": {
   "default_parameters": {},
   "duration": 5127.419301,
   "end_time": "2021-12-29T22:18:24.078108",
   "environment_variables": {},
   "exception": null,
   "input_path": "__notebook__.ipynb",
   "output_path": "__notebook__.ipynb",
   "parameters": {},
   "start_time": "2021-12-29T20:52:56.658807",
   "version": "2.3.3"
  },
  "widgets": {
   "application/vnd.jupyter.widget-state+json": {
    "state": {
     "0b9c0b974f34409b83119c0559566d78": {
      "model_module": "@jupyter-widgets/output",
      "model_module_version": "1.0.0",
      "model_name": "OutputModel",
      "state": {
       "_dom_classes": [],
       "_model_module": "@jupyter-widgets/output",
       "_model_module_version": "1.0.0",
       "_model_name": "OutputModel",
       "_view_count": null,
       "_view_module": "@jupyter-widgets/output",
       "_view_module_version": "1.0.0",
       "_view_name": "OutputView",
       "layout": "IPY_MODEL_52f4c91e96754cc8888530dd52241f15",
       "msg_id": "",
       "outputs": [
        {
         "data": {
          "text/html": "<div>\n<style scoped>\n    .dataframe tbody tr th:only-of-type {\n        vertical-align: middle;\n    }\n\n    .dataframe tbody tr th {\n        vertical-align: top;\n    }\n\n    .dataframe thead th {\n        text-align: right;\n    }\n</style>\n<table border=\"1\" class=\"dataframe\">\n  <thead>\n    <tr style=\"text-align: right;\">\n      <th></th>\n      <th>seasonId</th>\n      <th>seasonStartDate</th>\n      <th>seasonEndDate</th>\n      <th>preSeasonStartDate</th>\n      <th>preSeasonEndDate</th>\n      <th>regularSeasonStartDate</th>\n      <th>regularSeasonEndDate</th>\n      <th>lastDate1stHalf</th>\n      <th>allStarDate</th>\n      <th>firstDate2ndHalf</th>\n      <th>postSeasonStartDate</th>\n      <th>postSeasonEndDate</th>\n    </tr>\n  </thead>\n  <tbody>\n    <tr>\n      <th>0</th>\n      <td>2017</td>\n      <td>2017-04-02</td>\n      <td>2017-11-01</td>\n      <td>2017-02-22</td>\n      <td>2017-04-01</td>\n      <td>2017-04-02</td>\n      <td>2017-10-01</td>\n      <td>2017-07-09</td>\n      <td>2017-07-11</td>\n      <td>2017-07-14</td>\n      <td>2017-10-03</td>\n      <td>2017-11-01</td>\n    </tr>\n    <tr>\n      <th>1</th>\n      <td>2018</td>\n      <td>2018-03-29</td>\n      <td>2018-10-28</td>\n      <td>2018-02-21</td>\n      <td>2018-03-27</td>\n      <td>2018-03-29</td>\n      <td>2018-10-01</td>\n      <td>2018-07-15</td>\n      <td>2018-07-17</td>\n      <td>2018-07-19</td>\n      <td>2018-10-02</td>\n      <td>2018-10-28</td>\n    </tr>\n    <tr>\n      <th>2</th>\n      <td>2019</td>\n      <td>2019-03-20</td>\n      <td>2019-10-30</td>\n      <td>2019-02-21</td>\n      <td>2019-03-26</td>\n      <td>2019-03-20</td>\n      <td>2019-09-29</td>\n      <td>2019-07-07</td>\n      <td>2019-07-09</td>\n      <td>2019-07-11</td>\n      <td>2019-10-01</td>\n      <td>2019-10-30</td>\n    </tr>\n    <tr>\n      <th>3</th>\n      <td>2020</td>\n      <td>2020-07-23</td>\n      <td>2020-10-28</td>\n      <td>2020-02-21</td>\n      <td>2020-07-22</td>\n      <td>2020-07-23</td>\n      <td>2020-09-27</td>\n      <td>2020-08-25</td>\n      <td>NaN</td>\n      <td>2020-08-26</td>\n      <td>2020-09-29</td>\n      <td>2020-10-28</td>\n    </tr>\n    <tr>\n      <th>4</th>\n      <td>2021</td>\n      <td>2021-02-28</td>\n      <td>2021-10-31</td>\n      <td>2021-02-28</td>\n      <td>2021-03-30</td>\n      <td>2021-04-01</td>\n      <td>2021-10-03</td>\n      <td>2021-07-11</td>\n      <td>2021-07-13</td>\n      <td>2021-07-15</td>\n      <td>2021-10-04</td>\n      <td>2021-10-31</td>\n    </tr>\n  </tbody>\n</table>\n</div>",
          "text/plain": "   seasonId seasonStartDate seasonEndDate preSeasonStartDate preSeasonEndDate  \\\n0      2017      2017-04-02    2017-11-01         2017-02-22       2017-04-01   \n1      2018      2018-03-29    2018-10-28         2018-02-21       2018-03-27   \n2      2019      2019-03-20    2019-10-30         2019-02-21       2019-03-26   \n3      2020      2020-07-23    2020-10-28         2020-02-21       2020-07-22   \n4      2021      2021-02-28    2021-10-31         2021-02-28       2021-03-30   \n\n  regularSeasonStartDate regularSeasonEndDate lastDate1stHalf allStarDate  \\\n0             2017-04-02           2017-10-01      2017-07-09  2017-07-11   \n1             2018-03-29           2018-10-01      2018-07-15  2018-07-17   \n2             2019-03-20           2019-09-29      2019-07-07  2019-07-09   \n3             2020-07-23           2020-09-27      2020-08-25         NaN   \n4             2021-04-01           2021-10-03      2021-07-11  2021-07-13   \n\n  firstDate2ndHalf postSeasonStartDate postSeasonEndDate  \n0       2017-07-14          2017-10-03        2017-11-01  \n1       2018-07-19          2018-10-02        2018-10-28  \n2       2019-07-11          2019-10-01        2019-10-30  \n3       2020-08-26          2020-09-29        2020-10-28  \n4       2021-07-15          2021-10-04        2021-10-31  "
         },
         "metadata": {},
         "output_type": "display_data"
        }
       ]
      }
     },
     "52f4c91e96754cc8888530dd52241f15": {
      "model_module": "@jupyter-widgets/base",
      "model_module_version": "1.2.0",
      "model_name": "LayoutModel",
      "state": {
       "_model_module": "@jupyter-widgets/base",
       "_model_module_version": "1.2.0",
       "_model_name": "LayoutModel",
       "_view_count": null,
       "_view_module": "@jupyter-widgets/base",
       "_view_module_version": "1.2.0",
       "_view_name": "LayoutView",
       "align_content": null,
       "align_items": null,
       "align_self": null,
       "border": null,
       "bottom": null,
       "display": null,
       "flex": null,
       "flex_flow": null,
       "grid_area": null,
       "grid_auto_columns": null,
       "grid_auto_flow": null,
       "grid_auto_rows": null,
       "grid_column": null,
       "grid_gap": null,
       "grid_row": null,
       "grid_template_areas": null,
       "grid_template_columns": null,
       "grid_template_rows": null,
       "height": null,
       "justify_content": null,
       "justify_items": null,
       "left": null,
       "margin": null,
       "max_height": null,
       "max_width": null,
       "min_height": null,
       "min_width": null,
       "object_fit": null,
       "object_position": null,
       "order": null,
       "overflow": null,
       "overflow_x": null,
       "overflow_y": null,
       "padding": null,
       "right": null,
       "top": null,
       "visibility": null,
       "width": null
      }
     },
     "71628582f63648de88c5e27a6fd9b655": {
      "model_module": "@jupyter-widgets/output",
      "model_module_version": "1.0.0",
      "model_name": "OutputModel",
      "state": {
       "_dom_classes": [],
       "_model_module": "@jupyter-widgets/output",
       "_model_module_version": "1.0.0",
       "_model_name": "OutputModel",
       "_view_count": null,
       "_view_module": "@jupyter-widgets/output",
       "_view_module_version": "1.0.0",
       "_view_name": "OutputView",
       "layout": "IPY_MODEL_bddcedd494d44cbb9765b24782b00445",
       "msg_id": "",
       "outputs": [
        {
         "data": {
          "text/html": "<div>\n<style scoped>\n    .dataframe tbody tr th:only-of-type {\n        vertical-align: middle;\n    }\n\n    .dataframe tbody tr th {\n        vertical-align: top;\n    }\n\n    .dataframe thead th {\n        text-align: right;\n    }\n</style>\n<table border=\"1\" class=\"dataframe\">\n  <thead>\n    <tr style=\"text-align: right;\">\n      <th></th>\n      <th>awardDate</th>\n      <th>awardSeason</th>\n      <th>awardId</th>\n      <th>awardName</th>\n      <th>playerId</th>\n      <th>playerName</th>\n      <th>awardPlayerTeamId</th>\n    </tr>\n  </thead>\n  <tbody>\n    <tr>\n      <th>0</th>\n      <td>2017-12-21</td>\n      <td>2017</td>\n      <td>WARRENSPAHN</td>\n      <td>Warren Spahn Award</td>\n      <td>477132</td>\n      <td>Clayton Kershaw</td>\n      <td>119.0</td>\n    </tr>\n    <tr>\n      <th>1</th>\n      <td>2017-12-20</td>\n      <td>2017</td>\n      <td>MILBORGAS</td>\n      <td>MiLB.com Organization All-Star</td>\n      <td>474319</td>\n      <td>Brandon Snyder</td>\n      <td>120.0</td>\n    </tr>\n    <tr>\n      <th>2</th>\n      <td>2017-12-20</td>\n      <td>2017</td>\n      <td>MILBORGAS</td>\n      <td>MiLB.com Organization All-Star</td>\n      <td>592530</td>\n      <td>Jose Marmolejos</td>\n      <td>120.0</td>\n    </tr>\n    <tr>\n      <th>3</th>\n      <td>2017-12-20</td>\n      <td>2017</td>\n      <td>MILBORGAS</td>\n      <td>MiLB.com Organization All-Star</td>\n      <td>593833</td>\n      <td>Wander Suero</td>\n      <td>120.0</td>\n    </tr>\n    <tr>\n      <th>4</th>\n      <td>2017-12-20</td>\n      <td>2017</td>\n      <td>MILBORGAS</td>\n      <td>MiLB.com Organization All-Star</td>\n      <td>600466</td>\n      <td>Raudy Read</td>\n      <td>120.0</td>\n    </tr>\n    <tr>\n      <th>...</th>\n      <td>...</td>\n      <td>...</td>\n      <td>...</td>\n      <td>...</td>\n      <td>...</td>\n      <td>...</td>\n      <td>...</td>\n    </tr>\n    <tr>\n      <th>11251</th>\n      <td>2000-08-27</td>\n      <td>2000</td>\n      <td>NLPOW</td>\n      <td>NL Player of the Week</td>\n      <td>134181</td>\n      <td>Adrian Beltre</td>\n      <td>119.0</td>\n    </tr>\n    <tr>\n      <th>11252</th>\n      <td>2000-07-09</td>\n      <td>2000</td>\n      <td>FUTURES</td>\n      <td>Futures Game Selection</td>\n      <td>282332</td>\n      <td>CC Sabathia</td>\n      <td>402.0</td>\n    </tr>\n    <tr>\n      <th>11253</th>\n      <td>1998-09-01</td>\n      <td>1998</td>\n      <td>TLPSAS</td>\n      <td>TEX Post-Season All-Star</td>\n      <td>134181</td>\n      <td>Adrian Beltre</td>\n      <td>510.0</td>\n    </tr>\n    <tr>\n      <th>11254</th>\n      <td>1998-07-07</td>\n      <td>1998</td>\n      <td>ALAS</td>\n      <td>AL All-Star</td>\n      <td>112526</td>\n      <td>Bartolo Colon</td>\n      <td>114.0</td>\n    </tr>\n    <tr>\n      <th>11255</th>\n      <td>1998-06-21</td>\n      <td>1998</td>\n      <td>ALPOW</td>\n      <td>AL Player of the Week</td>\n      <td>112526</td>\n      <td>Bartolo Colon</td>\n      <td>114.0</td>\n    </tr>\n  </tbody>\n</table>\n<p>11256 rows × 7 columns</p>\n</div>",
          "text/plain": "        awardDate  awardSeason      awardId                       awardName  \\\n0      2017-12-21         2017  WARRENSPAHN              Warren Spahn Award   \n1      2017-12-20         2017    MILBORGAS  MiLB.com Organization All-Star   \n2      2017-12-20         2017    MILBORGAS  MiLB.com Organization All-Star   \n3      2017-12-20         2017    MILBORGAS  MiLB.com Organization All-Star   \n4      2017-12-20         2017    MILBORGAS  MiLB.com Organization All-Star   \n...           ...          ...          ...                             ...   \n11251  2000-08-27         2000        NLPOW           NL Player of the Week   \n11252  2000-07-09         2000      FUTURES          Futures Game Selection   \n11253  1998-09-01         1998       TLPSAS        TEX Post-Season All-Star   \n11254  1998-07-07         1998         ALAS                     AL All-Star   \n11255  1998-06-21         1998        ALPOW           AL Player of the Week   \n\n       playerId       playerName  awardPlayerTeamId  \n0        477132  Clayton Kershaw              119.0  \n1        474319   Brandon Snyder              120.0  \n2        592530  Jose Marmolejos              120.0  \n3        593833     Wander Suero              120.0  \n4        600466       Raudy Read              120.0  \n...         ...              ...                ...  \n11251    134181    Adrian Beltre              119.0  \n11252    282332      CC Sabathia              402.0  \n11253    134181    Adrian Beltre              510.0  \n11254    112526    Bartolo Colon              114.0  \n11255    112526    Bartolo Colon              114.0  \n\n[11256 rows x 7 columns]"
         },
         "metadata": {},
         "output_type": "display_data"
        }
       ]
      }
     },
     "9ad880f191ce40219e36824fd24e1c99": {
      "model_module": "@jupyter-widgets/base",
      "model_module_version": "1.2.0",
      "model_name": "LayoutModel",
      "state": {
       "_model_module": "@jupyter-widgets/base",
       "_model_module_version": "1.2.0",
       "_model_name": "LayoutModel",
       "_view_count": null,
       "_view_module": "@jupyter-widgets/base",
       "_view_module_version": "1.2.0",
       "_view_name": "LayoutView",
       "align_content": null,
       "align_items": null,
       "align_self": null,
       "border": null,
       "bottom": null,
       "display": null,
       "flex": null,
       "flex_flow": null,
       "grid_area": null,
       "grid_auto_columns": null,
       "grid_auto_flow": null,
       "grid_auto_rows": null,
       "grid_column": null,
       "grid_gap": null,
       "grid_row": null,
       "grid_template_areas": null,
       "grid_template_columns": null,
       "grid_template_rows": null,
       "height": null,
       "justify_content": null,
       "justify_items": null,
       "left": null,
       "margin": null,
       "max_height": null,
       "max_width": null,
       "min_height": null,
       "min_width": null,
       "object_fit": null,
       "object_position": null,
       "order": null,
       "overflow": null,
       "overflow_x": null,
       "overflow_y": null,
       "padding": null,
       "right": null,
       "top": null,
       "visibility": null,
       "width": null
      }
     },
     "bcff321e1ec0498d8e99a03025a27b00": {
      "model_module": "@jupyter-widgets/output",
      "model_module_version": "1.0.0",
      "model_name": "OutputModel",
      "state": {
       "_dom_classes": [],
       "_model_module": "@jupyter-widgets/output",
       "_model_module_version": "1.0.0",
       "_model_name": "OutputModel",
       "_view_count": null,
       "_view_module": "@jupyter-widgets/output",
       "_view_module_version": "1.0.0",
       "_view_name": "OutputView",
       "layout": "IPY_MODEL_fcdd7822501a4fc8b3bc65064dfbaded",
       "msg_id": "",
       "outputs": [
        {
         "data": {
          "text/html": "<div>\n<style scoped>\n    .dataframe tbody tr th:only-of-type {\n        vertical-align: middle;\n    }\n\n    .dataframe tbody tr th {\n        vertical-align: top;\n    }\n\n    .dataframe thead th {\n        text-align: right;\n    }\n</style>\n<table border=\"1\" class=\"dataframe\">\n  <thead>\n    <tr style=\"text-align: right;\">\n      <th></th>\n      <th>id</th>\n      <th>name</th>\n      <th>teamName</th>\n      <th>teamCode</th>\n      <th>shortName</th>\n      <th>abbreviation</th>\n      <th>locationName</th>\n      <th>leagueId</th>\n      <th>leagueName</th>\n      <th>divisionId</th>\n      <th>divisionName</th>\n      <th>venueId</th>\n      <th>venueName</th>\n    </tr>\n  </thead>\n  <tbody>\n    <tr>\n      <th>0</th>\n      <td>108</td>\n      <td>Los Angeles Angels</td>\n      <td>Angels</td>\n      <td>ana</td>\n      <td>LA Angels</td>\n      <td>LAA</td>\n      <td>Anaheim</td>\n      <td>103</td>\n      <td>American League</td>\n      <td>200</td>\n      <td>American League West</td>\n      <td>1</td>\n      <td>Angel Stadium</td>\n    </tr>\n    <tr>\n      <th>1</th>\n      <td>109</td>\n      <td>Arizona Diamondbacks</td>\n      <td>D-backs</td>\n      <td>ari</td>\n      <td>Arizona</td>\n      <td>ARI</td>\n      <td>Phoenix</td>\n      <td>104</td>\n      <td>National League</td>\n      <td>203</td>\n      <td>National League West</td>\n      <td>15</td>\n      <td>Chase Field</td>\n    </tr>\n    <tr>\n      <th>2</th>\n      <td>110</td>\n      <td>Baltimore Orioles</td>\n      <td>Orioles</td>\n      <td>bal</td>\n      <td>Baltimore</td>\n      <td>BAL</td>\n      <td>Baltimore</td>\n      <td>103</td>\n      <td>American League</td>\n      <td>201</td>\n      <td>American League East</td>\n      <td>2</td>\n      <td>Oriole Park at Camden Yards</td>\n    </tr>\n    <tr>\n      <th>3</th>\n      <td>111</td>\n      <td>Boston Red Sox</td>\n      <td>Red Sox</td>\n      <td>bos</td>\n      <td>Boston</td>\n      <td>BOS</td>\n      <td>Boston</td>\n      <td>103</td>\n      <td>American League</td>\n      <td>201</td>\n      <td>American League East</td>\n      <td>3</td>\n      <td>Fenway Park</td>\n    </tr>\n    <tr>\n      <th>4</th>\n      <td>112</td>\n      <td>Chicago Cubs</td>\n      <td>Cubs</td>\n      <td>chn</td>\n      <td>Chi Cubs</td>\n      <td>CHC</td>\n      <td>Chicago</td>\n      <td>104</td>\n      <td>National League</td>\n      <td>205</td>\n      <td>National League Central</td>\n      <td>17</td>\n      <td>Wrigley Field</td>\n    </tr>\n    <tr>\n      <th>5</th>\n      <td>113</td>\n      <td>Cincinnati Reds</td>\n      <td>Reds</td>\n      <td>cin</td>\n      <td>Cincinnati</td>\n      <td>CIN</td>\n      <td>Cincinnati</td>\n      <td>104</td>\n      <td>National League</td>\n      <td>205</td>\n      <td>National League Central</td>\n      <td>2602</td>\n      <td>Great American Ball Park</td>\n    </tr>\n    <tr>\n      <th>6</th>\n      <td>114</td>\n      <td>Cleveland Indians</td>\n      <td>Indians</td>\n      <td>cle</td>\n      <td>Cleveland</td>\n      <td>CLE</td>\n      <td>Cleveland</td>\n      <td>103</td>\n      <td>American League</td>\n      <td>202</td>\n      <td>American League Central</td>\n      <td>5</td>\n      <td>Progressive Field</td>\n    </tr>\n    <tr>\n      <th>7</th>\n      <td>115</td>\n      <td>Colorado Rockies</td>\n      <td>Rockies</td>\n      <td>col</td>\n      <td>Colorado</td>\n      <td>COL</td>\n      <td>Denver</td>\n      <td>104</td>\n      <td>National League</td>\n      <td>203</td>\n      <td>National League West</td>\n      <td>19</td>\n      <td>Coors Field</td>\n    </tr>\n    <tr>\n      <th>8</th>\n      <td>116</td>\n      <td>Detroit Tigers</td>\n      <td>Tigers</td>\n      <td>det</td>\n      <td>Detroit</td>\n      <td>DET</td>\n      <td>Detroit</td>\n      <td>103</td>\n      <td>American League</td>\n      <td>202</td>\n      <td>American League Central</td>\n      <td>2394</td>\n      <td>Comerica Park</td>\n    </tr>\n    <tr>\n      <th>9</th>\n      <td>117</td>\n      <td>Houston Astros</td>\n      <td>Astros</td>\n      <td>hou</td>\n      <td>Houston</td>\n      <td>HOU</td>\n      <td>Houston</td>\n      <td>103</td>\n      <td>American League</td>\n      <td>200</td>\n      <td>American League West</td>\n      <td>2392</td>\n      <td>Minute Maid Park</td>\n    </tr>\n    <tr>\n      <th>10</th>\n      <td>118</td>\n      <td>Kansas City Royals</td>\n      <td>Royals</td>\n      <td>kca</td>\n      <td>Kansas City</td>\n      <td>KC</td>\n      <td>Kansas City</td>\n      <td>103</td>\n      <td>American League</td>\n      <td>202</td>\n      <td>American League Central</td>\n      <td>7</td>\n      <td>Kauffman Stadium</td>\n    </tr>\n    <tr>\n      <th>11</th>\n      <td>119</td>\n      <td>Los Angeles Dodgers</td>\n      <td>Dodgers</td>\n      <td>lan</td>\n      <td>LA Dodgers</td>\n      <td>LAD</td>\n      <td>Los Angeles</td>\n      <td>104</td>\n      <td>National League</td>\n      <td>203</td>\n      <td>National League West</td>\n      <td>22</td>\n      <td>Dodger Stadium</td>\n    </tr>\n    <tr>\n      <th>12</th>\n      <td>120</td>\n      <td>Washington Nationals</td>\n      <td>Nationals</td>\n      <td>was</td>\n      <td>Washington</td>\n      <td>WSH</td>\n      <td>Washington</td>\n      <td>104</td>\n      <td>National League</td>\n      <td>204</td>\n      <td>National League East</td>\n      <td>3309</td>\n      <td>Nationals Park</td>\n    </tr>\n    <tr>\n      <th>13</th>\n      <td>121</td>\n      <td>New York Mets</td>\n      <td>Mets</td>\n      <td>nyn</td>\n      <td>NY Mets</td>\n      <td>NYM</td>\n      <td>Flushing</td>\n      <td>104</td>\n      <td>National League</td>\n      <td>204</td>\n      <td>National League East</td>\n      <td>3289</td>\n      <td>Citi Field</td>\n    </tr>\n    <tr>\n      <th>14</th>\n      <td>133</td>\n      <td>Oakland Athletics</td>\n      <td>Athletics</td>\n      <td>oak</td>\n      <td>Oakland</td>\n      <td>OAK</td>\n      <td>Oakland</td>\n      <td>103</td>\n      <td>American League</td>\n      <td>200</td>\n      <td>American League West</td>\n      <td>10</td>\n      <td>Oakland Coliseum</td>\n    </tr>\n    <tr>\n      <th>15</th>\n      <td>134</td>\n      <td>Pittsburgh Pirates</td>\n      <td>Pirates</td>\n      <td>pit</td>\n      <td>Pittsburgh</td>\n      <td>PIT</td>\n      <td>Pittsburgh</td>\n      <td>104</td>\n      <td>National League</td>\n      <td>205</td>\n      <td>National League Central</td>\n      <td>31</td>\n      <td>PNC Park</td>\n    </tr>\n    <tr>\n      <th>16</th>\n      <td>135</td>\n      <td>San Diego Padres</td>\n      <td>Padres</td>\n      <td>sdn</td>\n      <td>San Diego</td>\n      <td>SD</td>\n      <td>San Diego</td>\n      <td>104</td>\n      <td>National League</td>\n      <td>203</td>\n      <td>National League West</td>\n      <td>2680</td>\n      <td>Petco Park</td>\n    </tr>\n    <tr>\n      <th>17</th>\n      <td>136</td>\n      <td>Seattle Mariners</td>\n      <td>Mariners</td>\n      <td>sea</td>\n      <td>Seattle</td>\n      <td>SEA</td>\n      <td>Seattle</td>\n      <td>103</td>\n      <td>American League</td>\n      <td>200</td>\n      <td>American League West</td>\n      <td>680</td>\n      <td>T-Mobile Park</td>\n    </tr>\n    <tr>\n      <th>18</th>\n      <td>137</td>\n      <td>San Francisco Giants</td>\n      <td>Giants</td>\n      <td>sfn</td>\n      <td>San Francisco</td>\n      <td>SF</td>\n      <td>San Francisco</td>\n      <td>104</td>\n      <td>National League</td>\n      <td>203</td>\n      <td>National League West</td>\n      <td>2395</td>\n      <td>Oracle Park</td>\n    </tr>\n    <tr>\n      <th>19</th>\n      <td>138</td>\n      <td>St. Louis Cardinals</td>\n      <td>Cardinals</td>\n      <td>sln</td>\n      <td>St. Louis</td>\n      <td>STL</td>\n      <td>St. Louis</td>\n      <td>104</td>\n      <td>National League</td>\n      <td>205</td>\n      <td>National League Central</td>\n      <td>2889</td>\n      <td>Busch Stadium</td>\n    </tr>\n    <tr>\n      <th>20</th>\n      <td>139</td>\n      <td>Tampa Bay Rays</td>\n      <td>Rays</td>\n      <td>tba</td>\n      <td>Tampa Bay</td>\n      <td>TB</td>\n      <td>St. Petersburg</td>\n      <td>103</td>\n      <td>American League</td>\n      <td>201</td>\n      <td>American League East</td>\n      <td>12</td>\n      <td>Tropicana Field</td>\n    </tr>\n    <tr>\n      <th>21</th>\n      <td>140</td>\n      <td>Texas Rangers</td>\n      <td>Rangers</td>\n      <td>tex</td>\n      <td>Texas</td>\n      <td>TEX</td>\n      <td>Arlington</td>\n      <td>103</td>\n      <td>American League</td>\n      <td>200</td>\n      <td>American League West</td>\n      <td>5325</td>\n      <td>Globe Life Field</td>\n    </tr>\n    <tr>\n      <th>22</th>\n      <td>141</td>\n      <td>Toronto Blue Jays</td>\n      <td>Blue Jays</td>\n      <td>tor</td>\n      <td>Toronto</td>\n      <td>TOR</td>\n      <td>Toronto</td>\n      <td>103</td>\n      <td>American League</td>\n      <td>201</td>\n      <td>American League East</td>\n      <td>14</td>\n      <td>Rogers Centre</td>\n    </tr>\n    <tr>\n      <th>23</th>\n      <td>142</td>\n      <td>Minnesota Twins</td>\n      <td>Twins</td>\n      <td>min</td>\n      <td>Minnesota</td>\n      <td>MIN</td>\n      <td>Minneapolis</td>\n      <td>103</td>\n      <td>American League</td>\n      <td>202</td>\n      <td>American League Central</td>\n      <td>3312</td>\n      <td>Target Field</td>\n    </tr>\n    <tr>\n      <th>24</th>\n      <td>143</td>\n      <td>Philadelphia Phillies</td>\n      <td>Phillies</td>\n      <td>phi</td>\n      <td>Philadelphia</td>\n      <td>PHI</td>\n      <td>Philadelphia</td>\n      <td>104</td>\n      <td>National League</td>\n      <td>204</td>\n      <td>National League East</td>\n      <td>2681</td>\n      <td>Citizens Bank Park</td>\n    </tr>\n    <tr>\n      <th>25</th>\n      <td>144</td>\n      <td>Atlanta Braves</td>\n      <td>Braves</td>\n      <td>atl</td>\n      <td>Atlanta</td>\n      <td>ATL</td>\n      <td>Atlanta</td>\n      <td>104</td>\n      <td>National League</td>\n      <td>204</td>\n      <td>National League East</td>\n      <td>4705</td>\n      <td>Truist Park</td>\n    </tr>\n    <tr>\n      <th>26</th>\n      <td>145</td>\n      <td>Chicago White Sox</td>\n      <td>White Sox</td>\n      <td>cha</td>\n      <td>Chi White Sox</td>\n      <td>CWS</td>\n      <td>Chicago</td>\n      <td>103</td>\n      <td>American League</td>\n      <td>202</td>\n      <td>American League Central</td>\n      <td>4</td>\n      <td>Guaranteed Rate Field</td>\n    </tr>\n    <tr>\n      <th>27</th>\n      <td>146</td>\n      <td>Miami Marlins</td>\n      <td>Marlins</td>\n      <td>mia</td>\n      <td>Miami</td>\n      <td>MIA</td>\n      <td>Miami</td>\n      <td>104</td>\n      <td>National League</td>\n      <td>204</td>\n      <td>National League East</td>\n      <td>4169</td>\n      <td>loanDepot park</td>\n    </tr>\n    <tr>\n      <th>28</th>\n      <td>147</td>\n      <td>New York Yankees</td>\n      <td>Yankees</td>\n      <td>nya</td>\n      <td>NY Yankees</td>\n      <td>NYY</td>\n      <td>Bronx</td>\n      <td>103</td>\n      <td>American League</td>\n      <td>201</td>\n      <td>American League East</td>\n      <td>3313</td>\n      <td>Yankee Stadium</td>\n    </tr>\n    <tr>\n      <th>29</th>\n      <td>158</td>\n      <td>Milwaukee Brewers</td>\n      <td>Brewers</td>\n      <td>mil</td>\n      <td>Milwaukee</td>\n      <td>MIL</td>\n      <td>Milwaukee</td>\n      <td>104</td>\n      <td>National League</td>\n      <td>205</td>\n      <td>National League Central</td>\n      <td>32</td>\n      <td>American Family Field</td>\n    </tr>\n  </tbody>\n</table>\n</div>",
          "text/plain": "     id                   name   teamName teamCode      shortName  \\\n0   108     Los Angeles Angels     Angels      ana      LA Angels   \n1   109   Arizona Diamondbacks    D-backs      ari        Arizona   \n2   110      Baltimore Orioles    Orioles      bal      Baltimore   \n3   111         Boston Red Sox    Red Sox      bos         Boston   \n4   112           Chicago Cubs       Cubs      chn       Chi Cubs   \n5   113        Cincinnati Reds       Reds      cin     Cincinnati   \n6   114      Cleveland Indians    Indians      cle      Cleveland   \n7   115       Colorado Rockies    Rockies      col       Colorado   \n8   116         Detroit Tigers     Tigers      det        Detroit   \n9   117         Houston Astros     Astros      hou        Houston   \n10  118     Kansas City Royals     Royals      kca    Kansas City   \n11  119    Los Angeles Dodgers    Dodgers      lan     LA Dodgers   \n12  120   Washington Nationals  Nationals      was     Washington   \n13  121          New York Mets       Mets      nyn        NY Mets   \n14  133      Oakland Athletics  Athletics      oak        Oakland   \n15  134     Pittsburgh Pirates    Pirates      pit     Pittsburgh   \n16  135       San Diego Padres     Padres      sdn      San Diego   \n17  136       Seattle Mariners   Mariners      sea        Seattle   \n18  137   San Francisco Giants     Giants      sfn  San Francisco   \n19  138    St. Louis Cardinals  Cardinals      sln      St. Louis   \n20  139         Tampa Bay Rays       Rays      tba      Tampa Bay   \n21  140          Texas Rangers    Rangers      tex          Texas   \n22  141      Toronto Blue Jays  Blue Jays      tor        Toronto   \n23  142        Minnesota Twins      Twins      min      Minnesota   \n24  143  Philadelphia Phillies   Phillies      phi   Philadelphia   \n25  144         Atlanta Braves     Braves      atl        Atlanta   \n26  145      Chicago White Sox  White Sox      cha  Chi White Sox   \n27  146          Miami Marlins    Marlins      mia          Miami   \n28  147       New York Yankees    Yankees      nya     NY Yankees   \n29  158      Milwaukee Brewers    Brewers      mil      Milwaukee   \n\n   abbreviation    locationName  leagueId       leagueName  divisionId  \\\n0           LAA         Anaheim       103  American League         200   \n1           ARI         Phoenix       104  National League         203   \n2           BAL       Baltimore       103  American League         201   \n3           BOS          Boston       103  American League         201   \n4           CHC         Chicago       104  National League         205   \n5           CIN      Cincinnati       104  National League         205   \n6           CLE       Cleveland       103  American League         202   \n7           COL          Denver       104  National League         203   \n8           DET         Detroit       103  American League         202   \n9           HOU         Houston       103  American League         200   \n10           KC     Kansas City       103  American League         202   \n11          LAD     Los Angeles       104  National League         203   \n12          WSH      Washington       104  National League         204   \n13          NYM        Flushing       104  National League         204   \n14          OAK         Oakland       103  American League         200   \n15          PIT      Pittsburgh       104  National League         205   \n16           SD       San Diego       104  National League         203   \n17          SEA         Seattle       103  American League         200   \n18           SF   San Francisco       104  National League         203   \n19          STL       St. Louis       104  National League         205   \n20           TB  St. Petersburg       103  American League         201   \n21          TEX       Arlington       103  American League         200   \n22          TOR         Toronto       103  American League         201   \n23          MIN     Minneapolis       103  American League         202   \n24          PHI    Philadelphia       104  National League         204   \n25          ATL         Atlanta       104  National League         204   \n26          CWS         Chicago       103  American League         202   \n27          MIA           Miami       104  National League         204   \n28          NYY           Bronx       103  American League         201   \n29          MIL       Milwaukee       104  National League         205   \n\n               divisionName  venueId                    venueName  \n0      American League West        1                Angel Stadium  \n1      National League West       15                  Chase Field  \n2      American League East        2  Oriole Park at Camden Yards  \n3      American League East        3                  Fenway Park  \n4   National League Central       17                Wrigley Field  \n5   National League Central     2602     Great American Ball Park  \n6   American League Central        5            Progressive Field  \n7      National League West       19                  Coors Field  \n8   American League Central     2394                Comerica Park  \n9      American League West     2392             Minute Maid Park  \n10  American League Central        7             Kauffman Stadium  \n11     National League West       22               Dodger Stadium  \n12     National League East     3309               Nationals Park  \n13     National League East     3289                   Citi Field  \n14     American League West       10             Oakland Coliseum  \n15  National League Central       31                     PNC Park  \n16     National League West     2680                   Petco Park  \n17     American League West      680                T-Mobile Park  \n18     National League West     2395                  Oracle Park  \n19  National League Central     2889                Busch Stadium  \n20     American League East       12              Tropicana Field  \n21     American League West     5325             Globe Life Field  \n22     American League East       14                Rogers Centre  \n23  American League Central     3312                 Target Field  \n24     National League East     2681           Citizens Bank Park  \n25     National League East     4705                  Truist Park  \n26  American League Central        4        Guaranteed Rate Field  \n27     National League East     4169               loanDepot park  \n28     American League East     3313               Yankee Stadium  \n29  National League Central       32        American Family Field  "
         },
         "metadata": {},
         "output_type": "display_data"
        }
       ]
      }
     },
     "bddcedd494d44cbb9765b24782b00445": {
      "model_module": "@jupyter-widgets/base",
      "model_module_version": "1.2.0",
      "model_name": "LayoutModel",
      "state": {
       "_model_module": "@jupyter-widgets/base",
       "_model_module_version": "1.2.0",
       "_model_name": "LayoutModel",
       "_view_count": null,
       "_view_module": "@jupyter-widgets/base",
       "_view_module_version": "1.2.0",
       "_view_name": "LayoutView",
       "align_content": null,
       "align_items": null,
       "align_self": null,
       "border": null,
       "bottom": null,
       "display": null,
       "flex": null,
       "flex_flow": null,
       "grid_area": null,
       "grid_auto_columns": null,
       "grid_auto_flow": null,
       "grid_auto_rows": null,
       "grid_column": null,
       "grid_gap": null,
       "grid_row": null,
       "grid_template_areas": null,
       "grid_template_columns": null,
       "grid_template_rows": null,
       "height": null,
       "justify_content": null,
       "justify_items": null,
       "left": null,
       "margin": null,
       "max_height": null,
       "max_width": null,
       "min_height": null,
       "min_width": null,
       "object_fit": null,
       "object_position": null,
       "order": null,
       "overflow": null,
       "overflow_x": null,
       "overflow_y": null,
       "padding": null,
       "right": null,
       "top": null,
       "visibility": null,
       "width": null
      }
     },
     "cb7158013f9243348b29f2a0ad45b7ef": {
      "model_module": "@jupyter-widgets/controls",
      "model_module_version": "1.5.0",
      "model_name": "TabModel",
      "state": {
       "_dom_classes": [],
       "_model_module": "@jupyter-widgets/controls",
       "_model_module_version": "1.5.0",
       "_model_name": "TabModel",
       "_titles": {
        "0": "seasons",
        "1": "teams",
        "2": "players",
        "3": "awards"
       },
       "_view_count": null,
       "_view_module": "@jupyter-widgets/controls",
       "_view_module_version": "1.5.0",
       "_view_name": "TabView",
       "box_style": "",
       "children": [
        "IPY_MODEL_0b9c0b974f34409b83119c0559566d78",
        "IPY_MODEL_bcff321e1ec0498d8e99a03025a27b00",
        "IPY_MODEL_cc8224a67094432e96ea405e01859675",
        "IPY_MODEL_71628582f63648de88c5e27a6fd9b655"
       ],
       "layout": "IPY_MODEL_9ad880f191ce40219e36824fd24e1c99",
       "selected_index": 0
      }
     },
     "cc8224a67094432e96ea405e01859675": {
      "model_module": "@jupyter-widgets/output",
      "model_module_version": "1.0.0",
      "model_name": "OutputModel",
      "state": {
       "_dom_classes": [],
       "_model_module": "@jupyter-widgets/output",
       "_model_module_version": "1.0.0",
       "_model_name": "OutputModel",
       "_view_count": null,
       "_view_module": "@jupyter-widgets/output",
       "_view_module_version": "1.0.0",
       "_view_name": "OutputView",
       "layout": "IPY_MODEL_f06b017dd0bf41a58345472f785e5b3b",
       "msg_id": "",
       "outputs": [
        {
         "data": {
          "text/html": "<div>\n<style scoped>\n    .dataframe tbody tr th:only-of-type {\n        vertical-align: middle;\n    }\n\n    .dataframe tbody tr th {\n        vertical-align: top;\n    }\n\n    .dataframe thead th {\n        text-align: right;\n    }\n</style>\n<table border=\"1\" class=\"dataframe\">\n  <thead>\n    <tr style=\"text-align: right;\">\n      <th></th>\n      <th>playerId</th>\n      <th>playerName</th>\n      <th>DOB</th>\n      <th>mlbDebutDate</th>\n      <th>birthCity</th>\n      <th>birthStateProvince</th>\n      <th>birthCountry</th>\n      <th>heightInches</th>\n      <th>weight</th>\n      <th>primaryPositionCode</th>\n      <th>primaryPositionName</th>\n      <th>playerForTestSetAndFuturePreds</th>\n    </tr>\n  </thead>\n  <tbody>\n    <tr>\n      <th>0</th>\n      <td>665482</td>\n      <td>Gilberto Celestino</td>\n      <td>1999-02-13</td>\n      <td>2021-06-02</td>\n      <td>Santo Domingo</td>\n      <td>NaN</td>\n      <td>Dominican Republic</td>\n      <td>72</td>\n      <td>170</td>\n      <td>8</td>\n      <td>Outfielder</td>\n      <td>False</td>\n    </tr>\n    <tr>\n      <th>1</th>\n      <td>593590</td>\n      <td>Webster Rivas</td>\n      <td>1990-08-08</td>\n      <td>2021-05-28</td>\n      <td>Nagua</td>\n      <td>NaN</td>\n      <td>Dominican Republic</td>\n      <td>73</td>\n      <td>219</td>\n      <td>3</td>\n      <td>First Base</td>\n      <td>True</td>\n    </tr>\n    <tr>\n      <th>2</th>\n      <td>661269</td>\n      <td>Vladimir Gutierrez</td>\n      <td>1995-09-18</td>\n      <td>2021-05-28</td>\n      <td>Havana</td>\n      <td>NaN</td>\n      <td>Cuba</td>\n      <td>73</td>\n      <td>190</td>\n      <td>1</td>\n      <td>Pitcher</td>\n      <td>True</td>\n    </tr>\n    <tr>\n      <th>3</th>\n      <td>669212</td>\n      <td>Eli Morgan</td>\n      <td>1996-05-13</td>\n      <td>2021-05-28</td>\n      <td>Rancho Palos Verdes</td>\n      <td>CA</td>\n      <td>USA</td>\n      <td>70</td>\n      <td>190</td>\n      <td>1</td>\n      <td>Pitcher</td>\n      <td>True</td>\n    </tr>\n    <tr>\n      <th>4</th>\n      <td>666201</td>\n      <td>Alek Manoah</td>\n      <td>1998-01-09</td>\n      <td>2021-05-27</td>\n      <td>Homestead</td>\n      <td>FL</td>\n      <td>USA</td>\n      <td>78</td>\n      <td>260</td>\n      <td>1</td>\n      <td>Pitcher</td>\n      <td>True</td>\n    </tr>\n    <tr>\n      <th>...</th>\n      <td>...</td>\n      <td>...</td>\n      <td>...</td>\n      <td>...</td>\n      <td>...</td>\n      <td>...</td>\n      <td>...</td>\n      <td>...</td>\n      <td>...</td>\n      <td>...</td>\n      <td>...</td>\n      <td>...</td>\n    </tr>\n    <tr>\n      <th>2056</th>\n      <td>672695</td>\n      <td>Geraldo Perdomo</td>\n      <td>1999-10-22</td>\n      <td>NaN</td>\n      <td>Santo Domingo</td>\n      <td>NaN</td>\n      <td>Dominican Republic</td>\n      <td>74</td>\n      <td>203</td>\n      <td>6</td>\n      <td>Shortstop</td>\n      <td>True</td>\n    </tr>\n    <tr>\n      <th>2057</th>\n      <td>672911</td>\n      <td>Jesus Cruz</td>\n      <td>1995-04-15</td>\n      <td>NaN</td>\n      <td>Salinas de Hidalgo</td>\n      <td>San Luis Potosi</td>\n      <td>Mexico</td>\n      <td>73</td>\n      <td>230</td>\n      <td>1</td>\n      <td>Pitcher</td>\n      <td>False</td>\n    </tr>\n    <tr>\n      <th>2058</th>\n      <td>676103</td>\n      <td>Damon Jones</td>\n      <td>1994-09-30</td>\n      <td>NaN</td>\n      <td>Twin Falls</td>\n      <td>ID</td>\n      <td>USA</td>\n      <td>77</td>\n      <td>233</td>\n      <td>1</td>\n      <td>Pitcher</td>\n      <td>True</td>\n    </tr>\n    <tr>\n      <th>2059</th>\n      <td>676755</td>\n      <td>Isaac Mattson</td>\n      <td>1995-07-14</td>\n      <td>NaN</td>\n      <td>Erie</td>\n      <td>PA</td>\n      <td>USA</td>\n      <td>74</td>\n      <td>205</td>\n      <td>1</td>\n      <td>Pitcher</td>\n      <td>True</td>\n    </tr>\n    <tr>\n      <th>2060</th>\n      <td>680430</td>\n      <td>Nick Allgeyer</td>\n      <td>1996-02-03</td>\n      <td>NaN</td>\n      <td>St. Louis</td>\n      <td>MO</td>\n      <td>USA</td>\n      <td>75</td>\n      <td>210</td>\n      <td>1</td>\n      <td>Pitcher</td>\n      <td>True</td>\n    </tr>\n  </tbody>\n</table>\n<p>2061 rows × 12 columns</p>\n</div>",
          "text/plain": "      playerId          playerName         DOB mlbDebutDate  \\\n0       665482  Gilberto Celestino  1999-02-13   2021-06-02   \n1       593590       Webster Rivas  1990-08-08   2021-05-28   \n2       661269  Vladimir Gutierrez  1995-09-18   2021-05-28   \n3       669212          Eli Morgan  1996-05-13   2021-05-28   \n4       666201         Alek Manoah  1998-01-09   2021-05-27   \n...        ...                 ...         ...          ...   \n2056    672695     Geraldo Perdomo  1999-10-22          NaN   \n2057    672911          Jesus Cruz  1995-04-15          NaN   \n2058    676103         Damon Jones  1994-09-30          NaN   \n2059    676755       Isaac Mattson  1995-07-14          NaN   \n2060    680430       Nick Allgeyer  1996-02-03          NaN   \n\n                birthCity birthStateProvince        birthCountry  \\\n0           Santo Domingo                NaN  Dominican Republic   \n1                   Nagua                NaN  Dominican Republic   \n2                  Havana                NaN                Cuba   \n3     Rancho Palos Verdes                 CA                 USA   \n4               Homestead                 FL                 USA   \n...                   ...                ...                 ...   \n2056        Santo Domingo                NaN  Dominican Republic   \n2057   Salinas de Hidalgo    San Luis Potosi              Mexico   \n2058           Twin Falls                 ID                 USA   \n2059                 Erie                 PA                 USA   \n2060            St. Louis                 MO                 USA   \n\n      heightInches  weight primaryPositionCode primaryPositionName  \\\n0               72     170                   8          Outfielder   \n1               73     219                   3          First Base   \n2               73     190                   1             Pitcher   \n3               70     190                   1             Pitcher   \n4               78     260                   1             Pitcher   \n...            ...     ...                 ...                 ...   \n2056            74     203                   6           Shortstop   \n2057            73     230                   1             Pitcher   \n2058            77     233                   1             Pitcher   \n2059            74     205                   1             Pitcher   \n2060            75     210                   1             Pitcher   \n\n     playerForTestSetAndFuturePreds  \n0                             False  \n1                              True  \n2                              True  \n3                              True  \n4                              True  \n...                             ...  \n2056                           True  \n2057                          False  \n2058                           True  \n2059                           True  \n2060                           True  \n\n[2061 rows x 12 columns]"
         },
         "metadata": {},
         "output_type": "display_data"
        }
       ]
      }
     },
     "f06b017dd0bf41a58345472f785e5b3b": {
      "model_module": "@jupyter-widgets/base",
      "model_module_version": "1.2.0",
      "model_name": "LayoutModel",
      "state": {
       "_model_module": "@jupyter-widgets/base",
       "_model_module_version": "1.2.0",
       "_model_name": "LayoutModel",
       "_view_count": null,
       "_view_module": "@jupyter-widgets/base",
       "_view_module_version": "1.2.0",
       "_view_name": "LayoutView",
       "align_content": null,
       "align_items": null,
       "align_self": null,
       "border": null,
       "bottom": null,
       "display": null,
       "flex": null,
       "flex_flow": null,
       "grid_area": null,
       "grid_auto_columns": null,
       "grid_auto_flow": null,
       "grid_auto_rows": null,
       "grid_column": null,
       "grid_gap": null,
       "grid_row": null,
       "grid_template_areas": null,
       "grid_template_columns": null,
       "grid_template_rows": null,
       "height": null,
       "justify_content": null,
       "justify_items": null,
       "left": null,
       "margin": null,
       "max_height": null,
       "max_width": null,
       "min_height": null,
       "min_width": null,
       "object_fit": null,
       "object_position": null,
       "order": null,
       "overflow": null,
       "overflow_x": null,
       "overflow_y": null,
       "padding": null,
       "right": null,
       "top": null,
       "visibility": null,
       "width": null
      }
     },
     "fcdd7822501a4fc8b3bc65064dfbaded": {
      "model_module": "@jupyter-widgets/base",
      "model_module_version": "1.2.0",
      "model_name": "LayoutModel",
      "state": {
       "_model_module": "@jupyter-widgets/base",
       "_model_module_version": "1.2.0",
       "_model_name": "LayoutModel",
       "_view_count": null,
       "_view_module": "@jupyter-widgets/base",
       "_view_module_version": "1.2.0",
       "_view_name": "LayoutView",
       "align_content": null,
       "align_items": null,
       "align_self": null,
       "border": null,
       "bottom": null,
       "display": null,
       "flex": null,
       "flex_flow": null,
       "grid_area": null,
       "grid_auto_columns": null,
       "grid_auto_flow": null,
       "grid_auto_rows": null,
       "grid_column": null,
       "grid_gap": null,
       "grid_row": null,
       "grid_template_areas": null,
       "grid_template_columns": null,
       "grid_template_rows": null,
       "height": null,
       "justify_content": null,
       "justify_items": null,
       "left": null,
       "margin": null,
       "max_height": null,
       "max_width": null,
       "min_height": null,
       "min_width": null,
       "object_fit": null,
       "object_position": null,
       "order": null,
       "overflow": null,
       "overflow_x": null,
       "overflow_y": null,
       "padding": null,
       "right": null,
       "top": null,
       "visibility": null,
       "width": null
      }
     }
    },
    "version_major": 2,
    "version_minor": 0
   }
  }
 },
 "nbformat": 4,
 "nbformat_minor": 5
}
