{
 "cells": [
  {
   "cell_type": "markdown",
   "id": "backed-candidate",
   "metadata": {
    "execution": {
     "iopub.execute_input": "2021-06-08T23:38:55.536369Z",
     "iopub.status.busy": "2021-06-08T23:38:55.536027Z",
     "iopub.status.idle": "2021-06-08T23:38:55.540097Z",
     "shell.execute_reply": "2021-06-08T23:38:55.53902Z",
     "shell.execute_reply.started": "2021-06-08T23:38:55.536341Z"
    },
    "papermill": {
     "duration": 0.047759,
     "end_time": "2022-01-02T17:27:21.622595",
     "exception": false,
     "start_time": "2022-01-02T17:27:21.574836",
     "status": "completed"
    },
    "tags": []
   },
   "source": [
    "# MLB Player Digital Engagement Forecasting Part 3\n"
   ]
  },
  {
   "cell_type": "markdown",
   "id": "concerned-richardson",
   "metadata": {
    "papermill": {
     "duration": 0.045637,
     "end_time": "2022-01-02T17:27:21.714966",
     "exception": false,
     "start_time": "2022-01-02T17:27:21.669329",
     "status": "completed"
    },
    "tags": []
   },
   "source": [
    "This is *MLB Digital Engagement Forecasting* competition held by Kaggle. This notebook will:\n",
    "- load and join the data,\n",
    "- create a feature set,\n",
    "- predict with trained model.\n",
    "- analysis.\n",
    "- make a submission.\n",
    "\n",
    "\n"
   ]
  },
  {
   "cell_type": "code",
   "execution_count": 1,
   "id": "minute-principal",
   "metadata": {
    "_cell_guid": "b1076dfc-b9ad-4769-8c92-a6c4dae69d19",
    "_kg_hide-input": true,
    "_uuid": "8f2839f25d086af736a60e9eeb907d3b93b6e0e5",
    "execution": {
     "iopub.execute_input": "2022-01-02T17:27:21.817454Z",
     "iopub.status.busy": "2022-01-02T17:27:21.816771Z",
     "iopub.status.idle": "2022-01-02T17:27:28.860055Z",
     "shell.execute_reply": "2022-01-02T17:27:28.858831Z",
     "shell.execute_reply.started": "2022-01-02T15:35:04.185423Z"
    },
    "papermill": {
     "duration": 7.099288,
     "end_time": "2022-01-02T17:27:28.860256",
     "exception": false,
     "start_time": "2022-01-02T17:27:21.760968",
     "status": "completed"
    },
    "tags": []
   },
   "outputs": [],
   "source": [
    "import gc\n",
    "import sys\n",
    "import warnings\n",
    "from joblib import Parallel, delayed\n",
    "from pathlib import Path\n",
    "import datetime\n",
    "import ipywidgets as widgets\n",
    "import matplotlib.pyplot as plt\n",
    "import numpy as np\n",
    "import pandas as pd\n",
    "import seaborn as sns\n",
    "from sklearn.model_selection import train_test_split\n",
    "from statsmodels.tsa.deterministic import (CalendarFourier,\n",
    "                                           CalendarSeasonality,\n",
    "                                           CalendarTimeTrend,\n",
    "                                           DeterministicProcess)\n",
    "\n",
    "import tensorflow as tf\n",
    "from tensorflow import keras\n",
    "from tensorflow.keras import layers\n",
    "from keras.layers.experimental.preprocessing import StringLookup\n",
    "\n",
    "warnings.simplefilter(\"ignore\")"
   ]
  },
  {
   "cell_type": "markdown",
   "id": "automatic-cooperative",
   "metadata": {
    "papermill": {
     "duration": 0.046768,
     "end_time": "2022-01-02T17:27:28.954505",
     "exception": false,
     "start_time": "2022-01-02T17:27:28.907737",
     "status": "completed"
    },
    "tags": []
   },
   "source": [
    "# 1. Create Training Data #"
   ]
  },
  {
   "cell_type": "markdown",
   "id": "excess-vinyl",
   "metadata": {
    "papermill": {
     "duration": 0.04889,
     "end_time": "2022-01-02T17:27:29.054519",
     "exception": false,
     "start_time": "2022-01-02T17:27:29.005629",
     "status": "completed"
    },
    "tags": []
   },
   "source": [
    "### Read and extract dataframes"
   ]
  },
  {
   "cell_type": "code",
   "execution_count": 2,
   "id": "domestic-leonard",
   "metadata": {
    "_kg_hide-input": true,
    "execution": {
     "iopub.execute_input": "2022-01-02T17:27:29.151653Z",
     "iopub.status.busy": "2022-01-02T17:27:29.150673Z",
     "iopub.status.idle": "2022-01-02T17:27:29.157975Z",
     "shell.execute_reply": "2022-01-02T17:27:29.158522Z",
     "shell.execute_reply.started": "2022-01-02T15:35:12.073393Z"
    },
    "papermill": {
     "duration": 0.057754,
     "end_time": "2022-01-02T17:27:29.158720",
     "exception": false,
     "start_time": "2022-01-02T17:27:29.100966",
     "status": "completed"
    },
    "tags": []
   },
   "outputs": [],
   "source": [
    "# Helper function to unpack json found in daily data\n",
    "def unpack_json(json_str):\n",
    "    return pd.DataFrame() if pd.isna(json_str) else pd.read_json(json_str)\n",
    "\n",
    "\n",
    "def unpack_data(data, dfs=None, n_jobs=-1):\n",
    "    if dfs is not None:\n",
    "        data = data.loc[:, dfs]\n",
    "    unnested_dfs = {}\n",
    "    for name, column in data.iteritems():\n",
    "        daily_dfs = Parallel(n_jobs=n_jobs)(\n",
    "            delayed(unpack_json)(item) for date, item in column.iteritems())\n",
    "        df = pd.concat(daily_dfs)\n",
    "        unnested_dfs[name] = df\n",
    "    return unnested_dfs"
   ]
  },
  {
   "cell_type": "markdown",
   "id": "fixed-inspiration",
   "metadata": {
    "papermill": {
     "duration": 0.045226,
     "end_time": "2022-01-02T17:27:29.249792",
     "exception": false,
     "start_time": "2022-01-02T17:27:29.204566",
     "status": "completed"
    },
    "tags": []
   },
   "source": [
    "We use features from following tables: seasons,teams,players,and awards"
   ]
  },
  {
   "cell_type": "code",
   "execution_count": 3,
   "id": "deadly-revision",
   "metadata": {
    "_kg_hide-input": true,
    "execution": {
     "iopub.execute_input": "2022-01-02T17:27:29.344560Z",
     "iopub.status.busy": "2022-01-02T17:27:29.343962Z",
     "iopub.status.idle": "2022-01-02T17:27:29.589318Z",
     "shell.execute_reply": "2022-01-02T17:27:29.588720Z",
     "shell.execute_reply.started": "2022-01-02T15:35:12.084815Z"
    },
    "papermill": {
     "duration": 0.294031,
     "end_time": "2022-01-02T17:27:29.589461",
     "exception": false,
     "start_time": "2022-01-02T17:27:29.295430",
     "status": "completed"
    },
    "tags": []
   },
   "outputs": [
    {
     "data": {
      "application/vnd.jupyter.widget-view+json": {
       "model_id": "063be544f59841fb89e09f3b6d15369c",
       "version_major": 2,
       "version_minor": 0
      },
      "text/plain": [
       "Tab(children=(Output(), Output(), Output(), Output()), _titles={'0': 'seasons', '1': 'teams', '2': 'players', …"
      ]
     },
     "metadata": {},
     "output_type": "display_data"
    }
   ],
   "source": [
    "data_dir = Path('../input/mlb-player-digital-engagement-forecasting/')\n",
    "\n",
    "df_names = ['seasons', 'teams', 'players', 'awards']\n",
    "\n",
    "for name in df_names:\n",
    "    globals()[name] = pd.read_csv(data_dir / f\"{name}.csv\")\n",
    "\n",
    "kaggle_data_tabs = widgets.Tab()\n",
    "# Add Output widgets for each pandas DF as tabs' children\n",
    "kaggle_data_tabs.children = list([widgets.Output() for df_name in df_names])\n",
    "\n",
    "for index in range(0, len(df_names)):\n",
    "    # Rename tab bar titles to df names\n",
    "    kaggle_data_tabs.set_title(index, df_names[index])\n",
    "    \n",
    "    # Display corresponding table output for this tab name\n",
    "    with kaggle_data_tabs.children[index]:\n",
    "        display(eval(df_names[index]))\n",
    "\n",
    "display(kaggle_data_tabs)\n",
    "del teams"
   ]
  },
  {
   "cell_type": "markdown",
   "id": "filled-management",
   "metadata": {
    "papermill": {
     "duration": 0.047007,
     "end_time": "2022-01-02T17:27:29.685109",
     "exception": false,
     "start_time": "2022-01-02T17:27:29.638102",
     "status": "completed"
    },
    "tags": []
   },
   "source": [
    "### Players tables(Library containing high level information about all MLB players in this dataset):\n",
    "Creating dummies for players birthcountry. Features used in the model:birthyear, birthcountry, and primary position code"
   ]
  },
  {
   "cell_type": "code",
   "execution_count": 4,
   "id": "downtown-liechtenstein",
   "metadata": {
    "execution": {
     "iopub.execute_input": "2022-01-02T17:27:29.789966Z",
     "iopub.status.busy": "2022-01-02T17:27:29.789291Z",
     "iopub.status.idle": "2022-01-02T17:27:29.924400Z",
     "shell.execute_reply": "2022-01-02T17:27:29.923815Z",
     "shell.execute_reply.started": "2022-01-02T15:35:12.299556Z"
    },
    "papermill": {
     "duration": 0.192232,
     "end_time": "2022-01-02T17:27:29.924578",
     "exception": false,
     "start_time": "2022-01-02T17:27:29.732346",
     "status": "completed"
    },
    "tags": []
   },
   "outputs": [],
   "source": [
    "players_1=players[players['playerForTestSetAndFuturePreds']==True].copy()\n",
    "players_1.loc[players_1['playerForTestSetAndFuturePreds']==True,\"birthCountry\"].unique()\n",
    "players_1.loc[(players_1['birthCountry']=='Taiwan')|(players_1['birthCountry']=='South Korea')|(players_1['birthCountry']=='Japan')|(players_1['birthCountry']==\"China\"),\"birthCountry\"]=\"Asia\"\n",
    "players_1.loc[(players_1['birthCountry']=='Germany')|(players_1['birthCountry']=='Netherlands'),'birthCountry']='Europe'\n",
    "players_1.loc[(players_1['birthCountry']!='USA')&(players_1['birthCountry']!='Europe')&(players_1['birthCountry']!='Asia'),'birthCountry']='America'\n",
    "players_1=players_1[['playerId','birthCountry','DOB','heightInches','weight','primaryPositionCode']]\n",
    "#players_1=pd.get_dummies(players_1,columns=['birthCountry','primaryPositionCode'])\n",
    "players_1['DOB'] = pd.PeriodIndex(players_1.DOB, freq='D')\n",
    "players_1['birthyear']=players_1.DOB.dt.year\n",
    "players_1.drop('DOB',axis=1,inplace=True)"
   ]
  },
  {
   "cell_type": "markdown",
   "id": "accepting-sucking",
   "metadata": {
    "papermill": {
     "duration": 0.047742,
     "end_time": "2022-01-02T17:27:30.020152",
     "exception": false,
     "start_time": "2022-01-02T17:27:29.972410",
     "status": "completed"
    },
    "tags": []
   },
   "source": [
    "The training data is a time-indexed collection of nested JSON fields containing information about each player. Our target is the `nextDayPlayerEngagement` column, while the remaining columns could be used to construct features."
   ]
  },
  {
   "cell_type": "code",
   "execution_count": 5,
   "id": "scenic-friday",
   "metadata": {
    "_kg_hide-input": false,
    "execution": {
     "iopub.execute_input": "2022-01-02T17:27:30.122101Z",
     "iopub.status.busy": "2022-01-02T17:27:30.121413Z",
     "iopub.status.idle": "2022-01-02T17:28:35.308988Z",
     "shell.execute_reply": "2022-01-02T17:28:35.309547Z",
     "shell.execute_reply.started": "2022-01-02T15:35:12.461276Z"
    },
    "papermill": {
     "duration": 65.241611,
     "end_time": "2022-01-02T17:28:35.309741",
     "exception": false,
     "start_time": "2022-01-02T17:27:30.068130",
     "status": "completed"
    },
    "tags": []
   },
   "outputs": [
    {
     "name": "stdout",
     "output_type": "stream",
     "text": [
      "<class 'pandas.core.frame.DataFrame'>\n",
      "PeriodIndex: 1216 entries, 2018-01-01 to 2021-04-30\n",
      "Freq: D\n",
      "Data columns (total 8 columns):\n",
      " #   Column                   Non-Null Count  Dtype \n",
      "---  ------                   --------------  ----- \n",
      " 0   nextDayPlayerEngagement  1216 non-null   object\n",
      " 1   games                    639 non-null    object\n",
      " 2   rosters                  1216 non-null   object\n",
      " 3   playerBoxScores          538 non-null    object\n",
      " 4   transactions             1103 non-null   object\n",
      " 5   standings                531 non-null    object\n",
      " 6   awards                   294 non-null    object\n",
      " 7   playerTwitterFollowers   40 non-null     object\n",
      "dtypes: object(8)\n",
      "memory usage: 85.5+ KB\n",
      "None\n",
      "CPU times: user 31.6 s, sys: 6.57 s, total: 38.1 s\n",
      "Wall time: 1min 5s\n"
     ]
    }
   ],
   "source": [
    "%%time\n",
    "# Define dataframes to load from training set\n",
    "dfs = [\n",
    "    'nextDayPlayerEngagement',  # targets\n",
    "    'playerBoxScores',  # features\n",
    "    # Other dataframes available for features:\n",
    "    'games',\n",
    "    'rosters',\n",
    "    #'teamBoxScores',\n",
    "    'transactions',\n",
    "    'standings',\n",
    "    'awards',\n",
    "    # 'events',\n",
    "    'playerTwitterFollowers',\n",
    "]\n",
    "\n",
    "# Read training data\n",
    "training = pd.read_csv(\n",
    "    data_dir / 'train.csv',\n",
    "    usecols=['date'] + dfs,\n",
    ")\n",
    "\n",
    "# Convert training data date field to datetime type\n",
    "training['date'] = pd.to_datetime(training['date'], format=\"%Y%m%d\")\n",
    "training = training.set_index('date').to_period('D')\n",
    "print(training.info())"
   ]
  },
  {
   "cell_type": "markdown",
   "id": "peripheral-atlas",
   "metadata": {
    "papermill": {
     "duration": 0.046434,
     "end_time": "2022-01-02T17:28:35.403116",
     "exception": false,
     "start_time": "2022-01-02T17:28:35.356682",
     "status": "completed"
    },
    "tags": []
   },
   "source": [
    "### Quick overview of the training table"
   ]
  },
  {
   "cell_type": "code",
   "execution_count": 6,
   "id": "modified-lawrence",
   "metadata": {
    "execution": {
     "iopub.execute_input": "2022-01-02T17:28:35.501129Z",
     "iopub.status.busy": "2022-01-02T17:28:35.500464Z",
     "iopub.status.idle": "2022-01-02T17:28:35.529380Z",
     "shell.execute_reply": "2022-01-02T17:28:35.529946Z",
     "shell.execute_reply.started": "2022-01-02T15:36:02.205128Z"
    },
    "papermill": {
     "duration": 0.07982,
     "end_time": "2022-01-02T17:28:35.530146",
     "exception": false,
     "start_time": "2022-01-02T17:28:35.450326",
     "status": "completed"
    },
    "tags": []
   },
   "outputs": [
    {
     "data": {
      "text/html": [
       "<div>\n",
       "<style scoped>\n",
       "    .dataframe tbody tr th:only-of-type {\n",
       "        vertical-align: middle;\n",
       "    }\n",
       "\n",
       "    .dataframe tbody tr th {\n",
       "        vertical-align: top;\n",
       "    }\n",
       "\n",
       "    .dataframe thead th {\n",
       "        text-align: right;\n",
       "    }\n",
       "</style>\n",
       "<table border=\"1\" class=\"dataframe\">\n",
       "  <thead>\n",
       "    <tr style=\"text-align: right;\">\n",
       "      <th></th>\n",
       "      <th>nextDayPlayerEngagement</th>\n",
       "      <th>games</th>\n",
       "      <th>rosters</th>\n",
       "      <th>playerBoxScores</th>\n",
       "      <th>transactions</th>\n",
       "      <th>standings</th>\n",
       "      <th>awards</th>\n",
       "      <th>playerTwitterFollowers</th>\n",
       "    </tr>\n",
       "    <tr>\n",
       "      <th>date</th>\n",
       "      <th></th>\n",
       "      <th></th>\n",
       "      <th></th>\n",
       "      <th></th>\n",
       "      <th></th>\n",
       "      <th></th>\n",
       "      <th></th>\n",
       "      <th></th>\n",
       "    </tr>\n",
       "  </thead>\n",
       "  <tbody>\n",
       "    <tr>\n",
       "      <th>2018-01-01</th>\n",
       "      <td>[{\"engagementMetricsDate\":\"2018-01-02\",\"player...</td>\n",
       "      <td>NaN</td>\n",
       "      <td>[{\"playerId\":400121,\"gameDate\":\"2018-01-01\",\"t...</td>\n",
       "      <td>NaN</td>\n",
       "      <td>[{\"transactionId\":340732,\"playerId\":547348,\"pl...</td>\n",
       "      <td>NaN</td>\n",
       "      <td>NaN</td>\n",
       "      <td>[{\"date\":\"2018-01-01\",\"playerId\":545361,\"playe...</td>\n",
       "    </tr>\n",
       "    <tr>\n",
       "      <th>2018-01-02</th>\n",
       "      <td>[{\"engagementMetricsDate\":\"2018-01-03\",\"player...</td>\n",
       "      <td>NaN</td>\n",
       "      <td>[{\"playerId\":134181,\"gameDate\":\"2018-01-02\",\"t...</td>\n",
       "      <td>NaN</td>\n",
       "      <td>[{\"transactionId\":339458,\"playerId\":621173,\"pl...</td>\n",
       "      <td>NaN</td>\n",
       "      <td>NaN</td>\n",
       "      <td>NaN</td>\n",
       "    </tr>\n",
       "    <tr>\n",
       "      <th>2018-01-03</th>\n",
       "      <td>[{\"engagementMetricsDate\":\"2018-01-04\",\"player...</td>\n",
       "      <td>NaN</td>\n",
       "      <td>[{\"playerId\":425492,\"gameDate\":\"2018-01-03\",\"t...</td>\n",
       "      <td>NaN</td>\n",
       "      <td>[{\"transactionId\":347527,\"playerId\":572389,\"pl...</td>\n",
       "      <td>NaN</td>\n",
       "      <td>NaN</td>\n",
       "      <td>NaN</td>\n",
       "    </tr>\n",
       "    <tr>\n",
       "      <th>2018-01-04</th>\n",
       "      <td>[{\"engagementMetricsDate\":\"2018-01-05\",\"player...</td>\n",
       "      <td>NaN</td>\n",
       "      <td>[{\"playerId\":282332,\"gameDate\":\"2018-01-04\",\"t...</td>\n",
       "      <td>NaN</td>\n",
       "      <td>[{\"transactionId\":339549,\"playerId\":545343,\"pl...</td>\n",
       "      <td>NaN</td>\n",
       "      <td>NaN</td>\n",
       "      <td>NaN</td>\n",
       "    </tr>\n",
       "    <tr>\n",
       "      <th>2018-01-05</th>\n",
       "      <td>[{\"engagementMetricsDate\":\"2018-01-06\",\"player...</td>\n",
       "      <td>NaN</td>\n",
       "      <td>[{\"playerId\":282332,\"gameDate\":\"2018-01-05\",\"t...</td>\n",
       "      <td>NaN</td>\n",
       "      <td>[{\"transactionId\":341195,\"playerId\":628336,\"pl...</td>\n",
       "      <td>NaN</td>\n",
       "      <td>NaN</td>\n",
       "      <td>NaN</td>\n",
       "    </tr>\n",
       "  </tbody>\n",
       "</table>\n",
       "</div>"
      ],
      "text/plain": [
       "                                      nextDayPlayerEngagement games  \\\n",
       "date                                                                  \n",
       "2018-01-01  [{\"engagementMetricsDate\":\"2018-01-02\",\"player...   NaN   \n",
       "2018-01-02  [{\"engagementMetricsDate\":\"2018-01-03\",\"player...   NaN   \n",
       "2018-01-03  [{\"engagementMetricsDate\":\"2018-01-04\",\"player...   NaN   \n",
       "2018-01-04  [{\"engagementMetricsDate\":\"2018-01-05\",\"player...   NaN   \n",
       "2018-01-05  [{\"engagementMetricsDate\":\"2018-01-06\",\"player...   NaN   \n",
       "\n",
       "                                                      rosters playerBoxScores  \\\n",
       "date                                                                            \n",
       "2018-01-01  [{\"playerId\":400121,\"gameDate\":\"2018-01-01\",\"t...             NaN   \n",
       "2018-01-02  [{\"playerId\":134181,\"gameDate\":\"2018-01-02\",\"t...             NaN   \n",
       "2018-01-03  [{\"playerId\":425492,\"gameDate\":\"2018-01-03\",\"t...             NaN   \n",
       "2018-01-04  [{\"playerId\":282332,\"gameDate\":\"2018-01-04\",\"t...             NaN   \n",
       "2018-01-05  [{\"playerId\":282332,\"gameDate\":\"2018-01-05\",\"t...             NaN   \n",
       "\n",
       "                                                 transactions standings  \\\n",
       "date                                                                      \n",
       "2018-01-01  [{\"transactionId\":340732,\"playerId\":547348,\"pl...       NaN   \n",
       "2018-01-02  [{\"transactionId\":339458,\"playerId\":621173,\"pl...       NaN   \n",
       "2018-01-03  [{\"transactionId\":347527,\"playerId\":572389,\"pl...       NaN   \n",
       "2018-01-04  [{\"transactionId\":339549,\"playerId\":545343,\"pl...       NaN   \n",
       "2018-01-05  [{\"transactionId\":341195,\"playerId\":628336,\"pl...       NaN   \n",
       "\n",
       "           awards                             playerTwitterFollowers  \n",
       "date                                                                  \n",
       "2018-01-01    NaN  [{\"date\":\"2018-01-01\",\"playerId\":545361,\"playe...  \n",
       "2018-01-02    NaN                                                NaN  \n",
       "2018-01-03    NaN                                                NaN  \n",
       "2018-01-04    NaN                                                NaN  \n",
       "2018-01-05    NaN                                                NaN  "
      ]
     },
     "execution_count": 6,
     "metadata": {},
     "output_type": "execute_result"
    }
   ],
   "source": [
    "training.head()"
   ]
  },
  {
   "cell_type": "markdown",
   "id": "twenty-allowance",
   "metadata": {
    "papermill": {
     "duration": 0.047636,
     "end_time": "2022-01-02T17:28:35.625871",
     "exception": false,
     "start_time": "2022-01-02T17:28:35.578235",
     "status": "completed"
    },
    "tags": []
   },
   "source": [
    "### Unpack Json file with created equation"
   ]
  },
  {
   "cell_type": "code",
   "execution_count": 7,
   "id": "freelance-receipt",
   "metadata": {
    "execution": {
     "iopub.execute_input": "2022-01-02T17:28:35.726519Z",
     "iopub.status.busy": "2022-01-02T17:28:35.725841Z",
     "iopub.status.idle": "2022-01-02T17:29:37.040590Z",
     "shell.execute_reply": "2022-01-02T17:29:37.041162Z",
     "shell.execute_reply.started": "2022-01-02T15:36:02.236534Z"
    },
    "papermill": {
     "duration": 61.366365,
     "end_time": "2022-01-02T17:29:37.041385",
     "exception": false,
     "start_time": "2022-01-02T17:28:35.675020",
     "status": "completed"
    },
    "tags": []
   },
   "outputs": [
    {
     "name": "stdout",
     "output_type": "stream",
     "text": [
      "CPU times: user 4 µs, sys: 1 µs, total: 5 µs\n",
      "Wall time: 8.58 µs\n",
      "\n",
      " dict_keys(['nextDayPlayerEngagement', 'playerBoxScores', 'games', 'rosters', 'transactions', 'standings', 'awards', 'playerTwitterFollowers'])\n"
     ]
    }
   ],
   "source": [
    "%time\n",
    "# Unpack nested dataframes and store in dictionary `training_dfs`\n",
    "training_dfs = unpack_data(training, dfs=dfs)\n",
    "print('\\n', training_dfs.keys())"
   ]
  },
  {
   "cell_type": "markdown",
   "id": "military-window",
   "metadata": {
    "papermill": {
     "duration": 0.048009,
     "end_time": "2022-01-02T17:29:37.138187",
     "exception": false,
     "start_time": "2022-01-02T17:29:37.090178",
     "status": "completed"
    },
    "tags": []
   },
   "source": [
    "### Games Table:\n",
    "Transfer game/row data structure to team/row structure.Features newly created for the model:wins difference,score difference \n"
   ]
  },
  {
   "cell_type": "code",
   "execution_count": 8,
   "id": "interesting-auditor",
   "metadata": {
    "execution": {
     "iopub.execute_input": "2022-01-02T17:29:37.239067Z",
     "iopub.status.busy": "2022-01-02T17:29:37.238381Z",
     "iopub.status.idle": "2022-01-02T17:29:37.250462Z",
     "shell.execute_reply": "2022-01-02T17:29:37.250959Z",
     "shell.execute_reply.started": "2022-01-02T15:36:49.839090Z"
    },
    "papermill": {
     "duration": 0.064243,
     "end_time": "2022-01-02T17:29:37.251168",
     "exception": false,
     "start_time": "2022-01-02T17:29:37.186925",
     "status": "completed"
    },
    "tags": []
   },
   "outputs": [],
   "source": [
    "def make_games(dfs:dict): \n",
    "    home=dfs['games'].copy()\n",
    "    if \"gameDate\" in  home.columns:\n",
    "        home=home.rename(columns={'homeId':'teamId','homeWins':'teamWins','awayWins':'oppWins','homeScore':'teamScore','awayScore':'oppScore','homeWinner':'teamWinner',\"gameDate\":\"date\"})\n",
    "        home=home[['teamId','teamWins','oppWins','teamScore','oppScore','teamWinner',\"date\",\"gameType\"]]\n",
    "        away=dfs['games'].copy()\n",
    "        away=away.rename(columns={'awayId':'teamId','homeWins':'oppWins','awayWins':'teamWins','homeScore':'oppScore','awayScore':'teamScore','awayWinner':'teamWinner',\"gameDate\":\"date\"})\n",
    "        away=away[['teamId','teamWins','oppWins','teamScore','oppScore','teamWinner',\"date\",\"gameType\"]]\n",
    "        away\n",
    "        games=pd.concat([home,away],axis=0)\n",
    "        games[\"winsdiff\"]=games['teamWins']-games['oppWins']\n",
    "        games[\"scorediff\"]=games['teamScore']-games['oppScore']\n",
    "        games=games.drop(['teamWins','oppWins','teamScore','oppScore'],axis=1)\n",
    "        games = games.groupby(['date', 'teamId'], as_index=False).mean()\n",
    "        games['date']=pd.PeriodIndex(games.date,freq='D')\n",
    "    else:\n",
    "        games=dfs['games'].copy()\n",
    "        games[['teamId']]=np.nan\n",
    "        games[['date']]=np.nan\n",
    "    return games"
   ]
  },
  {
   "cell_type": "markdown",
   "id": "constitutional-ceramic",
   "metadata": {
    "papermill": {
     "duration": 0.047925,
     "end_time": "2022-01-02T17:29:37.347876",
     "exception": false,
     "start_time": "2022-01-02T17:29:37.299951",
     "status": "completed"
    },
    "tags": []
   },
   "source": [
    "### Include players' average target value of the previous year as features"
   ]
  },
  {
   "cell_type": "code",
   "execution_count": 9,
   "id": "architectural-vessel",
   "metadata": {
    "execution": {
     "iopub.execute_input": "2022-01-02T17:29:37.447961Z",
     "iopub.status.busy": "2022-01-02T17:29:37.447322Z",
     "iopub.status.idle": "2022-01-02T17:29:38.939648Z",
     "shell.execute_reply": "2022-01-02T17:29:38.940200Z",
     "shell.execute_reply.started": "2022-01-02T15:36:49.850389Z"
    },
    "papermill": {
     "duration": 1.544145,
     "end_time": "2022-01-02T17:29:38.940411",
     "exception": false,
     "start_time": "2022-01-02T17:29:37.396266",
     "status": "completed"
    },
    "tags": []
   },
   "outputs": [],
   "source": [
    "targ = training_dfs['nextDayPlayerEngagement'].copy()\n",
    "targets = [\"target1\", \"target2\", \"target3\", \"target4\"]\n",
    "targ  = targ .astype({name: np.float32 for name  in targets})\n",
    "targ = targ.rename(columns={'engagementMetricsDate': 'date'})\n",
    "targ['date'] = pd.to_datetime(targ['date'])\n",
    "targ = targ.set_index('date').to_period('D')\n",
    "targ.index = targ.index - 1\n",
    "targ=targ.reset_index()"
   ]
  },
  {
   "cell_type": "code",
   "execution_count": 10,
   "id": "impressive-squad",
   "metadata": {
    "execution": {
     "iopub.execute_input": "2022-01-02T17:29:39.040708Z",
     "iopub.status.busy": "2022-01-02T17:29:39.040028Z",
     "iopub.status.idle": "2022-01-02T17:29:39.695892Z",
     "shell.execute_reply": "2022-01-02T17:29:39.695316Z",
     "shell.execute_reply.started": "2022-01-02T15:36:50.671387Z"
    },
    "papermill": {
     "duration": 0.707191,
     "end_time": "2022-01-02T17:29:39.696047",
     "exception": false,
     "start_time": "2022-01-02T17:29:38.988856",
     "status": "completed"
    },
    "tags": []
   },
   "outputs": [],
   "source": [
    "targ['seasonId']=targ.date.dt.year+1\n",
    "targ.drop(['date'],axis=1,inplace=True)\n",
    "targ=targ.groupby(by=['seasonId','playerId'],as_index=False).mean()\n",
    "targ=targ.loc[(targ.seasonId!=2022),:]\n",
    "# Match target dates to feature dates and create date index\n",
    "targ=targ.rename(columns={\"target1\":\"meantarget1\",\"target2\":\"meantarget2\",\"target3\":\"meantarget3\",\"target4\":\"meantarget4\"})\n",
    "targ = targ.astype({'playerId': str})"
   ]
  },
  {
   "cell_type": "markdown",
   "id": "motivated-going",
   "metadata": {
    "papermill": {
     "duration": 0.048362,
     "end_time": "2022-01-02T17:29:39.793709",
     "exception": false,
     "start_time": "2022-01-02T17:29:39.745347",
     "status": "completed"
    },
    "tags": []
   },
   "source": [
    "### Rosters: player_id, team_id, status_code,game_date"
   ]
  },
  {
   "cell_type": "code",
   "execution_count": 11,
   "id": "eastern-quantum",
   "metadata": {
    "execution": {
     "iopub.execute_input": "2022-01-02T17:29:39.900155Z",
     "iopub.status.busy": "2022-01-02T17:29:39.899451Z",
     "iopub.status.idle": "2022-01-02T17:29:39.902591Z",
     "shell.execute_reply": "2022-01-02T17:29:39.901953Z",
     "shell.execute_reply.started": "2022-01-02T15:36:51.084337Z"
    },
    "papermill": {
     "duration": 0.058963,
     "end_time": "2022-01-02T17:29:39.902731",
     "exception": false,
     "start_time": "2022-01-02T17:29:39.843768",
     "status": "completed"
    },
    "tags": []
   },
   "outputs": [],
   "source": [
    "def make_rosters(dfs:dict):\n",
    "    rosters=dfs['rosters'].copy()\n",
    "    if \"playerId\" in rosters.columns:\n",
    "        rosters=rosters[['playerId','gameDate','teamId','statusCode']]\n",
    "        #rosters=pd.get_dummies(rosters,columns=['statusCode'])\n",
    "        rosters=rosters.rename(columns={'gameDate':'date'})\n",
    "        rosters['date']=pd.PeriodIndex(rosters.date,freq='D')\n",
    "    else:\n",
    "        rosters[['playerId']]=np.nan\n",
    "        rosters[['date']]=np.nan\n",
    "        rosters[['teamId']]=np.nan\n",
    "    return rosters"
   ]
  },
  {
   "cell_type": "markdown",
   "id": "legal-consortium",
   "metadata": {
    "papermill": {
     "duration": 0.0476,
     "end_time": "2022-01-02T17:29:39.998105",
     "exception": false,
     "start_time": "2022-01-02T17:29:39.950505",
     "status": "completed"
    },
    "tags": []
   },
   "source": [
    "### twitter followers: player_id, date, numberof followers"
   ]
  },
  {
   "cell_type": "code",
   "execution_count": 12,
   "id": "unauthorized-stockholm",
   "metadata": {
    "execution": {
     "iopub.execute_input": "2022-01-02T17:29:40.100928Z",
     "iopub.status.busy": "2022-01-02T17:29:40.100249Z",
     "iopub.status.idle": "2022-01-02T17:29:40.102972Z",
     "shell.execute_reply": "2022-01-02T17:29:40.103559Z",
     "shell.execute_reply.started": "2022-01-02T15:36:51.094520Z"
    },
    "papermill": {
     "duration": 0.057666,
     "end_time": "2022-01-02T17:29:40.103725",
     "exception": false,
     "start_time": "2022-01-02T17:29:40.046059",
     "status": "completed"
    },
    "tags": []
   },
   "outputs": [],
   "source": [
    "\n",
    "def make_playerTwitterFollowers(dfs:dict):\n",
    "    twitfollowers=dfs['playerTwitterFollowers'].copy()\n",
    "    if 'playerId' in  twitfollowers.columns:\n",
    "        twitfollowers=twitfollowers[['date','playerId','numberOfFollowers']]\n",
    "        twitfollowers['date']=pd.PeriodIndex(twitfollowers.date,freq='D')\n",
    "    else:\n",
    "        twitfollowers[['playerId']]=np.nan\n",
    "        twitfollowers[['date']]=np.nan\n",
    "    return twitfollowers\n"
   ]
  },
  {
   "cell_type": "markdown",
   "id": "inclusive-solomon",
   "metadata": {
    "papermill": {
     "duration": 0.047559,
     "end_time": "2022-01-02T17:29:40.199327",
     "exception": false,
     "start_time": "2022-01-02T17:29:40.151768",
     "status": "completed"
    },
    "tags": []
   },
   "source": [
    "### Team_Standing:'teamid','gamedate','divisionRank','leagueRank','wildCardRank','pct','wins','eliminated','wildCardEliminated'"
   ]
  },
  {
   "cell_type": "code",
   "execution_count": 13,
   "id": "familiar-liberal",
   "metadata": {
    "execution": {
     "iopub.execute_input": "2022-01-02T17:29:40.304317Z",
     "iopub.status.busy": "2022-01-02T17:29:40.303590Z",
     "iopub.status.idle": "2022-01-02T17:29:40.306989Z",
     "shell.execute_reply": "2022-01-02T17:29:40.307473Z",
     "shell.execute_reply.started": "2022-01-02T15:36:51.116223Z"
    },
    "papermill": {
     "duration": 0.060273,
     "end_time": "2022-01-02T17:29:40.307652",
     "exception": false,
     "start_time": "2022-01-02T17:29:40.247379",
     "status": "completed"
    },
    "tags": []
   },
   "outputs": [],
   "source": [
    "standings_feature=['divisionRank','leagueRank','wildCardRank','pct','wins','eliminationNumber','wildCardEliminationNumber'\n",
    "       ]\n",
    "def make_standings(dfs:dict,standings_feature):\n",
    "    standings=dfs['standings'].copy()\n",
    "    if 'teamId' in standings.columns: \n",
    "        standings=standings[['teamId','gameDate']+standings_feature]\n",
    "        standings=standings.rename(columns={'gameDate':'date'})\n",
    "        standings['date']=pd.PeriodIndex(standings.date,freq='D')\n",
    "        standings['eliminated']=standings['eliminationNumber']=='E'\n",
    "        standings['wildeliminated']=standings['wildCardEliminationNumber']=='E'\n",
    "        standings=standings.drop(['eliminationNumber','wildCardEliminationNumber'],axis=1)\n",
    "    else:\n",
    "        standings[['teamId']]=np.nan\n",
    "        standings[['date']]=np.nan\n",
    "    return standings"
   ]
  },
  {
   "cell_type": "markdown",
   "id": "familiar-proposition",
   "metadata": {
    "papermill": {
     "duration": 0.04977,
     "end_time": "2022-01-02T17:29:40.405562",
     "exception": false,
     "start_time": "2022-01-02T17:29:40.355792",
     "status": "completed"
    },
    "tags": []
   },
   "source": [
    "# Previous year award"
   ]
  },
  {
   "cell_type": "code",
   "execution_count": 14,
   "id": "endless-treat",
   "metadata": {
    "execution": {
     "iopub.execute_input": "2022-01-02T17:29:40.504587Z",
     "iopub.status.busy": "2022-01-02T17:29:40.503945Z",
     "iopub.status.idle": "2022-01-02T17:29:40.508845Z",
     "shell.execute_reply": "2022-01-02T17:29:40.509396Z",
     "shell.execute_reply.started": "2022-01-02T15:36:51.131630Z"
    },
    "papermill": {
     "duration": 0.056517,
     "end_time": "2022-01-02T17:29:40.509563",
     "exception": false,
     "start_time": "2022-01-02T17:29:40.453046",
     "status": "completed"
    },
    "tags": []
   },
   "outputs": [],
   "source": [
    "awardhist=training_dfs['awards'].copy()"
   ]
  },
  {
   "cell_type": "code",
   "execution_count": 15,
   "id": "discrete-third",
   "metadata": {
    "execution": {
     "iopub.execute_input": "2022-01-02T17:29:40.608981Z",
     "iopub.status.busy": "2022-01-02T17:29:40.608246Z",
     "iopub.status.idle": "2022-01-02T17:29:40.614933Z",
     "shell.execute_reply": "2022-01-02T17:29:40.615399Z",
     "shell.execute_reply.started": "2022-01-02T15:36:51.147119Z"
    },
    "papermill": {
     "duration": 0.058092,
     "end_time": "2022-01-02T17:29:40.615577",
     "exception": false,
     "start_time": "2022-01-02T17:29:40.557485",
     "status": "completed"
    },
    "tags": []
   },
   "outputs": [],
   "source": [
    "awards=['All-MLB First Team', 'All-MLB Second Team','NL Comeback Player of the Year',\n",
    "       'Edgar Martinez Outstanding DH of the Year',\n",
    "       'AL Comeback Player of the Year', 'The Hutch Award','AL Cy Young', 'NL Cy Young', 'AL MVP',\n",
    "       'NL MVP','MLB Players Choice NL Comeback Player',\n",
    "       'MLB Players Choice NL Outstanding Pitcher',\n",
    "       'MLB Players Choice NL Outstanding Rookie',\n",
    "       'MLB Players Choice NL Outstanding Player',\n",
    "       'Rawlings NL Platinum Glove', 'Babe Ruth Award',\n",
    "       'MLB Players Choice Player of the Year',\n",
    "       'MLB Players Choice Man of the Year',\n",
    "       'MLB Players Choice AL Outstanding Player',\n",
    "       'MLB Players Choice AL Comeback Player',\n",
    "       'MLB Players Choice AL Outstanding Pitcher',\n",
    "       'MLB Players Choice AL Outstanding Rookie', 'Wilson Defensive Player of the Year',\n",
    "       'Wilson MLB Defensive Player of the Year', 'AL Silver Slugger',\n",
    "       'NL Silver Slugger', 'MLBPAA Heart and Hustle Award',\n",
    "       'Rawlings AL Platinum Glove', 'Roberto Clemente Award', 'NL Hank Aaron Award',\n",
    "       'AL Hank Aaron Award', 'Trevor Hoffman NL Reliever of the Year',\n",
    "       'Mariano Rivera AL Reliever of the Year',\n",
    "       'World Series Championship', 'World Series MVP','Baseball America Minor League Player of the Year',\n",
    "       'Baseball America Major League Rookie of the Year',\n",
    "       'Baseball America Major League Player of the Year','Home Run Derby Winner', 'All-Star MVP', 'AL All-Star',\n",
    "       'NL All-Star',]\n"
   ]
  },
  {
   "cell_type": "code",
   "execution_count": 16,
   "id": "opponent-notion",
   "metadata": {
    "execution": {
     "iopub.execute_input": "2022-01-02T17:29:40.717320Z",
     "iopub.status.busy": "2022-01-02T17:29:40.716645Z",
     "iopub.status.idle": "2022-01-02T17:29:40.745585Z",
     "shell.execute_reply": "2022-01-02T17:29:40.746161Z",
     "shell.execute_reply.started": "2022-01-02T15:36:51.162666Z"
    },
    "papermill": {
     "duration": 0.082756,
     "end_time": "2022-01-02T17:29:40.746396",
     "exception": false,
     "start_time": "2022-01-02T17:29:40.663640",
     "status": "completed"
    },
    "tags": []
   },
   "outputs": [],
   "source": [
    "awardhist=training_dfs['awards'].copy()\n",
    "awardhist=awardhist[['awardSeason','playerId','awardName']]\n",
    "awardhist=awardhist.loc[awardhist.awardName.isin(awards),:]\n",
    "awardhist=awardhist.rename(columns={'awardSeason':'seasonId'})\n",
    "awardhist['seasonId']=awardhist['seasonId']+1\n",
    "awardhist=pd.get_dummies(awardhist,'awardName')\n",
    "awardhist=awardhist.groupby(['playerId','seasonId'],as_index=False).sum()\n",
    "awardhist['playerId']=[str(a) for a in awardhist.playerId]"
   ]
  },
  {
   "cell_type": "code",
   "execution_count": 17,
   "id": "steady-morrison",
   "metadata": {
    "execution": {
     "iopub.execute_input": "2022-01-02T17:29:40.851978Z",
     "iopub.status.busy": "2022-01-02T17:29:40.851215Z",
     "iopub.status.idle": "2022-01-02T17:29:40.854879Z",
     "shell.execute_reply": "2022-01-02T17:29:40.855433Z",
     "shell.execute_reply.started": "2022-01-02T15:36:51.209977Z"
    },
    "papermill": {
     "duration": 0.057641,
     "end_time": "2022-01-02T17:29:40.855676",
     "exception": false,
     "start_time": "2022-01-02T17:29:40.798035",
     "status": "completed"
    },
    "tags": []
   },
   "outputs": [],
   "source": [
    "#features = [\n",
    "#    \"hits\",\n",
    "#    'doubles', \n",
    "#    'triples',\n",
    "#    \"strikeOuts\",\n",
    "#    \"homeRuns\",\n",
    "#    \"runsScored\",\n",
    "#    \"stolenBases\",\n",
    "#    \"strikes\",\n",
    "#    \"flyOuts\",\n",
    "#    \"groundOuts\",\n",
    "#    \"errors\",\n",
    "#    \"rbi\",\n",
    "#    \"baseOnBalls\",\n",
    "#    \"gamesPlayedPitching\", \n",
    "#    'gamesStartedPitching',\n",
    "#    'completeGamesPitching', \n",
    "#    'shutoutsPitching', \n",
    "#    'winsPitching',\n",
    "#    'lossesPitching',\n",
    "#    'runsPitching', \n",
    "#    'homeRunsPitching', \n",
    "#    'strikeOutsPitching',\n",
    "#    'baseOnBallsPitching',\n",
    "#    'inningsPitched',\n",
    "#    'teamName',\n",
    "#    'positionName',\n",
    "#]\n"
   ]
  },
  {
   "cell_type": "markdown",
   "id": "rising-executive",
   "metadata": {
    "papermill": {
     "duration": 0.047889,
     "end_time": "2022-01-02T17:29:40.952870",
     "exception": false,
     "start_time": "2022-01-02T17:29:40.904981",
     "status": "completed"
    },
    "tags": []
   },
   "source": [
    "### game_date features (Box Score Statistics)"
   ]
  },
  {
   "cell_type": "code",
   "execution_count": 18,
   "id": "specific-breath",
   "metadata": {
    "execution": {
     "iopub.execute_input": "2022-01-02T17:29:41.053029Z",
     "iopub.status.busy": "2022-01-02T17:29:41.052340Z",
     "iopub.status.idle": "2022-01-02T17:29:41.060273Z",
     "shell.execute_reply": "2022-01-02T17:29:41.060835Z",
     "shell.execute_reply.started": "2022-01-02T15:36:51.218890Z"
    },
    "papermill": {
     "duration": 0.060089,
     "end_time": "2022-01-02T17:29:41.061048",
     "exception": false,
     "start_time": "2022-01-02T17:29:41.000959",
     "status": "completed"
    },
    "tags": []
   },
   "outputs": [],
   "source": [
    "features = ['home',\n",
    "    'gamesPlayedBatting', 'flyOuts',\n",
    "       'groundOuts', 'runsScored', 'doubles', 'triples', 'homeRuns',\n",
    "       'strikeOuts', 'baseOnBalls', 'intentionalWalks', 'hits', 'hitByPitch',\n",
    "       'atBats', 'caughtStealing', 'stolenBases', 'groundIntoDoublePlay',\n",
    "       'groundIntoTriplePlay', 'plateAppearances', 'totalBases', 'rbi',\n",
    "       'leftOnBase', 'sacBunts', 'sacFlies', 'catchersInterference',\n",
    "       'pickoffs', 'gamesPlayedPitching', 'gamesStartedPitching',\n",
    "       'completeGamesPitching', 'shutoutsPitching', 'winsPitching',\n",
    "       'lossesPitching', 'flyOutsPitching', 'airOutsPitching',\n",
    "       'groundOutsPitching', 'runsPitching', 'doublesPitching',\n",
    "       'triplesPitching', 'homeRunsPitching', 'strikeOutsPitching',\n",
    "       'baseOnBallsPitching', 'intentionalWalksPitching', 'hitsPitching',\n",
    "       'hitByPitchPitching', 'atBatsPitching', 'caughtStealingPitching',\n",
    "       'stolenBasesPitching', 'inningsPitched', 'saveOpportunities',\n",
    "       'earnedRuns', 'battersFaced',  'pitchesThrown', 'balls',\n",
    "       'strikes', 'hitBatsmen', 'balks', 'wildPitches', 'pickoffsPitching',\n",
    "       'rbiPitching', 'gamesFinishedPitching', 'inheritedRunners',\n",
    "       'inheritedRunnersScored', 'catchersInterferencePitching',\n",
    "       'sacBuntsPitching', 'sacFliesPitching', 'saves', 'holds', 'blownSaves',\n",
    "       'assists', 'putOuts', 'errors', 'chances','battingOrder',\n",
    "    'positionName'\n",
    "]"
   ]
  },
  {
   "cell_type": "code",
   "execution_count": 19,
   "id": "infectious-stake",
   "metadata": {
    "execution": {
     "iopub.execute_input": "2022-01-02T17:29:41.160634Z",
     "iopub.status.busy": "2022-01-02T17:29:41.160044Z",
     "iopub.status.idle": "2022-01-02T17:29:41.164002Z",
     "shell.execute_reply": "2022-01-02T17:29:41.164537Z",
     "shell.execute_reply.started": "2022-01-02T15:36:51.241045Z"
    },
    "papermill": {
     "duration": 0.05534,
     "end_time": "2022-01-02T17:29:41.164738",
     "exception": false,
     "start_time": "2022-01-02T17:29:41.109398",
     "status": "completed"
    },
    "tags": []
   },
   "outputs": [],
   "source": [
    "gc.collect\n",
    "del training"
   ]
  },
  {
   "cell_type": "code",
   "execution_count": 20,
   "id": "quarterly-rainbow",
   "metadata": {
    "execution": {
     "iopub.execute_input": "2022-01-02T17:29:41.264141Z",
     "iopub.status.busy": "2022-01-02T17:29:41.263475Z",
     "iopub.status.idle": "2022-01-02T17:29:41.272388Z",
     "shell.execute_reply": "2022-01-02T17:29:41.272925Z",
     "shell.execute_reply.started": "2022-01-02T15:36:51.256899Z"
    },
    "papermill": {
     "duration": 0.060291,
     "end_time": "2022-01-02T17:29:41.273127",
     "exception": false,
     "start_time": "2022-01-02T17:29:41.212836",
     "status": "completed"
    },
    "tags": []
   },
   "outputs": [
    {
     "data": {
      "text/plain": [
       "(1187,)"
      ]
     },
     "execution_count": 20,
     "metadata": {},
     "output_type": "execute_result"
    }
   ],
   "source": [
    "pids_test = players.playerId.loc[\n",
    "    players.playerForTestSetAndFuturePreds.fillna(False)\n",
    "].astype(str)\n",
    "pids_test.shape"
   ]
  },
  {
   "cell_type": "code",
   "execution_count": 21,
   "id": "pressing-saturday",
   "metadata": {
    "_kg_hide-input": false,
    "execution": {
     "iopub.execute_input": "2022-01-02T17:29:41.378063Z",
     "iopub.status.busy": "2022-01-02T17:29:41.377319Z",
     "iopub.status.idle": "2022-01-02T17:29:41.396567Z",
     "shell.execute_reply": "2022-01-02T17:29:41.397135Z",
     "shell.execute_reply.started": "2022-01-02T15:36:51.276247Z"
    },
    "papermill": {
     "duration": 0.073341,
     "end_time": "2022-01-02T17:29:41.397366",
     "exception": false,
     "start_time": "2022-01-02T17:29:41.324025",
     "status": "completed"
    },
    "tags": []
   },
   "outputs": [],
   "source": [
    "# Players in the test set. We'll filter our data for only this set of players\n",
    "pids_test = players.playerId.loc[\n",
    "    players.playerForTestSetAndFuturePreds.fillna(False)\n",
    "].astype(str)\n",
    "\n",
    "# Name of target columns\n",
    "targets = [\"target1\", \"target2\", \"target3\", \"target4\"]\n",
    "\n",
    "def make_playerBoxScores(dfs: dict, features):\n",
    "    X = dfs['playerBoxScores'].copy()\n",
    "    if 'playerId' in X.columns:\n",
    "        X = dfs['playerBoxScores'].copy()\n",
    "        X = X[['gameDate', 'playerId'] + features]\n",
    "        X = X.rename(columns={'gameDate': 'date'})\n",
    "        X['date'] = pd.PeriodIndex(X.date, freq='D')\n",
    "        X=X[features+['date','playerId']]\n",
    "        X['battingOrder']=X['battingOrder'].fillna(0)\n",
    "        X.loc[X['battingOrder']==0,'battingOrder']=10009\n",
    "        X['starting']=X['battingOrder']%100\n",
    "        X['starting']=X['starting']==0\n",
    "        X['order']=X['battingOrder']//100\n",
    "        X=pd.get_dummies(X,columns=['order'])\n",
    "        X.drop(['battingOrder'],axis=1,inplace=True)\n",
    "        # Set dtypes\n",
    "        X = X.astype({'playerId': str,'starting': int})\n",
    "        X['positionName']=X['positionName'].fillna(value=\"X\")\n",
    "        # Create date index\n",
    "        # Aggregate multiple games per day by summing\n",
    "        X = X.groupby(['date', 'playerId'], as_index=False).mean()\n",
    "    else:\n",
    "        X[['playerId']]=np.nan\n",
    "        X[['date']]=np.nan\n",
    "    return X\n",
    "\n",
    "# Set dtypes\n",
    "#def make_playerTwitterFollowers(dfs:dict):\n",
    "#    X=dfs['playerTwitterFollowers'].copy()\n",
    "#    X=X[['date', 'playerId','numberOfFollowers']]\n",
    "#    X['date'] = pd.PeriodIndex(X.date, freq='D')\n",
    "##    # Aggregate multiple games per day by summing\n",
    "#    X = X.groupby(['date', 'playerId'], as_index=False).sum()\n",
    "#    return X\n",
    "\n",
    "def make_targets(training_dfs: dict):\n",
    "    Y = training_dfs['nextDayPlayerEngagement'].copy()\n",
    "    # Set dtypes\n",
    "    Y = Y.astype({name: np.float32 for name  in targets})\n",
    "    Y = Y.astype({'playerId': str})\n",
    "    # Match target dates to feature dates and create date index\n",
    "    Y = Y.rename(columns={'engagementMetricsDate': 'date'})\n",
    "    Y['date'] = pd.to_datetime(Y['date'])\n",
    "    Y = Y.set_index('date').to_period('D')\n",
    "    Y.index = Y.index - 1\n",
    "    return Y.reset_index()\n",
    "\n",
    "\n",
    "#def join_datasets(dfs):\n",
    "#    dfs = [x.pivot(index='date', columns='playerId') for x in dfs]\n",
    "#    df = pd.concat(dfs, axis=1).stack().reset_index('playerId')\n",
    "#    return df\n",
    "\n",
    "#def make_trainX(test_dfs: dict, features):\n",
    "#    X = make_playerBoxScores(test_dfs, features)\n",
    "#    X = X.merge(pids_test, how='right')\n",
    "    #fourier_terms = CalendarFourier(freq='A', order=4)\n",
    "    #deterministic = DeterministicProcess(\n",
    "    #    index=X.index,\n",
    "    #    order=0,\n",
    "    #    seasonal=False,  # set to True for weekly seasonality\n",
    "    #    additional_terms=[fourier_terms],\n",
    "    #)\n",
    "    #X = pd.concat([X, deterministic.in_sample()], axis=1)\n",
    " #   return X\n",
    "#def make_trainy(training_dfs: dict,\n",
    "#                      targets):\n",
    "\n",
    "#    Y = make_targets(training_dfs)\n",
    "    # Filter for players in test set\n",
    "#    Y=Y.loc[Y.playerId.isin(pids_test), :]\n",
    "    # Convert from long to wide format\n",
    "    # Restore features and target\n",
    "    # Fill missing values in features\n",
    "#    return Y\n",
    "    # Create train / validation splits\n",
    "#X,Y=make_trainX(training_dfs,features),make_trainy(training_dfs,targets)"
   ]
  },
  {
   "cell_type": "markdown",
   "id": "precious-startup",
   "metadata": {
    "papermill": {
     "duration": 0.05175,
     "end_time": "2022-01-02T17:29:41.499979",
     "exception": false,
     "start_time": "2022-01-02T17:29:41.448229",
     "status": "completed"
    },
    "tags": []
   },
   "source": [
    "### Merging All Using Tables (test set start from 2021 June)\n",
    "Before merging the tables, we create new features of \"season part\" since the atmosphere at the beginning of the season and that at the end of the season should be very different. We use 2021 season as test set, and 2019,2020 as training set."
   ]
  },
  {
   "cell_type": "code",
   "execution_count": 22,
   "id": "large-plenty",
   "metadata": {
    "execution": {
     "iopub.execute_input": "2022-01-02T17:29:41.601905Z",
     "iopub.status.busy": "2022-01-02T17:29:41.601178Z",
     "iopub.status.idle": "2022-01-02T17:29:41.622244Z",
     "shell.execute_reply": "2022-01-02T17:29:41.622823Z",
     "shell.execute_reply.started": "2022-01-02T15:36:51.301350Z"
    },
    "papermill": {
     "duration": 0.073542,
     "end_time": "2022-01-02T17:29:41.623063",
     "exception": false,
     "start_time": "2022-01-02T17:29:41.549521",
     "status": "completed"
    },
    "tags": []
   },
   "outputs": [],
   "source": [
    "def make_training_data(training_dfs: dict,\n",
    "                       features,\n",
    "                       targets,\n",
    "                       fourier=4,\n",
    "                       test_size=30):\n",
    "    # Process dataframes\n",
    "    X = make_playerBoxScores(training_dfs, features)\n",
    "    standings=make_standings(training_dfs,standings_feature)\n",
    "    games=make_games(training_dfs)\n",
    "    rosters=make_rosters(training_dfs)\n",
    "    #transactions=make_transactions(training_dfs)\n",
    "    TwitterFollowers=make_playerTwitterFollowers(training_dfs)\n",
    "    Y = make_targets(training_dfs)\n",
    "    rosters['playerId']=[str(x) for x in rosters.playerId]\n",
    "    players_1['playerId']=[str(x) for x in players_1.playerId]\n",
    "    #transactions['playerId']=[str(x) for x in transactions.playerId]\n",
    "    TwitterFollowers['playerId']=[str(x) for x in TwitterFollowers.playerId]\n",
    "    # Merge for processing\n",
    "    Y =Y.loc[Y.playerId.isin(pids_test), :]\n",
    "    df = Y.merge(X,how='left',on=['date','playerId'])\n",
    "    # Filter for players in test set\n",
    "    df['seasonId']=df.date.dt.year\n",
    "    df=df.loc[(df.seasonId!=2018),:]\n",
    "    df=df.merge(awardhist,how='left',on=['seasonId','playerId'])\n",
    "    df=df.merge(targ,how='left',on=['seasonId','playerId'])\n",
    "    unique=pd.DataFrame({'date':df.date.unique()})\n",
    "    unique['seasonId']=unique.date.dt.year\n",
    "    unique=unique.merge(seasons,on='seasonId')\n",
    "    unique['seasonPart'] = np.select(\n",
    "        [\n",
    "        unique['date'] < unique['preSeasonStartDate'], \n",
    "        unique['date'] <unique['regularSeasonStartDate'],\n",
    "        unique['date'] <= unique['lastDate1stHalf'],\n",
    "        unique['date'] < unique['firstDate2ndHalf'],\n",
    "        unique['date'] <= unique['regularSeasonEndDate'],\n",
    "        unique['date'] < unique['postSeasonStartDate'],\n",
    "       unique['date'] <= unique['postSeasonEndDate'],\n",
    "        unique['date'] >unique['postSeasonEndDate']\n",
    "        ], \n",
    "        [\n",
    "        'Offseason',\n",
    "        'Preseason',\n",
    "        'Reg Season 1st Half',\n",
    "        'All-Star Break',\n",
    "        'Reg Season 2nd Half',\n",
    "        'Between Reg and Postseason',\n",
    "        'Postseason',\n",
    "        'Offseason'\n",
    "        ], \n",
    "        default = np.nan\n",
    "        )\n",
    "    unique=unique[['date','seasonPart']]\n",
    "    df=df.merge(unique,how='left',on='date')\n",
    "    df=df.loc[df.seasonPart!='Offseason',:]\n",
    "    #df=df.loc[df.seasonPart!='Preseason',:]\n",
    "    #df=df.loc[df.seasonPart!='Postseason',:]\n",
    "    #df=df.loc[df.seasonPart!='Offseason',:]\n",
    "    df=df.drop('seasonId',axis=1)\n",
    "    df=df.merge(rosters,how='left',on=['date','playerId'])\n",
    "    #df=df.merge(transactions,how='left',on=['date','playerId'])\n",
    "    df=df.merge(TwitterFollowers,how='left',on=['date','playerId'])\n",
    "    df=df.merge(standings,how='left',on=['date','teamId'])\n",
    "    df=df.merge(games,how='left',on=['date','teamId'])\n",
    "    df=df.merge(players_1,how='left',on=['playerId'])\n",
    "    #df['seasonId']=df.date.dt.year\n",
    "    #df['age']=df['seasonId']-df['birthyear']\n",
    "    #df.drop('seasonId',axis=1, inplace=True)\n",
    "    #df=pd.get_dummies(df,columns=['teamId'])\n",
    "    # Convert from long to wide format\n",
    "    #df = df.pivot(columns=\"playerId\")\n",
    "    # Restore features and targets\n",
    "    df['seasonId']=df.date.dt.year\n",
    "    df['age']=df['seasonId']-df['birthyear']\n",
    "    train_df=df.loc[(df.seasonId!=2021),:]\n",
    "    test_df=df.loc[(df.seasonId==2021),:]\n",
    "    train_df=pd.get_dummies(train_df,columns=['seasonPart'])\n",
    "    test_df=pd.get_dummies(test_df,columns=['seasonPart'])\n",
    "    missing_cols = set( train_df.columns ) - set(test_df.columns )\n",
    "    for c in missing_cols:\n",
    "        test_df[c] = 0\n",
    "    #y_train = train_df[targets]\n",
    "    #y_valid = test_df[targets]\n",
    "    # Fill missing values in features\n",
    "    #X_train =train_df.drop(targets+['date','playerId','birthyear','seasonId'],axis=1)\n",
    "    #X_train.fillna(0, inplace=True)\n",
    "    #X_valid =test_df.drop(targets+['date','playerId','birthyear','seasonId'],axis=1)\n",
    "    #X_valid.fillna(0, inplace=True)\n",
    "    # Create temporal features\n",
    "    # Create train / validation splits,:]\n",
    "    #X_train,X_valid=X.loc[train_id,:],X.loc[test_id,:]\n",
    "    #y_train,y_valid=Y.loc[train_id,:],Y.loc[test_id,:]\n",
    "    return train_df"
   ]
  },
  {
   "cell_type": "code",
   "execution_count": 23,
   "id": "humanitarian-france",
   "metadata": {
    "execution": {
     "iopub.execute_input": "2022-01-02T17:29:41.725946Z",
     "iopub.status.busy": "2022-01-02T17:29:41.724677Z",
     "iopub.status.idle": "2022-01-02T17:32:35.304150Z",
     "shell.execute_reply": "2022-01-02T17:32:35.303418Z",
     "shell.execute_reply.started": "2022-01-02T15:36:51.320430Z"
    },
    "papermill": {
     "duration": 173.631623,
     "end_time": "2022-01-02T17:32:35.304338",
     "exception": false,
     "start_time": "2022-01-02T17:29:41.672715",
     "status": "completed"
    },
    "tags": []
   },
   "outputs": [],
   "source": [
    "train_df=make_training_data(training_dfs,\n",
    "                       features,\n",
    "                       targets\n",
    "                       )"
   ]
  },
  {
   "cell_type": "code",
   "execution_count": 24,
   "id": "soviet-service",
   "metadata": {
    "execution": {
     "iopub.execute_input": "2022-01-02T17:32:35.411106Z",
     "iopub.status.busy": "2022-01-02T17:32:35.410385Z",
     "iopub.status.idle": "2022-01-02T17:32:35.685678Z",
     "shell.execute_reply": "2022-01-02T17:32:35.685103Z",
     "shell.execute_reply.started": "2022-01-02T16:17:12.256581Z"
    },
    "papermill": {
     "duration": 0.332255,
     "end_time": "2022-01-02T17:32:35.685846",
     "exception": false,
     "start_time": "2022-01-02T17:32:35.353591",
     "status": "completed"
    },
    "tags": []
   },
   "outputs": [
    {
     "data": {
      "text/plain": [
       "7       Injured 10-Day\n",
       "29      Injured 10-Day\n",
       "80      Injured 10-Day\n",
       "81      Injured 10-Day\n",
       "88      Injured 10-Day\n",
       "             ...      \n",
       "1188    Injured 10-Day\n",
       "1203    Injured 10-Day\n",
       "1208    Injured 10-Day\n",
       "1236    Injured 10-Day\n",
       "1255    Injured 10-Day\n",
       "Name: status, Length: 47279, dtype: object"
      ]
     },
     "execution_count": 24,
     "metadata": {},
     "output_type": "execute_result"
    }
   ],
   "source": [
    "rosters=training_dfs['rosters'].copy()\n",
    "rosters.loc[rosters['statusCode']=='D10','status']"
   ]
  },
  {
   "cell_type": "code",
   "execution_count": 25,
   "id": "thick-rendering",
   "metadata": {
    "execution": {
     "iopub.execute_input": "2022-01-02T17:32:35.788621Z",
     "iopub.status.busy": "2022-01-02T17:32:35.787692Z",
     "iopub.status.idle": "2022-01-02T17:32:36.079613Z",
     "shell.execute_reply": "2022-01-02T17:32:36.079040Z",
     "shell.execute_reply.started": "2022-01-02T15:41:41.149172Z"
    },
    "papermill": {
     "duration": 0.344627,
     "end_time": "2022-01-02T17:32:36.079775",
     "exception": false,
     "start_time": "2022-01-02T17:32:35.735148",
     "status": "completed"
    },
    "tags": []
   },
   "outputs": [
    {
     "data": {
      "text/plain": [
       "18068"
      ]
     },
     "execution_count": 25,
     "metadata": {},
     "output_type": "execute_result"
    }
   ],
   "source": [
    "gc.collect()"
   ]
  },
  {
   "cell_type": "markdown",
   "id": "located-reducing",
   "metadata": {
    "papermill": {
     "duration": 0.049037,
     "end_time": "2022-01-02T17:32:36.178542",
     "exception": false,
     "start_time": "2022-01-02T17:32:36.129505",
     "status": "completed"
    },
    "tags": []
   },
   "source": [
    "# Player Status"
   ]
  },
  {
   "cell_type": "code",
   "execution_count": 26,
   "id": "convinced-thanks",
   "metadata": {
    "execution": {
     "iopub.execute_input": "2022-01-02T17:32:36.364659Z",
     "iopub.status.busy": "2022-01-02T17:32:36.363989Z",
     "iopub.status.idle": "2022-01-02T17:32:36.377181Z",
     "shell.execute_reply": "2022-01-02T17:32:36.376579Z",
     "shell.execute_reply.started": "2022-01-02T16:48:20.847878Z"
    },
    "papermill": {
     "duration": 0.148975,
     "end_time": "2022-01-02T17:32:36.377352",
     "exception": false,
     "start_time": "2022-01-02T17:32:36.228377",
     "status": "completed"
    },
    "tags": []
   },
   "outputs": [],
   "source": [
    "piestatus=train_df.groupby('statusCode').size().reset_index()\n",
    "piestatus.columns=['statusCode','count']\n"
   ]
  },
  {
   "cell_type": "markdown",
   "id": "recorded-testing",
   "metadata": {
    "papermill": {
     "duration": 0.049272,
     "end_time": "2022-01-02T17:32:36.476609",
     "exception": false,
     "start_time": "2022-01-02T17:32:36.427337",
     "status": "completed"
    },
    "tags": []
   },
   "source": [
    "Around 76% of observations are active in Major League, then 'Resigned to Minor', then 'Injured-60-days', and last 'injured 10 days'"
   ]
  },
  {
   "cell_type": "code",
   "execution_count": 27,
   "id": "lonely-surfing",
   "metadata": {
    "execution": {
     "iopub.execute_input": "2022-01-02T17:32:36.603718Z",
     "iopub.status.busy": "2022-01-02T17:32:36.602861Z",
     "iopub.status.idle": "2022-01-02T17:32:36.815849Z",
     "shell.execute_reply": "2022-01-02T17:32:36.815162Z",
     "shell.execute_reply.started": "2022-01-02T17:09:50.044644Z"
    },
    "papermill": {
     "duration": 0.289957,
     "end_time": "2022-01-02T17:32:36.816015",
     "exception": false,
     "start_time": "2022-01-02T17:32:36.526058",
     "status": "completed"
    },
    "tags": []
   },
   "outputs": [
    {
     "data": {
      "image/png": "[encoded data removed]",
      "text/plain": [
       "<Figure size 1152x432 with 1 Axes>"
      ]
     },
     "metadata": {},
     "output_type": "display_data"
    }
   ],
   "source": [
    "plt.figure(figsize=(16, 6))\n",
    "plt.pie(piestatus['count'], labels=piestatus['statusCode'],labeldistance=None)\n",
    "plt.title('Status')\n",
    "plt.legend(loc=\"lower left\", ncol=5)\n",
    "plt.show()\n"
   ]
  },
  {
   "cell_type": "markdown",
   "id": "vulnerable-lindsay",
   "metadata": {
    "papermill": {
     "duration": 0.050811,
     "end_time": "2022-01-02T17:32:36.918641",
     "exception": false,
     "start_time": "2022-01-02T17:32:36.867830",
     "status": "completed"
    },
    "tags": []
   },
   "source": [
    "# Player Country"
   ]
  },
  {
   "cell_type": "markdown",
   "id": "ongoing-ferry",
   "metadata": {
    "papermill": {
     "duration": 0.050998,
     "end_time": "2022-01-02T17:32:37.020321",
     "exception": false,
     "start_time": "2022-01-02T17:32:36.969323",
     "status": "completed"
    },
    "tags": []
   },
   "source": [
    "Most of the players are born in the USA, then other America country,then Asia, and last Europe"
   ]
  },
  {
   "cell_type": "code",
   "execution_count": 28,
   "id": "hungarian-twenty",
   "metadata": {
    "execution": {
     "iopub.execute_input": "2022-01-02T17:32:37.139515Z",
     "iopub.status.busy": "2022-01-02T17:32:37.138793Z",
     "iopub.status.idle": "2022-01-02T17:32:37.302519Z",
     "shell.execute_reply": "2022-01-02T17:32:37.301847Z",
     "shell.execute_reply.started": "2022-01-02T17:09:01.192078Z"
    },
    "papermill": {
     "duration": 0.230601,
     "end_time": "2022-01-02T17:32:37.302674",
     "exception": false,
     "start_time": "2022-01-02T17:32:37.072073",
     "status": "completed"
    },
    "tags": []
   },
   "outputs": [
    {
     "data": {
      "image/png": "[encoded data removed]",
      "text/plain": [
       "<Figure size 1152x432 with 1 Axes>"
      ]
     },
     "metadata": {},
     "output_type": "display_data"
    }
   ],
   "source": [
    "birthcountry=train_df.groupby('birthCountry').size().reset_index()\n",
    "birthcountry.columns=['birthCountry','count']\n",
    "plt.figure(figsize=(16, 6))\n",
    "plt.pie(birthcountry['count'], labels=birthcountry['birthCountry'],labeldistance=None)\n",
    "plt.title('Birth Country')\n",
    "plt.legend(loc=\"lower left\", ncol=5)\n",
    "plt.show()"
   ]
  },
  {
   "cell_type": "markdown",
   "id": "emotional-boards",
   "metadata": {
    "papermill": {
     "duration": 0.050734,
     "end_time": "2022-01-02T17:32:37.404763",
     "exception": false,
     "start_time": "2022-01-02T17:32:37.354029",
     "status": "completed"
    },
    "tags": []
   },
   "source": [
    "# Player Primary Position"
   ]
  },
  {
   "cell_type": "markdown",
   "id": "spanish-township",
   "metadata": {
    "papermill": {
     "duration": 0.050587,
     "end_time": "2022-01-02T17:32:37.506787",
     "exception": false,
     "start_time": "2022-01-02T17:32:37.456200",
     "status": "completed"
    },
    "tags": []
   },
   "source": [
    "There are a lot of pitchers in the dataset"
   ]
  },
  {
   "cell_type": "code",
   "execution_count": 29,
   "id": "renewable-argument",
   "metadata": {
    "execution": {
     "iopub.execute_input": "2022-01-02T17:32:37.625434Z",
     "iopub.status.busy": "2022-01-02T17:32:37.624717Z",
     "iopub.status.idle": "2022-01-02T17:32:37.810908Z",
     "shell.execute_reply": "2022-01-02T17:32:37.810308Z",
     "shell.execute_reply.started": "2022-01-02T17:08:38.563708Z"
    },
    "papermill": {
     "duration": 0.253166,
     "end_time": "2022-01-02T17:32:37.811071",
     "exception": false,
     "start_time": "2022-01-02T17:32:37.557905",
     "status": "completed"
    },
    "tags": []
   },
   "outputs": [
    {
     "data": {
      "image/png": "[encoded data removed]",
      "text/plain": [
       "<Figure size 1152x432 with 1 Axes>"
      ]
     },
     "metadata": {},
     "output_type": "display_data"
    }
   ],
   "source": [
    "position=train_df.groupby('primaryPositionCode').size().reset_index()\n",
    "position.columns=['primaryPositionCode','count']\n",
    "plt.figure(figsize=(16, 6))\n",
    "plt.pie(position['count'], labels=position['primaryPositionCode'])\n",
    "plt.title('Primary Position')\n",
    "plt.show()"
   ]
  },
  {
   "cell_type": "markdown",
   "id": "confidential-market",
   "metadata": {
    "papermill": {
     "duration": 0.052816,
     "end_time": "2022-01-02T17:32:37.916531",
     "exception": false,
     "start_time": "2022-01-02T17:32:37.863715",
     "status": "completed"
    },
    "tags": []
   },
   "source": [
    "## Distribution of the Four Targets"
   ]
  },
  {
   "cell_type": "markdown",
   "id": "recovered-electron",
   "metadata": {
    "papermill": {
     "duration": 0.051616,
     "end_time": "2022-01-02T17:32:38.021501",
     "exception": false,
     "start_time": "2022-01-02T17:32:37.969885",
     "status": "completed"
    },
    "tags": []
   },
   "source": [
    "All four targets are rightly scewed"
   ]
  },
  {
   "cell_type": "code",
   "execution_count": 30,
   "id": "bronze-customs",
   "metadata": {
    "execution": {
     "iopub.execute_input": "2022-01-02T17:32:38.142692Z",
     "iopub.status.busy": "2022-01-02T17:32:38.135013Z",
     "iopub.status.idle": "2022-01-02T17:37:46.105750Z",
     "shell.execute_reply": "2022-01-02T17:37:46.106614Z",
     "shell.execute_reply.started": "2022-01-01T20:15:24.915324Z"
    },
    "papermill": {
     "duration": 308.033213,
     "end_time": "2022-01-02T17:37:46.107135",
     "exception": false,
     "start_time": "2022-01-02T17:32:38.073922",
     "status": "completed"
    },
    "tags": []
   },
   "outputs": [
    {
     "data": {
      "image/png": "[encoded data removed]",
      "text/plain": [
       "<Figure size 432x288 with 4 Axes>"
      ]
     },
     "metadata": {
      "needs_background": "light"
     },
     "output_type": "display_data"
    }
   ],
   "source": [
    "import seaborn as sns\n",
    "import matplotlib.pyplot as plt\n",
    "\n",
    "fig, axes = plt.subplots(2,2)\n",
    "fig.suptitle('Distribution of the Four Targets')\n",
    "sns.histplot(ax=axes[0,0],data=train_df,x='target1',stat='density',kde=True)\n",
    "sns.histplot(ax=axes[0,1],data=train_df,x='target2',stat='density',kde=True)\n",
    "sns.histplot(ax=axes[1,0],data=train_df,x='target3',stat='density',kde=True)\n",
    "sns.histplot(ax=axes[1,1],data=train_df,x='target4',stat='density',kde=True)\n",
    "fig.tight_layout()\n",
    "plt.show()"
   ]
  },
  {
   "cell_type": "markdown",
   "id": "weird-honduras",
   "metadata": {
    "papermill": {
     "duration": 0.055756,
     "end_time": "2022-01-02T17:37:46.341891",
     "exception": false,
     "start_time": "2022-01-02T17:37:46.286135",
     "status": "completed"
    },
    "tags": []
   },
   "source": [
    "## Strong Correlation Between Current Targets and Average Target in Previous Year ##"
   ]
  },
  {
   "cell_type": "markdown",
   "id": "numeric-diana",
   "metadata": {
    "papermill": {
     "duration": 0.056337,
     "end_time": "2022-01-02T17:37:46.452425",
     "exception": false,
     "start_time": "2022-01-02T17:37:46.396088",
     "status": "completed"
    },
    "tags": []
   },
   "source": [
    "Target1"
   ]
  },
  {
   "cell_type": "code",
   "execution_count": 31,
   "id": "major-repeat",
   "metadata": {
    "execution": {
     "iopub.execute_input": "2022-01-02T17:37:46.570991Z",
     "iopub.status.busy": "2022-01-02T17:37:46.570277Z",
     "iopub.status.idle": "2022-01-02T17:46:37.031042Z",
     "shell.execute_reply": "2022-01-02T17:46:37.031587Z",
     "shell.execute_reply.started": "2022-01-01T20:58:09.297847Z"
    },
    "papermill": {
     "duration": 530.526205,
     "end_time": "2022-01-02T17:46:37.031813",
     "exception": false,
     "start_time": "2022-01-02T17:37:46.505608",
     "status": "completed"
    },
    "tags": []
   },
   "outputs": [
    {
     "data": {
      "image/png": "[encoded data removed]",
      "text/plain": [
       "<Figure size 432x288 with 4 Axes>"
      ]
     },
     "metadata": {
      "needs_background": "light"
     },
     "output_type": "display_data"
    }
   ],
   "source": [
    "fig, axes = plt.subplots(2,2)\n",
    "fig.suptitle('Correlation Between target 1 and average target in previous year')\n",
    "sns.regplot(x='meantarget1',y='target1',data=train_df,x_bins=100,ci=95,ax=axes[0,0])\n",
    "sns.regplot(x='meantarget2',y='target1',data=train_df,x_bins=100,ci=95,ax=axes[0,1])\n",
    "sns.regplot(x='meantarget3',y='target1',data=train_df,x_bins=100,ci=95,ax=axes[1,0])\n",
    "sns.regplot(x='meantarget4',y='target1',data=train_df,x_bins=100,ci=95,ax=axes[1,1])\n",
    "fig.tight_layout()\n",
    "plt.show()"
   ]
  },
  {
   "cell_type": "markdown",
   "id": "thrown-methodology",
   "metadata": {
    "papermill": {
     "duration": 0.054214,
     "end_time": "2022-01-02T17:46:37.141167",
     "exception": false,
     "start_time": "2022-01-02T17:46:37.086953",
     "status": "completed"
    },
    "tags": []
   },
   "source": [
    "Target2"
   ]
  },
  {
   "cell_type": "code",
   "execution_count": 32,
   "id": "functional-bridal",
   "metadata": {
    "execution": {
     "iopub.execute_input": "2022-01-02T17:46:37.261194Z",
     "iopub.status.busy": "2022-01-02T17:46:37.260506Z",
     "iopub.status.idle": "2022-01-02T17:55:17.150627Z",
     "shell.execute_reply": "2022-01-02T17:55:17.151190Z",
     "shell.execute_reply.started": "2022-01-01T03:43:32.966116Z"
    },
    "papermill": {
     "duration": 519.954744,
     "end_time": "2022-01-02T17:55:17.151410",
     "exception": false,
     "start_time": "2022-01-02T17:46:37.196666",
     "status": "completed"
    },
    "tags": []
   },
   "outputs": [
    {
     "data": {
      "image/png": "[encoded data removed]",
      "text/plain": [
       "<Figure size 432x288 with 4 Axes>"
      ]
     },
     "metadata": {
      "needs_background": "light"
     },
     "output_type": "display_data"
    }
   ],
   "source": [
    "fig, axes = plt.subplots(2,2)\n",
    "fig.suptitle('Correlation Between target 2 and average target in previous year')\n",
    "sns.regplot(x='meantarget1',y='target2',data=train_df,x_bins=100,ci=95,ax=axes[0,0])\n",
    "sns.regplot(x='meantarget2',y='target2',data=train_df,x_bins=100,ci=95,ax=axes[0,1])\n",
    "sns.regplot(x='meantarget3',y='target2',data=train_df,x_bins=100,ci=95,ax=axes[1,0])\n",
    "sns.regplot(x='meantarget4',y='target2',data=train_df,x_bins=100,ci=95,ax=axes[1,1])\n",
    "fig.tight_layout()\n",
    "plt.show()"
   ]
  },
  {
   "cell_type": "markdown",
   "id": "social-relay",
   "metadata": {
    "papermill": {
     "duration": 0.05569,
     "end_time": "2022-01-02T17:55:17.263314",
     "exception": false,
     "start_time": "2022-01-02T17:55:17.207624",
     "status": "completed"
    },
    "tags": []
   },
   "source": [
    "Target 3 "
   ]
  },
  {
   "cell_type": "code",
   "execution_count": 33,
   "id": "universal-adobe",
   "metadata": {
    "execution": {
     "iopub.execute_input": "2022-01-02T17:55:17.448505Z",
     "iopub.status.busy": "2022-01-02T17:55:17.417941Z",
     "iopub.status.idle": "2022-01-02T18:04:01.447321Z",
     "shell.execute_reply": "2022-01-02T18:04:01.448000Z",
     "shell.execute_reply.started": "2022-01-01T03:31:57.422338Z"
    },
    "papermill": {
     "duration": 524.12862,
     "end_time": "2022-01-02T18:04:01.448237",
     "exception": false,
     "start_time": "2022-01-02T17:55:17.319617",
     "status": "completed"
    },
    "tags": []
   },
   "outputs": [
    {
     "data": {
      "image/png": "[encoded data removed]",
      "text/plain": [
       "<Figure size 432x288 with 4 Axes>"
      ]
     },
     "metadata": {
      "needs_background": "light"
     },
     "output_type": "display_data"
    }
   ],
   "source": [
    "fig, axes = plt.subplots(2,2)\n",
    "fig.suptitle('Correlation Between target 3 and average target in previous year')\n",
    "sns.regplot(x='meantarget1',y='target3',data=train_df,x_bins=100,ci=95,ax=axes[0,0])\n",
    "sns.regplot(x='meantarget2',y='target3',data=train_df,x_bins=100,ci=95,ax=axes[0,1])\n",
    "sns.regplot(x='meantarget3',y='target3',data=train_df,x_bins=100,ci=95,ax=axes[1,0])\n",
    "sns.regplot(x='meantarget4',y='target3',data=train_df,x_bins=100,ci=95,ax=axes[1,1])\n",
    "fig.tight_layout()\n",
    "plt.show()"
   ]
  },
  {
   "cell_type": "markdown",
   "id": "visible-price",
   "metadata": {
    "papermill": {
     "duration": 0.06376,
     "end_time": "2022-01-02T18:04:01.575978",
     "exception": false,
     "start_time": "2022-01-02T18:04:01.512218",
     "status": "completed"
    },
    "tags": []
   },
   "source": [
    "Target 4"
   ]
  },
  {
   "cell_type": "code",
   "execution_count": 34,
   "id": "scenic-farmer",
   "metadata": {
    "execution": {
     "iopub.execute_input": "2022-01-02T18:04:01.696231Z",
     "iopub.status.busy": "2022-01-02T18:04:01.695516Z",
     "iopub.status.idle": "2022-01-02T18:12:35.799109Z",
     "shell.execute_reply": "2022-01-02T18:12:35.799654Z"
    },
    "papermill": {
     "duration": 514.165087,
     "end_time": "2022-01-02T18:12:35.799886",
     "exception": false,
     "start_time": "2022-01-02T18:04:01.634799",
     "status": "completed"
    },
    "tags": []
   },
   "outputs": [
    {
     "data": {
      "image/png": "[encoded data removed]",
      "text/plain": [
       "<Figure size 432x288 with 4 Axes>"
      ]
     },
     "metadata": {
      "needs_background": "light"
     },
     "output_type": "display_data"
    }
   ],
   "source": [
    "fig, axes = plt.subplots(2,2)\n",
    "fig.suptitle('Correlation Between target 4 and average target in previous year')\n",
    "sns.regplot(x='meantarget1',y='target4',data=train_df,x_bins=100,ci=95,ax=axes[0,0])\n",
    "sns.regplot(x='meantarget2',y='target4',data=train_df,x_bins=100,ci=95,ax=axes[0,1])\n",
    "sns.regplot(x='meantarget3',y='target4',data=train_df,x_bins=100,ci=95,ax=axes[1,0])\n",
    "sns.regplot(x='meantarget4',y='target4',data=train_df,x_bins=100,ci=95,ax=axes[1,1])\n",
    "fig.tight_layout()\n",
    "plt.show()"
   ]
  },
  {
   "cell_type": "markdown",
   "id": "attractive-latter",
   "metadata": {
    "papermill": {
     "duration": 0.059621,
     "end_time": "2022-01-02T18:12:35.920841",
     "exception": false,
     "start_time": "2022-01-02T18:12:35.861220",
     "status": "completed"
    },
    "tags": []
   },
   "source": [
    "## Correlation between Month and Targets"
   ]
  },
  {
   "cell_type": "code",
   "execution_count": 35,
   "id": "female-queue",
   "metadata": {
    "execution": {
     "iopub.execute_input": "2022-01-02T18:12:36.111345Z",
     "iopub.status.busy": "2022-01-02T18:12:36.110556Z",
     "iopub.status.idle": "2022-01-02T18:12:36.118909Z",
     "shell.execute_reply": "2022-01-02T18:12:36.119402Z",
     "shell.execute_reply.started": "2022-01-01T21:10:03.021349Z"
    },
    "papermill": {
     "duration": 0.138825,
     "end_time": "2022-01-02T18:12:36.119610",
     "exception": false,
     "start_time": "2022-01-02T18:12:35.980785",
     "status": "completed"
    },
    "tags": []
   },
   "outputs": [],
   "source": [
    "train_df['month']=train_df['date'].dt.month\n"
   ]
  },
  {
   "cell_type": "code",
   "execution_count": 36,
   "id": "australian-fraction",
   "metadata": {
    "execution": {
     "iopub.execute_input": "2022-01-02T18:12:36.241182Z",
     "iopub.status.busy": "2022-01-02T18:12:36.240520Z",
     "iopub.status.idle": "2022-01-02T18:21:17.494178Z",
     "shell.execute_reply": "2022-01-02T18:21:17.494773Z",
     "shell.execute_reply.started": "2022-01-01T21:20:59.436524Z"
    },
    "papermill": {
     "duration": 521.316326,
     "end_time": "2022-01-02T18:21:17.495098",
     "exception": false,
     "start_time": "2022-01-02T18:12:36.178772",
     "status": "completed"
    },
    "tags": []
   },
   "outputs": [
    {
     "data": {
      "image/png": "[encoded data removed]",
      "text/plain": [
       "<Figure size 432x288 with 4 Axes>"
      ]
     },
     "metadata": {
      "needs_background": "light"
     },
     "output_type": "display_data"
    }
   ],
   "source": [
    "fig, axes = plt.subplots(2,2)\n",
    "fig.suptitle('Correlation Between target  and Month')\n",
    "sns.regplot(x='month',y='target1',data=train_df,x_bins=100,ci=95,ax=axes[0,0])\n",
    "sns.regplot(x='month',y='target2',data=train_df,x_bins=100,ci=95,ax=axes[0,1])\n",
    "sns.regplot(x='month',y='target3',data=train_df,x_bins=100,ci=95,ax=axes[1,0])\n",
    "sns.regplot(x='month',y='target4',data=train_df,x_bins=100,ci=95,ax=axes[1,1])\n",
    "fig.tight_layout()\n",
    "plt.show()"
   ]
  },
  {
   "cell_type": "code",
   "execution_count": 37,
   "id": "hairy-vinyl",
   "metadata": {
    "execution": {
     "iopub.execute_input": "2022-01-02T18:21:17.621276Z",
     "iopub.status.busy": "2022-01-02T18:21:17.620130Z",
     "iopub.status.idle": "2022-01-02T18:21:17.622970Z",
     "shell.execute_reply": "2022-01-02T18:21:17.623437Z",
     "shell.execute_reply.started": "2021-12-29T16:16:50.884507Z"
    },
    "papermill": {
     "duration": 0.068597,
     "end_time": "2022-01-02T18:21:17.623654",
     "exception": false,
     "start_time": "2022-01-02T18:21:17.555057",
     "status": "completed"
    },
    "tags": []
   },
   "outputs": [],
   "source": [
    "#history_df = pd.DataFrame(history.history)\n",
    "#history_df.loc[:, ['loss', 'val_loss']].plot()"
   ]
  },
  {
   "cell_type": "markdown",
   "id": "collect-province",
   "metadata": {
    "papermill": {
     "duration": 0.06014,
     "end_time": "2022-01-02T18:21:17.743658",
     "exception": false,
     "start_time": "2022-01-02T18:21:17.683518",
     "status": "completed"
    },
    "tags": []
   },
   "source": [
    "# Correlation between 4 Targets "
   ]
  },
  {
   "cell_type": "code",
   "execution_count": 38,
   "id": "agricultural-holly",
   "metadata": {
    "execution": {
     "iopub.execute_input": "2022-01-02T18:21:17.876823Z",
     "iopub.status.busy": "2022-01-02T18:21:17.874898Z",
     "iopub.status.idle": "2022-01-02T18:21:19.257587Z",
     "shell.execute_reply": "2022-01-02T18:21:19.257046Z",
     "shell.execute_reply.started": "2022-01-02T17:11:59.439001Z"
    },
    "papermill": {
     "duration": 1.453686,
     "end_time": "2022-01-02T18:21:19.257750",
     "exception": false,
     "start_time": "2022-01-02T18:21:17.804064",
     "status": "completed"
    },
    "tags": []
   },
   "outputs": [
    {
     "data": {
      "text/plain": [
       "Text(0.5, 1.0, 'Correlation Heatmap')"
      ]
     },
     "execution_count": 38,
     "metadata": {},
     "output_type": "execute_result"
    },
    {
     "data": {
      "image/png": "[encoded data removed]",
      "text/plain": [
       "<Figure size 1152x432 with 2 Axes>"
      ]
     },
     "metadata": {
      "needs_background": "light"
     },
     "output_type": "display_data"
    }
   ],
   "source": [
    "plt.figure(figsize=(16, 6))\n",
    "sns.heatmap(train_df[['target1','target2','target3','target4']].corr(),vmin=-1,vmax=1, annot=True)\n",
    "plt.title('Correlation Heatmap', fontdict={'fontsize':12}, pad=12)"
   ]
  }
 ],
 "metadata": {
  "kernelspec": {
   "display_name": "Python 3",
   "language": "python",
   "name": "python3"
  },
  "language_info": {
   "codemirror_mode": {
    "name": "ipython",
    "version": 3
   },
   "file_extension": ".py",
   "mimetype": "text/x-python",
   "name": "python",
   "nbconvert_exporter": "python",
   "pygments_lexer": "ipython3",
   "version": "3.7.10"
  },
  "papermill": {
   "default_parameters": {},
   "duration": 3250.267922,
   "end_time": "2022-01-02T18:21:23.035485",
   "environment_variables": {},
   "exception": null,
   "input_path": "__notebook__.ipynb",
   "output_path": "__notebook__.ipynb",
   "parameters": {},
   "start_time": "2022-01-02T17:27:12.767563",
   "version": "2.3.3"
  },
  "widgets": {
   "application/vnd.jupyter.widget-state+json": {
    "state": {
     "063be544f59841fb89e09f3b6d15369c": {
      "model_module": "@jupyter-widgets/controls",
      "model_module_version": "1.5.0",
      "model_name": "TabModel",
      "state": {
       "_dom_classes": [],
       "_model_module": "@jupyter-widgets/controls",
       "_model_module_version": "1.5.0",
       "_model_name": "TabModel",
       "_titles": {
        "0": "seasons",
        "1": "teams",
        "2": "players",
        "3": "awards"
       },
       "_view_count": null,
       "_view_module": "@jupyter-widgets/controls",
       "_view_module_version": "1.5.0",
       "_view_name": "TabView",
       "box_style": "",
       "children": [
        "IPY_MODEL_ce0f8329fe574440ba87a6e87e8c04de",
        "IPY_MODEL_4904c61cb7654dd18e44b4177b7fabc2",
        "IPY_MODEL_d6140cce38fd4d7eb666ea20a7ed9aa0",
        "IPY_MODEL_428c741c2307479a8fd202e70bc4ba80"
       ],
       "layout": "IPY_MODEL_e9032891a79d44c8a4d4a0556b3f4a8c",
       "selected_index": 0
      }
     },
     "428c741c2307479a8fd202e70bc4ba80": {
      "model_module": "@jupyter-widgets/output",
      "model_module_version": "1.0.0",
      "model_name": "OutputModel",
      "state": {
       "_dom_classes": [],
       "_model_module": "@jupyter-widgets/output",
       "_model_module_version": "1.0.0",
       "_model_name": "OutputModel",
       "_view_count": null,
       "_view_module": "@jupyter-widgets/output",
       "_view_module_version": "1.0.0",
       "_view_name": "OutputView",
       "layout": "IPY_MODEL_86226cadd59a4bd4850374602bc692bc",
       "msg_id": "",
       "outputs": [
        {
         "data": {
          "text/html": "<div>\n<style scoped>\n    .dataframe tbody tr th:only-of-type {\n        vertical-align: middle;\n    }\n\n    .dataframe tbody tr th {\n        vertical-align: top;\n    }\n\n    .dataframe thead th {\n        text-align: right;\n    }\n</style>\n<table border=\"1\" class=\"dataframe\">\n  <thead>\n    <tr style=\"text-align: right;\">\n      <th></th>\n      <th>awardDate</th>\n      <th>awardSeason</th>\n      <th>awardId</th>\n      <th>awardName</th>\n      <th>playerId</th>\n      <th>playerName</th>\n      <th>awardPlayerTeamId</th>\n    </tr>\n  </thead>\n  <tbody>\n    <tr>\n      <th>0</th>\n      <td>2017-12-21</td>\n      <td>2017</td>\n      <td>WARRENSPAHN</td>\n      <td>Warren Spahn Award</td>\n      <td>477132</td>\n      <td>Clayton Kershaw</td>\n      <td>119.0</td>\n    </tr>\n    <tr>\n      <th>1</th>\n      <td>2017-12-20</td>\n      <td>2017</td>\n      <td>MILBORGAS</td>\n      <td>MiLB.com Organization All-Star</td>\n      <td>474319</td>\n      <td>Brandon Snyder</td>\n      <td>120.0</td>\n    </tr>\n    <tr>\n      <th>2</th>\n      <td>2017-12-20</td>\n      <td>2017</td>\n      <td>MILBORGAS</td>\n      <td>MiLB.com Organization All-Star</td>\n      <td>592530</td>\n      <td>Jose Marmolejos</td>\n      <td>120.0</td>\n    </tr>\n    <tr>\n      <th>3</th>\n      <td>2017-12-20</td>\n      <td>2017</td>\n      <td>MILBORGAS</td>\n      <td>MiLB.com Organization All-Star</td>\n      <td>593833</td>\n      <td>Wander Suero</td>\n      <td>120.0</td>\n    </tr>\n    <tr>\n      <th>4</th>\n      <td>2017-12-20</td>\n      <td>2017</td>\n      <td>MILBORGAS</td>\n      <td>MiLB.com Organization All-Star</td>\n      <td>600466</td>\n      <td>Raudy Read</td>\n      <td>120.0</td>\n    </tr>\n    <tr>\n      <th>...</th>\n      <td>...</td>\n      <td>...</td>\n      <td>...</td>\n      <td>...</td>\n      <td>...</td>\n      <td>...</td>\n      <td>...</td>\n    </tr>\n    <tr>\n      <th>11251</th>\n      <td>2000-08-27</td>\n      <td>2000</td>\n      <td>NLPOW</td>\n      <td>NL Player of the Week</td>\n      <td>134181</td>\n      <td>Adrian Beltre</td>\n      <td>119.0</td>\n    </tr>\n    <tr>\n      <th>11252</th>\n      <td>2000-07-09</td>\n      <td>2000</td>\n      <td>FUTURES</td>\n      <td>Futures Game Selection</td>\n      <td>282332</td>\n      <td>CC Sabathia</td>\n      <td>402.0</td>\n    </tr>\n    <tr>\n      <th>11253</th>\n      <td>1998-09-01</td>\n      <td>1998</td>\n      <td>TLPSAS</td>\n      <td>TEX Post-Season All-Star</td>\n      <td>134181</td>\n      <td>Adrian Beltre</td>\n      <td>510.0</td>\n    </tr>\n    <tr>\n      <th>11254</th>\n      <td>1998-07-07</td>\n      <td>1998</td>\n      <td>ALAS</td>\n      <td>AL All-Star</td>\n      <td>112526</td>\n      <td>Bartolo Colon</td>\n      <td>114.0</td>\n    </tr>\n    <tr>\n      <th>11255</th>\n      <td>1998-06-21</td>\n      <td>1998</td>\n      <td>ALPOW</td>\n      <td>AL Player of the Week</td>\n      <td>112526</td>\n      <td>Bartolo Colon</td>\n      <td>114.0</td>\n    </tr>\n  </tbody>\n</table>\n<p>11256 rows × 7 columns</p>\n</div>",
          "text/plain": "        awardDate  awardSeason      awardId                       awardName  \\\n0      2017-12-21         2017  WARRENSPAHN              Warren Spahn Award   \n1      2017-12-20         2017    MILBORGAS  MiLB.com Organization All-Star   \n2      2017-12-20         2017    MILBORGAS  MiLB.com Organization All-Star   \n3      2017-12-20         2017    MILBORGAS  MiLB.com Organization All-Star   \n4      2017-12-20         2017    MILBORGAS  MiLB.com Organization All-Star   \n...           ...          ...          ...                             ...   \n11251  2000-08-27         2000        NLPOW           NL Player of the Week   \n11252  2000-07-09         2000      FUTURES          Futures Game Selection   \n11253  1998-09-01         1998       TLPSAS        TEX Post-Season All-Star   \n11254  1998-07-07         1998         ALAS                     AL All-Star   \n11255  1998-06-21         1998        ALPOW           AL Player of the Week   \n\n       playerId       playerName  awardPlayerTeamId  \n0        477132  Clayton Kershaw              119.0  \n1        474319   Brandon Snyder              120.0  \n2        592530  Jose Marmolejos              120.0  \n3        593833     Wander Suero              120.0  \n4        600466       Raudy Read              120.0  \n...         ...              ...                ...  \n11251    134181    Adrian Beltre              119.0  \n11252    282332      CC Sabathia              402.0  \n11253    134181    Adrian Beltre              510.0  \n11254    112526    Bartolo Colon              114.0  \n11255    112526    Bartolo Colon              114.0  \n\n[11256 rows x 7 columns]"
         },
         "metadata": {},
         "output_type": "display_data"
        }
       ]
      }
     },
     "47fb0315cb45464ba46183bd640ea6af": {
      "model_module": "@jupyter-widgets/base",
      "model_module_version": "1.2.0",
      "model_name": "LayoutModel",
      "state": {
       "_model_module": "@jupyter-widgets/base",
       "_model_module_version": "1.2.0",
       "_model_name": "LayoutModel",
       "_view_count": null,
       "_view_module": "@jupyter-widgets/base",
       "_view_module_version": "1.2.0",
       "_view_name": "LayoutView",
       "align_content": null,
       "align_items": null,
       "align_self": null,
       "border": null,
       "bottom": null,
       "display": null,
       "flex": null,
       "flex_flow": null,
       "grid_area": null,
       "grid_auto_columns": null,
       "grid_auto_flow": null,
       "grid_auto_rows": null,
       "grid_column": null,
       "grid_gap": null,
       "grid_row": null,
       "grid_template_areas": null,
       "grid_template_columns": null,
       "grid_template_rows": null,
       "height": null,
       "justify_content": null,
       "justify_items": null,
       "left": null,
       "margin": null,
       "max_height": null,
       "max_width": null,
       "min_height": null,
       "min_width": null,
       "object_fit": null,
       "object_position": null,
       "order": null,
       "overflow": null,
       "overflow_x": null,
       "overflow_y": null,
       "padding": null,
       "right": null,
       "top": null,
       "visibility": null,
       "width": null
      }
     },
     "4904c61cb7654dd18e44b4177b7fabc2": {
      "model_module": "@jupyter-widgets/output",
      "model_module_version": "1.0.0",
      "model_name": "OutputModel",
      "state": {
       "_dom_classes": [],
       "_model_module": "@jupyter-widgets/output",
       "_model_module_version": "1.0.0",
       "_model_name": "OutputModel",
       "_view_count": null,
       "_view_module": "@jupyter-widgets/output",
       "_view_module_version": "1.0.0",
       "_view_name": "OutputView",
       "layout": "IPY_MODEL_9e9bb64415fb4ecba6c9a53ce5d17959",
       "msg_id": "",
       "outputs": [
        {
         "data": {
          "text/html": "<div>\n<style scoped>\n    .dataframe tbody tr th:only-of-type {\n        vertical-align: middle;\n    }\n\n    .dataframe tbody tr th {\n        vertical-align: top;\n    }\n\n    .dataframe thead th {\n        text-align: right;\n    }\n</style>\n<table border=\"1\" class=\"dataframe\">\n  <thead>\n    <tr style=\"text-align: right;\">\n      <th></th>\n      <th>id</th>\n      <th>name</th>\n      <th>teamName</th>\n      <th>teamCode</th>\n      <th>shortName</th>\n      <th>abbreviation</th>\n      <th>locationName</th>\n      <th>leagueId</th>\n      <th>leagueName</th>\n      <th>divisionId</th>\n      <th>divisionName</th>\n      <th>venueId</th>\n      <th>venueName</th>\n    </tr>\n  </thead>\n  <tbody>\n    <tr>\n      <th>0</th>\n      <td>108</td>\n      <td>Los Angeles Angels</td>\n      <td>Angels</td>\n      <td>ana</td>\n      <td>LA Angels</td>\n      <td>LAA</td>\n      <td>Anaheim</td>\n      <td>103</td>\n      <td>American League</td>\n      <td>200</td>\n      <td>American League West</td>\n      <td>1</td>\n      <td>Angel Stadium</td>\n    </tr>\n    <tr>\n      <th>1</th>\n      <td>109</td>\n      <td>Arizona Diamondbacks</td>\n      <td>D-backs</td>\n      <td>ari</td>\n      <td>Arizona</td>\n      <td>ARI</td>\n      <td>Phoenix</td>\n      <td>104</td>\n      <td>National League</td>\n      <td>203</td>\n      <td>National League West</td>\n      <td>15</td>\n      <td>Chase Field</td>\n    </tr>\n    <tr>\n      <th>2</th>\n      <td>110</td>\n      <td>Baltimore Orioles</td>\n      <td>Orioles</td>\n      <td>bal</td>\n      <td>Baltimore</td>\n      <td>BAL</td>\n      <td>Baltimore</td>\n      <td>103</td>\n      <td>American League</td>\n      <td>201</td>\n      <td>American League East</td>\n      <td>2</td>\n      <td>Oriole Park at Camden Yards</td>\n    </tr>\n    <tr>\n      <th>3</th>\n      <td>111</td>\n      <td>Boston Red Sox</td>\n      <td>Red Sox</td>\n      <td>bos</td>\n      <td>Boston</td>\n      <td>BOS</td>\n      <td>Boston</td>\n      <td>103</td>\n      <td>American League</td>\n      <td>201</td>\n      <td>American League East</td>\n      <td>3</td>\n      <td>Fenway Park</td>\n    </tr>\n    <tr>\n      <th>4</th>\n      <td>112</td>\n      <td>Chicago Cubs</td>\n      <td>Cubs</td>\n      <td>chn</td>\n      <td>Chi Cubs</td>\n      <td>CHC</td>\n      <td>Chicago</td>\n      <td>104</td>\n      <td>National League</td>\n      <td>205</td>\n      <td>National League Central</td>\n      <td>17</td>\n      <td>Wrigley Field</td>\n    </tr>\n    <tr>\n      <th>5</th>\n      <td>113</td>\n      <td>Cincinnati Reds</td>\n      <td>Reds</td>\n      <td>cin</td>\n      <td>Cincinnati</td>\n      <td>CIN</td>\n      <td>Cincinnati</td>\n      <td>104</td>\n      <td>National League</td>\n      <td>205</td>\n      <td>National League Central</td>\n      <td>2602</td>\n      <td>Great American Ball Park</td>\n    </tr>\n    <tr>\n      <th>6</th>\n      <td>114</td>\n      <td>Cleveland Indians</td>\n      <td>Indians</td>\n      <td>cle</td>\n      <td>Cleveland</td>\n      <td>CLE</td>\n      <td>Cleveland</td>\n      <td>103</td>\n      <td>American League</td>\n      <td>202</td>\n      <td>American League Central</td>\n      <td>5</td>\n      <td>Progressive Field</td>\n    </tr>\n    <tr>\n      <th>7</th>\n      <td>115</td>\n      <td>Colorado Rockies</td>\n      <td>Rockies</td>\n      <td>col</td>\n      <td>Colorado</td>\n      <td>COL</td>\n      <td>Denver</td>\n      <td>104</td>\n      <td>National League</td>\n      <td>203</td>\n      <td>National League West</td>\n      <td>19</td>\n      <td>Coors Field</td>\n    </tr>\n    <tr>\n      <th>8</th>\n      <td>116</td>\n      <td>Detroit Tigers</td>\n      <td>Tigers</td>\n      <td>det</td>\n      <td>Detroit</td>\n      <td>DET</td>\n      <td>Detroit</td>\n      <td>103</td>\n      <td>American League</td>\n      <td>202</td>\n      <td>American League Central</td>\n      <td>2394</td>\n      <td>Comerica Park</td>\n    </tr>\n    <tr>\n      <th>9</th>\n      <td>117</td>\n      <td>Houston Astros</td>\n      <td>Astros</td>\n      <td>hou</td>\n      <td>Houston</td>\n      <td>HOU</td>\n      <td>Houston</td>\n      <td>103</td>\n      <td>American League</td>\n      <td>200</td>\n      <td>American League West</td>\n      <td>2392</td>\n      <td>Minute Maid Park</td>\n    </tr>\n    <tr>\n      <th>10</th>\n      <td>118</td>\n      <td>Kansas City Royals</td>\n      <td>Royals</td>\n      <td>kca</td>\n      <td>Kansas City</td>\n      <td>KC</td>\n      <td>Kansas City</td>\n      <td>103</td>\n      <td>American League</td>\n      <td>202</td>\n      <td>American League Central</td>\n      <td>7</td>\n      <td>Kauffman Stadium</td>\n    </tr>\n    <tr>\n      <th>11</th>\n      <td>119</td>\n      <td>Los Angeles Dodgers</td>\n      <td>Dodgers</td>\n      <td>lan</td>\n      <td>LA Dodgers</td>\n      <td>LAD</td>\n      <td>Los Angeles</td>\n      <td>104</td>\n      <td>National League</td>\n      <td>203</td>\n      <td>National League West</td>\n      <td>22</td>\n      <td>Dodger Stadium</td>\n    </tr>\n    <tr>\n      <th>12</th>\n      <td>120</td>\n      <td>Washington Nationals</td>\n      <td>Nationals</td>\n      <td>was</td>\n      <td>Washington</td>\n      <td>WSH</td>\n      <td>Washington</td>\n      <td>104</td>\n      <td>National League</td>\n      <td>204</td>\n      <td>National League East</td>\n      <td>3309</td>\n      <td>Nationals Park</td>\n    </tr>\n    <tr>\n      <th>13</th>\n      <td>121</td>\n      <td>New York Mets</td>\n      <td>Mets</td>\n      <td>nyn</td>\n      <td>NY Mets</td>\n      <td>NYM</td>\n      <td>Flushing</td>\n      <td>104</td>\n      <td>National League</td>\n      <td>204</td>\n      <td>National League East</td>\n      <td>3289</td>\n      <td>Citi Field</td>\n    </tr>\n    <tr>\n      <th>14</th>\n      <td>133</td>\n      <td>Oakland Athletics</td>\n      <td>Athletics</td>\n      <td>oak</td>\n      <td>Oakland</td>\n      <td>OAK</td>\n      <td>Oakland</td>\n      <td>103</td>\n      <td>American League</td>\n      <td>200</td>\n      <td>American League West</td>\n      <td>10</td>\n      <td>Oakland Coliseum</td>\n    </tr>\n    <tr>\n      <th>15</th>\n      <td>134</td>\n      <td>Pittsburgh Pirates</td>\n      <td>Pirates</td>\n      <td>pit</td>\n      <td>Pittsburgh</td>\n      <td>PIT</td>\n      <td>Pittsburgh</td>\n      <td>104</td>\n      <td>National League</td>\n      <td>205</td>\n      <td>National League Central</td>\n      <td>31</td>\n      <td>PNC Park</td>\n    </tr>\n    <tr>\n      <th>16</th>\n      <td>135</td>\n      <td>San Diego Padres</td>\n      <td>Padres</td>\n      <td>sdn</td>\n      <td>San Diego</td>\n      <td>SD</td>\n      <td>San Diego</td>\n      <td>104</td>\n      <td>National League</td>\n      <td>203</td>\n      <td>National League West</td>\n      <td>2680</td>\n      <td>Petco Park</td>\n    </tr>\n    <tr>\n      <th>17</th>\n      <td>136</td>\n      <td>Seattle Mariners</td>\n      <td>Mariners</td>\n      <td>sea</td>\n      <td>Seattle</td>\n      <td>SEA</td>\n      <td>Seattle</td>\n      <td>103</td>\n      <td>American League</td>\n      <td>200</td>\n      <td>American League West</td>\n      <td>680</td>\n      <td>T-Mobile Park</td>\n    </tr>\n    <tr>\n      <th>18</th>\n      <td>137</td>\n      <td>San Francisco Giants</td>\n      <td>Giants</td>\n      <td>sfn</td>\n      <td>San Francisco</td>\n      <td>SF</td>\n      <td>San Francisco</td>\n      <td>104</td>\n      <td>National League</td>\n      <td>203</td>\n      <td>National League West</td>\n      <td>2395</td>\n      <td>Oracle Park</td>\n    </tr>\n    <tr>\n      <th>19</th>\n      <td>138</td>\n      <td>St. Louis Cardinals</td>\n      <td>Cardinals</td>\n      <td>sln</td>\n      <td>St. Louis</td>\n      <td>STL</td>\n      <td>St. Louis</td>\n      <td>104</td>\n      <td>National League</td>\n      <td>205</td>\n      <td>National League Central</td>\n      <td>2889</td>\n      <td>Busch Stadium</td>\n    </tr>\n    <tr>\n      <th>20</th>\n      <td>139</td>\n      <td>Tampa Bay Rays</td>\n      <td>Rays</td>\n      <td>tba</td>\n      <td>Tampa Bay</td>\n      <td>TB</td>\n      <td>St. Petersburg</td>\n      <td>103</td>\n      <td>American League</td>\n      <td>201</td>\n      <td>American League East</td>\n      <td>12</td>\n      <td>Tropicana Field</td>\n    </tr>\n    <tr>\n      <th>21</th>\n      <td>140</td>\n      <td>Texas Rangers</td>\n      <td>Rangers</td>\n      <td>tex</td>\n      <td>Texas</td>\n      <td>TEX</td>\n      <td>Arlington</td>\n      <td>103</td>\n      <td>American League</td>\n      <td>200</td>\n      <td>American League West</td>\n      <td>5325</td>\n      <td>Globe Life Field</td>\n    </tr>\n    <tr>\n      <th>22</th>\n      <td>141</td>\n      <td>Toronto Blue Jays</td>\n      <td>Blue Jays</td>\n      <td>tor</td>\n      <td>Toronto</td>\n      <td>TOR</td>\n      <td>Toronto</td>\n      <td>103</td>\n      <td>American League</td>\n      <td>201</td>\n      <td>American League East</td>\n      <td>14</td>\n      <td>Rogers Centre</td>\n    </tr>\n    <tr>\n      <th>23</th>\n      <td>142</td>\n      <td>Minnesota Twins</td>\n      <td>Twins</td>\n      <td>min</td>\n      <td>Minnesota</td>\n      <td>MIN</td>\n      <td>Minneapolis</td>\n      <td>103</td>\n      <td>American League</td>\n      <td>202</td>\n      <td>American League Central</td>\n      <td>3312</td>\n      <td>Target Field</td>\n    </tr>\n    <tr>\n      <th>24</th>\n      <td>143</td>\n      <td>Philadelphia Phillies</td>\n      <td>Phillies</td>\n      <td>phi</td>\n      <td>Philadelphia</td>\n      <td>PHI</td>\n      <td>Philadelphia</td>\n      <td>104</td>\n      <td>National League</td>\n      <td>204</td>\n      <td>National League East</td>\n      <td>2681</td>\n      <td>Citizens Bank Park</td>\n    </tr>\n    <tr>\n      <th>25</th>\n      <td>144</td>\n      <td>Atlanta Braves</td>\n      <td>Braves</td>\n      <td>atl</td>\n      <td>Atlanta</td>\n      <td>ATL</td>\n      <td>Atlanta</td>\n      <td>104</td>\n      <td>National League</td>\n      <td>204</td>\n      <td>National League East</td>\n      <td>4705</td>\n      <td>Truist Park</td>\n    </tr>\n    <tr>\n      <th>26</th>\n      <td>145</td>\n      <td>Chicago White Sox</td>\n      <td>White Sox</td>\n      <td>cha</td>\n      <td>Chi White Sox</td>\n      <td>CWS</td>\n      <td>Chicago</td>\n      <td>103</td>\n      <td>American League</td>\n      <td>202</td>\n      <td>American League Central</td>\n      <td>4</td>\n      <td>Guaranteed Rate Field</td>\n    </tr>\n    <tr>\n      <th>27</th>\n      <td>146</td>\n      <td>Miami Marlins</td>\n      <td>Marlins</td>\n      <td>mia</td>\n      <td>Miami</td>\n      <td>MIA</td>\n      <td>Miami</td>\n      <td>104</td>\n      <td>National League</td>\n      <td>204</td>\n      <td>National League East</td>\n      <td>4169</td>\n      <td>loanDepot park</td>\n    </tr>\n    <tr>\n      <th>28</th>\n      <td>147</td>\n      <td>New York Yankees</td>\n      <td>Yankees</td>\n      <td>nya</td>\n      <td>NY Yankees</td>\n      <td>NYY</td>\n      <td>Bronx</td>\n      <td>103</td>\n      <td>American League</td>\n      <td>201</td>\n      <td>American League East</td>\n      <td>3313</td>\n      <td>Yankee Stadium</td>\n    </tr>\n    <tr>\n      <th>29</th>\n      <td>158</td>\n      <td>Milwaukee Brewers</td>\n      <td>Brewers</td>\n      <td>mil</td>\n      <td>Milwaukee</td>\n      <td>MIL</td>\n      <td>Milwaukee</td>\n      <td>104</td>\n      <td>National League</td>\n      <td>205</td>\n      <td>National League Central</td>\n      <td>32</td>\n      <td>American Family Field</td>\n    </tr>\n  </tbody>\n</table>\n</div>",
          "text/plain": "     id                   name   teamName teamCode      shortName  \\\n0   108     Los Angeles Angels     Angels      ana      LA Angels   \n1   109   Arizona Diamondbacks    D-backs      ari        Arizona   \n2   110      Baltimore Orioles    Orioles      bal      Baltimore   \n3   111         Boston Red Sox    Red Sox      bos         Boston   \n4   112           Chicago Cubs       Cubs      chn       Chi Cubs   \n5   113        Cincinnati Reds       Reds      cin     Cincinnati   \n6   114      Cleveland Indians    Indians      cle      Cleveland   \n7   115       Colorado Rockies    Rockies      col       Colorado   \n8   116         Detroit Tigers     Tigers      det        Detroit   \n9   117         Houston Astros     Astros      hou        Houston   \n10  118     Kansas City Royals     Royals      kca    Kansas City   \n11  119    Los Angeles Dodgers    Dodgers      lan     LA Dodgers   \n12  120   Washington Nationals  Nationals      was     Washington   \n13  121          New York Mets       Mets      nyn        NY Mets   \n14  133      Oakland Athletics  Athletics      oak        Oakland   \n15  134     Pittsburgh Pirates    Pirates      pit     Pittsburgh   \n16  135       San Diego Padres     Padres      sdn      San Diego   \n17  136       Seattle Mariners   Mariners      sea        Seattle   \n18  137   San Francisco Giants     Giants      sfn  San Francisco   \n19  138    St. Louis Cardinals  Cardinals      sln      St. Louis   \n20  139         Tampa Bay Rays       Rays      tba      Tampa Bay   \n21  140          Texas Rangers    Rangers      tex          Texas   \n22  141      Toronto Blue Jays  Blue Jays      tor        Toronto   \n23  142        Minnesota Twins      Twins      min      Minnesota   \n24  143  Philadelphia Phillies   Phillies      phi   Philadelphia   \n25  144         Atlanta Braves     Braves      atl        Atlanta   \n26  145      Chicago White Sox  White Sox      cha  Chi White Sox   \n27  146          Miami Marlins    Marlins      mia          Miami   \n28  147       New York Yankees    Yankees      nya     NY Yankees   \n29  158      Milwaukee Brewers    Brewers      mil      Milwaukee   \n\n   abbreviation    locationName  leagueId       leagueName  divisionId  \\\n0           LAA         Anaheim       103  American League         200   \n1           ARI         Phoenix       104  National League         203   \n2           BAL       Baltimore       103  American League         201   \n3           BOS          Boston       103  American League         201   \n4           CHC         Chicago       104  National League         205   \n5           CIN      Cincinnati       104  National League         205   \n6           CLE       Cleveland       103  American League         202   \n7           COL          Denver       104  National League         203   \n8           DET         Detroit       103  American League         202   \n9           HOU         Houston       103  American League         200   \n10           KC     Kansas City       103  American League         202   \n11          LAD     Los Angeles       104  National League         203   \n12          WSH      Washington       104  National League         204   \n13          NYM        Flushing       104  National League         204   \n14          OAK         Oakland       103  American League         200   \n15          PIT      Pittsburgh       104  National League         205   \n16           SD       San Diego       104  National League         203   \n17          SEA         Seattle       103  American League         200   \n18           SF   San Francisco       104  National League         203   \n19          STL       St. Louis       104  National League         205   \n20           TB  St. Petersburg       103  American League         201   \n21          TEX       Arlington       103  American League         200   \n22          TOR         Toronto       103  American League         201   \n23          MIN     Minneapolis       103  American League         202   \n24          PHI    Philadelphia       104  National League         204   \n25          ATL         Atlanta       104  National League         204   \n26          CWS         Chicago       103  American League         202   \n27          MIA           Miami       104  National League         204   \n28          NYY           Bronx       103  American League         201   \n29          MIL       Milwaukee       104  National League         205   \n\n               divisionName  venueId                    venueName  \n0      American League West        1                Angel Stadium  \n1      National League West       15                  Chase Field  \n2      American League East        2  Oriole Park at Camden Yards  \n3      American League East        3                  Fenway Park  \n4   National League Central       17                Wrigley Field  \n5   National League Central     2602     Great American Ball Park  \n6   American League Central        5            Progressive Field  \n7      National League West       19                  Coors Field  \n8   American League Central     2394                Comerica Park  \n9      American League West     2392             Minute Maid Park  \n10  American League Central        7             Kauffman Stadium  \n11     National League West       22               Dodger Stadium  \n12     National League East     3309               Nationals Park  \n13     National League East     3289                   Citi Field  \n14     American League West       10             Oakland Coliseum  \n15  National League Central       31                     PNC Park  \n16     National League West     2680                   Petco Park  \n17     American League West      680                T-Mobile Park  \n18     National League West     2395                  Oracle Park  \n19  National League Central     2889                Busch Stadium  \n20     American League East       12              Tropicana Field  \n21     American League West     5325             Globe Life Field  \n22     American League East       14                Rogers Centre  \n23  American League Central     3312                 Target Field  \n24     National League East     2681           Citizens Bank Park  \n25     National League East     4705                  Truist Park  \n26  American League Central        4        Guaranteed Rate Field  \n27     National League East     4169               loanDepot park  \n28     American League East     3313               Yankee Stadium  \n29  National League Central       32        American Family Field  "
         },
         "metadata": {},
         "output_type": "display_data"
        }
       ]
      }
     },
     "86226cadd59a4bd4850374602bc692bc": {
      "model_module": "@jupyter-widgets/base",
      "model_module_version": "1.2.0",
      "model_name": "LayoutModel",
      "state": {
       "_model_module": "@jupyter-widgets/base",
       "_model_module_version": "1.2.0",
       "_model_name": "LayoutModel",
       "_view_count": null,
       "_view_module": "@jupyter-widgets/base",
       "_view_module_version": "1.2.0",
       "_view_name": "LayoutView",
       "align_content": null,
       "align_items": null,
       "align_self": null,
       "border": null,
       "bottom": null,
       "display": null,
       "flex": null,
       "flex_flow": null,
       "grid_area": null,
       "grid_auto_columns": null,
       "grid_auto_flow": null,
       "grid_auto_rows": null,
       "grid_column": null,
       "grid_gap": null,
       "grid_row": null,
       "grid_template_areas": null,
       "grid_template_columns": null,
       "grid_template_rows": null,
       "height": null,
       "justify_content": null,
       "justify_items": null,
       "left": null,
       "margin": null,
       "max_height": null,
       "max_width": null,
       "min_height": null,
       "min_width": null,
       "object_fit": null,
       "object_position": null,
       "order": null,
       "overflow": null,
       "overflow_x": null,
       "overflow_y": null,
       "padding": null,
       "right": null,
       "top": null,
       "visibility": null,
       "width": null
      }
     },
     "9e9bb64415fb4ecba6c9a53ce5d17959": {
      "model_module": "@jupyter-widgets/base",
      "model_module_version": "1.2.0",
      "model_name": "LayoutModel",
      "state": {
       "_model_module": "@jupyter-widgets/base",
       "_model_module_version": "1.2.0",
       "_model_name": "LayoutModel",
       "_view_count": null,
       "_view_module": "@jupyter-widgets/base",
       "_view_module_version": "1.2.0",
       "_view_name": "LayoutView",
       "align_content": null,
       "align_items": null,
       "align_self": null,
       "border": null,
       "bottom": null,
       "display": null,
       "flex": null,
       "flex_flow": null,
       "grid_area": null,
       "grid_auto_columns": null,
       "grid_auto_flow": null,
       "grid_auto_rows": null,
       "grid_column": null,
       "grid_gap": null,
       "grid_row": null,
       "grid_template_areas": null,
       "grid_template_columns": null,
       "grid_template_rows": null,
       "height": null,
       "justify_content": null,
       "justify_items": null,
       "left": null,
       "margin": null,
       "max_height": null,
       "max_width": null,
       "min_height": null,
       "min_width": null,
       "object_fit": null,
       "object_position": null,
       "order": null,
       "overflow": null,
       "overflow_x": null,
       "overflow_y": null,
       "padding": null,
       "right": null,
       "top": null,
       "visibility": null,
       "width": null
      }
     },
     "ce0f8329fe574440ba87a6e87e8c04de": {
      "model_module": "@jupyter-widgets/output",
      "model_module_version": "1.0.0",
      "model_name": "OutputModel",
      "state": {
       "_dom_classes": [],
       "_model_module": "@jupyter-widgets/output",
       "_model_module_version": "1.0.0",
       "_model_name": "OutputModel",
       "_view_count": null,
       "_view_module": "@jupyter-widgets/output",
       "_view_module_version": "1.0.0",
       "_view_name": "OutputView",
       "layout": "IPY_MODEL_47fb0315cb45464ba46183bd640ea6af",
       "msg_id": "",
       "outputs": [
        {
         "data": {
          "text/html": "<div>\n<style scoped>\n    .dataframe tbody tr th:only-of-type {\n        vertical-align: middle;\n    }\n\n    .dataframe tbody tr th {\n        vertical-align: top;\n    }\n\n    .dataframe thead th {\n        text-align: right;\n    }\n</style>\n<table border=\"1\" class=\"dataframe\">\n  <thead>\n    <tr style=\"text-align: right;\">\n      <th></th>\n      <th>seasonId</th>\n      <th>seasonStartDate</th>\n      <th>seasonEndDate</th>\n      <th>preSeasonStartDate</th>\n      <th>preSeasonEndDate</th>\n      <th>regularSeasonStartDate</th>\n      <th>regularSeasonEndDate</th>\n      <th>lastDate1stHalf</th>\n      <th>allStarDate</th>\n      <th>firstDate2ndHalf</th>\n      <th>postSeasonStartDate</th>\n      <th>postSeasonEndDate</th>\n    </tr>\n  </thead>\n  <tbody>\n    <tr>\n      <th>0</th>\n      <td>2017</td>\n      <td>2017-04-02</td>\n      <td>2017-11-01</td>\n      <td>2017-02-22</td>\n      <td>2017-04-01</td>\n      <td>2017-04-02</td>\n      <td>2017-10-01</td>\n      <td>2017-07-09</td>\n      <td>2017-07-11</td>\n      <td>2017-07-14</td>\n      <td>2017-10-03</td>\n      <td>2017-11-01</td>\n    </tr>\n    <tr>\n      <th>1</th>\n      <td>2018</td>\n      <td>2018-03-29</td>\n      <td>2018-10-28</td>\n      <td>2018-02-21</td>\n      <td>2018-03-27</td>\n      <td>2018-03-29</td>\n      <td>2018-10-01</td>\n      <td>2018-07-15</td>\n      <td>2018-07-17</td>\n      <td>2018-07-19</td>\n      <td>2018-10-02</td>\n      <td>2018-10-28</td>\n    </tr>\n    <tr>\n      <th>2</th>\n      <td>2019</td>\n      <td>2019-03-20</td>\n      <td>2019-10-30</td>\n      <td>2019-02-21</td>\n      <td>2019-03-26</td>\n      <td>2019-03-20</td>\n      <td>2019-09-29</td>\n      <td>2019-07-07</td>\n      <td>2019-07-09</td>\n      <td>2019-07-11</td>\n      <td>2019-10-01</td>\n      <td>2019-10-30</td>\n    </tr>\n    <tr>\n      <th>3</th>\n      <td>2020</td>\n      <td>2020-07-23</td>\n      <td>2020-10-28</td>\n      <td>2020-02-21</td>\n      <td>2020-07-22</td>\n      <td>2020-07-23</td>\n      <td>2020-09-27</td>\n      <td>2020-08-25</td>\n      <td>NaN</td>\n      <td>2020-08-26</td>\n      <td>2020-09-29</td>\n      <td>2020-10-28</td>\n    </tr>\n    <tr>\n      <th>4</th>\n      <td>2021</td>\n      <td>2021-02-28</td>\n      <td>2021-10-31</td>\n      <td>2021-02-28</td>\n      <td>2021-03-30</td>\n      <td>2021-04-01</td>\n      <td>2021-10-03</td>\n      <td>2021-07-11</td>\n      <td>2021-07-13</td>\n      <td>2021-07-15</td>\n      <td>2021-10-04</td>\n      <td>2021-10-31</td>\n    </tr>\n  </tbody>\n</table>\n</div>",
          "text/plain": "   seasonId seasonStartDate seasonEndDate preSeasonStartDate preSeasonEndDate  \\\n0      2017      2017-04-02    2017-11-01         2017-02-22       2017-04-01   \n1      2018      2018-03-29    2018-10-28         2018-02-21       2018-03-27   \n2      2019      2019-03-20    2019-10-30         2019-02-21       2019-03-26   \n3      2020      2020-07-23    2020-10-28         2020-02-21       2020-07-22   \n4      2021      2021-02-28    2021-10-31         2021-02-28       2021-03-30   \n\n  regularSeasonStartDate regularSeasonEndDate lastDate1stHalf allStarDate  \\\n0             2017-04-02           2017-10-01      2017-07-09  2017-07-11   \n1             2018-03-29           2018-10-01      2018-07-15  2018-07-17   \n2             2019-03-20           2019-09-29      2019-07-07  2019-07-09   \n3             2020-07-23           2020-09-27      2020-08-25         NaN   \n4             2021-04-01           2021-10-03      2021-07-11  2021-07-13   \n\n  firstDate2ndHalf postSeasonStartDate postSeasonEndDate  \n0       2017-07-14          2017-10-03        2017-11-01  \n1       2018-07-19          2018-10-02        2018-10-28  \n2       2019-07-11          2019-10-01        2019-10-30  \n3       2020-08-26          2020-09-29        2020-10-28  \n4       2021-07-15          2021-10-04        2021-10-31  "
         },
         "metadata": {},
         "output_type": "display_data"
        }
       ]
      }
     },
     "d1a1bac371e54ac7863d9f543b678b8f": {
      "model_module": "@jupyter-widgets/base",
      "model_module_version": "1.2.0",
      "model_name": "LayoutModel",
      "state": {
       "_model_module": "@jupyter-widgets/base",
       "_model_module_version": "1.2.0",
       "_model_name": "LayoutModel",
       "_view_count": null,
       "_view_module": "@jupyter-widgets/base",
       "_view_module_version": "1.2.0",
       "_view_name": "LayoutView",
       "align_content": null,
       "align_items": null,
       "align_self": null,
       "border": null,
       "bottom": null,
       "display": null,
       "flex": null,
       "flex_flow": null,
       "grid_area": null,
       "grid_auto_columns": null,
       "grid_auto_flow": null,
       "grid_auto_rows": null,
       "grid_column": null,
       "grid_gap": null,
       "grid_row": null,
       "grid_template_areas": null,
       "grid_template_columns": null,
       "grid_template_rows": null,
       "height": null,
       "justify_content": null,
       "justify_items": null,
       "left": null,
       "margin": null,
       "max_height": null,
       "max_width": null,
       "min_height": null,
       "min_width": null,
       "object_fit": null,
       "object_position": null,
       "order": null,
       "overflow": null,
       "overflow_x": null,
       "overflow_y": null,
       "padding": null,
       "right": null,
       "top": null,
       "visibility": null,
       "width": null
      }
     },
     "d6140cce38fd4d7eb666ea20a7ed9aa0": {
      "model_module": "@jupyter-widgets/output",
      "model_module_version": "1.0.0",
      "model_name": "OutputModel",
      "state": {
       "_dom_classes": [],
       "_model_module": "@jupyter-widgets/output",
       "_model_module_version": "1.0.0",
       "_model_name": "OutputModel",
       "_view_count": null,
       "_view_module": "@jupyter-widgets/output",
       "_view_module_version": "1.0.0",
       "_view_name": "OutputView",
       "layout": "IPY_MODEL_d1a1bac371e54ac7863d9f543b678b8f",
       "msg_id": "",
       "outputs": [
        {
         "data": {
          "text/html": "<div>\n<style scoped>\n    .dataframe tbody tr th:only-of-type {\n        vertical-align: middle;\n    }\n\n    .dataframe tbody tr th {\n        vertical-align: top;\n    }\n\n    .dataframe thead th {\n        text-align: right;\n    }\n</style>\n<table border=\"1\" class=\"dataframe\">\n  <thead>\n    <tr style=\"text-align: right;\">\n      <th></th>\n      <th>playerId</th>\n      <th>playerName</th>\n      <th>DOB</th>\n      <th>mlbDebutDate</th>\n      <th>birthCity</th>\n      <th>birthStateProvince</th>\n      <th>birthCountry</th>\n      <th>heightInches</th>\n      <th>weight</th>\n      <th>primaryPositionCode</th>\n      <th>primaryPositionName</th>\n      <th>playerForTestSetAndFuturePreds</th>\n    </tr>\n  </thead>\n  <tbody>\n    <tr>\n      <th>0</th>\n      <td>665482</td>\n      <td>Gilberto Celestino</td>\n      <td>1999-02-13</td>\n      <td>2021-06-02</td>\n      <td>Santo Domingo</td>\n      <td>NaN</td>\n      <td>Dominican Republic</td>\n      <td>72</td>\n      <td>170</td>\n      <td>8</td>\n      <td>Outfielder</td>\n      <td>False</td>\n    </tr>\n    <tr>\n      <th>1</th>\n      <td>593590</td>\n      <td>Webster Rivas</td>\n      <td>1990-08-08</td>\n      <td>2021-05-28</td>\n      <td>Nagua</td>\n      <td>NaN</td>\n      <td>Dominican Republic</td>\n      <td>73</td>\n      <td>219</td>\n      <td>3</td>\n      <td>First Base</td>\n      <td>True</td>\n    </tr>\n    <tr>\n      <th>2</th>\n      <td>661269</td>\n      <td>Vladimir Gutierrez</td>\n      <td>1995-09-18</td>\n      <td>2021-05-28</td>\n      <td>Havana</td>\n      <td>NaN</td>\n      <td>Cuba</td>\n      <td>73</td>\n      <td>190</td>\n      <td>1</td>\n      <td>Pitcher</td>\n      <td>True</td>\n    </tr>\n    <tr>\n      <th>3</th>\n      <td>669212</td>\n      <td>Eli Morgan</td>\n      <td>1996-05-13</td>\n      <td>2021-05-28</td>\n      <td>Rancho Palos Verdes</td>\n      <td>CA</td>\n      <td>USA</td>\n      <td>70</td>\n      <td>190</td>\n      <td>1</td>\n      <td>Pitcher</td>\n      <td>True</td>\n    </tr>\n    <tr>\n      <th>4</th>\n      <td>666201</td>\n      <td>Alek Manoah</td>\n      <td>1998-01-09</td>\n      <td>2021-05-27</td>\n      <td>Homestead</td>\n      <td>FL</td>\n      <td>USA</td>\n      <td>78</td>\n      <td>260</td>\n      <td>1</td>\n      <td>Pitcher</td>\n      <td>True</td>\n    </tr>\n    <tr>\n      <th>...</th>\n      <td>...</td>\n      <td>...</td>\n      <td>...</td>\n      <td>...</td>\n      <td>...</td>\n      <td>...</td>\n      <td>...</td>\n      <td>...</td>\n      <td>...</td>\n      <td>...</td>\n      <td>...</td>\n      <td>...</td>\n    </tr>\n    <tr>\n      <th>2056</th>\n      <td>672695</td>\n      <td>Geraldo Perdomo</td>\n      <td>1999-10-22</td>\n      <td>NaN</td>\n      <td>Santo Domingo</td>\n      <td>NaN</td>\n      <td>Dominican Republic</td>\n      <td>74</td>\n      <td>203</td>\n      <td>6</td>\n      <td>Shortstop</td>\n      <td>True</td>\n    </tr>\n    <tr>\n      <th>2057</th>\n      <td>672911</td>\n      <td>Jesus Cruz</td>\n      <td>1995-04-15</td>\n      <td>NaN</td>\n      <td>Salinas de Hidalgo</td>\n      <td>San Luis Potosi</td>\n      <td>Mexico</td>\n      <td>73</td>\n      <td>230</td>\n      <td>1</td>\n      <td>Pitcher</td>\n      <td>False</td>\n    </tr>\n    <tr>\n      <th>2058</th>\n      <td>676103</td>\n      <td>Damon Jones</td>\n      <td>1994-09-30</td>\n      <td>NaN</td>\n      <td>Twin Falls</td>\n      <td>ID</td>\n      <td>USA</td>\n      <td>77</td>\n      <td>233</td>\n      <td>1</td>\n      <td>Pitcher</td>\n      <td>True</td>\n    </tr>\n    <tr>\n      <th>2059</th>\n      <td>676755</td>\n      <td>Isaac Mattson</td>\n      <td>1995-07-14</td>\n      <td>NaN</td>\n      <td>Erie</td>\n      <td>PA</td>\n      <td>USA</td>\n      <td>74</td>\n      <td>205</td>\n      <td>1</td>\n      <td>Pitcher</td>\n      <td>True</td>\n    </tr>\n    <tr>\n      <th>2060</th>\n      <td>680430</td>\n      <td>Nick Allgeyer</td>\n      <td>1996-02-03</td>\n      <td>NaN</td>\n      <td>St. Louis</td>\n      <td>MO</td>\n      <td>USA</td>\n      <td>75</td>\n      <td>210</td>\n      <td>1</td>\n      <td>Pitcher</td>\n      <td>True</td>\n    </tr>\n  </tbody>\n</table>\n<p>2061 rows × 12 columns</p>\n</div>",
          "text/plain": "      playerId          playerName         DOB mlbDebutDate  \\\n0       665482  Gilberto Celestino  1999-02-13   2021-06-02   \n1       593590       Webster Rivas  1990-08-08   2021-05-28   \n2       661269  Vladimir Gutierrez  1995-09-18   2021-05-28   \n3       669212          Eli Morgan  1996-05-13   2021-05-28   \n4       666201         Alek Manoah  1998-01-09   2021-05-27   \n...        ...                 ...         ...          ...   \n2056    672695     Geraldo Perdomo  1999-10-22          NaN   \n2057    672911          Jesus Cruz  1995-04-15          NaN   \n2058    676103         Damon Jones  1994-09-30          NaN   \n2059    676755       Isaac Mattson  1995-07-14          NaN   \n2060    680430       Nick Allgeyer  1996-02-03          NaN   \n\n                birthCity birthStateProvince        birthCountry  \\\n0           Santo Domingo                NaN  Dominican Republic   \n1                   Nagua                NaN  Dominican Republic   \n2                  Havana                NaN                Cuba   \n3     Rancho Palos Verdes                 CA                 USA   \n4               Homestead                 FL                 USA   \n...                   ...                ...                 ...   \n2056        Santo Domingo                NaN  Dominican Republic   \n2057   Salinas de Hidalgo    San Luis Potosi              Mexico   \n2058           Twin Falls                 ID                 USA   \n2059                 Erie                 PA                 USA   \n2060            St. Louis                 MO                 USA   \n\n      heightInches  weight primaryPositionCode primaryPositionName  \\\n0               72     170                   8          Outfielder   \n1               73     219                   3          First Base   \n2               73     190                   1             Pitcher   \n3               70     190                   1             Pitcher   \n4               78     260                   1             Pitcher   \n...            ...     ...                 ...                 ...   \n2056            74     203                   6           Shortstop   \n2057            73     230                   1             Pitcher   \n2058            77     233                   1             Pitcher   \n2059            74     205                   1             Pitcher   \n2060            75     210                   1             Pitcher   \n\n     playerForTestSetAndFuturePreds  \n0                             False  \n1                              True  \n2                              True  \n3                              True  \n4                              True  \n...                             ...  \n2056                           True  \n2057                          False  \n2058                           True  \n2059                           True  \n2060                           True  \n\n[2061 rows x 12 columns]"
         },
         "metadata": {},
         "output_type": "display_data"
        }
       ]
      }
     },
     "e9032891a79d44c8a4d4a0556b3f4a8c": {
      "model_module": "@jupyter-widgets/base",
      "model_module_version": "1.2.0",
      "model_name": "LayoutModel",
      "state": {
       "_model_module": "@jupyter-widgets/base",
       "_model_module_version": "1.2.0",
       "_model_name": "LayoutModel",
       "_view_count": null,
       "_view_module": "@jupyter-widgets/base",
       "_view_module_version": "1.2.0",
       "_view_name": "LayoutView",
       "align_content": null,
       "align_items": null,
       "align_self": null,
       "border": null,
       "bottom": null,
       "display": null,
       "flex": null,
       "flex_flow": null,
       "grid_area": null,
       "grid_auto_columns": null,
       "grid_auto_flow": null,
       "grid_auto_rows": null,
       "grid_column": null,
       "grid_gap": null,
       "grid_row": null,
       "grid_template_areas": null,
       "grid_template_columns": null,
       "grid_template_rows": null,
       "height": null,
       "justify_content": null,
       "justify_items": null,
       "left": null,
       "margin": null,
       "max_height": null,
       "max_width": null,
       "min_height": null,
       "min_width": null,
       "object_fit": null,
       "object_position": null,
       "order": null,
       "overflow": null,
       "overflow_x": null,
       "overflow_y": null,
       "padding": null,
       "right": null,
       "top": null,
       "visibility": null,
       "width": null
      }
     }
    },
    "version_major": 2,
    "version_minor": 0
   }
  }
 },
 "nbformat": 4,
 "nbformat_minor": 5
}
